{
 "cells": [
  {
   "cell_type": "markdown",
   "id": "24344033-56d3-4fa4-962c-e7b82b25fbb4",
   "metadata": {},
   "source": [
    "# AB Testing"
   ]
  },
  {
   "cell_type": "code",
   "execution_count": 1,
   "id": "6a61d37d-4938-48ec-bdcf-539ef0c1bfcb",
   "metadata": {},
   "outputs": [
    {
     "name": "stdout",
     "output_type": "stream",
     "text": [
      "  variant  converted\n",
      "0       A          0\n",
      "1       A          1\n",
      "2       A          0\n",
      "3       A          0\n",
      "4       A          0\n"
     ]
    }
   ],
   "source": [
    "import numpy as np\n",
    "import pandas as pd\n",
    "import scipy.stats as stats\n",
    "import matplotlib.pyplot as plt\n",
    "\n",
    "# Set random seed for reproducibility\n",
    "np.random.seed(42)\n",
    "\n",
    "# Simulate data\n",
    "# Suppose we have 1000 users in total\n",
    "n_users = 1000\n",
    "\n",
    "# Assume 50% users see A and 50% see B\n",
    "n_A = n_users // 2\n",
    "n_B = n_users - n_A\n",
    "\n",
    "# Simulating conversions:\n",
    "# Let's say the conversion rate for A is 10% and for B is 15%\n",
    "conversion_rate_A = 0.10\n",
    "conversion_rate_B = 0.15\n",
    "\n",
    "# Generate binary data for conversions\n",
    "data_A = np.random.binomial(1, conversion_rate_A, n_A)\n",
    "data_B = np.random.binomial(1, conversion_rate_B, n_B)\n",
    "\n",
    "# Create a DataFrame\n",
    "data = pd.DataFrame(\n",
    "    {\n",
    "        \"variant\": [\"A\"] * n_A + [\"B\"] * n_B,\n",
    "        \"converted\": np.concatenate([data_A, data_B]),\n",
    "    }\n",
    ")\n",
    "\n",
    "# Display the first few rows\n",
    "print(data.head())"
   ]
  },
  {
   "cell_type": "code",
   "execution_count": 2,
   "id": "ab1199f5-22f2-4ae9-9de1-b9b3cfcd2f78",
   "metadata": {},
   "outputs": [
    {
     "name": "stdout",
     "output_type": "stream",
     "text": [
      "         count  sum  conversion_rate\n",
      "variant                             \n",
      "A          500   55             0.11\n",
      "B          500   70             0.14\n",
      "Chi-squared statistic: 1.7920000000000003\n",
      "P-value: 0.18068267265759735\n",
      "We fail to reject the null hypothesis - no significant difference between A and B.\n"
     ]
    }
   ],
   "source": [
    "# Calculate conversion rates\n",
    "conversion_counts = data.groupby(\"variant\")[\"converted\"].agg([\"count\", \"sum\"])\n",
    "conversion_counts[\"conversion_rate\"] = (\n",
    "    conversion_counts[\"sum\"] / conversion_counts[\"count\"]\n",
    ")\n",
    "\n",
    "# Display conversion rates\n",
    "print(conversion_counts)\n",
    "\n",
    "# Calculate the statistical significance (using Chi-squared test)\n",
    "chi2, p_value, _, _ = stats.chi2_contingency(\n",
    "    [\n",
    "        [\n",
    "            conversion_counts.loc[\"A\", \"sum\"],\n",
    "            conversion_counts.loc[\"A\", \"count\"] - conversion_counts.loc[\"A\", \"sum\"],\n",
    "        ],\n",
    "        [\n",
    "            conversion_counts.loc[\"B\", \"sum\"],\n",
    "            conversion_counts.loc[\"B\", \"count\"] - conversion_counts.loc[\"B\", \"sum\"],\n",
    "        ],\n",
    "    ]\n",
    ")\n",
    "\n",
    "print(f\"Chi-squared statistic: {chi2}\")\n",
    "print(f\"P-value: {p_value}\")\n",
    "\n",
    "# Interpret the p-value\n",
    "alpha = 0.05  # 5% significance level\n",
    "if p_value < alpha:\n",
    "    print(\n",
    "        \"We reject the null hypothesis - there is a significant difference between A and B.\"\n",
    "    )\n",
    "else:\n",
    "    print(\n",
    "        \"We fail to reject the null hypothesis - no significant difference between A and B.\"\n",
    "    )"
   ]
  },
  {
   "cell_type": "code",
   "execution_count": 22,
   "id": "b76cea9a-1333-446f-99d4-71a022eb6e42",
   "metadata": {},
   "outputs": [
    {
     "data": {
      "text/html": [
       "<div>\n",
       "<style scoped>\n",
       "    .dataframe tbody tr th:only-of-type {\n",
       "        vertical-align: middle;\n",
       "    }\n",
       "\n",
       "    .dataframe tbody tr th {\n",
       "        vertical-align: top;\n",
       "    }\n",
       "\n",
       "    .dataframe thead th {\n",
       "        text-align: right;\n",
       "    }\n",
       "</style>\n",
       "<table border=\"1\" class=\"dataframe\">\n",
       "  <thead>\n",
       "    <tr style=\"text-align: right;\">\n",
       "      <th></th>\n",
       "      <th>count</th>\n",
       "      <th>sum</th>\n",
       "      <th>conversion_rate</th>\n",
       "    </tr>\n",
       "    <tr>\n",
       "      <th>variant</th>\n",
       "      <th></th>\n",
       "      <th></th>\n",
       "      <th></th>\n",
       "    </tr>\n",
       "  </thead>\n",
       "  <tbody>\n",
       "    <tr>\n",
       "      <th>A</th>\n",
       "      <td>500</td>\n",
       "      <td>55</td>\n",
       "      <td>0.11</td>\n",
       "    </tr>\n",
       "    <tr>\n",
       "      <th>B</th>\n",
       "      <td>500</td>\n",
       "      <td>70</td>\n",
       "      <td>0.14</td>\n",
       "    </tr>\n",
       "  </tbody>\n",
       "</table>\n",
       "</div>"
      ],
      "text/plain": [
       "         count  sum  conversion_rate\n",
       "variant                             \n",
       "A          500   55             0.11\n",
       "B          500   70             0.14"
      ]
     },
     "execution_count": 22,
     "metadata": {},
     "output_type": "execute_result"
    }
   ],
   "source": [
    "conversion_counts"
   ]
  },
  {
   "cell_type": "code",
   "execution_count": 21,
   "id": "4a91ce0e-3c3f-4653-bfcb-e4d18cbe8ed1",
   "metadata": {},
   "outputs": [
    {
     "data": {
      "text/plain": [
       "[[55, 445], [70, 430]]"
      ]
     },
     "execution_count": 21,
     "metadata": {},
     "output_type": "execute_result"
    }
   ],
   "source": [
    "[\n",
    "    [\n",
    "        conversion_counts.loc[\"A\", \"sum\"],\n",
    "        conversion_counts.loc[\"A\", \"count\"] - conversion_counts.loc[\"A\", \"sum\"],\n",
    "    ],\n",
    "    [\n",
    "        conversion_counts.loc[\"B\", \"sum\"],\n",
    "        conversion_counts.loc[\"B\", \"count\"] - conversion_counts.loc[\"B\", \"sum\"],\n",
    "    ],\n",
    "]"
   ]
  },
  {
   "cell_type": "code",
   "execution_count": null,
   "id": "65a30747-997a-40f8-b7a4-49d4ec60760a",
   "metadata": {},
   "outputs": [],
   "source": []
  },
  {
   "cell_type": "code",
   "execution_count": 19,
   "id": "c038fddc-ee4a-4f4c-896d-620ccde6d6c1",
   "metadata": {},
   "outputs": [
    {
     "data": {
      "text/plain": [
       "count              500.00\n",
       "sum                 55.00\n",
       "conversion_rate      0.11\n",
       "Name: A, dtype: float64"
      ]
     },
     "execution_count": 19,
     "metadata": {},
     "output_type": "execute_result"
    }
   ],
   "source": [
    "conversion_counts.loc[\"A\", :]"
   ]
  },
  {
   "cell_type": "code",
   "execution_count": 3,
   "id": "b68e5d77-4c9e-4009-bd74-4da166782d0e",
   "metadata": {},
   "outputs": [
    {
     "data": {
      "image/png": "[encoded data removed]",
      "text/plain": [
       "<Figure size 640x480 with 1 Axes>"
      ]
     },
     "metadata": {},
     "output_type": "display_data"
    }
   ],
   "source": [
    "# Plot the conversion rates\n",
    "plt.bar(\n",
    "    conversion_counts.index,\n",
    "    conversion_counts[\"conversion_rate\"],\n",
    "    color=[\"blue\", \"green\"],\n",
    ")\n",
    "plt.title(\"A/B Test Conversion Rates\")\n",
    "plt.xlabel(\"Variant\")\n",
    "plt.ylabel(\"Conversion Rate\")\n",
    "plt.ylim(0, 1)\n",
    "plt.show()"
   ]
  },
  {
   "cell_type": "code",
   "execution_count": null,
   "id": "49071076-2d54-49ac-b86b-76b281f33a35",
   "metadata": {},
   "outputs": [],
   "source": []
  }
 ],
 "metadata": {
  "kernelspec": {
   "display_name": "Python 3 (ipykernel)",
   "language": "python",
   "name": "python3"
  },
  "language_info": {
   "codemirror_mode": {
    "name": "ipython",
    "version": 3
   },
   "file_extension": ".py",
   "mimetype": "text/x-python",
   "name": "python",
   "nbconvert_exporter": "python",
   "pygments_lexer": "ipython3",
   "version": "3.12.7"
  }
 },
 "nbformat": 4,
 "nbformat_minor": 5
}

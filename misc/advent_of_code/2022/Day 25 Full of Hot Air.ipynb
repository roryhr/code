{
 "cells": [
  {
   "cell_type": "markdown",
   "id": "0b39d45f",
   "metadata": {},
   "source": [
    "# Example"
   ]
  },
  {
   "cell_type": "code",
   "execution_count": 1,
   "id": "ab5bac08",
   "metadata": {},
   "outputs": [
    {
     "data": {
      "application/javascript": [
       "\n",
       "            setTimeout(function() {\n",
       "                var nbb_cell_id = 1;\n",
       "                var nbb_unformatted_code = \"%load_ext nb_black\";\n",
       "                var nbb_formatted_code = \"%load_ext nb_black\";\n",
       "                var nbb_cells = Jupyter.notebook.get_cells();\n",
       "                for (var i = 0; i < nbb_cells.length; ++i) {\n",
       "                    if (nbb_cells[i].input_prompt_number == nbb_cell_id) {\n",
       "                        if (nbb_cells[i].get_text() == nbb_unformatted_code) {\n",
       "                             nbb_cells[i].set_text(nbb_formatted_code);\n",
       "                        }\n",
       "                        break;\n",
       "                    }\n",
       "                }\n",
       "            }, 500);\n",
       "            "
      ],
      "text/plain": [
       "<IPython.core.display.Javascript object>"
      ]
     },
     "metadata": {},
     "output_type": "display_data"
    }
   ],
   "source": [
    "%load_ext nb_black"
   ]
  },
  {
   "cell_type": "code",
   "execution_count": 2,
   "id": "9302dcdb",
   "metadata": {},
   "outputs": [
    {
     "data": {
      "application/javascript": [
       "\n",
       "            setTimeout(function() {\n",
       "                var nbb_cell_id = 2;\n",
       "                var nbb_unformatted_code = \"example_input = \\\"\\\"\\\"\\n1=-0-2\\n12111\\n2=0=\\n21\\n2=01\\n111\\n20012\\n112\\n1=-1=\\n1-12\\n12\\n1=\\n122\\n\\\"\\\"\\\"\";\n",
       "                var nbb_formatted_code = \"example_input = \\\"\\\"\\\"\\n1=-0-2\\n12111\\n2=0=\\n21\\n2=01\\n111\\n20012\\n112\\n1=-1=\\n1-12\\n12\\n1=\\n122\\n\\\"\\\"\\\"\";\n",
       "                var nbb_cells = Jupyter.notebook.get_cells();\n",
       "                for (var i = 0; i < nbb_cells.length; ++i) {\n",
       "                    if (nbb_cells[i].input_prompt_number == nbb_cell_id) {\n",
       "                        if (nbb_cells[i].get_text() == nbb_unformatted_code) {\n",
       "                             nbb_cells[i].set_text(nbb_formatted_code);\n",
       "                        }\n",
       "                        break;\n",
       "                    }\n",
       "                }\n",
       "            }, 500);\n",
       "            "
      ],
      "text/plain": [
       "<IPython.core.display.Javascript object>"
      ]
     },
     "metadata": {},
     "output_type": "display_data"
    }
   ],
   "source": [
    "example_input = \"\"\"\n",
    "1=-0-2\n",
    "12111\n",
    "2=0=\n",
    "21\n",
    "2=01\n",
    "111\n",
    "20012\n",
    "112\n",
    "1=-1=\n",
    "1-12\n",
    "12\n",
    "1=\n",
    "122\n",
    "\"\"\""
   ]
  },
  {
   "cell_type": "code",
   "execution_count": 3,
   "id": "bad94041",
   "metadata": {},
   "outputs": [
    {
     "data": {
      "text/plain": [
       "['1=-0-2',\n",
       " '12111',\n",
       " '2=0=',\n",
       " '21',\n",
       " '2=01',\n",
       " '111',\n",
       " '20012',\n",
       " '112',\n",
       " '1=-1=',\n",
       " '1-12',\n",
       " '12',\n",
       " '1=',\n",
       " '122']"
      ]
     },
     "execution_count": 3,
     "metadata": {},
     "output_type": "execute_result"
    },
    {
     "data": {
      "application/javascript": [
       "\n",
       "            setTimeout(function() {\n",
       "                var nbb_cell_id = 3;\n",
       "                var nbb_unformatted_code = \"unsplit = example_input.strip().split(\\\"\\\\n\\\")\\nunsplit\";\n",
       "                var nbb_formatted_code = \"unsplit = example_input.strip().split(\\\"\\\\n\\\")\\nunsplit\";\n",
       "                var nbb_cells = Jupyter.notebook.get_cells();\n",
       "                for (var i = 0; i < nbb_cells.length; ++i) {\n",
       "                    if (nbb_cells[i].input_prompt_number == nbb_cell_id) {\n",
       "                        if (nbb_cells[i].get_text() == nbb_unformatted_code) {\n",
       "                             nbb_cells[i].set_text(nbb_formatted_code);\n",
       "                        }\n",
       "                        break;\n",
       "                    }\n",
       "                }\n",
       "            }, 500);\n",
       "            "
      ],
      "text/plain": [
       "<IPython.core.display.Javascript object>"
      ]
     },
     "metadata": {},
     "output_type": "display_data"
    }
   ],
   "source": [
    "unsplit = example_input.strip().split(\"\\n\")\n",
    "unsplit"
   ]
  },
  {
   "cell_type": "code",
   "execution_count": 27,
   "id": "74765438",
   "metadata": {},
   "outputs": [
    {
     "data": {
      "text/plain": [
       "2022"
      ]
     },
     "execution_count": 27,
     "metadata": {},
     "output_type": "execute_result"
    },
    {
     "data": {
      "application/javascript": [
       "\n",
       "            setTimeout(function() {\n",
       "                var nbb_cell_id = 27;\n",
       "                var nbb_unformatted_code = \"def snafu_to_decimal(snafu_str):\\n    decimal_sum = 0\\n    for (\\n        place,\\n        letter,\\n    ) in enumerate(reversed(snafu_str)):\\n        #         print(place, letter)\\n\\n        if letter == \\\"-\\\":\\n            adder = -1\\n        elif letter == \\\"=\\\":\\n            adder = -2\\n        else:\\n            adder = int(letter)\\n\\n        decimal_sum += 5**place * adder\\n\\n    return decimal_sum\\n\\n\\nsnafu_to_decimal(\\\"1=11-2\\\")\";\n",
       "                var nbb_formatted_code = \"def snafu_to_decimal(snafu_str):\\n    decimal_sum = 0\\n    for (\\n        place,\\n        letter,\\n    ) in enumerate(reversed(snafu_str)):\\n        #         print(place, letter)\\n\\n        if letter == \\\"-\\\":\\n            adder = -1\\n        elif letter == \\\"=\\\":\\n            adder = -2\\n        else:\\n            adder = int(letter)\\n\\n        decimal_sum += 5**place * adder\\n\\n    return decimal_sum\\n\\n\\nsnafu_to_decimal(\\\"1=11-2\\\")\";\n",
       "                var nbb_cells = Jupyter.notebook.get_cells();\n",
       "                for (var i = 0; i < nbb_cells.length; ++i) {\n",
       "                    if (nbb_cells[i].input_prompt_number == nbb_cell_id) {\n",
       "                        if (nbb_cells[i].get_text() == nbb_unformatted_code) {\n",
       "                             nbb_cells[i].set_text(nbb_formatted_code);\n",
       "                        }\n",
       "                        break;\n",
       "                    }\n",
       "                }\n",
       "            }, 500);\n",
       "            "
      ],
      "text/plain": [
       "<IPython.core.display.Javascript object>"
      ]
     },
     "metadata": {},
     "output_type": "display_data"
    }
   ],
   "source": [
    "def snafu_to_decimal(snafu_str):\n",
    "    decimal_sum = 0\n",
    "    for (\n",
    "        place,\n",
    "        letter,\n",
    "    ) in enumerate(reversed(snafu_str)):\n",
    "        #         print(place, letter)\n",
    "\n",
    "        if letter == \"-\":\n",
    "            adder = -1\n",
    "        elif letter == \"=\":\n",
    "            adder = -2\n",
    "        else:\n",
    "            adder = int(letter)\n",
    "\n",
    "        decimal_sum += 5**place * adder\n",
    "\n",
    "    return decimal_sum\n",
    "\n",
    "\n",
    "snafu_to_decimal(\"1=11-2\")"
   ]
  },
  {
   "cell_type": "code",
   "execution_count": 28,
   "id": "0012d6dc",
   "metadata": {},
   "outputs": [
    {
     "data": {
      "text/plain": [
       "4890"
      ]
     },
     "execution_count": 28,
     "metadata": {},
     "output_type": "execute_result"
    },
    {
     "data": {
      "application/javascript": [
       "\n",
       "            setTimeout(function() {\n",
       "                var nbb_cell_id = 28;\n",
       "                var nbb_unformatted_code = \"sum(map(snafu_to_decimal, unsplit))\";\n",
       "                var nbb_formatted_code = \"sum(map(snafu_to_decimal, unsplit))\";\n",
       "                var nbb_cells = Jupyter.notebook.get_cells();\n",
       "                for (var i = 0; i < nbb_cells.length; ++i) {\n",
       "                    if (nbb_cells[i].input_prompt_number == nbb_cell_id) {\n",
       "                        if (nbb_cells[i].get_text() == nbb_unformatted_code) {\n",
       "                             nbb_cells[i].set_text(nbb_formatted_code);\n",
       "                        }\n",
       "                        break;\n",
       "                    }\n",
       "                }\n",
       "            }, 500);\n",
       "            "
      ],
      "text/plain": [
       "<IPython.core.display.Javascript object>"
      ]
     },
     "metadata": {},
     "output_type": "display_data"
    }
   ],
   "source": [
    "sum(map(snafu_to_decimal, unsplit))"
   ]
  },
  {
   "cell_type": "code",
   "execution_count": 38,
   "id": "be7269a3",
   "metadata": {},
   "outputs": [
    {
     "data": {
      "text/plain": [
       "'20'"
      ]
     },
     "execution_count": 38,
     "metadata": {},
     "output_type": "execute_result"
    },
    {
     "data": {
      "application/javascript": [
       "\n",
       "            setTimeout(function() {\n",
       "                var nbb_cell_id = 38;\n",
       "                var nbb_unformatted_code = \"digit_reverse_map = {2: \\\"2\\\", 1: \\\"1\\\", 0: \\\"0\\\", 3: \\\"=\\\", 4: \\\"-\\\", 5: \\\"0\\\"}\\n\\n\\ndef decimal_to_snafu(decimal_number):\\n    snafu, carry = [], 0\\n    while decimal_number > 0:\\n        x = decimal_number % 5 + carry\\n        snafu.append(digit_reverse_map[x])\\n\\n        carry = 1 if x > 2 else 0\\n        decimal_number //= 5\\n\\n    return \\\"\\\".join(reversed(snafu))\\n\\n\\ndecimal_to_snafu(10)\";\n",
       "                var nbb_formatted_code = \"digit_reverse_map = {2: \\\"2\\\", 1: \\\"1\\\", 0: \\\"0\\\", 3: \\\"=\\\", 4: \\\"-\\\", 5: \\\"0\\\"}\\n\\n\\ndef decimal_to_snafu(decimal_number):\\n    snafu, carry = [], 0\\n    while decimal_number > 0:\\n        x = decimal_number % 5 + carry\\n        snafu.append(digit_reverse_map[x])\\n\\n        carry = 1 if x > 2 else 0\\n        decimal_number //= 5\\n\\n    return \\\"\\\".join(reversed(snafu))\\n\\n\\ndecimal_to_snafu(10)\";\n",
       "                var nbb_cells = Jupyter.notebook.get_cells();\n",
       "                for (var i = 0; i < nbb_cells.length; ++i) {\n",
       "                    if (nbb_cells[i].input_prompt_number == nbb_cell_id) {\n",
       "                        if (nbb_cells[i].get_text() == nbb_unformatted_code) {\n",
       "                             nbb_cells[i].set_text(nbb_formatted_code);\n",
       "                        }\n",
       "                        break;\n",
       "                    }\n",
       "                }\n",
       "            }, 500);\n",
       "            "
      ],
      "text/plain": [
       "<IPython.core.display.Javascript object>"
      ]
     },
     "metadata": {},
     "output_type": "display_data"
    }
   ],
   "source": [
    "digit_reverse_map = {2: \"2\", 1: \"1\", 0: \"0\", 3: \"=\", 4: \"-\", 5: \"0\"}\n",
    "\n",
    "\n",
    "def decimal_to_snafu(decimal_number):\n",
    "    snafu, carry = [], 0\n",
    "    \n",
    "    while decimal_number > 0:\n",
    "        x = decimal_number % 5 + carry\n",
    "        snafu.append(digit_reverse_map[x])\n",
    "\n",
    "        carry = 1 if x > 2 else 0\n",
    "        decimal_number //= 5\n",
    "\n",
    "    return \"\".join(reversed(snafu))\n",
    "\n",
    "\n",
    "decimal_to_snafu(10)"
   ]
  },
  {
   "cell_type": "code",
   "execution_count": 39,
   "id": "7c2449d3",
   "metadata": {},
   "outputs": [
    {
     "data": {
      "text/plain": [
       "'2=-1=0'"
      ]
     },
     "execution_count": 39,
     "metadata": {},
     "output_type": "execute_result"
    },
    {
     "data": {
      "application/javascript": [
       "\n",
       "            setTimeout(function() {\n",
       "                var nbb_cell_id = 39;\n",
       "                var nbb_unformatted_code = \"decimal_to_snafu(4890)\";\n",
       "                var nbb_formatted_code = \"decimal_to_snafu(4890)\";\n",
       "                var nbb_cells = Jupyter.notebook.get_cells();\n",
       "                for (var i = 0; i < nbb_cells.length; ++i) {\n",
       "                    if (nbb_cells[i].input_prompt_number == nbb_cell_id) {\n",
       "                        if (nbb_cells[i].get_text() == nbb_unformatted_code) {\n",
       "                             nbb_cells[i].set_text(nbb_formatted_code);\n",
       "                        }\n",
       "                        break;\n",
       "                    }\n",
       "                }\n",
       "            }, 500);\n",
       "            "
      ],
      "text/plain": [
       "<IPython.core.display.Javascript object>"
      ]
     },
     "metadata": {},
     "output_type": "display_data"
    }
   ],
   "source": [
    "decimal_to_snafu(4890)"
   ]
  },
  {
   "cell_type": "markdown",
   "id": "0a7a9865",
   "metadata": {},
   "source": [
    "# Part 1"
   ]
  },
  {
   "cell_type": "code",
   "execution_count": 40,
   "id": "f8ae32a7",
   "metadata": {},
   "outputs": [
    {
     "data": {
      "application/javascript": [
       "\n",
       "            setTimeout(function() {\n",
       "                var nbb_cell_id = 40;\n",
       "                var nbb_unformatted_code = \"with open(\\\"inputs/25.txt\\\") as f:\\n    raw_puzzle_input = f.read()\";\n",
       "                var nbb_formatted_code = \"with open(\\\"inputs/25.txt\\\") as f:\\n    raw_puzzle_input = f.read()\";\n",
       "                var nbb_cells = Jupyter.notebook.get_cells();\n",
       "                for (var i = 0; i < nbb_cells.length; ++i) {\n",
       "                    if (nbb_cells[i].input_prompt_number == nbb_cell_id) {\n",
       "                        if (nbb_cells[i].get_text() == nbb_unformatted_code) {\n",
       "                             nbb_cells[i].set_text(nbb_formatted_code);\n",
       "                        }\n",
       "                        break;\n",
       "                    }\n",
       "                }\n",
       "            }, 500);\n",
       "            "
      ],
      "text/plain": [
       "<IPython.core.display.Javascript object>"
      ]
     },
     "metadata": {},
     "output_type": "display_data"
    }
   ],
   "source": [
    "with open(\"inputs/25.txt\") as f:\n",
    "    raw_puzzle_input = f.read()"
   ]
  },
  {
   "cell_type": "code",
   "execution_count": 42,
   "id": "b4c102c1",
   "metadata": {},
   "outputs": [
    {
     "data": {
      "application/javascript": [
       "\n",
       "            setTimeout(function() {\n",
       "                var nbb_cell_id = 42;\n",
       "                var nbb_unformatted_code = \"unsplit = raw_puzzle_input.strip().split(\\\"\\\\n\\\")\";\n",
       "                var nbb_formatted_code = \"unsplit = raw_puzzle_input.strip().split(\\\"\\\\n\\\")\";\n",
       "                var nbb_cells = Jupyter.notebook.get_cells();\n",
       "                for (var i = 0; i < nbb_cells.length; ++i) {\n",
       "                    if (nbb_cells[i].input_prompt_number == nbb_cell_id) {\n",
       "                        if (nbb_cells[i].get_text() == nbb_unformatted_code) {\n",
       "                             nbb_cells[i].set_text(nbb_formatted_code);\n",
       "                        }\n",
       "                        break;\n",
       "                    }\n",
       "                }\n",
       "            }, 500);\n",
       "            "
      ],
      "text/plain": [
       "<IPython.core.display.Javascript object>"
      ]
     },
     "metadata": {},
     "output_type": "display_data"
    }
   ],
   "source": [
    "unsplit = raw_puzzle_input.strip().split(\"\\n\")"
   ]
  },
  {
   "cell_type": "code",
   "execution_count": 43,
   "id": "22440714",
   "metadata": {},
   "outputs": [
    {
     "data": {
      "text/plain": [
       "34818266939311"
      ]
     },
     "execution_count": 43,
     "metadata": {},
     "output_type": "execute_result"
    },
    {
     "data": {
      "application/javascript": [
       "\n",
       "            setTimeout(function() {\n",
       "                var nbb_cell_id = 43;\n",
       "                var nbb_unformatted_code = \"sum(map(snafu_to_decimal, unsplit))\";\n",
       "                var nbb_formatted_code = \"sum(map(snafu_to_decimal, unsplit))\";\n",
       "                var nbb_cells = Jupyter.notebook.get_cells();\n",
       "                for (var i = 0; i < nbb_cells.length; ++i) {\n",
       "                    if (nbb_cells[i].input_prompt_number == nbb_cell_id) {\n",
       "                        if (nbb_cells[i].get_text() == nbb_unformatted_code) {\n",
       "                             nbb_cells[i].set_text(nbb_formatted_code);\n",
       "                        }\n",
       "                        break;\n",
       "                    }\n",
       "                }\n",
       "            }, 500);\n",
       "            "
      ],
      "text/plain": [
       "<IPython.core.display.Javascript object>"
      ]
     },
     "metadata": {},
     "output_type": "display_data"
    }
   ],
   "source": [
    "sum(map(snafu_to_decimal, unsplit))"
   ]
  },
  {
   "cell_type": "code",
   "execution_count": 44,
   "id": "66ae23d8",
   "metadata": {},
   "outputs": [
    {
     "data": {
      "text/plain": [
       "'2-1=10=1=1==2-1=-221'"
      ]
     },
     "execution_count": 44,
     "metadata": {},
     "output_type": "execute_result"
    },
    {
     "data": {
      "application/javascript": [
       "\n",
       "            setTimeout(function() {\n",
       "                var nbb_cell_id = 44;\n",
       "                var nbb_unformatted_code = \"decimal_to_snafu(34818266939311)\";\n",
       "                var nbb_formatted_code = \"decimal_to_snafu(34818266939311)\";\n",
       "                var nbb_cells = Jupyter.notebook.get_cells();\n",
       "                for (var i = 0; i < nbb_cells.length; ++i) {\n",
       "                    if (nbb_cells[i].input_prompt_number == nbb_cell_id) {\n",
       "                        if (nbb_cells[i].get_text() == nbb_unformatted_code) {\n",
       "                             nbb_cells[i].set_text(nbb_formatted_code);\n",
       "                        }\n",
       "                        break;\n",
       "                    }\n",
       "                }\n",
       "            }, 500);\n",
       "            "
      ],
      "text/plain": [
       "<IPython.core.display.Javascript object>"
      ]
     },
     "metadata": {},
     "output_type": "display_data"
    }
   ],
   "source": [
    "decimal_to_snafu(34818266939311)"
   ]
  }
 ],
 "metadata": {
  "kernelspec": {
   "display_name": "Python [conda env:root] *",
   "language": "python",
   "name": "conda-root-py"
  },
  "language_info": {
   "codemirror_mode": {
    "name": "ipython",
    "version": 3
   },
   "file_extension": ".py",
   "mimetype": "text/x-python",
   "name": "python",
   "nbconvert_exporter": "python",
   "pygments_lexer": "ipython3",
   "version": "3.7.4"
  }
 },
 "nbformat": 4,
 "nbformat_minor": 5
}

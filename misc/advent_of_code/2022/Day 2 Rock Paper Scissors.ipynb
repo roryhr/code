{
 "cells": [
  {
   "cell_type": "code",
   "execution_count": 13,
   "id": "acf47186",
   "metadata": {},
   "outputs": [
    {
     "name": "stdout",
     "output_type": "stream",
     "text": [
      "The nb_black extension is already loaded. To reload it, use:\n",
      "  %reload_ext nb_black\n"
     ]
    },
    {
     "data": {
      "application/javascript": [
       "\n",
       "            setTimeout(function() {\n",
       "                var nbb_cell_id = 13;\n",
       "                var nbb_unformatted_code = \"%load_ext nb_black\";\n",
       "                var nbb_formatted_code = \"%load_ext nb_black\";\n",
       "                var nbb_cells = Jupyter.notebook.get_cells();\n",
       "                for (var i = 0; i < nbb_cells.length; ++i) {\n",
       "                    if (nbb_cells[i].input_prompt_number == nbb_cell_id) {\n",
       "                        if (nbb_cells[i].get_text() == nbb_unformatted_code) {\n",
       "                             nbb_cells[i].set_text(nbb_formatted_code);\n",
       "                        }\n",
       "                        break;\n",
       "                    }\n",
       "                }\n",
       "            }, 500);\n",
       "            "
      ],
      "text/plain": [
       "<IPython.core.display.Javascript object>"
      ]
     },
     "metadata": {},
     "output_type": "display_data"
    }
   ],
   "source": [
    "%load_ext nb_black"
   ]
  },
  {
   "cell_type": "code",
   "execution_count": 14,
   "id": "8292b8e7",
   "metadata": {},
   "outputs": [
    {
     "data": {
      "application/javascript": [
       "\n",
       "            setTimeout(function() {\n",
       "                var nbb_cell_id = 14;\n",
       "                var nbb_unformatted_code = \"puzzle_input = \\\"\\\"\\\"\\nA Y\\nB X\\nC Z\\n\\\"\\\"\\\"\";\n",
       "                var nbb_formatted_code = \"puzzle_input = \\\"\\\"\\\"\\nA Y\\nB X\\nC Z\\n\\\"\\\"\\\"\";\n",
       "                var nbb_cells = Jupyter.notebook.get_cells();\n",
       "                for (var i = 0; i < nbb_cells.length; ++i) {\n",
       "                    if (nbb_cells[i].input_prompt_number == nbb_cell_id) {\n",
       "                        if (nbb_cells[i].get_text() == nbb_unformatted_code) {\n",
       "                             nbb_cells[i].set_text(nbb_formatted_code);\n",
       "                        }\n",
       "                        break;\n",
       "                    }\n",
       "                }\n",
       "            }, 500);\n",
       "            "
      ],
      "text/plain": [
       "<IPython.core.display.Javascript object>"
      ]
     },
     "metadata": {},
     "output_type": "display_data"
    }
   ],
   "source": [
    "puzzle_input = \"\"\"\n",
    "A Y\n",
    "B X\n",
    "C Z\n",
    "\"\"\""
   ]
  },
  {
   "cell_type": "code",
   "execution_count": 15,
   "id": "cb9eb4cf",
   "metadata": {},
   "outputs": [
    {
     "data": {
      "application/javascript": [
       "\n",
       "            setTimeout(function() {\n",
       "                var nbb_cell_id = 15;\n",
       "                var nbb_unformatted_code = \"encodings = {\\n    \\\"A\\\": \\\"Rock\\\",\\n    \\\"B\\\": \\\"Paper\\\",\\n    \\\"C\\\": \\\"Scissors\\\",\\n    \\\"X\\\": \\\"Rock\\\",\\n    \\\"Y\\\": \\\"Paper\\\",\\n    \\\"Z\\\": \\\"Scissors\\\",\\n}\";\n",
       "                var nbb_formatted_code = \"encodings = {\\n    \\\"A\\\": \\\"Rock\\\",\\n    \\\"B\\\": \\\"Paper\\\",\\n    \\\"C\\\": \\\"Scissors\\\",\\n    \\\"X\\\": \\\"Rock\\\",\\n    \\\"Y\\\": \\\"Paper\\\",\\n    \\\"Z\\\": \\\"Scissors\\\",\\n}\";\n",
       "                var nbb_cells = Jupyter.notebook.get_cells();\n",
       "                for (var i = 0; i < nbb_cells.length; ++i) {\n",
       "                    if (nbb_cells[i].input_prompt_number == nbb_cell_id) {\n",
       "                        if (nbb_cells[i].get_text() == nbb_unformatted_code) {\n",
       "                             nbb_cells[i].set_text(nbb_formatted_code);\n",
       "                        }\n",
       "                        break;\n",
       "                    }\n",
       "                }\n",
       "            }, 500);\n",
       "            "
      ],
      "text/plain": [
       "<IPython.core.display.Javascript object>"
      ]
     },
     "metadata": {},
     "output_type": "display_data"
    }
   ],
   "source": [
    "encodings = {\n",
    "    \"A\": \"Rock\",\n",
    "    \"B\": \"Paper\",\n",
    "    \"C\": \"Scissors\",\n",
    "    \"X\": \"Rock\",\n",
    "    \"Y\": \"Paper\",\n",
    "    \"Z\": \"Scissors\",\n",
    "}"
   ]
  },
  {
   "cell_type": "code",
   "execution_count": 20,
   "id": "5b3bc5f9",
   "metadata": {},
   "outputs": [
    {
     "data": {
      "application/javascript": [
       "\n",
       "            setTimeout(function() {\n",
       "                var nbb_cell_id = 20;\n",
       "                var nbb_unformatted_code = \"shape_scores = {\\\"Rock\\\": 1, \\\"Paper\\\": 2, \\\"Scissors\\\": 3}\\noutcome_scores = {'Tie':3, 'Win':6, \\\"Loss\\\": 0}\";\n",
       "                var nbb_formatted_code = \"shape_scores = {\\\"Rock\\\": 1, \\\"Paper\\\": 2, \\\"Scissors\\\": 3}\\noutcome_scores = {\\\"Tie\\\": 3, \\\"Win\\\": 6, \\\"Loss\\\": 0}\";\n",
       "                var nbb_cells = Jupyter.notebook.get_cells();\n",
       "                for (var i = 0; i < nbb_cells.length; ++i) {\n",
       "                    if (nbb_cells[i].input_prompt_number == nbb_cell_id) {\n",
       "                        if (nbb_cells[i].get_text() == nbb_unformatted_code) {\n",
       "                             nbb_cells[i].set_text(nbb_formatted_code);\n",
       "                        }\n",
       "                        break;\n",
       "                    }\n",
       "                }\n",
       "            }, 500);\n",
       "            "
      ],
      "text/plain": [
       "<IPython.core.display.Javascript object>"
      ]
     },
     "metadata": {},
     "output_type": "display_data"
    }
   ],
   "source": [
    "shape_scores = {\"Rock\": 1, \"Paper\": 2, \"Scissors\": 3}\n",
    "outcome_scores = {\"Tie\": 3, \"Win\": 6, \"Loss\": 0}"
   ]
  },
  {
   "cell_type": "code",
   "execution_count": null,
   "id": "8df6e3f9",
   "metadata": {},
   "outputs": [],
   "source": []
  },
  {
   "cell_type": "code",
   "execution_count": 16,
   "id": "fd98120c",
   "metadata": {},
   "outputs": [
    {
     "data": {
      "application/javascript": [
       "\n",
       "            setTimeout(function() {\n",
       "                var nbb_cell_id = 16;\n",
       "                var nbb_unformatted_code = \"coded_games = [x.split() for x in puzzle_input.strip().split(\\\"\\\\n\\\")]\";\n",
       "                var nbb_formatted_code = \"coded_games = [x.split() for x in puzzle_input.strip().split(\\\"\\\\n\\\")]\";\n",
       "                var nbb_cells = Jupyter.notebook.get_cells();\n",
       "                for (var i = 0; i < nbb_cells.length; ++i) {\n",
       "                    if (nbb_cells[i].input_prompt_number == nbb_cell_id) {\n",
       "                        if (nbb_cells[i].get_text() == nbb_unformatted_code) {\n",
       "                             nbb_cells[i].set_text(nbb_formatted_code);\n",
       "                        }\n",
       "                        break;\n",
       "                    }\n",
       "                }\n",
       "            }, 500);\n",
       "            "
      ],
      "text/plain": [
       "<IPython.core.display.Javascript object>"
      ]
     },
     "metadata": {},
     "output_type": "display_data"
    }
   ],
   "source": [
    "coded_games = [x.split() for x in puzzle_input.strip().split(\"\\n\")]"
   ]
  },
  {
   "cell_type": "code",
   "execution_count": 17,
   "id": "b96f62c2",
   "metadata": {},
   "outputs": [
    {
     "data": {
      "application/javascript": [
       "\n",
       "            setTimeout(function() {\n",
       "                var nbb_cell_id = 17;\n",
       "                var nbb_unformatted_code = \"games = [\\n    (encodings[x[0]], encodings[x[1]]) for x in coded_games\\n]\";\n",
       "                var nbb_formatted_code = \"games = [(encodings[x[0]], encodings[x[1]]) for x in coded_games]\";\n",
       "                var nbb_cells = Jupyter.notebook.get_cells();\n",
       "                for (var i = 0; i < nbb_cells.length; ++i) {\n",
       "                    if (nbb_cells[i].input_prompt_number == nbb_cell_id) {\n",
       "                        if (nbb_cells[i].get_text() == nbb_unformatted_code) {\n",
       "                             nbb_cells[i].set_text(nbb_formatted_code);\n",
       "                        }\n",
       "                        break;\n",
       "                    }\n",
       "                }\n",
       "            }, 500);\n",
       "            "
      ],
      "text/plain": [
       "<IPython.core.display.Javascript object>"
      ]
     },
     "metadata": {},
     "output_type": "display_data"
    }
   ],
   "source": [
    "games = [(encodings[x[0]], encodings[x[1]]) for x in coded_games]"
   ]
  },
  {
   "cell_type": "code",
   "execution_count": 18,
   "id": "f4ced22e",
   "metadata": {},
   "outputs": [
    {
     "data": {
      "text/plain": [
       "[('Rock', 'Paper'), ('Paper', 'Rock'), ('Scissors', 'Scissors')]"
      ]
     },
     "execution_count": 18,
     "metadata": {},
     "output_type": "execute_result"
    },
    {
     "data": {
      "application/javascript": [
       "\n",
       "            setTimeout(function() {\n",
       "                var nbb_cell_id = 18;\n",
       "                var nbb_unformatted_code = \"games\";\n",
       "                var nbb_formatted_code = \"games\";\n",
       "                var nbb_cells = Jupyter.notebook.get_cells();\n",
       "                for (var i = 0; i < nbb_cells.length; ++i) {\n",
       "                    if (nbb_cells[i].input_prompt_number == nbb_cell_id) {\n",
       "                        if (nbb_cells[i].get_text() == nbb_unformatted_code) {\n",
       "                             nbb_cells[i].set_text(nbb_formatted_code);\n",
       "                        }\n",
       "                        break;\n",
       "                    }\n",
       "                }\n",
       "            }, 500);\n",
       "            "
      ],
      "text/plain": [
       "<IPython.core.display.Javascript object>"
      ]
     },
     "metadata": {},
     "output_type": "display_data"
    }
   ],
   "source": [
    "games"
   ]
  },
  {
   "cell_type": "code",
   "execution_count": 30,
   "id": "5df345a1",
   "metadata": {},
   "outputs": [
    {
     "data": {
      "application/javascript": [
       "\n",
       "            setTimeout(function() {\n",
       "                var nbb_cell_id = 30;\n",
       "                var nbb_unformatted_code = \"def score(opponent, me):\\n    score = shape_scores[me]\\n\\n    if opponent == me:\\n        return score + outcome_scores[\\\"Tie\\\"]\\n\\n    if me == \\\"Rock\\\" and opponent == \\\"Paper\\\":\\n        return score + outcome_scores[\\\"Loss\\\"]\\n\\n    if me == \\\"Rock\\\" and opponent == \\\"Scissors\\\":\\n        return score + outcome_scores[\\\"Win\\\"]\\n\\n    if me == \\\"Paper\\\" and opponent == \\\"Rock\\\":\\n        return score + outcome_scores[\\\"Win\\\"]\\n\\n    if me == \\\"Paper\\\" and opponent == \\\"Scissors\\\":\\n        return score + outcome_scores[\\\"Loss\\\"]\\n\\n    if me == \\\"Scissors\\\" and opponent == \\\"Rock\\\":\\n        return score + outcome_scores[\\\"Loss\\\"]\\n\\n    if me == \\\"Scissors\\\" and opponent == \\\"Paper\\\":\\n        return score + outcome_scores[\\\"Win\\\"]\\n    \\n    print(\\\"Oops!!!\\\")\";\n",
       "                var nbb_formatted_code = \"def score(opponent, me):\\n    score = shape_scores[me]\\n\\n    if opponent == me:\\n        return score + outcome_scores[\\\"Tie\\\"]\\n\\n    if me == \\\"Rock\\\" and opponent == \\\"Paper\\\":\\n        return score + outcome_scores[\\\"Loss\\\"]\\n\\n    if me == \\\"Rock\\\" and opponent == \\\"Scissors\\\":\\n        return score + outcome_scores[\\\"Win\\\"]\\n\\n    if me == \\\"Paper\\\" and opponent == \\\"Rock\\\":\\n        return score + outcome_scores[\\\"Win\\\"]\\n\\n    if me == \\\"Paper\\\" and opponent == \\\"Scissors\\\":\\n        return score + outcome_scores[\\\"Loss\\\"]\\n\\n    if me == \\\"Scissors\\\" and opponent == \\\"Rock\\\":\\n        return score + outcome_scores[\\\"Loss\\\"]\\n\\n    if me == \\\"Scissors\\\" and opponent == \\\"Paper\\\":\\n        return score + outcome_scores[\\\"Win\\\"]\\n\\n    print(\\\"Oops!!!\\\")\";\n",
       "                var nbb_cells = Jupyter.notebook.get_cells();\n",
       "                for (var i = 0; i < nbb_cells.length; ++i) {\n",
       "                    if (nbb_cells[i].input_prompt_number == nbb_cell_id) {\n",
       "                        if (nbb_cells[i].get_text() == nbb_unformatted_code) {\n",
       "                             nbb_cells[i].set_text(nbb_formatted_code);\n",
       "                        }\n",
       "                        break;\n",
       "                    }\n",
       "                }\n",
       "            }, 500);\n",
       "            "
      ],
      "text/plain": [
       "<IPython.core.display.Javascript object>"
      ]
     },
     "metadata": {},
     "output_type": "display_data"
    }
   ],
   "source": [
    "def score(opponent, me):\n",
    "    score = shape_scores[me]\n",
    "\n",
    "    if opponent == me:\n",
    "        return score + outcome_scores[\"Tie\"]\n",
    "\n",
    "    if me == \"Rock\" and opponent == \"Paper\":\n",
    "        return score + outcome_scores[\"Loss\"]\n",
    "\n",
    "    if me == \"Rock\" and opponent == \"Scissors\":\n",
    "        return score + outcome_scores[\"Win\"]\n",
    "\n",
    "    if me == \"Paper\" and opponent == \"Rock\":\n",
    "        return score + outcome_scores[\"Win\"]\n",
    "\n",
    "    if me == \"Paper\" and opponent == \"Scissors\":\n",
    "        return score + outcome_scores[\"Loss\"]\n",
    "\n",
    "    if me == \"Scissors\" and opponent == \"Rock\":\n",
    "        return score + outcome_scores[\"Loss\"]\n",
    "\n",
    "    if me == \"Scissors\" and opponent == \"Paper\":\n",
    "        return score + outcome_scores[\"Win\"]\n",
    "\n",
    "    print(\"Oops!!!\")"
   ]
  },
  {
   "cell_type": "code",
   "execution_count": 31,
   "id": "5ac60d2b",
   "metadata": {},
   "outputs": [
    {
     "data": {
      "text/plain": [
       "[8, 1, 6]"
      ]
     },
     "execution_count": 31,
     "metadata": {},
     "output_type": "execute_result"
    },
    {
     "data": {
      "application/javascript": [
       "\n",
       "            setTimeout(function() {\n",
       "                var nbb_cell_id = 31;\n",
       "                var nbb_unformatted_code = \"[score(*game) for game in games]\";\n",
       "                var nbb_formatted_code = \"[score(*game) for game in games]\";\n",
       "                var nbb_cells = Jupyter.notebook.get_cells();\n",
       "                for (var i = 0; i < nbb_cells.length; ++i) {\n",
       "                    if (nbb_cells[i].input_prompt_number == nbb_cell_id) {\n",
       "                        if (nbb_cells[i].get_text() == nbb_unformatted_code) {\n",
       "                             nbb_cells[i].set_text(nbb_formatted_code);\n",
       "                        }\n",
       "                        break;\n",
       "                    }\n",
       "                }\n",
       "            }, 500);\n",
       "            "
      ],
      "text/plain": [
       "<IPython.core.display.Javascript object>"
      ]
     },
     "metadata": {},
     "output_type": "display_data"
    }
   ],
   "source": [
    "[score(*game) for game in games]"
   ]
  },
  {
   "cell_type": "code",
   "execution_count": 32,
   "id": "e3b19629",
   "metadata": {},
   "outputs": [
    {
     "data": {
      "application/javascript": [
       "\n",
       "            setTimeout(function() {\n",
       "                var nbb_cell_id = 32;\n",
       "                var nbb_unformatted_code = \"with open('inputs/2.txt') as f: \\n    raw_input = f.read()\";\n",
       "                var nbb_formatted_code = \"with open(\\\"inputs/2.txt\\\") as f:\\n    raw_input = f.read()\";\n",
       "                var nbb_cells = Jupyter.notebook.get_cells();\n",
       "                for (var i = 0; i < nbb_cells.length; ++i) {\n",
       "                    if (nbb_cells[i].input_prompt_number == nbb_cell_id) {\n",
       "                        if (nbb_cells[i].get_text() == nbb_unformatted_code) {\n",
       "                             nbb_cells[i].set_text(nbb_formatted_code);\n",
       "                        }\n",
       "                        break;\n",
       "                    }\n",
       "                }\n",
       "            }, 500);\n",
       "            "
      ],
      "text/plain": [
       "<IPython.core.display.Javascript object>"
      ]
     },
     "metadata": {},
     "output_type": "display_data"
    }
   ],
   "source": [
    "with open(\"inputs/2.txt\") as f:\n",
    "    raw_input = f.read()"
   ]
  },
  {
   "cell_type": "code",
   "execution_count": 34,
   "id": "c25baa9a",
   "metadata": {},
   "outputs": [
    {
     "data": {
      "application/javascript": [
       "\n",
       "            setTimeout(function() {\n",
       "                var nbb_cell_id = 34;\n",
       "                var nbb_unformatted_code = \"coded_games = [x.split() for x in raw_input.strip().split(\\\"\\\\n\\\")]\";\n",
       "                var nbb_formatted_code = \"coded_games = [x.split() for x in raw_input.strip().split(\\\"\\\\n\\\")]\";\n",
       "                var nbb_cells = Jupyter.notebook.get_cells();\n",
       "                for (var i = 0; i < nbb_cells.length; ++i) {\n",
       "                    if (nbb_cells[i].input_prompt_number == nbb_cell_id) {\n",
       "                        if (nbb_cells[i].get_text() == nbb_unformatted_code) {\n",
       "                             nbb_cells[i].set_text(nbb_formatted_code);\n",
       "                        }\n",
       "                        break;\n",
       "                    }\n",
       "                }\n",
       "            }, 500);\n",
       "            "
      ],
      "text/plain": [
       "<IPython.core.display.Javascript object>"
      ]
     },
     "metadata": {},
     "output_type": "display_data"
    }
   ],
   "source": [
    "coded_games = [x.split() for x in raw_input.strip().split(\"\\n\")]"
   ]
  },
  {
   "cell_type": "code",
   "execution_count": 36,
   "id": "1b7c967f",
   "metadata": {},
   "outputs": [
    {
     "data": {
      "application/javascript": [
       "\n",
       "            setTimeout(function() {\n",
       "                var nbb_cell_id = 36;\n",
       "                var nbb_unformatted_code = \"games = [(encodings[x[0]], encodings[x[1]]) for x in coded_games]\";\n",
       "                var nbb_formatted_code = \"games = [(encodings[x[0]], encodings[x[1]]) for x in coded_games]\";\n",
       "                var nbb_cells = Jupyter.notebook.get_cells();\n",
       "                for (var i = 0; i < nbb_cells.length; ++i) {\n",
       "                    if (nbb_cells[i].input_prompt_number == nbb_cell_id) {\n",
       "                        if (nbb_cells[i].get_text() == nbb_unformatted_code) {\n",
       "                             nbb_cells[i].set_text(nbb_formatted_code);\n",
       "                        }\n",
       "                        break;\n",
       "                    }\n",
       "                }\n",
       "            }, 500);\n",
       "            "
      ],
      "text/plain": [
       "<IPython.core.display.Javascript object>"
      ]
     },
     "metadata": {},
     "output_type": "display_data"
    }
   ],
   "source": [
    "games = [(encodings[x[0]], encodings[x[1]]) for x in coded_games]"
   ]
  },
  {
   "cell_type": "code",
   "execution_count": 38,
   "id": "236b8b0d",
   "metadata": {},
   "outputs": [
    {
     "data": {
      "text/plain": [
       "10718"
      ]
     },
     "execution_count": 38,
     "metadata": {},
     "output_type": "execute_result"
    },
    {
     "data": {
      "application/javascript": [
       "\n",
       "            setTimeout(function() {\n",
       "                var nbb_cell_id = 38;\n",
       "                var nbb_unformatted_code = \"sum([score(*game) for game in games])\";\n",
       "                var nbb_formatted_code = \"sum([score(*game) for game in games])\";\n",
       "                var nbb_cells = Jupyter.notebook.get_cells();\n",
       "                for (var i = 0; i < nbb_cells.length; ++i) {\n",
       "                    if (nbb_cells[i].input_prompt_number == nbb_cell_id) {\n",
       "                        if (nbb_cells[i].get_text() == nbb_unformatted_code) {\n",
       "                             nbb_cells[i].set_text(nbb_formatted_code);\n",
       "                        }\n",
       "                        break;\n",
       "                    }\n",
       "                }\n",
       "            }, 500);\n",
       "            "
      ],
      "text/plain": [
       "<IPython.core.display.Javascript object>"
      ]
     },
     "metadata": {},
     "output_type": "display_data"
    }
   ],
   "source": [
    "sum([score(*game) for game in games])"
   ]
  },
  {
   "cell_type": "markdown",
   "id": "14ea4268",
   "metadata": {},
   "source": [
    "# Part 2 "
   ]
  },
  {
   "cell_type": "code",
   "execution_count": 39,
   "id": "53c5a81e",
   "metadata": {},
   "outputs": [
    {
     "data": {
      "text/plain": [
       "'\\nA Y\\nB X\\nC Z\\n'"
      ]
     },
     "execution_count": 39,
     "metadata": {},
     "output_type": "execute_result"
    },
    {
     "data": {
      "application/javascript": [
       "\n",
       "            setTimeout(function() {\n",
       "                var nbb_cell_id = 39;\n",
       "                var nbb_unformatted_code = \"puzzle_input\";\n",
       "                var nbb_formatted_code = \"puzzle_input\";\n",
       "                var nbb_cells = Jupyter.notebook.get_cells();\n",
       "                for (var i = 0; i < nbb_cells.length; ++i) {\n",
       "                    if (nbb_cells[i].input_prompt_number == nbb_cell_id) {\n",
       "                        if (nbb_cells[i].get_text() == nbb_unformatted_code) {\n",
       "                             nbb_cells[i].set_text(nbb_formatted_code);\n",
       "                        }\n",
       "                        break;\n",
       "                    }\n",
       "                }\n",
       "            }, 500);\n",
       "            "
      ],
      "text/plain": [
       "<IPython.core.display.Javascript object>"
      ]
     },
     "metadata": {},
     "output_type": "display_data"
    }
   ],
   "source": [
    "puzzle_input"
   ]
  },
  {
   "cell_type": "code",
   "execution_count": 40,
   "id": "321e7548",
   "metadata": {},
   "outputs": [
    {
     "data": {
      "text/plain": [
       "[['A', 'Y'], ['B', 'X'], ['C', 'Z']]"
      ]
     },
     "execution_count": 40,
     "metadata": {},
     "output_type": "execute_result"
    },
    {
     "data": {
      "application/javascript": [
       "\n",
       "            setTimeout(function() {\n",
       "                var nbb_cell_id = 40;\n",
       "                var nbb_unformatted_code = \"coded_games = [x.split() for x in puzzle_input.strip().split(\\\"\\\\n\\\")]\\ncoded_games\";\n",
       "                var nbb_formatted_code = \"coded_games = [x.split() for x in puzzle_input.strip().split(\\\"\\\\n\\\")]\\ncoded_games\";\n",
       "                var nbb_cells = Jupyter.notebook.get_cells();\n",
       "                for (var i = 0; i < nbb_cells.length; ++i) {\n",
       "                    if (nbb_cells[i].input_prompt_number == nbb_cell_id) {\n",
       "                        if (nbb_cells[i].get_text() == nbb_unformatted_code) {\n",
       "                             nbb_cells[i].set_text(nbb_formatted_code);\n",
       "                        }\n",
       "                        break;\n",
       "                    }\n",
       "                }\n",
       "            }, 500);\n",
       "            "
      ],
      "text/plain": [
       "<IPython.core.display.Javascript object>"
      ]
     },
     "metadata": {},
     "output_type": "display_data"
    }
   ],
   "source": [
    "coded_games = [x.split() for x in puzzle_input.strip().split(\"\\n\")]\n",
    "coded_games"
   ]
  },
  {
   "cell_type": "code",
   "execution_count": 41,
   "id": "e9d5a583",
   "metadata": {},
   "outputs": [
    {
     "data": {
      "application/javascript": [
       "\n",
       "            setTimeout(function() {\n",
       "                var nbb_cell_id = 41;\n",
       "                var nbb_unformatted_code = \"encodings = {\\n    \\\"A\\\": \\\"Rock\\\",\\n    \\\"B\\\": \\\"Paper\\\",\\n    \\\"C\\\": \\\"Scissors\\\",\\n    \\\"X\\\": \\\"Lose\\\",\\n    \\\"Y\\\": \\\"Tie\\\",\\n    \\\"Z\\\": \\\"Win\\\",\\n}\";\n",
       "                var nbb_formatted_code = \"encodings = {\\n    \\\"A\\\": \\\"Rock\\\",\\n    \\\"B\\\": \\\"Paper\\\",\\n    \\\"C\\\": \\\"Scissors\\\",\\n    \\\"X\\\": \\\"Lose\\\",\\n    \\\"Y\\\": \\\"Tie\\\",\\n    \\\"Z\\\": \\\"Win\\\",\\n}\";\n",
       "                var nbb_cells = Jupyter.notebook.get_cells();\n",
       "                for (var i = 0; i < nbb_cells.length; ++i) {\n",
       "                    if (nbb_cells[i].input_prompt_number == nbb_cell_id) {\n",
       "                        if (nbb_cells[i].get_text() == nbb_unformatted_code) {\n",
       "                             nbb_cells[i].set_text(nbb_formatted_code);\n",
       "                        }\n",
       "                        break;\n",
       "                    }\n",
       "                }\n",
       "            }, 500);\n",
       "            "
      ],
      "text/plain": [
       "<IPython.core.display.Javascript object>"
      ]
     },
     "metadata": {},
     "output_type": "display_data"
    }
   ],
   "source": [
    "encodings = {\n",
    "    \"A\": \"Rock\",\n",
    "    \"B\": \"Paper\",\n",
    "    \"C\": \"Scissors\",\n",
    "    \"X\": \"Lose\",\n",
    "    \"Y\": \"Tie\",\n",
    "    \"Z\": \"Win\",\n",
    "}"
   ]
  },
  {
   "cell_type": "code",
   "execution_count": 42,
   "id": "966f2aaf",
   "metadata": {},
   "outputs": [
    {
     "data": {
      "text/plain": [
       "[('Rock', 'Tie'), ('Paper', 'Lose'), ('Scissors', 'Win')]"
      ]
     },
     "execution_count": 42,
     "metadata": {},
     "output_type": "execute_result"
    },
    {
     "data": {
      "application/javascript": [
       "\n",
       "            setTimeout(function() {\n",
       "                var nbb_cell_id = 42;\n",
       "                var nbb_unformatted_code = \"games = [(encodings[x[0]], encodings[x[1]]) for x in coded_games]\\ngames\";\n",
       "                var nbb_formatted_code = \"games = [(encodings[x[0]], encodings[x[1]]) for x in coded_games]\\ngames\";\n",
       "                var nbb_cells = Jupyter.notebook.get_cells();\n",
       "                for (var i = 0; i < nbb_cells.length; ++i) {\n",
       "                    if (nbb_cells[i].input_prompt_number == nbb_cell_id) {\n",
       "                        if (nbb_cells[i].get_text() == nbb_unformatted_code) {\n",
       "                             nbb_cells[i].set_text(nbb_formatted_code);\n",
       "                        }\n",
       "                        break;\n",
       "                    }\n",
       "                }\n",
       "            }, 500);\n",
       "            "
      ],
      "text/plain": [
       "<IPython.core.display.Javascript object>"
      ]
     },
     "metadata": {},
     "output_type": "display_data"
    }
   ],
   "source": [
    "games = [(encodings[x[0]], encodings[x[1]]) for x in coded_games]\n",
    "games"
   ]
  },
  {
   "cell_type": "code",
   "execution_count": 49,
   "id": "aa158581",
   "metadata": {},
   "outputs": [
    {
     "data": {
      "application/javascript": [
       "\n",
       "            setTimeout(function() {\n",
       "                var nbb_cell_id = 49;\n",
       "                var nbb_unformatted_code = \"def choose_shape(opponent, outcome):\\n    if outcome == \\\"Tie\\\":\\n        return opponent\\n\\n    if opponent == \\\"Rock\\\":\\n        if outcome == \\\"Lose\\\":\\n            return \\\"Scissors\\\"\\n        else:\\n            return \\\"Paper\\\"\\n\\n    if opponent == \\\"Paper\\\":\\n        if outcome == \\\"Win\\\":\\n            return \\\"Scissors\\\"\\n        else:\\n            return \\\"Rock\\\"\\n\\n    if opponent == \\\"Scissors\\\":\\n        if outcome == \\\"Win\\\":\\n            return \\\"Rock\\\"\\n        else:\\n            return \\\"Paper\\\"\\n\\n    print(\\\"OOPS! Missed one\\\")\";\n",
       "                var nbb_formatted_code = \"def choose_shape(opponent, outcome):\\n    if outcome == \\\"Tie\\\":\\n        return opponent\\n\\n    if opponent == \\\"Rock\\\":\\n        if outcome == \\\"Lose\\\":\\n            return \\\"Scissors\\\"\\n        else:\\n            return \\\"Paper\\\"\\n\\n    if opponent == \\\"Paper\\\":\\n        if outcome == \\\"Win\\\":\\n            return \\\"Scissors\\\"\\n        else:\\n            return \\\"Rock\\\"\\n\\n    if opponent == \\\"Scissors\\\":\\n        if outcome == \\\"Win\\\":\\n            return \\\"Rock\\\"\\n        else:\\n            return \\\"Paper\\\"\\n\\n    print(\\\"OOPS! Missed one\\\")\";\n",
       "                var nbb_cells = Jupyter.notebook.get_cells();\n",
       "                for (var i = 0; i < nbb_cells.length; ++i) {\n",
       "                    if (nbb_cells[i].input_prompt_number == nbb_cell_id) {\n",
       "                        if (nbb_cells[i].get_text() == nbb_unformatted_code) {\n",
       "                             nbb_cells[i].set_text(nbb_formatted_code);\n",
       "                        }\n",
       "                        break;\n",
       "                    }\n",
       "                }\n",
       "            }, 500);\n",
       "            "
      ],
      "text/plain": [
       "<IPython.core.display.Javascript object>"
      ]
     },
     "metadata": {},
     "output_type": "display_data"
    }
   ],
   "source": [
    "def choose_shape(opponent, outcome):\n",
    "    if outcome == \"Tie\":\n",
    "        return opponent\n",
    "\n",
    "    if opponent == \"Rock\":\n",
    "        if outcome == \"Lose\":\n",
    "            return \"Scissors\"\n",
    "        else:\n",
    "            return \"Paper\"\n",
    "\n",
    "    if opponent == \"Paper\":\n",
    "        if outcome == \"Win\":\n",
    "            return \"Scissors\"\n",
    "        else:\n",
    "            return \"Rock\"\n",
    "\n",
    "    if opponent == \"Scissors\":\n",
    "        if outcome == \"Win\":\n",
    "            return \"Rock\"\n",
    "        else:\n",
    "            return \"Paper\"\n",
    "\n",
    "    print(\"OOPS! Missed one\")"
   ]
  },
  {
   "cell_type": "code",
   "execution_count": 51,
   "id": "7267ee88",
   "metadata": {},
   "outputs": [
    {
     "data": {
      "application/javascript": [
       "\n",
       "            setTimeout(function() {\n",
       "                var nbb_cell_id = 51;\n",
       "                var nbb_unformatted_code = \"new_games = [(game[0], choose_shape(*game)) for game in games]\";\n",
       "                var nbb_formatted_code = \"new_games = [(game[0], choose_shape(*game)) for game in games]\";\n",
       "                var nbb_cells = Jupyter.notebook.get_cells();\n",
       "                for (var i = 0; i < nbb_cells.length; ++i) {\n",
       "                    if (nbb_cells[i].input_prompt_number == nbb_cell_id) {\n",
       "                        if (nbb_cells[i].get_text() == nbb_unformatted_code) {\n",
       "                             nbb_cells[i].set_text(nbb_formatted_code);\n",
       "                        }\n",
       "                        break;\n",
       "                    }\n",
       "                }\n",
       "            }, 500);\n",
       "            "
      ],
      "text/plain": [
       "<IPython.core.display.Javascript object>"
      ]
     },
     "metadata": {},
     "output_type": "display_data"
    }
   ],
   "source": [
    "new_games = [(game[0], choose_shape(*game)) for game in games]"
   ]
  },
  {
   "cell_type": "code",
   "execution_count": 52,
   "id": "2a1cd78d",
   "metadata": {},
   "outputs": [
    {
     "data": {
      "text/plain": [
       "[('Rock', 'Rock'), ('Paper', 'Rock'), ('Scissors', 'Rock')]"
      ]
     },
     "execution_count": 52,
     "metadata": {},
     "output_type": "execute_result"
    },
    {
     "data": {
      "application/javascript": [
       "\n",
       "            setTimeout(function() {\n",
       "                var nbb_cell_id = 52;\n",
       "                var nbb_unformatted_code = \"new_games\";\n",
       "                var nbb_formatted_code = \"new_games\";\n",
       "                var nbb_cells = Jupyter.notebook.get_cells();\n",
       "                for (var i = 0; i < nbb_cells.length; ++i) {\n",
       "                    if (nbb_cells[i].input_prompt_number == nbb_cell_id) {\n",
       "                        if (nbb_cells[i].get_text() == nbb_unformatted_code) {\n",
       "                             nbb_cells[i].set_text(nbb_formatted_code);\n",
       "                        }\n",
       "                        break;\n",
       "                    }\n",
       "                }\n",
       "            }, 500);\n",
       "            "
      ],
      "text/plain": [
       "<IPython.core.display.Javascript object>"
      ]
     },
     "metadata": {},
     "output_type": "display_data"
    }
   ],
   "source": [
    "new_games"
   ]
  },
  {
   "cell_type": "code",
   "execution_count": 53,
   "id": "db2f929c",
   "metadata": {},
   "outputs": [
    {
     "data": {
      "text/plain": [
       "12"
      ]
     },
     "execution_count": 53,
     "metadata": {},
     "output_type": "execute_result"
    },
    {
     "data": {
      "application/javascript": [
       "\n",
       "            setTimeout(function() {\n",
       "                var nbb_cell_id = 53;\n",
       "                var nbb_unformatted_code = \"sum([score(*game) for game in new_games])\";\n",
       "                var nbb_formatted_code = \"sum([score(*game) for game in new_games])\";\n",
       "                var nbb_cells = Jupyter.notebook.get_cells();\n",
       "                for (var i = 0; i < nbb_cells.length; ++i) {\n",
       "                    if (nbb_cells[i].input_prompt_number == nbb_cell_id) {\n",
       "                        if (nbb_cells[i].get_text() == nbb_unformatted_code) {\n",
       "                             nbb_cells[i].set_text(nbb_formatted_code);\n",
       "                        }\n",
       "                        break;\n",
       "                    }\n",
       "                }\n",
       "            }, 500);\n",
       "            "
      ],
      "text/plain": [
       "<IPython.core.display.Javascript object>"
      ]
     },
     "metadata": {},
     "output_type": "display_data"
    }
   ],
   "source": [
    "sum([score(*game) for game in new_games])"
   ]
  },
  {
   "cell_type": "code",
   "execution_count": 54,
   "id": "4756708d",
   "metadata": {},
   "outputs": [
    {
     "data": {
      "application/javascript": [
       "\n",
       "            setTimeout(function() {\n",
       "                var nbb_cell_id = 54;\n",
       "                var nbb_unformatted_code = \"coded_games = [x.split() for x in raw_input.strip().split(\\\"\\\\n\\\")]\";\n",
       "                var nbb_formatted_code = \"coded_games = [x.split() for x in raw_input.strip().split(\\\"\\\\n\\\")]\";\n",
       "                var nbb_cells = Jupyter.notebook.get_cells();\n",
       "                for (var i = 0; i < nbb_cells.length; ++i) {\n",
       "                    if (nbb_cells[i].input_prompt_number == nbb_cell_id) {\n",
       "                        if (nbb_cells[i].get_text() == nbb_unformatted_code) {\n",
       "                             nbb_cells[i].set_text(nbb_formatted_code);\n",
       "                        }\n",
       "                        break;\n",
       "                    }\n",
       "                }\n",
       "            }, 500);\n",
       "            "
      ],
      "text/plain": [
       "<IPython.core.display.Javascript object>"
      ]
     },
     "metadata": {},
     "output_type": "display_data"
    }
   ],
   "source": [
    "coded_games = [x.split() for x in raw_input.strip().split(\"\\n\")]"
   ]
  },
  {
   "cell_type": "code",
   "execution_count": 55,
   "id": "ae0c84d0",
   "metadata": {},
   "outputs": [
    {
     "data": {
      "application/javascript": [
       "\n",
       "            setTimeout(function() {\n",
       "                var nbb_cell_id = 55;\n",
       "                var nbb_unformatted_code = \"games = [(encodings[x[0]], encodings[x[1]]) for x in coded_games]\";\n",
       "                var nbb_formatted_code = \"games = [(encodings[x[0]], encodings[x[1]]) for x in coded_games]\";\n",
       "                var nbb_cells = Jupyter.notebook.get_cells();\n",
       "                for (var i = 0; i < nbb_cells.length; ++i) {\n",
       "                    if (nbb_cells[i].input_prompt_number == nbb_cell_id) {\n",
       "                        if (nbb_cells[i].get_text() == nbb_unformatted_code) {\n",
       "                             nbb_cells[i].set_text(nbb_formatted_code);\n",
       "                        }\n",
       "                        break;\n",
       "                    }\n",
       "                }\n",
       "            }, 500);\n",
       "            "
      ],
      "text/plain": [
       "<IPython.core.display.Javascript object>"
      ]
     },
     "metadata": {},
     "output_type": "display_data"
    }
   ],
   "source": [
    "games = [(encodings[x[0]], encodings[x[1]]) for x in coded_games]\n"
   ]
  },
  {
   "cell_type": "code",
   "execution_count": 56,
   "id": "be60bcac",
   "metadata": {},
   "outputs": [
    {
     "data": {
      "application/javascript": [
       "\n",
       "            setTimeout(function() {\n",
       "                var nbb_cell_id = 56;\n",
       "                var nbb_unformatted_code = \"new_games = [(game[0], choose_shape(*game)) for game in games]\";\n",
       "                var nbb_formatted_code = \"new_games = [(game[0], choose_shape(*game)) for game in games]\";\n",
       "                var nbb_cells = Jupyter.notebook.get_cells();\n",
       "                for (var i = 0; i < nbb_cells.length; ++i) {\n",
       "                    if (nbb_cells[i].input_prompt_number == nbb_cell_id) {\n",
       "                        if (nbb_cells[i].get_text() == nbb_unformatted_code) {\n",
       "                             nbb_cells[i].set_text(nbb_formatted_code);\n",
       "                        }\n",
       "                        break;\n",
       "                    }\n",
       "                }\n",
       "            }, 500);\n",
       "            "
      ],
      "text/plain": [
       "<IPython.core.display.Javascript object>"
      ]
     },
     "metadata": {},
     "output_type": "display_data"
    }
   ],
   "source": [
    "new_games = [(game[0], choose_shape(*game)) for game in games]"
   ]
  },
  {
   "cell_type": "code",
   "execution_count": 58,
   "id": "fa1eb6f0",
   "metadata": {},
   "outputs": [
    {
     "data": {
      "text/plain": [
       "14652"
      ]
     },
     "execution_count": 58,
     "metadata": {},
     "output_type": "execute_result"
    },
    {
     "data": {
      "application/javascript": [
       "\n",
       "            setTimeout(function() {\n",
       "                var nbb_cell_id = 58;\n",
       "                var nbb_unformatted_code = \"sum([score(*game) for game in new_games])\";\n",
       "                var nbb_formatted_code = \"sum([score(*game) for game in new_games])\";\n",
       "                var nbb_cells = Jupyter.notebook.get_cells();\n",
       "                for (var i = 0; i < nbb_cells.length; ++i) {\n",
       "                    if (nbb_cells[i].input_prompt_number == nbb_cell_id) {\n",
       "                        if (nbb_cells[i].get_text() == nbb_unformatted_code) {\n",
       "                             nbb_cells[i].set_text(nbb_formatted_code);\n",
       "                        }\n",
       "                        break;\n",
       "                    }\n",
       "                }\n",
       "            }, 500);\n",
       "            "
      ],
      "text/plain": [
       "<IPython.core.display.Javascript object>"
      ]
     },
     "metadata": {},
     "output_type": "display_data"
    }
   ],
   "source": [
    "sum([score(*game) for game in new_games])"
   ]
  },
  {
   "cell_type": "code",
   "execution_count": null,
   "id": "6a53b915",
   "metadata": {},
   "outputs": [],
   "source": []
  },
  {
   "cell_type": "code",
   "execution_count": null,
   "id": "c4b04bc5",
   "metadata": {},
   "outputs": [],
   "source": []
  }
 ],
 "metadata": {
  "kernelspec": {
   "display_name": "Python [conda env:root] *",
   "language": "python",
   "name": "conda-root-py"
  },
  "language_info": {
   "codemirror_mode": {
    "name": "ipython",
    "version": 3
   },
   "file_extension": ".py",
   "mimetype": "text/x-python",
   "name": "python",
   "nbconvert_exporter": "python",
   "pygments_lexer": "ipython3",
   "version": "3.7.4"
  }
 },
 "nbformat": 4,
 "nbformat_minor": 5
}

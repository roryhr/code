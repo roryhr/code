{
 "cells": [
  {
   "cell_type": "markdown",
   "id": "0b39d45f",
   "metadata": {},
   "source": [
    "# Example"
   ]
  },
  {
   "cell_type": "code",
   "execution_count": 1,
   "id": "ab5bac08",
   "metadata": {},
   "outputs": [
    {
     "data": {
      "application/javascript": [
       "\n",
       "            setTimeout(function() {\n",
       "                var nbb_cell_id = 1;\n",
       "                var nbb_unformatted_code = \"%load_ext nb_black\";\n",
       "                var nbb_formatted_code = \"%load_ext nb_black\";\n",
       "                var nbb_cells = Jupyter.notebook.get_cells();\n",
       "                for (var i = 0; i < nbb_cells.length; ++i) {\n",
       "                    if (nbb_cells[i].input_prompt_number == nbb_cell_id) {\n",
       "                        if (nbb_cells[i].get_text() == nbb_unformatted_code) {\n",
       "                             nbb_cells[i].set_text(nbb_formatted_code);\n",
       "                        }\n",
       "                        break;\n",
       "                    }\n",
       "                }\n",
       "            }, 500);\n",
       "            "
      ],
      "text/plain": [
       "<IPython.core.display.Javascript object>"
      ]
     },
     "metadata": {},
     "output_type": "display_data"
    }
   ],
   "source": [
    "%load_ext nb_black"
   ]
  },
  {
   "cell_type": "code",
   "execution_count": 3,
   "id": "9302dcdb",
   "metadata": {},
   "outputs": [
    {
     "data": {
      "application/javascript": [
       "\n",
       "            setTimeout(function() {\n",
       "                var nbb_cell_id = 3;\n",
       "                var nbb_unformatted_code = \"example_input = \\\"\\\"\\\"\\nroot: pppw + sjmn\\ndbpl: 5\\ncczh: sllz + lgvd\\nzczc: 2\\nptdq: humn - dvpt\\ndvpt: 3\\nlfqf: 4\\nhumn: 5\\nljgn: 2\\nsjmn: drzm * dbpl\\nsllz: 4\\npppw: cczh / lfqf\\nlgvd: ljgn * ptdq\\ndrzm: hmdt - zczc\\nhmdt: 32\\n\\\"\\\"\\\"\";\n",
       "                var nbb_formatted_code = \"example_input = \\\"\\\"\\\"\\nroot: pppw + sjmn\\ndbpl: 5\\ncczh: sllz + lgvd\\nzczc: 2\\nptdq: humn - dvpt\\ndvpt: 3\\nlfqf: 4\\nhumn: 5\\nljgn: 2\\nsjmn: drzm * dbpl\\nsllz: 4\\npppw: cczh / lfqf\\nlgvd: ljgn * ptdq\\ndrzm: hmdt - zczc\\nhmdt: 32\\n\\\"\\\"\\\"\";\n",
       "                var nbb_cells = Jupyter.notebook.get_cells();\n",
       "                for (var i = 0; i < nbb_cells.length; ++i) {\n",
       "                    if (nbb_cells[i].input_prompt_number == nbb_cell_id) {\n",
       "                        if (nbb_cells[i].get_text() == nbb_unformatted_code) {\n",
       "                             nbb_cells[i].set_text(nbb_formatted_code);\n",
       "                        }\n",
       "                        break;\n",
       "                    }\n",
       "                }\n",
       "            }, 500);\n",
       "            "
      ],
      "text/plain": [
       "<IPython.core.display.Javascript object>"
      ]
     },
     "metadata": {},
     "output_type": "display_data"
    }
   ],
   "source": [
    "example_input = \"\"\"\n",
    "root: pppw + sjmn\n",
    "dbpl: 5\n",
    "cczh: sllz + lgvd\n",
    "zczc: 2\n",
    "ptdq: humn - dvpt\n",
    "dvpt: 3\n",
    "lfqf: 4\n",
    "humn: 5\n",
    "ljgn: 2\n",
    "sjmn: drzm * dbpl\n",
    "sllz: 4\n",
    "pppw: cczh / lfqf\n",
    "lgvd: ljgn * ptdq\n",
    "drzm: hmdt - zczc\n",
    "hmdt: 32\n",
    "\"\"\""
   ]
  },
  {
   "cell_type": "code",
   "execution_count": 4,
   "id": "bad94041",
   "metadata": {},
   "outputs": [
    {
     "data": {
      "text/plain": [
       "['root: pppw + sjmn',\n",
       " 'dbpl: 5',\n",
       " 'cczh: sllz + lgvd',\n",
       " 'zczc: 2',\n",
       " 'ptdq: humn - dvpt',\n",
       " 'dvpt: 3',\n",
       " 'lfqf: 4',\n",
       " 'humn: 5',\n",
       " 'ljgn: 2',\n",
       " 'sjmn: drzm * dbpl',\n",
       " 'sllz: 4',\n",
       " 'pppw: cczh / lfqf',\n",
       " 'lgvd: ljgn * ptdq',\n",
       " 'drzm: hmdt - zczc',\n",
       " 'hmdt: 32']"
      ]
     },
     "execution_count": 4,
     "metadata": {},
     "output_type": "execute_result"
    },
    {
     "data": {
      "application/javascript": [
       "\n",
       "            setTimeout(function() {\n",
       "                var nbb_cell_id = 4;\n",
       "                var nbb_unformatted_code = \"unsplit = example_input.strip().split(\\\"\\\\n\\\")\\nunsplit\";\n",
       "                var nbb_formatted_code = \"unsplit = example_input.strip().split(\\\"\\\\n\\\")\\nunsplit\";\n",
       "                var nbb_cells = Jupyter.notebook.get_cells();\n",
       "                for (var i = 0; i < nbb_cells.length; ++i) {\n",
       "                    if (nbb_cells[i].input_prompt_number == nbb_cell_id) {\n",
       "                        if (nbb_cells[i].get_text() == nbb_unformatted_code) {\n",
       "                             nbb_cells[i].set_text(nbb_formatted_code);\n",
       "                        }\n",
       "                        break;\n",
       "                    }\n",
       "                }\n",
       "            }, 500);\n",
       "            "
      ],
      "text/plain": [
       "<IPython.core.display.Javascript object>"
      ]
     },
     "metadata": {},
     "output_type": "display_data"
    }
   ],
   "source": [
    "unsplit = example_input.strip().split(\"\\n\")\n",
    "unsplit"
   ]
  },
  {
   "cell_type": "code",
   "execution_count": 8,
   "id": "74765438",
   "metadata": {},
   "outputs": [
    {
     "data": {
      "text/plain": [
       "{'root': 'pppw + sjmn',\n",
       " 'dbpl': '5',\n",
       " 'cczh': 'sllz + lgvd',\n",
       " 'zczc': '2',\n",
       " 'ptdq': 'humn - dvpt',\n",
       " 'dvpt': '3',\n",
       " 'lfqf': '4',\n",
       " 'humn': '5',\n",
       " 'ljgn': '2',\n",
       " 'sjmn': 'drzm * dbpl',\n",
       " 'sllz': '4',\n",
       " 'pppw': 'cczh / lfqf',\n",
       " 'lgvd': 'ljgn * ptdq',\n",
       " 'drzm': 'hmdt - zczc',\n",
       " 'hmdt': '32'}"
      ]
     },
     "execution_count": 8,
     "metadata": {},
     "output_type": "execute_result"
    },
    {
     "data": {
      "application/javascript": [
       "\n",
       "            setTimeout(function() {\n",
       "                var nbb_cell_id = 8;\n",
       "                var nbb_unformatted_code = \"assignments = {x.split(\\\":\\\")[0]: x.split(\\\":\\\")[1].strip() for x in unsplit}\\n\\n\\nassignments\";\n",
       "                var nbb_formatted_code = \"assignments = {x.split(\\\":\\\")[0]: x.split(\\\":\\\")[1].strip() for x in unsplit}\\n\\n\\nassignments\";\n",
       "                var nbb_cells = Jupyter.notebook.get_cells();\n",
       "                for (var i = 0; i < nbb_cells.length; ++i) {\n",
       "                    if (nbb_cells[i].input_prompt_number == nbb_cell_id) {\n",
       "                        if (nbb_cells[i].get_text() == nbb_unformatted_code) {\n",
       "                             nbb_cells[i].set_text(nbb_formatted_code);\n",
       "                        }\n",
       "                        break;\n",
       "                    }\n",
       "                }\n",
       "            }, 500);\n",
       "            "
      ],
      "text/plain": [
       "<IPython.core.display.Javascript object>"
      ]
     },
     "metadata": {},
     "output_type": "display_data"
    }
   ],
   "source": [
    "assignments = {x.split(\":\")[0]: x.split(\":\")[1].strip() for x in unsplit}\n",
    "\n",
    "\n",
    "assignments"
   ]
  },
  {
   "cell_type": "code",
   "execution_count": 31,
   "id": "be7269a3",
   "metadata": {},
   "outputs": [
    {
     "data": {
      "text/plain": [
       "152.0"
      ]
     },
     "execution_count": 31,
     "metadata": {},
     "output_type": "execute_result"
    },
    {
     "data": {
      "application/javascript": [
       "\n",
       "            setTimeout(function() {\n",
       "                var nbb_cell_id = 31;\n",
       "                var nbb_unformatted_code = \"def parse_assignment(a):\\n    try:\\n        return int(a)\\n    except ValueError:\\n        pass\\n\\n    if \\\"+\\\" in a:\\n        l, r = a.split(\\\" + \\\")\\n        return parse_assignment(assignments[l]) + parse_assignment(assignments[r])\\n\\n    if \\\"-\\\" in a:\\n        l, r = a.split(\\\" - \\\")\\n        return parse_assignment(assignments[l]) - parse_assignment(assignments[r])\\n\\n    if \\\"/\\\" in a:\\n        l, r = a.split(\\\" / \\\")\\n        return parse_assignment(assignments[l]) / parse_assignment(assignments[r])\\n\\n    if \\\"*\\\" in a:\\n        l, r = a.split(\\\" * \\\")\\n        return parse_assignment(assignments[l]) * parse_assignment(assignments[r])\\n\\n    print(\\\"Not done yet\\\")\\n\\n\\nparse_assignment(assignments['root'])\";\n",
       "                var nbb_formatted_code = \"def parse_assignment(a):\\n    try:\\n        return int(a)\\n    except ValueError:\\n        pass\\n\\n    if \\\"+\\\" in a:\\n        l, r = a.split(\\\" + \\\")\\n        return parse_assignment(assignments[l]) + parse_assignment(assignments[r])\\n\\n    if \\\"-\\\" in a:\\n        l, r = a.split(\\\" - \\\")\\n        return parse_assignment(assignments[l]) - parse_assignment(assignments[r])\\n\\n    if \\\"/\\\" in a:\\n        l, r = a.split(\\\" / \\\")\\n        return parse_assignment(assignments[l]) / parse_assignment(assignments[r])\\n\\n    if \\\"*\\\" in a:\\n        l, r = a.split(\\\" * \\\")\\n        return parse_assignment(assignments[l]) * parse_assignment(assignments[r])\\n\\n    print(\\\"Not done yet\\\")\\n\\n\\nparse_assignment(assignments[\\\"root\\\"])\";\n",
       "                var nbb_cells = Jupyter.notebook.get_cells();\n",
       "                for (var i = 0; i < nbb_cells.length; ++i) {\n",
       "                    if (nbb_cells[i].input_prompt_number == nbb_cell_id) {\n",
       "                        if (nbb_cells[i].get_text() == nbb_unformatted_code) {\n",
       "                             nbb_cells[i].set_text(nbb_formatted_code);\n",
       "                        }\n",
       "                        break;\n",
       "                    }\n",
       "                }\n",
       "            }, 500);\n",
       "            "
      ],
      "text/plain": [
       "<IPython.core.display.Javascript object>"
      ]
     },
     "metadata": {},
     "output_type": "display_data"
    }
   ],
   "source": [
    "def parse_assignment(a):\n",
    "    try:\n",
    "        return int(a)\n",
    "    except ValueError:\n",
    "        pass\n",
    "\n",
    "    if \"+\" in a:\n",
    "        l, r = a.split(\" + \")\n",
    "        return parse_assignment(assignments[l]) + parse_assignment(assignments[r])\n",
    "\n",
    "    if \"-\" in a:\n",
    "        l, r = a.split(\" - \")\n",
    "        return parse_assignment(assignments[l]) - parse_assignment(assignments[r])\n",
    "\n",
    "    if \"/\" in a:\n",
    "        l, r = a.split(\" / \")\n",
    "        return parse_assignment(assignments[l]) / parse_assignment(assignments[r])\n",
    "\n",
    "    if \"*\" in a:\n",
    "        l, r = a.split(\" * \")\n",
    "        return parse_assignment(assignments[l]) * parse_assignment(assignments[r])\n",
    "\n",
    "    print(\"Not done yet\")\n",
    "\n",
    "\n",
    "parse_assignment(assignments[\"root\"])"
   ]
  },
  {
   "cell_type": "markdown",
   "id": "0a7a9865",
   "metadata": {},
   "source": [
    "# Part 1"
   ]
  },
  {
   "cell_type": "code",
   "execution_count": 32,
   "id": "f8ae32a7",
   "metadata": {},
   "outputs": [
    {
     "data": {
      "application/javascript": [
       "\n",
       "            setTimeout(function() {\n",
       "                var nbb_cell_id = 32;\n",
       "                var nbb_unformatted_code = \"with open(\\\"inputs/21.txt\\\") as f:\\n    raw_puzzle_input = f.read()\";\n",
       "                var nbb_formatted_code = \"with open(\\\"inputs/21.txt\\\") as f:\\n    raw_puzzle_input = f.read()\";\n",
       "                var nbb_cells = Jupyter.notebook.get_cells();\n",
       "                for (var i = 0; i < nbb_cells.length; ++i) {\n",
       "                    if (nbb_cells[i].input_prompt_number == nbb_cell_id) {\n",
       "                        if (nbb_cells[i].get_text() == nbb_unformatted_code) {\n",
       "                             nbb_cells[i].set_text(nbb_formatted_code);\n",
       "                        }\n",
       "                        break;\n",
       "                    }\n",
       "                }\n",
       "            }, 500);\n",
       "            "
      ],
      "text/plain": [
       "<IPython.core.display.Javascript object>"
      ]
     },
     "metadata": {},
     "output_type": "display_data"
    }
   ],
   "source": [
    "with open(\"inputs/21.txt\") as f:\n",
    "    raw_puzzle_input = f.read()"
   ]
  },
  {
   "cell_type": "code",
   "execution_count": 41,
   "id": "b4c102c1",
   "metadata": {},
   "outputs": [
    {
     "data": {
      "application/javascript": [
       "\n",
       "            setTimeout(function() {\n",
       "                var nbb_cell_id = 41;\n",
       "                var nbb_unformatted_code = \"assignments = {\\n    x.split(\\\":\\\")[0]: x.split(\\\":\\\")[1].strip()\\n    for x in raw_puzzle_input.strip().split(\\\"\\\\n\\\")\\n}\";\n",
       "                var nbb_formatted_code = \"assignments = {\\n    x.split(\\\":\\\")[0]: x.split(\\\":\\\")[1].strip()\\n    for x in raw_puzzle_input.strip().split(\\\"\\\\n\\\")\\n}\";\n",
       "                var nbb_cells = Jupyter.notebook.get_cells();\n",
       "                for (var i = 0; i < nbb_cells.length; ++i) {\n",
       "                    if (nbb_cells[i].input_prompt_number == nbb_cell_id) {\n",
       "                        if (nbb_cells[i].get_text() == nbb_unformatted_code) {\n",
       "                             nbb_cells[i].set_text(nbb_formatted_code);\n",
       "                        }\n",
       "                        break;\n",
       "                    }\n",
       "                }\n",
       "            }, 500);\n",
       "            "
      ],
      "text/plain": [
       "<IPython.core.display.Javascript object>"
      ]
     },
     "metadata": {},
     "output_type": "display_data"
    }
   ],
   "source": [
    "assignments = {\n",
    "    x.split(\":\")[0]: x.split(\":\")[1].strip()\n",
    "    for x in raw_puzzle_input.strip().split(\"\\n\")\n",
    "}"
   ]
  },
  {
   "cell_type": "code",
   "execution_count": 42,
   "id": "22440714",
   "metadata": {},
   "outputs": [
    {
     "data": {
      "text/plain": [
       "142707821472432.0"
      ]
     },
     "execution_count": 42,
     "metadata": {},
     "output_type": "execute_result"
    },
    {
     "data": {
      "application/javascript": [
       "\n",
       "            setTimeout(function() {\n",
       "                var nbb_cell_id = 42;\n",
       "                var nbb_unformatted_code = \"parse_assignment(assignments[\\\"root\\\"])\";\n",
       "                var nbb_formatted_code = \"parse_assignment(assignments[\\\"root\\\"])\";\n",
       "                var nbb_cells = Jupyter.notebook.get_cells();\n",
       "                for (var i = 0; i < nbb_cells.length; ++i) {\n",
       "                    if (nbb_cells[i].input_prompt_number == nbb_cell_id) {\n",
       "                        if (nbb_cells[i].get_text() == nbb_unformatted_code) {\n",
       "                             nbb_cells[i].set_text(nbb_formatted_code);\n",
       "                        }\n",
       "                        break;\n",
       "                    }\n",
       "                }\n",
       "            }, 500);\n",
       "            "
      ],
      "text/plain": [
       "<IPython.core.display.Javascript object>"
      ]
     },
     "metadata": {},
     "output_type": "display_data"
    }
   ],
   "source": [
    "parse_assignment(assignments[\"root\"])"
   ]
  },
  {
   "cell_type": "markdown",
   "id": "15159e2f",
   "metadata": {},
   "source": [
    "# Part 2"
   ]
  },
  {
   "cell_type": "code",
   "execution_count": 37,
   "id": "d77ceca6",
   "metadata": {},
   "outputs": [
    {
     "data": {
      "application/javascript": [
       "\n",
       "            setTimeout(function() {\n",
       "                var nbb_cell_id = 37;\n",
       "                var nbb_unformatted_code = \"unsplit = example_input.strip().split(\\\"\\\\n\\\")\";\n",
       "                var nbb_formatted_code = \"unsplit = example_input.strip().split(\\\"\\\\n\\\")\";\n",
       "                var nbb_cells = Jupyter.notebook.get_cells();\n",
       "                for (var i = 0; i < nbb_cells.length; ++i) {\n",
       "                    if (nbb_cells[i].input_prompt_number == nbb_cell_id) {\n",
       "                        if (nbb_cells[i].get_text() == nbb_unformatted_code) {\n",
       "                             nbb_cells[i].set_text(nbb_formatted_code);\n",
       "                        }\n",
       "                        break;\n",
       "                    }\n",
       "                }\n",
       "            }, 500);\n",
       "            "
      ],
      "text/plain": [
       "<IPython.core.display.Javascript object>"
      ]
     },
     "metadata": {},
     "output_type": "display_data"
    }
   ],
   "source": [
    "unsplit = example_input.strip().split(\"\\n\")"
   ]
  },
  {
   "cell_type": "code",
   "execution_count": 38,
   "id": "17b4e100",
   "metadata": {},
   "outputs": [
    {
     "data": {
      "text/plain": [
       "{'root': 'pppw + sjmn',\n",
       " 'dbpl': '5',\n",
       " 'cczh': 'sllz + lgvd',\n",
       " 'zczc': '2',\n",
       " 'ptdq': 'humn - dvpt',\n",
       " 'dvpt': '3',\n",
       " 'lfqf': '4',\n",
       " 'humn': '5',\n",
       " 'ljgn': '2',\n",
       " 'sjmn': 'drzm * dbpl',\n",
       " 'sllz': '4',\n",
       " 'pppw': 'cczh / lfqf',\n",
       " 'lgvd': 'ljgn * ptdq',\n",
       " 'drzm': 'hmdt - zczc',\n",
       " 'hmdt': '32'}"
      ]
     },
     "execution_count": 38,
     "metadata": {},
     "output_type": "execute_result"
    },
    {
     "data": {
      "application/javascript": [
       "\n",
       "            setTimeout(function() {\n",
       "                var nbb_cell_id = 38;\n",
       "                var nbb_unformatted_code = \"assignments = {x.split(\\\":\\\")[0]: x.split(\\\":\\\")[1].strip() for x in unsplit}\\nassignments\";\n",
       "                var nbb_formatted_code = \"assignments = {x.split(\\\":\\\")[0]: x.split(\\\":\\\")[1].strip() for x in unsplit}\\nassignments\";\n",
       "                var nbb_cells = Jupyter.notebook.get_cells();\n",
       "                for (var i = 0; i < nbb_cells.length; ++i) {\n",
       "                    if (nbb_cells[i].input_prompt_number == nbb_cell_id) {\n",
       "                        if (nbb_cells[i].get_text() == nbb_unformatted_code) {\n",
       "                             nbb_cells[i].set_text(nbb_formatted_code);\n",
       "                        }\n",
       "                        break;\n",
       "                    }\n",
       "                }\n",
       "            }, 500);\n",
       "            "
      ],
      "text/plain": [
       "<IPython.core.display.Javascript object>"
      ]
     },
     "metadata": {},
     "output_type": "display_data"
    }
   ],
   "source": [
    "assignments = {x.split(\":\")[0]: x.split(\":\")[1].strip() for x in unsplit}\n",
    "assignments"
   ]
  },
  {
   "cell_type": "code",
   "execution_count": 39,
   "id": "e4c6fe67",
   "metadata": {},
   "outputs": [
    {
     "data": {
      "text/plain": [
       "2.0"
      ]
     },
     "execution_count": 39,
     "metadata": {},
     "output_type": "execute_result"
    },
    {
     "data": {
      "application/javascript": [
       "\n",
       "            setTimeout(function() {\n",
       "                var nbb_cell_id = 39;\n",
       "                var nbb_unformatted_code = \"parse_assignment(assignments[\\\"pppw\\\"])\";\n",
       "                var nbb_formatted_code = \"parse_assignment(assignments[\\\"pppw\\\"])\";\n",
       "                var nbb_cells = Jupyter.notebook.get_cells();\n",
       "                for (var i = 0; i < nbb_cells.length; ++i) {\n",
       "                    if (nbb_cells[i].input_prompt_number == nbb_cell_id) {\n",
       "                        if (nbb_cells[i].get_text() == nbb_unformatted_code) {\n",
       "                             nbb_cells[i].set_text(nbb_formatted_code);\n",
       "                        }\n",
       "                        break;\n",
       "                    }\n",
       "                }\n",
       "            }, 500);\n",
       "            "
      ],
      "text/plain": [
       "<IPython.core.display.Javascript object>"
      ]
     },
     "metadata": {},
     "output_type": "display_data"
    }
   ],
   "source": [
    "parse_assignment(assignments[\"pppw\"])"
   ]
  },
  {
   "cell_type": "code",
   "execution_count": 40,
   "id": "dff557ae",
   "metadata": {},
   "outputs": [
    {
     "data": {
      "text/plain": [
       "150"
      ]
     },
     "execution_count": 40,
     "metadata": {},
     "output_type": "execute_result"
    },
    {
     "data": {
      "application/javascript": [
       "\n",
       "            setTimeout(function() {\n",
       "                var nbb_cell_id = 40;\n",
       "                var nbb_unformatted_code = \"parse_assignment(assignments[\\\"sjmn\\\"])\";\n",
       "                var nbb_formatted_code = \"parse_assignment(assignments[\\\"sjmn\\\"])\";\n",
       "                var nbb_cells = Jupyter.notebook.get_cells();\n",
       "                for (var i = 0; i < nbb_cells.length; ++i) {\n",
       "                    if (nbb_cells[i].input_prompt_number == nbb_cell_id) {\n",
       "                        if (nbb_cells[i].get_text() == nbb_unformatted_code) {\n",
       "                             nbb_cells[i].set_text(nbb_formatted_code);\n",
       "                        }\n",
       "                        break;\n",
       "                    }\n",
       "                }\n",
       "            }, 500);\n",
       "            "
      ],
      "text/plain": [
       "<IPython.core.display.Javascript object>"
      ]
     },
     "metadata": {},
     "output_type": "display_data"
    }
   ],
   "source": [
    "parse_assignment(assignments[\"sjmn\"])"
   ]
  },
  {
   "cell_type": "code",
   "execution_count": 44,
   "id": "437e6263",
   "metadata": {},
   "outputs": [
    {
     "data": {
      "text/plain": [
       "'726'"
      ]
     },
     "execution_count": 44,
     "metadata": {},
     "output_type": "execute_result"
    },
    {
     "data": {
      "application/javascript": [
       "\n",
       "            setTimeout(function() {\n",
       "                var nbb_cell_id = 44;\n",
       "                var nbb_unformatted_code = \"assignments[\\\"humn\\\"]\";\n",
       "                var nbb_formatted_code = \"assignments[\\\"humn\\\"]\";\n",
       "                var nbb_cells = Jupyter.notebook.get_cells();\n",
       "                for (var i = 0; i < nbb_cells.length; ++i) {\n",
       "                    if (nbb_cells[i].input_prompt_number == nbb_cell_id) {\n",
       "                        if (nbb_cells[i].get_text() == nbb_unformatted_code) {\n",
       "                             nbb_cells[i].set_text(nbb_formatted_code);\n",
       "                        }\n",
       "                        break;\n",
       "                    }\n",
       "                }\n",
       "            }, 500);\n",
       "            "
      ],
      "text/plain": [
       "<IPython.core.display.Javascript object>"
      ]
     },
     "metadata": {},
     "output_type": "display_data"
    }
   ],
   "source": [
    "assignments[\"humn\"]"
   ]
  },
  {
   "cell_type": "code",
   "execution_count": 45,
   "id": "aaefc65a",
   "metadata": {},
   "outputs": [
    {
     "data": {
      "text/plain": [
       "'fglq + fzbp'"
      ]
     },
     "execution_count": 45,
     "metadata": {},
     "output_type": "execute_result"
    },
    {
     "data": {
      "application/javascript": [
       "\n",
       "            setTimeout(function() {\n",
       "                var nbb_cell_id = 45;\n",
       "                var nbb_unformatted_code = \"assignments[\\\"root\\\"]\";\n",
       "                var nbb_formatted_code = \"assignments[\\\"root\\\"]\";\n",
       "                var nbb_cells = Jupyter.notebook.get_cells();\n",
       "                for (var i = 0; i < nbb_cells.length; ++i) {\n",
       "                    if (nbb_cells[i].input_prompt_number == nbb_cell_id) {\n",
       "                        if (nbb_cells[i].get_text() == nbb_unformatted_code) {\n",
       "                             nbb_cells[i].set_text(nbb_formatted_code);\n",
       "                        }\n",
       "                        break;\n",
       "                    }\n",
       "                }\n",
       "            }, 500);\n",
       "            "
      ],
      "text/plain": [
       "<IPython.core.display.Javascript object>"
      ]
     },
     "metadata": {},
     "output_type": "display_data"
    }
   ],
   "source": [
    "assignments[\"root\"]"
   ]
  },
  {
   "cell_type": "code",
   "execution_count": 96,
   "id": "7c9b5782",
   "metadata": {},
   "outputs": [
    {
     "data": {
      "application/javascript": [
       "\n",
       "            setTimeout(function() {\n",
       "                var nbb_cell_id = 96;\n",
       "                var nbb_unformatted_code = \"from scipy.optimize import newton\";\n",
       "                var nbb_formatted_code = \"from scipy.optimize import newton\";\n",
       "                var nbb_cells = Jupyter.notebook.get_cells();\n",
       "                for (var i = 0; i < nbb_cells.length; ++i) {\n",
       "                    if (nbb_cells[i].input_prompt_number == nbb_cell_id) {\n",
       "                        if (nbb_cells[i].get_text() == nbb_unformatted_code) {\n",
       "                             nbb_cells[i].set_text(nbb_formatted_code);\n",
       "                        }\n",
       "                        break;\n",
       "                    }\n",
       "                }\n",
       "            }, 500);\n",
       "            "
      ],
      "text/plain": [
       "<IPython.core.display.Javascript object>"
      ]
     },
     "metadata": {},
     "output_type": "display_data"
    }
   ],
   "source": [
    "from scipy.optimize import newton"
   ]
  },
  {
   "cell_type": "code",
   "execution_count": 106,
   "id": "8989f980",
   "metadata": {},
   "outputs": [
    {
     "data": {
      "application/javascript": [
       "\n",
       "            setTimeout(function() {\n",
       "                var nbb_cell_id = 106;\n",
       "                var nbb_unformatted_code = \"def zero_me_please(number):\\n    assignments[\\\"humn\\\"] = str(round(number))\\n    return parse_assignment(assignments[\\\"fglq\\\"]) - parse_assignment(assignments[\\\"fzbp\\\"])\";\n",
       "                var nbb_formatted_code = \"def zero_me_please(number):\\n    assignments[\\\"humn\\\"] = str(round(number))\\n    return parse_assignment(assignments[\\\"fglq\\\"]) - parse_assignment(assignments[\\\"fzbp\\\"])\";\n",
       "                var nbb_cells = Jupyter.notebook.get_cells();\n",
       "                for (var i = 0; i < nbb_cells.length; ++i) {\n",
       "                    if (nbb_cells[i].input_prompt_number == nbb_cell_id) {\n",
       "                        if (nbb_cells[i].get_text() == nbb_unformatted_code) {\n",
       "                             nbb_cells[i].set_text(nbb_formatted_code);\n",
       "                        }\n",
       "                        break;\n",
       "                    }\n",
       "                }\n",
       "            }, 500);\n",
       "            "
      ],
      "text/plain": [
       "<IPython.core.display.Javascript object>"
      ]
     },
     "metadata": {},
     "output_type": "display_data"
    }
   ],
   "source": [
    "def zero_me_please(number):\n",
    "    assignments[\"humn\"] = str(round(number))\n",
    "    return parse_assignment(assignments[\"fglq\"]) - parse_assignment(assignments[\"fzbp\"])"
   ]
  },
  {
   "cell_type": "code",
   "execution_count": 107,
   "id": "28a4dc5f",
   "metadata": {},
   "outputs": [
    {
     "data": {
      "text/plain": [
       "3587647562850.9995"
      ]
     },
     "execution_count": 107,
     "metadata": {},
     "output_type": "execute_result"
    },
    {
     "data": {
      "application/javascript": [
       "\n",
       "            setTimeout(function() {\n",
       "                var nbb_cell_id = 107;\n",
       "                var nbb_unformatted_code = \"newton(zero_me_please, x0=2000000000000, x1=4000000000000)\";\n",
       "                var nbb_formatted_code = \"newton(zero_me_please, x0=2000000000000, x1=4000000000000)\";\n",
       "                var nbb_cells = Jupyter.notebook.get_cells();\n",
       "                for (var i = 0; i < nbb_cells.length; ++i) {\n",
       "                    if (nbb_cells[i].input_prompt_number == nbb_cell_id) {\n",
       "                        if (nbb_cells[i].get_text() == nbb_unformatted_code) {\n",
       "                             nbb_cells[i].set_text(nbb_formatted_code);\n",
       "                        }\n",
       "                        break;\n",
       "                    }\n",
       "                }\n",
       "            }, 500);\n",
       "            "
      ],
      "text/plain": [
       "<IPython.core.display.Javascript object>"
      ]
     },
     "metadata": {},
     "output_type": "display_data"
    }
   ],
   "source": [
    "newton(zero_me_please, x0=2000000000000, x1=4000000000000)"
   ]
  },
  {
   "cell_type": "code",
   "execution_count": null,
   "id": "b2434361",
   "metadata": {},
   "outputs": [],
   "source": []
  }
 ],
 "metadata": {
  "kernelspec": {
   "display_name": "Python [conda env:root] *",
   "language": "python",
   "name": "conda-root-py"
  },
  "language_info": {
   "codemirror_mode": {
    "name": "ipython",
    "version": 3
   },
   "file_extension": ".py",
   "mimetype": "text/x-python",
   "name": "python",
   "nbconvert_exporter": "python",
   "pygments_lexer": "ipython3",
   "version": "3.7.4"
  }
 },
 "nbformat": 4,
 "nbformat_minor": 5
}

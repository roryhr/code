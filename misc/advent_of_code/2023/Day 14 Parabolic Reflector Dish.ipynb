{
 "cells": [
  {
   "cell_type": "code",
   "execution_count": 50,
   "metadata": {
    "collapsed": true
   },
   "outputs": [],
   "source": [
    "puzzle_input = \"\"\"\n",
    "O....#....\n",
    "O.OO#....#\n",
    ".....##...\n",
    "OO.#O....O\n",
    ".O.....O#.\n",
    "O.#..O.#.#\n",
    "..O..#O..O\n",
    ".......O..\n",
    "#....###..\n",
    "#OO..#....\n",
    "\"\"\""
   ]
  },
  {
   "cell_type": "code",
   "execution_count": 51,
   "metadata": {},
   "outputs": [],
   "source": [
    "split = puzzle_input.strip().split(\"\\n\")\n",
    "# split"
   ]
  },
  {
   "cell_type": "code",
   "execution_count": 52,
   "metadata": {},
   "outputs": [
    {
     "data": {
      "text/plain": [
       "[['O', 'O', '.', 'O', '.', 'O', '.', '.', '#', '#'],\n",
       " ['.', '.', '.', 'O', 'O', '.', '.', '.', '.', 'O'],\n",
       " ['.', 'O', '.', '.', '.', '#', 'O', '.', '.', 'O'],\n",
       " ['.', 'O', '.', '#', '.', '.', '.', '.', '.', '.'],\n",
       " ['.', '#', '.', 'O', '.', '.', '.', '.', '.', '.'],\n",
       " ['#', '.', '#', '.', '.', 'O', '#', '.', '#', '#'],\n",
       " ['.', '.', '#', '.', '.', '.', 'O', '.', '#', '.'],\n",
       " ['.', '.', '.', '.', 'O', '#', '.', 'O', '#', '.'],\n",
       " ['.', '.', '.', '.', '#', '.', '.', '.', '.', '.'],\n",
       " ['.', '#', '.', 'O', '.', '#', 'O', '.', '.', '.']]"
      ]
     },
     "execution_count": 52,
     "metadata": {},
     "output_type": "execute_result"
    }
   ],
   "source": [
    "# Rotated so N/S is left/right\n",
    "\n",
    "grid = [[split[i][s] for i in range(len(split))] for s in range(len(split))]\n",
    "grid"
   ]
  },
  {
   "cell_type": "code",
   "execution_count": 53,
   "metadata": {},
   "outputs": [
    {
     "data": {
      "text/plain": [
       "['O', 'O', 'O', 'O', '.', '.', '.', '.', '#', '#']"
      ]
     },
     "execution_count": 53,
     "metadata": {},
     "output_type": "execute_result"
    }
   ],
   "source": [
    "def tilt(row):\n",
    "#     move everything towards 0\n",
    "    swap_count = 1\n",
    "    while swap_count > 0:\n",
    "#         print(swap_count)\n",
    "        \n",
    "        swap_count = 0\n",
    "        for i, r in enumerate(row[:-1]):\n",
    "            if (r == '.') and (row[i+1] == 'O'):\n",
    "#                 print(r, i)\n",
    "                # swap\n",
    "                row[i], row[i+1] = row[i+1], row[i]\n",
    "                swap_count += 1\n",
    "    return row\n",
    "  \n",
    "    \n",
    "tilt(['O', 'O', '.', 'O', '.', 'O', '.', '.', '#', '#'])"
   ]
  },
  {
   "cell_type": "code",
   "execution_count": 54,
   "metadata": {},
   "outputs": [
    {
     "data": {
      "text/plain": [
       "[['O', 'O', 'O', 'O', '.', '.', '.', '.', '#', '#'],\n",
       " ['O', 'O', 'O', '.', '.', '.', '.', '.', '.', '.'],\n",
       " ['O', '.', '.', '.', '.', '#', 'O', 'O', '.', '.'],\n",
       " ['O', '.', '.', '#', '.', '.', '.', '.', '.', '.'],\n",
       " ['.', '#', 'O', '.', '.', '.', '.', '.', '.', '.'],\n",
       " ['#', '.', '#', 'O', '.', '.', '#', '.', '#', '#'],\n",
       " ['.', '.', '#', 'O', '.', '.', '.', '.', '#', '.'],\n",
       " ['O', '.', '.', '.', '.', '#', 'O', '.', '#', '.'],\n",
       " ['.', '.', '.', '.', '#', '.', '.', '.', '.', '.'],\n",
       " ['.', '#', 'O', '.', '.', '#', 'O', '.', '.', '.']]"
      ]
     },
     "execution_count": 54,
     "metadata": {},
     "output_type": "execute_result"
    }
   ],
   "source": [
    "tilted = [tilt(r) for r in grid]\n",
    "tilted"
   ]
  },
  {
   "cell_type": "code",
   "execution_count": null,
   "metadata": {},
   "outputs": [],
   "source": []
  },
  {
   "cell_type": "code",
   "execution_count": 55,
   "metadata": {},
   "outputs": [
    {
     "data": {
      "text/plain": [
       "136"
      ]
     },
     "execution_count": 55,
     "metadata": {},
     "output_type": "execute_result"
    }
   ],
   "source": [
    "def load(grid):\n",
    "    result = []\n",
    "    \n",
    "    for row in grid:\n",
    "        block_sum = sum([i + 1 if r == 'O' else 0 for i, r in enumerate(reversed(row))])\n",
    "        result.append(block_sum)\n",
    "    return result\n",
    "\n",
    "sum(load(tilted))"
   ]
  },
  {
   "cell_type": "markdown",
   "metadata": {},
   "source": [
    "# Part 1"
   ]
  },
  {
   "cell_type": "code",
   "execution_count": 44,
   "metadata": {
    "collapsed": true
   },
   "outputs": [],
   "source": [
    "with open(\"inputs/14.txt\") as f:\n",
    "    puzzle_input = f.read()"
   ]
  },
  {
   "cell_type": "markdown",
   "metadata": {},
   "source": [
    "# Part 2"
   ]
  },
  {
   "cell_type": "code",
   "execution_count": null,
   "metadata": {
    "collapsed": true
   },
   "outputs": [],
   "source": []
  },
  {
   "cell_type": "code",
   "execution_count": null,
   "metadata": {
    "collapsed": true
   },
   "outputs": [],
   "source": []
  },
  {
   "cell_type": "code",
   "execution_count": null,
   "metadata": {
    "collapsed": true
   },
   "outputs": [],
   "source": []
  }
 ],
 "metadata": {
  "kernelspec": {
   "display_name": "Python [conda env:py39]",
   "language": "python",
   "name": "conda-env-py39-py"
  },
  "language_info": {
   "codemirror_mode": {
    "name": "ipython",
    "version": 3
   },
   "file_extension": ".py",
   "mimetype": "text/x-python",
   "name": "python",
   "nbconvert_exporter": "python",
   "pygments_lexer": "ipython3",
   "version": "3.9.18"
  }
 },
 "nbformat": 4,
 "nbformat_minor": 5
}

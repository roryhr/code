{
 "cells": [
  {
   "cell_type": "markdown",
   "id": "0b39d45f",
   "metadata": {},
   "source": [
    "--- Day 5: If You Give A Seed A Fertilizer ---\n",
    "\n",
    "You take the boat and find the gardener right where you were told he would be: managing a giant \"garden\" that looks more to you like a farm.\n",
    "\n",
    "\"A water source? Island Island is the water source!\" You point out that Snow Island isn't receiving any water.\n",
    "\n",
    "\"Oh, we had to stop the water because we ran out of sand to filter it with! Can't make snow with dirty water. Don't worry, I'm sure we'll get more sand soon; we only turned off the water a few days... weeks... oh no.\" His face sinks into a look of horrified realization.\n",
    "\n",
    "\"I've been so busy making sure everyone here has food that I completely forgot to check why we stopped getting more sand! There's a ferry leaving soon that is headed over in that direction - it's much faster than your boat. Could you please go check it out?\"\n",
    "\n",
    "You barely have time to agree to this request when he brings up another. \"While you wait for the ferry, maybe you can help us with our food production problem. The latest Island Island Almanac just arrived and we're having trouble making sense of it.\"\n",
    "\n",
    "The almanac (your puzzle input) lists all of the seeds that need to be planted. It also lists what type of soil to use with each kind of seed, what type of fertilizer to use with each kind of soil, what type of water to use with each kind of fertilizer, and so on. Every type of seed, soil, fertilizer and so on is identified with a number, but numbers are reused by each category - that is, soil 123 and fertilizer 123 aren't necessarily related to each other.\n",
    "\n",
    "For example:\n",
    "\n",
    "```\n",
    "seeds: 79 14 55 13\n",
    "\n",
    "seed-to-soil map:\n",
    "50 98 2\n",
    "52 50 48\n",
    "\n",
    "soil-to-fertilizer map:\n",
    "0 15 37\n",
    "37 52 2\n",
    "39 0 15\n",
    "\n",
    "fertilizer-to-water map:\n",
    "49 53 8\n",
    "0 11 42\n",
    "42 0 7\n",
    "57 7 4\n",
    "\n",
    "water-to-light map:\n",
    "88 18 7\n",
    "18 25 70\n",
    "\n",
    "light-to-temperature map:\n",
    "45 77 23\n",
    "81 45 19\n",
    "68 64 13\n",
    "\n",
    "temperature-to-humidity map:\n",
    "0 69 1\n",
    "1 0 69\n",
    "\n",
    "humidity-to-location map:\n",
    "60 56 37\n",
    "56 93 4\n",
    "```\n",
    "\n",
    "The almanac starts by listing which seeds need to be planted: seeds 79, 14, 55, and 13.\n",
    "\n",
    "The rest of the almanac contains a list of maps which describe how to convert numbers from a source category into numbers in a destination category. That is, the section that starts with seed-to-soil map: describes how to convert a seed number (the source) to a soil number (the destination). This lets the gardener and his team know which soil to use with which seeds, which water to use with which fertilizer, and so on.\n",
    "\n",
    "Rather than list every source number and its corresponding destination number one by one, the maps describe entire ranges of numbers that can be converted. Each line within a map contains three numbers: the destination range start, the source range start, and the range length.\n",
    "\n",
    "Consider again the example seed-to-soil map:\n",
    "\n",
    "```\n",
    "50 98 2\n",
    "52 50 48\n",
    "```\n",
    "\n",
    "The first line has a destination range start of 50, a source range start of 98, and a range length of 2. This line means that the source range starts at 98 and contains two values: 98 and 99. The destination range is the same length, but it starts at 50, so its two values are 50 and 51. With this information, you know that seed number 98 corresponds to soil number 50 and that seed number 99 corresponds to soil number 51.\n",
    "\n",
    "The second line means that the source range starts at 50 and contains 48 values: 50, 51, ..., 96, 97. This corresponds to a destination range starting at 52 and also containing 48 values: 52, 53, ..., 98, 99. So, seed number 53 corresponds to soil number 55.\n",
    "\n",
    "Any source numbers that aren't mapped correspond to the same destination number. So, seed number 10 corresponds to soil number 10.\n",
    "\n",
    "So, the entire list of seed numbers and their corresponding soil numbers looks like this:\n",
    "\n",
    "```\n",
    "seed  soil\n",
    "0     0\n",
    "1     1\n",
    "...   ...\n",
    "48    48\n",
    "49    49\n",
    "50    52\n",
    "51    53\n",
    "...   ...\n",
    "96    98\n",
    "97    99\n",
    "98    50\n",
    "99    51\n",
    "```\n",
    "\n",
    "\n",
    "With this map, you can look up the soil number required for each initial seed number:\n",
    "\n",
    "    Seed number 79 corresponds to soil number 81.\n",
    "    Seed number 14 corresponds to soil number 14.\n",
    "    Seed number 55 corresponds to soil number 57.\n",
    "    Seed number 13 corresponds to soil number 13.\n",
    "\n",
    "The gardener and his team want to get started as soon as possible, so they'd like to know the closest location that needs a seed. Using these maps, find the lowest location number that corresponds to any of the initial seeds. To do this, you'll need to convert each seed number through other categories until you can find its corresponding location number. In this example, the corresponding types are:\n",
    "\n",
    "    Seed 79, soil 81, fertilizer 81, water 81, light 74, temperature 78, humidity 78, location 82.\n",
    "    Seed 14, soil 14, fertilizer 53, water 49, light 42, temperature 42, humidity 43, location 43.\n",
    "    Seed 55, soil 57, fertilizer 57, water 53, light 46, temperature 82, humidity 82, location 86.\n",
    "    Seed 13, soil 13, fertilizer 52, water 41, light 34, temperature 34, humidity 35, location 35.\n",
    "\n",
    "So, the lowest location number in this example is 35.\n",
    "\n",
    "What is the lowest location number that corresponds to any of the initial seed numbers?\n"
   ]
  },
  {
   "cell_type": "code",
   "execution_count": 1,
   "id": "03fdf974",
   "metadata": {},
   "outputs": [],
   "source": [
    "puzzle_input = \"\"\"\n",
    "seeds: 79 14 55 13\n",
    "\n",
    "seed-to-soil map:\n",
    "50 98 2\n",
    "52 50 48\n",
    "\n",
    "soil-to-fertilizer map:\n",
    "0 15 37\n",
    "37 52 2\n",
    "39 0 15\n",
    "\n",
    "fertilizer-to-water map:\n",
    "49 53 8\n",
    "0 11 42\n",
    "42 0 7\n",
    "57 7 4\n",
    "\n",
    "water-to-light map:\n",
    "88 18 7\n",
    "18 25 70\n",
    "\n",
    "light-to-temperature map:\n",
    "45 77 23\n",
    "81 45 19\n",
    "68 64 13\n",
    "\n",
    "temperature-to-humidity map:\n",
    "0 69 1\n",
    "1 0 69\n",
    "\n",
    "humidity-to-location map:\n",
    "60 56 37\n",
    "56 93 4\n",
    "\"\"\""
   ]
  },
  {
   "cell_type": "code",
   "execution_count": 2,
   "id": "42d1ee26",
   "metadata": {},
   "outputs": [
    {
     "data": {
      "text/plain": [
       "[79, 14, 55, 13]"
      ]
     },
     "execution_count": 2,
     "metadata": {},
     "output_type": "execute_result"
    }
   ],
   "source": [
    "def create_seeds(inp):\n",
    "    strs = inp.strip().split(\" \")\n",
    "\n",
    "    nums = [int(x) for x in strs[1:]]\n",
    "    return nums\n",
    "\n",
    "\n",
    "create_seeds(\n",
    "    \"\"\"seeds: 79 14 55 13\n",
    "\"\"\"\n",
    ")"
   ]
  },
  {
   "cell_type": "code",
   "execution_count": 3,
   "id": "198102f8",
   "metadata": {},
   "outputs": [],
   "source": [
    "def create_map(map_inp):\n",
    "    if not map_inp:\n",
    "        return\n",
    "\n",
    "    seed_map = []\n",
    "\n",
    "    for line in map_inp.strip().split(\"\\n\"):\n",
    "        #         print(line)\n",
    "        if \"map\" in line:\n",
    "            continue\n",
    "\n",
    "        [destination, source, range_] = [int(x) for x in line.split(\" \")]\n",
    "        seed_map.append((destination, source, range_))\n",
    "\n",
    "    return seed_map"
   ]
  },
  {
   "cell_type": "code",
   "execution_count": 4,
   "id": "e9daaac5",
   "metadata": {},
   "outputs": [],
   "source": [
    "maps = []\n",
    "\n",
    "for l in puzzle_input.strip().split(\"\\n\\n\"):\n",
    "    if \"seeds:\" in l:\n",
    "        seeds = create_seeds(l)\n",
    "        continue\n",
    "\n",
    "    if len(l) > 1:\n",
    "        maps.append(create_map(l))"
   ]
  },
  {
   "cell_type": "code",
   "execution_count": 5,
   "id": "3dbc46fd",
   "metadata": {},
   "outputs": [
    {
     "data": {
      "text/plain": [
       "[82, 43, 86, 35]"
      ]
     },
     "execution_count": 5,
     "metadata": {},
     "output_type": "execute_result"
    }
   ],
   "source": [
    "results = []\n",
    "\n",
    "for s in seeds:\n",
    "    temp = s\n",
    "    for m in maps:\n",
    "        for destination, source, ran in m:\n",
    "            if source <= temp <= (source + ran):\n",
    "                temp = temp + destination - source\n",
    "                break\n",
    "\n",
    "    results.append(temp)\n",
    "\n",
    "results"
   ]
  },
  {
   "cell_type": "code",
   "execution_count": 6,
   "id": "292af30c",
   "metadata": {},
   "outputs": [
    {
     "data": {
      "text/plain": [
       "35"
      ]
     },
     "execution_count": 6,
     "metadata": {},
     "output_type": "execute_result"
    }
   ],
   "source": [
    "min(results)"
   ]
  },
  {
   "cell_type": "markdown",
   "id": "0a7a9865",
   "metadata": {},
   "source": [
    "# Part 1"
   ]
  },
  {
   "cell_type": "code",
   "execution_count": 7,
   "id": "f8ae32a7",
   "metadata": {},
   "outputs": [],
   "source": [
    "# with open(\"inputs/5.txt\") as f:\n",
    "#     puzzle_input = f.read()"
   ]
  },
  {
   "cell_type": "markdown",
   "id": "15159e2f",
   "metadata": {},
   "source": [
    "# Part 2\n"
   ]
  },
  {
   "cell_type": "code",
   "execution_count": 8,
   "id": "582df55a",
   "metadata": {},
   "outputs": [],
   "source": [
    "def pairwise(iterable):\n",
    "    \"s -> (s0, s1), (s2, s3), (s4, s5), ...\"\n",
    "    a = iter(iterable)\n",
    "    return zip(a, a)"
   ]
  },
  {
   "cell_type": "code",
   "execution_count": 9,
   "id": "4d3af49c",
   "metadata": {},
   "outputs": [],
   "source": [
    "new_seeds = []\n",
    "for seed, ran in pairwise(seeds):\n",
    "    new_seeds += list(range(seed, seed + ran))"
   ]
  },
  {
   "cell_type": "code",
   "execution_count": 10,
   "id": "00bc265a",
   "metadata": {},
   "outputs": [
    {
     "data": {
      "text/plain": [
       "46"
      ]
     },
     "execution_count": 10,
     "metadata": {},
     "output_type": "execute_result"
    }
   ],
   "source": [
    "results = []\n",
    "\n",
    "for s in new_seeds:\n",
    "    temp = s\n",
    "    for m in maps:\n",
    "        for destination, source, ran in m:\n",
    "            if source <= temp <= (source + ran):\n",
    "                temp = temp + destination - source\n",
    "                break\n",
    "\n",
    "    results.append(temp)\n",
    "\n",
    "min(results)"
   ]
  },
  {
   "cell_type": "markdown",
   "id": "7bf4af64",
   "metadata": {},
   "source": [
    "# Part 2 Redo\n",
    "\n",
    "The approach above is too slow to finish. Need to redo this, shamelessly stolen. "
   ]
  },
  {
   "cell_type": "code",
   "execution_count": 11,
   "id": "51d2a1b2",
   "metadata": {},
   "outputs": [],
   "source": [
    "from functools import reduce\n",
    "\n",
    "# seeds, *mappings = open(\"inputs/5.txt\").read().split('\\n\\n')\n",
    "seeds, *mappings = puzzle_input.strip().split(\"\\n\\n\")\n",
    "seeds = list(map(int, seeds.split()[1:]))"
   ]
  },
  {
   "cell_type": "code",
   "execution_count": 12,
   "id": "7b49be14",
   "metadata": {},
   "outputs": [
    {
     "data": {
      "text/plain": [
       "[79, 14, 55, 13]"
      ]
     },
     "execution_count": 12,
     "metadata": {},
     "output_type": "execute_result"
    }
   ],
   "source": [
    "seeds"
   ]
  },
  {
   "cell_type": "code",
   "execution_count": 32,
   "id": "27f76cf0",
   "metadata": {},
   "outputs": [
    {
     "data": {
      "text/plain": [
       "[(82, 3), (46, 11), (86, 4), (94, 3), (56, 4), (97, 2)]"
      ]
     },
     "execution_count": 32,
     "metadata": {},
     "output_type": "execute_result"
    }
   ],
   "source": [
    "def lookup(inputs, mapping):\n",
    "    for start, length in inputs:\n",
    "        while length > 0:\n",
    "            for m in mapping.split(\"\\n\")[1:]:\n",
    "                dst, src, range_ = map(int, m.split())\n",
    "                delta = start - src\n",
    "                if delta in range(range_):\n",
    "                    range_ = min(range_ - delta, length)\n",
    "                    yield (dst + delta, range_)\n",
    "                    start += range_\n",
    "                    length -= range_\n",
    "                    break\n",
    "            else:\n",
    "                yield (start, length)\n",
    "                break\n",
    "\n",
    "\n",
    "list(reduce(lookup, mappings, zip(seeds[0::2], seeds[1::2])))"
   ]
  },
  {
   "cell_type": "code",
   "execution_count": 33,
   "id": "a5ff3fff",
   "metadata": {},
   "outputs": [
    {
     "data": {
      "text/plain": [
       "(46, 11)"
      ]
     },
     "execution_count": 33,
     "metadata": {},
     "output_type": "execute_result"
    }
   ],
   "source": [
    "min(_)"
   ]
  },
  {
   "cell_type": "code",
   "execution_count": null,
   "id": "eeb8eb76",
   "metadata": {},
   "outputs": [],
   "source": []
  }
 ],
 "metadata": {
  "kernelspec": {
   "display_name": "Python [conda env:dspy311]",
   "language": "python",
   "name": "conda-env-dspy311-py"
  },
  "language_info": {
   "codemirror_mode": {
    "name": "ipython",
    "version": 3
   },
   "file_extension": ".py",
   "mimetype": "text/x-python",
   "name": "python",
   "nbconvert_exporter": "python",
   "pygments_lexer": "ipython3",
   "version": "3.11.4"
  }
 },
 "nbformat": 4,
 "nbformat_minor": 5
}

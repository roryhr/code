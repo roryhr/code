{
 "cells": [
  {
   "cell_type": "code",
   "execution_count": 65,
   "metadata": {
    "collapsed": true
   },
   "outputs": [],
   "source": [
    "puzzle_input = \"\"\"\n",
    "Card 1: 41 48 83 86 17 | 83 86  6 31 17  9 48 53\n",
    "Card 2: 13 32 20 16 61 | 61 30 68 82 17 32 24 19\n",
    "Card 3:  1 21 53 59 44 | 69 82 63 72 16 21 14  1\n",
    "Card 4: 41 92 73 84 69 | 59 84 76 51 58  5 54 83\n",
    "Card 5: 87 83 26 28 32 | 88 30 70 12 93 22 82 36\n",
    "Card 6: 31 18 13 56 72 | 74 77 10 23 35 67 36 11\n",
    "\"\"\""
   ]
  },
  {
   "cell_type": "code",
   "execution_count": 66,
   "metadata": {},
   "outputs": [
    {
     "data": {
      "text/plain": [
       "['Card 1: 41 48 83 86 17 | 83 86  6 31 17  9 48 53',\n",
       " 'Card 2: 13 32 20 16 61 | 61 30 68 82 17 32 24 19',\n",
       " 'Card 3:  1 21 53 59 44 | 69 82 63 72 16 21 14  1',\n",
       " 'Card 4: 41 92 73 84 69 | 59 84 76 51 58  5 54 83',\n",
       " 'Card 5: 87 83 26 28 32 | 88 30 70 12 93 22 82 36',\n",
       " 'Card 6: 31 18 13 56 72 | 74 77 10 23 35 67 36 11']"
      ]
     },
     "execution_count": 66,
     "metadata": {},
     "output_type": "execute_result"
    }
   ],
   "source": [
    "cards_str = puzzle_input.strip().splitlines()\n",
    "cards_str"
   ]
  },
  {
   "cell_type": "code",
   "execution_count": 68,
   "metadata": {},
   "outputs": [
    {
     "data": {
      "text/plain": [
       "([41, 48, 83, 86, 17], [83, 86, 6, 31, 17, 9, 48, 53])"
      ]
     },
     "execution_count": 68,
     "metadata": {},
     "output_type": "execute_result"
    }
   ],
   "source": [
    "def parse_card(inp):\n",
    "    [winning, hand] = inp.strip().split(\"|\")\n",
    "    [_n, winning] = winning.split(\":\")\n",
    "    #     print(winning)\n",
    "    winning = [int(x) for x in winning.strip().split(\" \") if x]\n",
    "    hand = [int(x) for x in hand.strip().split(\" \") if x]\n",
    "    return winning, hand\n",
    "\n",
    "\n",
    "parse_card(cards_str[0])"
   ]
  },
  {
   "cell_type": "code",
   "execution_count": 74,
   "metadata": {},
   "outputs": [
    {
     "data": {
      "text/plain": [
       "[8, 2, 2, 1]"
      ]
     },
     "execution_count": 74,
     "metadata": {},
     "output_type": "execute_result"
    }
   ],
   "source": [
    "results = []\n",
    "\n",
    "for card in cards_str:\n",
    "    #     print(card)\n",
    "    winning, hand = parse_card(card)\n",
    "    x = set(winning).intersection(set(hand))\n",
    "    if len(x):\n",
    "        results.append(2 ** (len(x) - 1))\n",
    "\n",
    "results"
   ]
  },
  {
   "cell_type": "code",
   "execution_count": 75,
   "metadata": {},
   "outputs": [
    {
     "data": {
      "text/plain": [
       "13"
      ]
     },
     "execution_count": 75,
     "metadata": {},
     "output_type": "execute_result"
    }
   ],
   "source": [
    "sum(results)"
   ]
  },
  {
   "cell_type": "code",
   "execution_count": null,
   "metadata": {
    "collapsed": true
   },
   "outputs": [],
   "source": []
  },
  {
   "cell_type": "markdown",
   "metadata": {},
   "source": [
    "# Part 1"
   ]
  },
  {
   "cell_type": "code",
   "execution_count": 53,
   "metadata": {
    "collapsed": true
   },
   "outputs": [],
   "source": [
    "with open(\"inputs/4.txt\") as f:\n",
    "    puzzle_input = f.read()"
   ]
  },
  {
   "cell_type": "markdown",
   "metadata": {},
   "source": [
    "# Part 2\n"
   ]
  },
  {
   "cell_type": "code",
   "execution_count": 86,
   "metadata": {},
   "outputs": [
    {
     "name": "stdout",
     "output_type": "stream",
     "text": [
      "{48, 17, 83, 86}\n",
      "{32, 61}\n",
      "{1, 21}\n",
      "{84}\n",
      "set()\n",
      "set()\n"
     ]
    },
    {
     "data": {
      "text/plain": [
       "[(0, 4, 8), (1, 2, 2), (2, 2, 2), (3, 1, 1), (4, 0, 0), (5, 0, 0)]"
      ]
     },
     "execution_count": 86,
     "metadata": {},
     "output_type": "execute_result"
    }
   ],
   "source": [
    "results = []\n",
    "\n",
    "for i, card in enumerate(cards_str):\n",
    "    winning, hand = parse_card(card)\n",
    "    x = set(winning).intersection(set(hand))\n",
    "    print(x)\n",
    "    if len(x):\n",
    "        results.append((i, len(x), 2 ** (len(x) - 1)))\n",
    "    else:\n",
    "        results.append((i, len(x), 0))\n",
    "\n",
    "\n",
    "results"
   ]
  },
  {
   "cell_type": "code",
   "execution_count": 102,
   "metadata": {},
   "outputs": [
    {
     "name": "stdout",
     "output_type": "stream",
     "text": [
      "1\n",
      "2\n",
      "3\n",
      "4\n",
      "2\n",
      "3\n",
      "3\n",
      "4\n",
      "4\n"
     ]
    },
    {
     "data": {
      "text/plain": [
       "{1: 2, 2: 3, 3: 4, 4: 4}"
      ]
     },
     "execution_count": 102,
     "metadata": {},
     "output_type": "execute_result"
    }
   ],
   "source": [
    "counts = {}\n",
    "\n",
    "for x in results:\n",
    "    for i in range(x[0] + 1, x[0] + x[1] + 1):\n",
    "        print(i)\n",
    "        counts[i] = counts.get(i, 1) + 1\n",
    "\n",
    "counts"
   ]
  },
  {
   "cell_type": "code",
   "execution_count": 99,
   "metadata": {},
   "outputs": [
    {
     "data": {
      "text/plain": [
       "21"
      ]
     },
     "execution_count": 99,
     "metadata": {},
     "output_type": "execute_result"
    }
   ],
   "source": []
  },
  {
   "cell_type": "code",
   "execution_count": null,
   "metadata": {},
   "outputs": [],
   "source": []
  },
  {
   "cell_type": "code",
   "execution_count": null,
   "metadata": {
    "collapsed": true
   },
   "outputs": [],
   "source": []
  }
 ],
 "metadata": {
  "kernelspec": {
   "display_name": "Python [conda env:py39]",
   "language": "python",
   "name": "conda-env-py39-py"
  },
  "language_info": {
   "codemirror_mode": {
    "name": "ipython",
    "version": 3
   },
   "file_extension": ".py",
   "mimetype": "text/x-python",
   "name": "python",
   "nbconvert_exporter": "python",
   "pygments_lexer": "ipython3",
   "version": "3.9.18"
  }
 },
 "nbformat": 4,
 "nbformat_minor": 5
}

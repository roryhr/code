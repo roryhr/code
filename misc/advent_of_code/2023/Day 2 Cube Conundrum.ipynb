{
 "cells": [
  {
   "cell_type": "markdown",
   "id": "0b39d45f",
   "metadata": {},
   "source": [
    "# Example\n",
    "\n",
    "In game 1, three sets of cubes are revealed from the bag (and then put back again). The first set is 3 blue cubes and 4 red cubes; the second set is 1 red cube, 2 green cubes, and 6 blue cubes; the third set is only 2 green cubes.\n",
    "\n",
    "The Elf would first like to know which games would have been possible if the bag contained only 12 red cubes, 13 green cubes, and 14 blue cubes?\n",
    "\n",
    "In the example above, games 1, 2, and 5 would have been possible if the bag had been loaded with that configuration. However, game 3 would have been impossible because at one point the Elf showed you 20 red cubes at once; similarly, game 4 would also have been impossible because the Elf showed you 15 blue cubes at once. If you add up the IDs of the games that would have been possible, you get 8.\n",
    "\n",
    "Determine which games would have been possible if the bag had been loaded with only 12 red cubes, 13 green cubes, and 14 blue cubes. What is the sum of the IDs of those games?"
   ]
  },
  {
   "cell_type": "code",
   "execution_count": 1,
   "id": "3c9e0831",
   "metadata": {},
   "outputs": [
    {
     "data": {
      "application/javascript": [
       "\n",
       "            setTimeout(function() {\n",
       "                var nbb_cell_id = 1;\n",
       "                var nbb_unformatted_code = \"%load_ext nb_black\";\n",
       "                var nbb_formatted_code = \"%load_ext nb_black\";\n",
       "                var nbb_cells = Jupyter.notebook.get_cells();\n",
       "                for (var i = 0; i < nbb_cells.length; ++i) {\n",
       "                    if (nbb_cells[i].input_prompt_number == nbb_cell_id) {\n",
       "                        if (nbb_cells[i].get_text() == nbb_unformatted_code) {\n",
       "                             nbb_cells[i].set_text(nbb_formatted_code);\n",
       "                        }\n",
       "                        break;\n",
       "                    }\n",
       "                }\n",
       "            }, 500);\n",
       "            "
      ],
      "text/plain": [
       "<IPython.core.display.Javascript object>"
      ]
     },
     "metadata": {},
     "output_type": "display_data"
    }
   ],
   "source": [
    "%load_ext nb_black"
   ]
  },
  {
   "cell_type": "code",
   "execution_count": 2,
   "id": "9302dcdb",
   "metadata": {},
   "outputs": [
    {
     "data": {
      "application/javascript": [
       "\n",
       "            setTimeout(function() {\n",
       "                var nbb_cell_id = 2;\n",
       "                var nbb_unformatted_code = \"puzzle_input = \\\"\\\"\\\"\\nGame 1: 3 blue, 4 red; 1 red, 2 green, 6 blue; 2 green\\nGame 2: 1 blue, 2 green; 3 green, 4 blue, 1 red; 1 green, 1 blue\\nGame 3: 8 green, 6 blue, 20 red; 5 blue, 4 red, 13 green; 5 green, 1 red\\nGame 4: 1 green, 3 red, 6 blue; 3 green, 6 red; 3 green, 15 blue, 14 red\\nGame 5: 6 red, 1 blue, 3 green; 2 blue, 1 red, 2 green\\n\\\"\\\"\\\"\";\n",
       "                var nbb_formatted_code = \"puzzle_input = \\\"\\\"\\\"\\nGame 1: 3 blue, 4 red; 1 red, 2 green, 6 blue; 2 green\\nGame 2: 1 blue, 2 green; 3 green, 4 blue, 1 red; 1 green, 1 blue\\nGame 3: 8 green, 6 blue, 20 red; 5 blue, 4 red, 13 green; 5 green, 1 red\\nGame 4: 1 green, 3 red, 6 blue; 3 green, 6 red; 3 green, 15 blue, 14 red\\nGame 5: 6 red, 1 blue, 3 green; 2 blue, 1 red, 2 green\\n\\\"\\\"\\\"\";\n",
       "                var nbb_cells = Jupyter.notebook.get_cells();\n",
       "                for (var i = 0; i < nbb_cells.length; ++i) {\n",
       "                    if (nbb_cells[i].input_prompt_number == nbb_cell_id) {\n",
       "                        if (nbb_cells[i].get_text() == nbb_unformatted_code) {\n",
       "                             nbb_cells[i].set_text(nbb_formatted_code);\n",
       "                        }\n",
       "                        break;\n",
       "                    }\n",
       "                }\n",
       "            }, 500);\n",
       "            "
      ],
      "text/plain": [
       "<IPython.core.display.Javascript object>"
      ]
     },
     "metadata": {},
     "output_type": "display_data"
    }
   ],
   "source": [
    "puzzle_input = \"\"\"\n",
    "Game 1: 3 blue, 4 red; 1 red, 2 green, 6 blue; 2 green\n",
    "Game 2: 1 blue, 2 green; 3 green, 4 blue, 1 red; 1 green, 1 blue\n",
    "Game 3: 8 green, 6 blue, 20 red; 5 blue, 4 red, 13 green; 5 green, 1 red\n",
    "Game 4: 1 green, 3 red, 6 blue; 3 green, 6 red; 3 green, 15 blue, 14 red\n",
    "Game 5: 6 red, 1 blue, 3 green; 2 blue, 1 red, 2 green\n",
    "\"\"\""
   ]
  },
  {
   "cell_type": "code",
   "execution_count": 3,
   "id": "bad94041",
   "metadata": {},
   "outputs": [
    {
     "data": {
      "text/plain": [
       "['Game 1: 3 blue, 4 red; 1 red, 2 green, 6 blue; 2 green',\n",
       " 'Game 2: 1 blue, 2 green; 3 green, 4 blue, 1 red; 1 green, 1 blue',\n",
       " 'Game 3: 8 green, 6 blue, 20 red; 5 blue, 4 red, 13 green; 5 green, 1 red',\n",
       " 'Game 4: 1 green, 3 red, 6 blue; 3 green, 6 red; 3 green, 15 blue, 14 red',\n",
       " 'Game 5: 6 red, 1 blue, 3 green; 2 blue, 1 red, 2 green']"
      ]
     },
     "execution_count": 3,
     "metadata": {},
     "output_type": "execute_result"
    },
    {
     "data": {
      "application/javascript": [
       "\n",
       "            setTimeout(function() {\n",
       "                var nbb_cell_id = 3;\n",
       "                var nbb_unformatted_code = \"split = puzzle_input.strip().split(\\\"\\\\n\\\")\\nsplit\";\n",
       "                var nbb_formatted_code = \"split = puzzle_input.strip().split(\\\"\\\\n\\\")\\nsplit\";\n",
       "                var nbb_cells = Jupyter.notebook.get_cells();\n",
       "                for (var i = 0; i < nbb_cells.length; ++i) {\n",
       "                    if (nbb_cells[i].input_prompt_number == nbb_cell_id) {\n",
       "                        if (nbb_cells[i].get_text() == nbb_unformatted_code) {\n",
       "                             nbb_cells[i].set_text(nbb_formatted_code);\n",
       "                        }\n",
       "                        break;\n",
       "                    }\n",
       "                }\n",
       "            }, 500);\n",
       "            "
      ],
      "text/plain": [
       "<IPython.core.display.Javascript object>"
      ]
     },
     "metadata": {},
     "output_type": "display_data"
    }
   ],
   "source": [
    "split = puzzle_input.strip().split(\"\\n\")\n",
    "split"
   ]
  },
  {
   "cell_type": "code",
   "execution_count": 4,
   "id": "74765438",
   "metadata": {},
   "outputs": [
    {
     "data": {
      "text/plain": [
       "['Game 1', '3 blue, 4 red; 1 red, 2 green, 6 blue; 2 green']"
      ]
     },
     "execution_count": 4,
     "metadata": {},
     "output_type": "execute_result"
    },
    {
     "data": {
      "application/javascript": [
       "\n",
       "            setTimeout(function() {\n",
       "                var nbb_cell_id = 4;\n",
       "                var nbb_unformatted_code = \"split[0].split(\\\": \\\")\";\n",
       "                var nbb_formatted_code = \"split[0].split(\\\": \\\")\";\n",
       "                var nbb_cells = Jupyter.notebook.get_cells();\n",
       "                for (var i = 0; i < nbb_cells.length; ++i) {\n",
       "                    if (nbb_cells[i].input_prompt_number == nbb_cell_id) {\n",
       "                        if (nbb_cells[i].get_text() == nbb_unformatted_code) {\n",
       "                             nbb_cells[i].set_text(nbb_formatted_code);\n",
       "                        }\n",
       "                        break;\n",
       "                    }\n",
       "                }\n",
       "            }, 500);\n",
       "            "
      ],
      "text/plain": [
       "<IPython.core.display.Javascript object>"
      ]
     },
     "metadata": {},
     "output_type": "display_data"
    }
   ],
   "source": [
    "split[0].split(\": \")"
   ]
  },
  {
   "cell_type": "code",
   "execution_count": 5,
   "id": "ae4c9152",
   "metadata": {},
   "outputs": [
    {
     "data": {
      "application/javascript": [
       "\n",
       "            setTimeout(function() {\n",
       "                var nbb_cell_id = 5;\n",
       "                var nbb_unformatted_code = \"max_count = {\\\"red\\\": 12, \\\"green\\\": 13, \\\"blue\\\": 14}\\n\\n\\nclass Cube:\\n    def __init__(self, text):\\n        count, color = text.split(\\\" \\\")\\n        self.count = int(count)\\n        self.color = color\\n\\n    @property\\n    def is_possible(self):\\n        color_max = max_count[self.color]\\n        return self.count <= color_max\";\n",
       "                var nbb_formatted_code = \"max_count = {\\\"red\\\": 12, \\\"green\\\": 13, \\\"blue\\\": 14}\\n\\n\\nclass Cube:\\n    def __init__(self, text):\\n        count, color = text.split(\\\" \\\")\\n        self.count = int(count)\\n        self.color = color\\n\\n    @property\\n    def is_possible(self):\\n        color_max = max_count[self.color]\\n        return self.count <= color_max\";\n",
       "                var nbb_cells = Jupyter.notebook.get_cells();\n",
       "                for (var i = 0; i < nbb_cells.length; ++i) {\n",
       "                    if (nbb_cells[i].input_prompt_number == nbb_cell_id) {\n",
       "                        if (nbb_cells[i].get_text() == nbb_unformatted_code) {\n",
       "                             nbb_cells[i].set_text(nbb_formatted_code);\n",
       "                        }\n",
       "                        break;\n",
       "                    }\n",
       "                }\n",
       "            }, 500);\n",
       "            "
      ],
      "text/plain": [
       "<IPython.core.display.Javascript object>"
      ]
     },
     "metadata": {},
     "output_type": "display_data"
    }
   ],
   "source": [
    "max_count = {\"red\": 12, \"green\": 13, \"blue\": 14}\n",
    "\n",
    "\n",
    "class Cube:\n",
    "    def __init__(self, text):\n",
    "        count, color = text.split(\" \")\n",
    "        self.count = int(count)\n",
    "        self.color = color\n",
    "\n",
    "    @property\n",
    "    def is_possible(self):\n",
    "        color_max = max_count[self.color]\n",
    "        return self.count <= color_max"
   ]
  },
  {
   "cell_type": "code",
   "execution_count": 6,
   "id": "d99e7136",
   "metadata": {},
   "outputs": [
    {
     "data": {
      "text/plain": [
       "'3 blue, 4 red'"
      ]
     },
     "execution_count": 6,
     "metadata": {},
     "output_type": "execute_result"
    },
    {
     "data": {
      "application/javascript": [
       "\n",
       "            setTimeout(function() {\n",
       "                var nbb_cell_id = 6;\n",
       "                var nbb_unformatted_code = \"sets = \\\"3 blue, 4 red; 1 red, 2 green, 6 blue; 2 green\\\"\\nsets.split(\\\";\\\")[0]\";\n",
       "                var nbb_formatted_code = \"sets = \\\"3 blue, 4 red; 1 red, 2 green, 6 blue; 2 green\\\"\\nsets.split(\\\";\\\")[0]\";\n",
       "                var nbb_cells = Jupyter.notebook.get_cells();\n",
       "                for (var i = 0; i < nbb_cells.length; ++i) {\n",
       "                    if (nbb_cells[i].input_prompt_number == nbb_cell_id) {\n",
       "                        if (nbb_cells[i].get_text() == nbb_unformatted_code) {\n",
       "                             nbb_cells[i].set_text(nbb_formatted_code);\n",
       "                        }\n",
       "                        break;\n",
       "                    }\n",
       "                }\n",
       "            }, 500);\n",
       "            "
      ],
      "text/plain": [
       "<IPython.core.display.Javascript object>"
      ]
     },
     "metadata": {},
     "output_type": "display_data"
    }
   ],
   "source": [
    "sets = \"3 blue, 4 red; 1 red, 2 green, 6 blue; 2 green\"\n",
    "sets.split(\";\")[0]"
   ]
  },
  {
   "cell_type": "code",
   "execution_count": 7,
   "id": "9ad7a496",
   "metadata": {},
   "outputs": [
    {
     "data": {
      "text/plain": [
       "[True, True]"
      ]
     },
     "execution_count": 7,
     "metadata": {},
     "output_type": "execute_result"
    },
    {
     "data": {
      "application/javascript": [
       "\n",
       "            setTimeout(function() {\n",
       "                var nbb_cell_id = 7;\n",
       "                var nbb_unformatted_code = \"[Cube(x).is_possible for x in sets.split(\\\";\\\")[0].split(\\\", \\\")]\";\n",
       "                var nbb_formatted_code = \"[Cube(x).is_possible for x in sets.split(\\\";\\\")[0].split(\\\", \\\")]\";\n",
       "                var nbb_cells = Jupyter.notebook.get_cells();\n",
       "                for (var i = 0; i < nbb_cells.length; ++i) {\n",
       "                    if (nbb_cells[i].input_prompt_number == nbb_cell_id) {\n",
       "                        if (nbb_cells[i].get_text() == nbb_unformatted_code) {\n",
       "                             nbb_cells[i].set_text(nbb_formatted_code);\n",
       "                        }\n",
       "                        break;\n",
       "                    }\n",
       "                }\n",
       "            }, 500);\n",
       "            "
      ],
      "text/plain": [
       "<IPython.core.display.Javascript object>"
      ]
     },
     "metadata": {},
     "output_type": "display_data"
    }
   ],
   "source": [
    "[Cube(x).is_possible for x in sets.split(\";\")[0].split(\", \")]"
   ]
  },
  {
   "cell_type": "code",
   "execution_count": 8,
   "id": "8782431f",
   "metadata": {},
   "outputs": [
    {
     "data": {
      "text/plain": [
       "[1, 2, 5]"
      ]
     },
     "execution_count": 8,
     "metadata": {},
     "output_type": "execute_result"
    },
    {
     "data": {
      "application/javascript": [
       "\n",
       "            setTimeout(function() {\n",
       "                var nbb_cell_id = 8;\n",
       "                var nbb_unformatted_code = \"possible_games = []\\nfor x in split:\\n    game_str, text = x.split(\\\": \\\")\\n    game = int(game_str.split(\\\" \\\")[-1])\\n    sets = [\\n        all(Cube(x.strip()).is_possible for x in s.split(\\\",\\\")) for s in text.split(\\\";\\\")\\n    ]\\n    if all(sets):\\n        possible_games.append(game)\\n\\npossible_games\";\n",
       "                var nbb_formatted_code = \"possible_games = []\\nfor x in split:\\n    game_str, text = x.split(\\\": \\\")\\n    game = int(game_str.split(\\\" \\\")[-1])\\n    sets = [\\n        all(Cube(x.strip()).is_possible for x in s.split(\\\",\\\")) for s in text.split(\\\";\\\")\\n    ]\\n    if all(sets):\\n        possible_games.append(game)\\n\\npossible_games\";\n",
       "                var nbb_cells = Jupyter.notebook.get_cells();\n",
       "                for (var i = 0; i < nbb_cells.length; ++i) {\n",
       "                    if (nbb_cells[i].input_prompt_number == nbb_cell_id) {\n",
       "                        if (nbb_cells[i].get_text() == nbb_unformatted_code) {\n",
       "                             nbb_cells[i].set_text(nbb_formatted_code);\n",
       "                        }\n",
       "                        break;\n",
       "                    }\n",
       "                }\n",
       "            }, 500);\n",
       "            "
      ],
      "text/plain": [
       "<IPython.core.display.Javascript object>"
      ]
     },
     "metadata": {},
     "output_type": "display_data"
    }
   ],
   "source": [
    "possible_games = []\n",
    "for x in split:\n",
    "    game_str, text = x.split(\": \")\n",
    "    game = int(game_str.split(\" \")[-1])\n",
    "    sets = [\n",
    "        all(Cube(x.strip()).is_possible for x in s.split(\",\")) for s in text.split(\";\")\n",
    "    ]\n",
    "    if all(sets):\n",
    "        possible_games.append(game)\n",
    "\n",
    "possible_games"
   ]
  },
  {
   "cell_type": "code",
   "execution_count": 9,
   "id": "149790f7",
   "metadata": {},
   "outputs": [
    {
     "data": {
      "text/plain": [
       "8"
      ]
     },
     "execution_count": 9,
     "metadata": {},
     "output_type": "execute_result"
    },
    {
     "data": {
      "application/javascript": [
       "\n",
       "            setTimeout(function() {\n",
       "                var nbb_cell_id = 9;\n",
       "                var nbb_unformatted_code = \"sum(possible_games)\";\n",
       "                var nbb_formatted_code = \"sum(possible_games)\";\n",
       "                var nbb_cells = Jupyter.notebook.get_cells();\n",
       "                for (var i = 0; i < nbb_cells.length; ++i) {\n",
       "                    if (nbb_cells[i].input_prompt_number == nbb_cell_id) {\n",
       "                        if (nbb_cells[i].get_text() == nbb_unformatted_code) {\n",
       "                             nbb_cells[i].set_text(nbb_formatted_code);\n",
       "                        }\n",
       "                        break;\n",
       "                    }\n",
       "                }\n",
       "            }, 500);\n",
       "            "
      ],
      "text/plain": [
       "<IPython.core.display.Javascript object>"
      ]
     },
     "metadata": {},
     "output_type": "display_data"
    }
   ],
   "source": [
    "sum(possible_games)"
   ]
  },
  {
   "cell_type": "markdown",
   "id": "0a7a9865",
   "metadata": {},
   "source": [
    "# Part 1"
   ]
  },
  {
   "cell_type": "code",
   "execution_count": 10,
   "id": "f8ae32a7",
   "metadata": {},
   "outputs": [
    {
     "data": {
      "application/javascript": [
       "\n",
       "            setTimeout(function() {\n",
       "                var nbb_cell_id = 10;\n",
       "                var nbb_unformatted_code = \"with open(\\\"inputs/2.txt\\\") as f:\\n    big_puzzle_input = f.read()\";\n",
       "                var nbb_formatted_code = \"with open(\\\"inputs/2.txt\\\") as f:\\n    big_puzzle_input = f.read()\";\n",
       "                var nbb_cells = Jupyter.notebook.get_cells();\n",
       "                for (var i = 0; i < nbb_cells.length; ++i) {\n",
       "                    if (nbb_cells[i].input_prompt_number == nbb_cell_id) {\n",
       "                        if (nbb_cells[i].get_text() == nbb_unformatted_code) {\n",
       "                             nbb_cells[i].set_text(nbb_formatted_code);\n",
       "                        }\n",
       "                        break;\n",
       "                    }\n",
       "                }\n",
       "            }, 500);\n",
       "            "
      ],
      "text/plain": [
       "<IPython.core.display.Javascript object>"
      ]
     },
     "metadata": {},
     "output_type": "display_data"
    }
   ],
   "source": [
    "with open(\"inputs/2.txt\") as f:\n",
    "    big_puzzle_input = f.read()"
   ]
  },
  {
   "cell_type": "code",
   "execution_count": 11,
   "id": "b4c102c1",
   "metadata": {},
   "outputs": [
    {
     "data": {
      "application/javascript": [
       "\n",
       "            setTimeout(function() {\n",
       "                var nbb_cell_id = 11;\n",
       "                var nbb_unformatted_code = \"split = big_puzzle_input.strip().split(\\\"\\\\n\\\")\";\n",
       "                var nbb_formatted_code = \"split = big_puzzle_input.strip().split(\\\"\\\\n\\\")\";\n",
       "                var nbb_cells = Jupyter.notebook.get_cells();\n",
       "                for (var i = 0; i < nbb_cells.length; ++i) {\n",
       "                    if (nbb_cells[i].input_prompt_number == nbb_cell_id) {\n",
       "                        if (nbb_cells[i].get_text() == nbb_unformatted_code) {\n",
       "                             nbb_cells[i].set_text(nbb_formatted_code);\n",
       "                        }\n",
       "                        break;\n",
       "                    }\n",
       "                }\n",
       "            }, 500);\n",
       "            "
      ],
      "text/plain": [
       "<IPython.core.display.Javascript object>"
      ]
     },
     "metadata": {},
     "output_type": "display_data"
    }
   ],
   "source": [
    "split = big_puzzle_input.strip().split(\"\\n\")"
   ]
  },
  {
   "cell_type": "code",
   "execution_count": 12,
   "id": "22440714",
   "metadata": {},
   "outputs": [
    {
     "data": {
      "application/javascript": [
       "\n",
       "            setTimeout(function() {\n",
       "                var nbb_cell_id = 12;\n",
       "                var nbb_unformatted_code = \"possible_games = []\\nfor x in split:\\n    game_str, text = x.split(\\\": \\\")\\n    game = int(game_str.split(\\\" \\\")[-1])\\n    sets = [\\n        all(Cube(x.strip()).is_possible for x in s.split(\\\",\\\")) for s in text.split(\\\";\\\")\\n    ]\\n    if all(sets):\\n        possible_games.append(game)\\n\\n# possible_games\";\n",
       "                var nbb_formatted_code = \"possible_games = []\\nfor x in split:\\n    game_str, text = x.split(\\\": \\\")\\n    game = int(game_str.split(\\\" \\\")[-1])\\n    sets = [\\n        all(Cube(x.strip()).is_possible for x in s.split(\\\",\\\")) for s in text.split(\\\";\\\")\\n    ]\\n    if all(sets):\\n        possible_games.append(game)\\n\\n# possible_games\";\n",
       "                var nbb_cells = Jupyter.notebook.get_cells();\n",
       "                for (var i = 0; i < nbb_cells.length; ++i) {\n",
       "                    if (nbb_cells[i].input_prompt_number == nbb_cell_id) {\n",
       "                        if (nbb_cells[i].get_text() == nbb_unformatted_code) {\n",
       "                             nbb_cells[i].set_text(nbb_formatted_code);\n",
       "                        }\n",
       "                        break;\n",
       "                    }\n",
       "                }\n",
       "            }, 500);\n",
       "            "
      ],
      "text/plain": [
       "<IPython.core.display.Javascript object>"
      ]
     },
     "metadata": {},
     "output_type": "display_data"
    }
   ],
   "source": [
    "possible_games = []\n",
    "for x in split:\n",
    "    game_str, text = x.split(\": \")\n",
    "    game = int(game_str.split(\" \")[-1])\n",
    "    sets = [\n",
    "        all(Cube(x.strip()).is_possible for x in s.split(\",\")) for s in text.split(\";\")\n",
    "    ]\n",
    "    if all(sets):\n",
    "        possible_games.append(game)\n",
    "\n",
    "# possible_games"
   ]
  },
  {
   "cell_type": "code",
   "execution_count": 13,
   "id": "fbee009f",
   "metadata": {},
   "outputs": [
    {
     "data": {
      "text/plain": [
       "2377"
      ]
     },
     "execution_count": 13,
     "metadata": {},
     "output_type": "execute_result"
    },
    {
     "data": {
      "application/javascript": [
       "\n",
       "            setTimeout(function() {\n",
       "                var nbb_cell_id = 13;\n",
       "                var nbb_unformatted_code = \"sum(possible_games)\";\n",
       "                var nbb_formatted_code = \"sum(possible_games)\";\n",
       "                var nbb_cells = Jupyter.notebook.get_cells();\n",
       "                for (var i = 0; i < nbb_cells.length; ++i) {\n",
       "                    if (nbb_cells[i].input_prompt_number == nbb_cell_id) {\n",
       "                        if (nbb_cells[i].get_text() == nbb_unformatted_code) {\n",
       "                             nbb_cells[i].set_text(nbb_formatted_code);\n",
       "                        }\n",
       "                        break;\n",
       "                    }\n",
       "                }\n",
       "            }, 500);\n",
       "            "
      ],
      "text/plain": [
       "<IPython.core.display.Javascript object>"
      ]
     },
     "metadata": {},
     "output_type": "display_data"
    }
   ],
   "source": [
    "sum(possible_games)"
   ]
  },
  {
   "cell_type": "markdown",
   "id": "15159e2f",
   "metadata": {},
   "source": [
    "# Part 2\n",
    "\n",
    "Again consider the example games from earlier:\n",
    "\n",
    "Game 1: 3 blue, 4 red; 1 red, 2 green, 6 blue; 2 green\n",
    "Game 2: 1 blue, 2 green; 3 green, 4 blue, 1 red; 1 green, 1 blue\n",
    "Game 3: 8 green, 6 blue, 20 red; 5 blue, 4 red, 13 green; 5 green, 1 red\n",
    "Game 4: 1 green, 3 red, 6 blue; 3 green, 6 red; 3 green, 15 blue, 14 red\n",
    "Game 5: 6 red, 1 blue, 3 green; 2 blue, 1 red, 2 green\n",
    "\n",
    "    In game 1, the game could have been played with as few as 4 red, 2 green, and 6 blue cubes. If any color had even one fewer cube, the game would have been impossible.\n",
    "    Game 2 could have been played with a minimum of 1 red, 3 green, and 4 blue cubes.\n",
    "    Game 3 must have been played with at least 20 red, 13 green, and 6 blue cubes.\n",
    "    Game 4 required at least 14 red, 3 green, and 15 blue cubes.\n",
    "    Game 5 needed no fewer than 6 red, 3 green, and 2 blue cubes in the bag.\n",
    "\n",
    "The power of a set of cubes is equal to the numbers of red, green, and blue cubes multiplied together. The power of the minimum set of cubes in game 1 is 48. In games 2-5 it was 12, 1560, 630, and 36, respectively. Adding up these five powers produces the sum 2286.\n",
    "\n",
    "For each game, find the minimum set of cubes that must have been present. What is the sum of the power of these sets?"
   ]
  },
  {
   "cell_type": "code",
   "execution_count": 14,
   "id": "af93b598",
   "metadata": {},
   "outputs": [
    {
     "data": {
      "application/javascript": [
       "\n",
       "            setTimeout(function() {\n",
       "                var nbb_cell_id = 14;\n",
       "                var nbb_unformatted_code = \"puzzle_input = \\\"\\\"\\\"\\nGame 1: 3 blue, 4 red; 1 red, 2 green, 6 blue; 2 green\\nGame 2: 1 blue, 2 green; 3 green, 4 blue, 1 red; 1 green, 1 blue\\nGame 3: 8 green, 6 blue, 20 red; 5 blue, 4 red, 13 green; 5 green, 1 red\\nGame 4: 1 green, 3 red, 6 blue; 3 green, 6 red; 3 green, 15 blue, 14 red\\nGame 5: 6 red, 1 blue, 3 green; 2 blue, 1 red, 2 green\\n\\\"\\\"\\\"\";\n",
       "                var nbb_formatted_code = \"puzzle_input = \\\"\\\"\\\"\\nGame 1: 3 blue, 4 red; 1 red, 2 green, 6 blue; 2 green\\nGame 2: 1 blue, 2 green; 3 green, 4 blue, 1 red; 1 green, 1 blue\\nGame 3: 8 green, 6 blue, 20 red; 5 blue, 4 red, 13 green; 5 green, 1 red\\nGame 4: 1 green, 3 red, 6 blue; 3 green, 6 red; 3 green, 15 blue, 14 red\\nGame 5: 6 red, 1 blue, 3 green; 2 blue, 1 red, 2 green\\n\\\"\\\"\\\"\";\n",
       "                var nbb_cells = Jupyter.notebook.get_cells();\n",
       "                for (var i = 0; i < nbb_cells.length; ++i) {\n",
       "                    if (nbb_cells[i].input_prompt_number == nbb_cell_id) {\n",
       "                        if (nbb_cells[i].get_text() == nbb_unformatted_code) {\n",
       "                             nbb_cells[i].set_text(nbb_formatted_code);\n",
       "                        }\n",
       "                        break;\n",
       "                    }\n",
       "                }\n",
       "            }, 500);\n",
       "            "
      ],
      "text/plain": [
       "<IPython.core.display.Javascript object>"
      ]
     },
     "metadata": {},
     "output_type": "display_data"
    }
   ],
   "source": [
    "puzzle_input = \"\"\"\n",
    "Game 1: 3 blue, 4 red; 1 red, 2 green, 6 blue; 2 green\n",
    "Game 2: 1 blue, 2 green; 3 green, 4 blue, 1 red; 1 green, 1 blue\n",
    "Game 3: 8 green, 6 blue, 20 red; 5 blue, 4 red, 13 green; 5 green, 1 red\n",
    "Game 4: 1 green, 3 red, 6 blue; 3 green, 6 red; 3 green, 15 blue, 14 red\n",
    "Game 5: 6 red, 1 blue, 3 green; 2 blue, 1 red, 2 green\n",
    "\"\"\""
   ]
  },
  {
   "cell_type": "code",
   "execution_count": 17,
   "id": "0bbf1ec9",
   "metadata": {},
   "outputs": [
    {
     "data": {
      "application/javascript": [
       "\n",
       "            setTimeout(function() {\n",
       "                var nbb_cell_id = 17;\n",
       "                var nbb_unformatted_code = \"from functools import reduce\";\n",
       "                var nbb_formatted_code = \"from functools import reduce\";\n",
       "                var nbb_cells = Jupyter.notebook.get_cells();\n",
       "                for (var i = 0; i < nbb_cells.length; ++i) {\n",
       "                    if (nbb_cells[i].input_prompt_number == nbb_cell_id) {\n",
       "                        if (nbb_cells[i].get_text() == nbb_unformatted_code) {\n",
       "                             nbb_cells[i].set_text(nbb_formatted_code);\n",
       "                        }\n",
       "                        break;\n",
       "                    }\n",
       "                }\n",
       "            }, 500);\n",
       "            "
      ],
      "text/plain": [
       "<IPython.core.display.Javascript object>"
      ]
     },
     "metadata": {},
     "output_type": "display_data"
    }
   ],
   "source": [
    "from functools import reduce"
   ]
  },
  {
   "cell_type": "code",
   "execution_count": 18,
   "id": "d77ceca6",
   "metadata": {},
   "outputs": [
    {
     "data": {
      "application/javascript": [
       "\n",
       "            setTimeout(function() {\n",
       "                var nbb_cell_id = 18;\n",
       "                var nbb_unformatted_code = \"possible_games = []\\nsplit = puzzle_input.strip().split(\\\"\\\\n\\\")\\npowers = []\\n\\nfor x in split:\\n    _, text = x.split(\\\": \\\")\\n    sets = []\\n\\n    for s in text.split(\\\";\\\"):\\n        sets.append(\\n            {Cube(x.strip()).color: Cube(x.strip()).count for x in s.split(\\\",\\\")}\\n        )\\n\\n    max_counts = reduce(\\n        lambda x, y: {k: max(x.get(k, 0), y.get(k, 0)) for k in set(x) | set(y)}, sets\\n    )\\n\\n    powers.append(reduce(lambda x, y: x * y, max_counts.values()))\";\n",
       "                var nbb_formatted_code = \"possible_games = []\\nsplit = puzzle_input.strip().split(\\\"\\\\n\\\")\\npowers = []\\n\\nfor x in split:\\n    _, text = x.split(\\\": \\\")\\n    sets = []\\n\\n    for s in text.split(\\\";\\\"):\\n        sets.append(\\n            {Cube(x.strip()).color: Cube(x.strip()).count for x in s.split(\\\",\\\")}\\n        )\\n\\n    max_counts = reduce(\\n        lambda x, y: {k: max(x.get(k, 0), y.get(k, 0)) for k in set(x) | set(y)}, sets\\n    )\\n\\n    powers.append(reduce(lambda x, y: x * y, max_counts.values()))\";\n",
       "                var nbb_cells = Jupyter.notebook.get_cells();\n",
       "                for (var i = 0; i < nbb_cells.length; ++i) {\n",
       "                    if (nbb_cells[i].input_prompt_number == nbb_cell_id) {\n",
       "                        if (nbb_cells[i].get_text() == nbb_unformatted_code) {\n",
       "                             nbb_cells[i].set_text(nbb_formatted_code);\n",
       "                        }\n",
       "                        break;\n",
       "                    }\n",
       "                }\n",
       "            }, 500);\n",
       "            "
      ],
      "text/plain": [
       "<IPython.core.display.Javascript object>"
      ]
     },
     "metadata": {},
     "output_type": "display_data"
    }
   ],
   "source": [
    "possible_games = []\n",
    "split = puzzle_input.strip().split(\"\\n\")\n",
    "powers = []\n",
    "\n",
    "for x in split:\n",
    "    _, text = x.split(\": \")\n",
    "    sets = []\n",
    "\n",
    "    for s in text.split(\";\"):\n",
    "        sets.append(\n",
    "            {Cube(x.strip()).color: Cube(x.strip()).count for x in s.split(\",\")}\n",
    "        )\n",
    "\n",
    "    max_counts = reduce(\n",
    "        lambda x, y: {k: max(x.get(k, 0), y.get(k, 0)) for k in set(x) | set(y)}, sets\n",
    "    )\n",
    "\n",
    "    powers.append(reduce(lambda x, y: x * y, max_counts.values()))"
   ]
  },
  {
   "cell_type": "code",
   "execution_count": 19,
   "id": "7b49c99b",
   "metadata": {},
   "outputs": [
    {
     "data": {
      "text/plain": [
       "[48, 12, 1560, 630, 36]"
      ]
     },
     "execution_count": 19,
     "metadata": {},
     "output_type": "execute_result"
    },
    {
     "data": {
      "application/javascript": [
       "\n",
       "            setTimeout(function() {\n",
       "                var nbb_cell_id = 19;\n",
       "                var nbb_unformatted_code = \"powers\";\n",
       "                var nbb_formatted_code = \"powers\";\n",
       "                var nbb_cells = Jupyter.notebook.get_cells();\n",
       "                for (var i = 0; i < nbb_cells.length; ++i) {\n",
       "                    if (nbb_cells[i].input_prompt_number == nbb_cell_id) {\n",
       "                        if (nbb_cells[i].get_text() == nbb_unformatted_code) {\n",
       "                             nbb_cells[i].set_text(nbb_formatted_code);\n",
       "                        }\n",
       "                        break;\n",
       "                    }\n",
       "                }\n",
       "            }, 500);\n",
       "            "
      ],
      "text/plain": [
       "<IPython.core.display.Javascript object>"
      ]
     },
     "metadata": {},
     "output_type": "display_data"
    }
   ],
   "source": [
    "powers"
   ]
  },
  {
   "cell_type": "code",
   "execution_count": 20,
   "id": "9a2a0a51",
   "metadata": {},
   "outputs": [
    {
     "data": {
      "text/plain": [
       "2286"
      ]
     },
     "execution_count": 20,
     "metadata": {},
     "output_type": "execute_result"
    },
    {
     "data": {
      "application/javascript": [
       "\n",
       "            setTimeout(function() {\n",
       "                var nbb_cell_id = 20;\n",
       "                var nbb_unformatted_code = \"sum(powers)\";\n",
       "                var nbb_formatted_code = \"sum(powers)\";\n",
       "                var nbb_cells = Jupyter.notebook.get_cells();\n",
       "                for (var i = 0; i < nbb_cells.length; ++i) {\n",
       "                    if (nbb_cells[i].input_prompt_number == nbb_cell_id) {\n",
       "                        if (nbb_cells[i].get_text() == nbb_unformatted_code) {\n",
       "                             nbb_cells[i].set_text(nbb_formatted_code);\n",
       "                        }\n",
       "                        break;\n",
       "                    }\n",
       "                }\n",
       "            }, 500);\n",
       "            "
      ],
      "text/plain": [
       "<IPython.core.display.Javascript object>"
      ]
     },
     "metadata": {},
     "output_type": "display_data"
    }
   ],
   "source": [
    "sum(powers)"
   ]
  },
  {
   "cell_type": "code",
   "execution_count": 21,
   "id": "8e62a159",
   "metadata": {},
   "outputs": [
    {
     "data": {
      "text/plain": [
       "71220"
      ]
     },
     "execution_count": 21,
     "metadata": {},
     "output_type": "execute_result"
    },
    {
     "data": {
      "application/javascript": [
       "\n",
       "            setTimeout(function() {\n",
       "                var nbb_cell_id = 21;\n",
       "                var nbb_unformatted_code = \"with open(\\\"inputs/2.txt\\\") as f:\\n    puzzle_input = f.read()\\n\\nsplit = puzzle_input.strip().split(\\\"\\\\n\\\")\\npowers = []\\n\\nfor x in split:\\n    _, text = x.split(\\\": \\\")\\n    sets = []\\n\\n    for s in text.split(\\\";\\\"):\\n        sets.append(\\n            {Cube(x.strip()).color: Cube(x.strip()).count for x in s.split(\\\",\\\")}\\n        )\\n\\n    max_counts = reduce(\\n        lambda x, y: {k: max(x.get(k, 0), y.get(k, 0)) for k in set(x) | set(y)}, sets\\n    )\\n\\n    powers.append(reduce(lambda x, y: x * y, max_counts.values()))\\n\\nsum(powers)\";\n",
       "                var nbb_formatted_code = \"with open(\\\"inputs/2.txt\\\") as f:\\n    puzzle_input = f.read()\\n\\nsplit = puzzle_input.strip().split(\\\"\\\\n\\\")\\npowers = []\\n\\nfor x in split:\\n    _, text = x.split(\\\": \\\")\\n    sets = []\\n\\n    for s in text.split(\\\";\\\"):\\n        sets.append(\\n            {Cube(x.strip()).color: Cube(x.strip()).count for x in s.split(\\\",\\\")}\\n        )\\n\\n    max_counts = reduce(\\n        lambda x, y: {k: max(x.get(k, 0), y.get(k, 0)) for k in set(x) | set(y)}, sets\\n    )\\n\\n    powers.append(reduce(lambda x, y: x * y, max_counts.values()))\\n\\nsum(powers)\";\n",
       "                var nbb_cells = Jupyter.notebook.get_cells();\n",
       "                for (var i = 0; i < nbb_cells.length; ++i) {\n",
       "                    if (nbb_cells[i].input_prompt_number == nbb_cell_id) {\n",
       "                        if (nbb_cells[i].get_text() == nbb_unformatted_code) {\n",
       "                             nbb_cells[i].set_text(nbb_formatted_code);\n",
       "                        }\n",
       "                        break;\n",
       "                    }\n",
       "                }\n",
       "            }, 500);\n",
       "            "
      ],
      "text/plain": [
       "<IPython.core.display.Javascript object>"
      ]
     },
     "metadata": {},
     "output_type": "display_data"
    }
   ],
   "source": [
    "with open(\"inputs/2.txt\") as f:\n",
    "    puzzle_input = f.read()\n",
    "\n",
    "split = puzzle_input.strip().split(\"\\n\")\n",
    "powers = []\n",
    "\n",
    "for x in split:\n",
    "    _, text = x.split(\": \")\n",
    "    sets = []\n",
    "\n",
    "    for s in text.split(\";\"):\n",
    "        sets.append(\n",
    "            {Cube(x.strip()).color: Cube(x.strip()).count for x in s.split(\",\")}\n",
    "        )\n",
    "\n",
    "    max_counts = reduce(\n",
    "        lambda x, y: {k: max(x.get(k, 0), y.get(k, 0)) for k in set(x) | set(y)}, sets\n",
    "    )\n",
    "\n",
    "    powers.append(reduce(lambda x, y: x * y, max_counts.values()))\n",
    "\n",
    "sum(powers)"
   ]
  },
  {
   "cell_type": "code",
   "execution_count": null,
   "id": "fbd4155d",
   "metadata": {},
   "outputs": [],
   "source": []
  }
 ],
 "metadata": {
  "kernelspec": {
   "display_name": "Python [conda env:root] *",
   "language": "python",
   "name": "conda-root-py"
  },
  "language_info": {
   "codemirror_mode": {
    "name": "ipython",
    "version": 3
   },
   "file_extension": ".py",
   "mimetype": "text/x-python",
   "name": "python",
   "nbconvert_exporter": "python",
   "pygments_lexer": "ipython3",
   "version": "3.7.4"
  }
 },
 "nbformat": 4,
 "nbformat_minor": 5
}

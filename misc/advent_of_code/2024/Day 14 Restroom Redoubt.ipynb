{
 "cells": [
  {
   "cell_type": "markdown",
   "id": "0b39d45f",
   "metadata": {},
   "source": [
    "# Part 1 Example\n"
   ]
  },
  {
   "cell_type": "code",
   "execution_count": 176,
   "id": "c244efd4-3dbc-4bd1-9299-02ff5f734d08",
   "metadata": {},
   "outputs": [],
   "source": [
    "import numpy as np\n",
    "import re\n",
    "from pathlib import Path\n",
    "from collections import Counter\n",
    "import math"
   ]
  },
  {
   "cell_type": "code",
   "execution_count": 177,
   "id": "9302dcdb",
   "metadata": {},
   "outputs": [],
   "source": [
    "puzzle_input = \"\"\"\n",
    "p=0,4 v=3,-3\n",
    "p=6,3 v=-1,-3\n",
    "p=10,3 v=-1,2\n",
    "p=2,0 v=2,-1\n",
    "p=0,0 v=1,3\n",
    "p=3,0 v=-2,-2\n",
    "p=7,6 v=-1,-3\n",
    "p=3,0 v=-1,-2\n",
    "p=9,3 v=2,3\n",
    "p=7,3 v=-1,2\n",
    "p=2,4 v=2,-3\n",
    "p=9,5 v=-3,-3\n",
    "\"\"\""
   ]
  },
  {
   "cell_type": "code",
   "execution_count": 178,
   "id": "f1b03c8a-162e-4375-b07b-d36bdc971e3e",
   "metadata": {},
   "outputs": [
    {
     "name": "stdout",
     "output_type": "stream",
     "text": [
      "Position: [0 4], Velocity: [ 3 -3]\n",
      "Position: [6 3], Velocity: [-1 -3]\n",
      "Position: [10  3], Velocity: [-1  2]\n",
      "Position: [2 0], Velocity: [ 2 -1]\n",
      "Position: [0 0], Velocity: [1 3]\n",
      "Position: [3 0], Velocity: [-2 -2]\n",
      "Position: [7 6], Velocity: [-1 -3]\n",
      "Position: [3 0], Velocity: [-1 -2]\n",
      "Position: [9 3], Velocity: [2 3]\n",
      "Position: [7 3], Velocity: [-1  2]\n",
      "Position: [2 4], Velocity: [ 2 -3]\n",
      "Position: [9 5], Velocity: [-3 -3]\n"
     ]
    }
   ],
   "source": [
    "def parse_input(puzzle_input):\n",
    "    data = []\n",
    "    for line in puzzle_input.strip().split(\"\\n\"):\n",
    "        pos_part, vel_part = line.split(\" \")\n",
    "        px, py = map(int, pos_part[2:].split(\",\"))\n",
    "        vx, vy = map(int, vel_part[2:].split(\",\"))\n",
    "        data.append((np.array((px, py)), np.array((vx, vy))))\n",
    "    return data\n",
    "\n",
    "\n",
    "parsed_data = parse_input(puzzle_input)\n",
    "for pos, vel in parsed_data:\n",
    "    print(f\"Position: {pos}, Velocity: {vel}\")"
   ]
  },
  {
   "cell_type": "code",
   "execution_count": 183,
   "id": "ebb1497f-70e8-4dc1-9e07-092f7c63bba4",
   "metadata": {},
   "outputs": [
    {
     "data": {
      "text/plain": [
       "[(3, 5),\n",
       " (5, 4),\n",
       " (9, 0),\n",
       " (4, 5),\n",
       " (1, 6),\n",
       " (1, 3),\n",
       " (6, 0),\n",
       " (2, 3),\n",
       " (0, 2),\n",
       " (6, 0),\n",
       " (4, 5),\n",
       " (6, 6)]"
      ]
     },
     "execution_count": 183,
     "metadata": {},
     "output_type": "execute_result"
    }
   ],
   "source": [
    "# width, height = 101, 103\n",
    "width, height = 11, 7\n",
    "\n",
    "mid_x, mid_y = width // 2, height // 2\n",
    "\n",
    "\n",
    "final_positions = [\n",
    "    tuple((pos + vel * 100) % [width, height]) for (pos, vel) in parsed_data\n",
    "]\n",
    "final_positions"
   ]
  },
  {
   "cell_type": "code",
   "execution_count": 184,
   "id": "4bbf44b3-120a-4316-8d07-0cabe979ae12",
   "metadata": {},
   "outputs": [
    {
     "data": {
      "text/plain": [
       "Counter({(True, False): 4,\n",
       "         (False, True): 3,\n",
       "         (True, True): 1,\n",
       "         (False, False): 1})"
      ]
     },
     "execution_count": 184,
     "metadata": {},
     "output_type": "execute_result"
    }
   ],
   "source": [
    "c = Counter(\n",
    "    ((x < mid_x), (y < mid_y)) for x, y in final_positions if x != mid_x and y != mid_y\n",
    ")\n",
    "c"
   ]
  },
  {
   "cell_type": "code",
   "execution_count": 185,
   "id": "424e1d3c-510c-44f9-8d8b-a11c543bacaa",
   "metadata": {},
   "outputs": [
    {
     "data": {
      "text/plain": [
       "12"
      ]
     },
     "execution_count": 185,
     "metadata": {},
     "output_type": "execute_result"
    }
   ],
   "source": [
    "math.prod(c.values())"
   ]
  },
  {
   "cell_type": "markdown",
   "id": "0a7a9865",
   "metadata": {},
   "source": [
    "# Part 1"
   ]
  },
  {
   "cell_type": "code",
   "execution_count": 148,
   "id": "f8ae32a7",
   "metadata": {},
   "outputs": [],
   "source": [
    "puzzle_input = Path(\"inputs/14.txt\").read_text()"
   ]
  },
  {
   "cell_type": "markdown",
   "id": "15159e2f",
   "metadata": {},
   "source": [
    "# Part 2\n"
   ]
  },
  {
   "cell_type": "code",
   "execution_count": null,
   "id": "51a3ccaa-fe59-4f60-b6ba-64f1fccfebdc",
   "metadata": {},
   "outputs": [],
   "source": []
  }
 ],
 "metadata": {
  "kernelspec": {
   "display_name": "Python [conda env:base] *",
   "language": "python",
   "name": "conda-base-py"
  },
  "language_info": {
   "codemirror_mode": {
    "name": "ipython",
    "version": 3
   },
   "file_extension": ".py",
   "mimetype": "text/x-python",
   "name": "python",
   "nbconvert_exporter": "python",
   "pygments_lexer": "ipython3",
   "version": "3.12.7"
  }
 },
 "nbformat": 4,
 "nbformat_minor": 5
}

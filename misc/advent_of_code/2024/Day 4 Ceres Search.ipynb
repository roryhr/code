{
 "cells": [
  {
   "cell_type": "markdown",
   "id": "0b39d45f",
   "metadata": {},
   "source": [
    "# Part 1 Example"
   ]
  },
  {
   "cell_type": "code",
   "execution_count": 3,
   "id": "9302dcdb",
   "metadata": {},
   "outputs": [],
   "source": [
    "puzzle_input = \"\"\"\n",
    "MMMSXXMASM\n",
    "MSAMXMSMSA\n",
    "AMXSXMAAMM\n",
    "MSAMASMSMX\n",
    "XMASAMXAMM\n",
    "XXAMMXXAMA\n",
    "SMSMSASXSS\n",
    "SAXAMASAAA\n",
    "MAMMMXMMMM\n",
    "MXMXAXMASX\n",
    "\"\"\""
   ]
  },
  {
   "cell_type": "code",
   "execution_count": 4,
   "id": "bad94041",
   "metadata": {},
   "outputs": [],
   "source": [
    "lines = puzzle_input.strip().split(\"\\n\")"
   ]
  },
  {
   "cell_type": "code",
   "execution_count": 5,
   "id": "376c8ac7-f31d-4ca3-8928-f7ad42493a09",
   "metadata": {},
   "outputs": [
    {
     "name": "stdout",
     "output_type": "stream",
     "text": [
      "Rows: 10\n",
      "Columns: 10\n"
     ]
    }
   ],
   "source": [
    "print(\"Rows:\", len(lines))\n",
    "print(\"Columns:\", len(lines[0]))"
   ]
  },
  {
   "cell_type": "code",
   "execution_count": 6,
   "id": "7e2e6fb1-e6b3-4dc6-b23d-6ae18b947615",
   "metadata": {},
   "outputs": [],
   "source": [
    "possible_matches = []\n",
    "\n",
    "for r in range(len(lines)):\n",
    "    for c in range(len(lines[0])):\n",
    "        # Horizonatal\n",
    "        possible_matches.append((lines[r][c : (c + 4)], r))\n",
    "\n",
    "        # Vertical\n",
    "        if r < 7:\n",
    "            possible_matches.append((\"\".join(lines[r + i][c] for i in range(4)), r))\n",
    "\n",
    "        # Diagonal right\n",
    "        if r < 7 and c < 7:\n",
    "            possible_matches.append((\"\".join(lines[r + i][c + i] for i in range(4)), r))\n",
    "\n",
    "        # Diagonal left\n",
    "        if r < 7 and c < 7:\n",
    "            possible_matches.append(\n",
    "                (\"\".join(lines[r + i][c + 3 - i] for i in range(4)), r)\n",
    "            )\n",
    "\n",
    "# possible_matches"
   ]
  },
  {
   "cell_type": "code",
   "execution_count": 7,
   "id": "ebefba7f-e219-47e2-a8f9-3c2700295e87",
   "metadata": {},
   "outputs": [
    {
     "data": {
      "text/plain": [
       "[('XMAS', 0),\n",
       " ('XMAS', 0),\n",
       " ('SAMX', 1),\n",
       " ('SAMX', 1),\n",
       " ('SAMX', 2),\n",
       " ('SAMX', 2),\n",
       " ('XMAS', 3),\n",
       " ('XMAS', 3),\n",
       " ('XMAS', 4),\n",
       " ('SAMX', 4),\n",
       " ('SAMX', 6),\n",
       " ('SAMX', 6),\n",
       " ('SAMX', 6),\n",
       " ('SAMX', 6),\n",
       " ('SAMX', 6),\n",
       " ('SAMX', 6),\n",
       " ('SAMX', 6),\n",
       " ('XMAS', 9)]"
      ]
     },
     "execution_count": 7,
     "metadata": {},
     "output_type": "execute_result"
    }
   ],
   "source": [
    "matches = list(filter(lambda x: x[0] in [\"XMAS\", \"SAMX\"], possible_matches))\n",
    "matches"
   ]
  },
  {
   "cell_type": "code",
   "execution_count": 8,
   "id": "68e28ec9-0ecc-4ece-abd4-f953584caf70",
   "metadata": {},
   "outputs": [
    {
     "data": {
      "text/plain": [
       "18"
      ]
     },
     "execution_count": 8,
     "metadata": {},
     "output_type": "execute_result"
    }
   ],
   "source": [
    "len(matches)"
   ]
  },
  {
   "cell_type": "code",
   "execution_count": 11,
   "id": "6ff531dd-afbf-4a89-87d9-74bdabc4fa96",
   "metadata": {},
   "outputs": [],
   "source": [
    "def search(lines):\n",
    "    possible_matches = []\n",
    "\n",
    "    n_rows = len(lines)\n",
    "    n_cols = len(lines[0])\n",
    "\n",
    "    for r in range(n_rows):\n",
    "        for c in range(n_cols):\n",
    "            # Horizonatal\n",
    "            possible_matches.append((lines[r][c : (c + 4)], r))\n",
    "\n",
    "            # Vertical\n",
    "            if r < (n_rows - 3):\n",
    "                possible_matches.append((\"\".join(lines[r + i][c] for i in range(4)), r))\n",
    "\n",
    "            # Diagonal right\n",
    "            if r < (n_rows - 3) and c < (n_cols - 3):\n",
    "                possible_matches.append(\n",
    "                    (\"\".join(lines[r + i][c + i] for i in range(4)), r)\n",
    "                )\n",
    "\n",
    "            # Diagonal left\n",
    "            if r < (n_rows - 3) and c < (n_cols - 3):\n",
    "                possible_matches.append(\n",
    "                    (\"\".join(lines[r + i][c + 3 - i] for i in range(4)), r)\n",
    "                )\n",
    "    matches = list(filter(lambda x: x[0] in [\"XMAS\", \"SAMX\"], possible_matches))\n",
    "    return len(matches)"
   ]
  },
  {
   "cell_type": "code",
   "execution_count": 12,
   "id": "671331cd-69fc-42de-8e5e-372b6489a0f1",
   "metadata": {},
   "outputs": [
    {
     "data": {
      "text/plain": [
       "18"
      ]
     },
     "execution_count": 12,
     "metadata": {},
     "output_type": "execute_result"
    }
   ],
   "source": [
    "search(lines)"
   ]
  },
  {
   "cell_type": "markdown",
   "id": "0a7a9865",
   "metadata": {},
   "source": [
    "# Part 1"
   ]
  },
  {
   "cell_type": "code",
   "execution_count": 13,
   "id": "f8ae32a7",
   "metadata": {},
   "outputs": [],
   "source": [
    "with open(\"inputs/4.txt\") as f:\n",
    "    big_puzzle_input = f.read()"
   ]
  },
  {
   "cell_type": "code",
   "execution_count": 14,
   "id": "b4c102c1",
   "metadata": {},
   "outputs": [
    {
     "data": {
      "text/plain": [
       "2390"
      ]
     },
     "execution_count": 14,
     "metadata": {},
     "output_type": "execute_result"
    }
   ],
   "source": [
    "search(big_puzzle_input.strip().split(\"\\n\"))"
   ]
  },
  {
   "cell_type": "markdown",
   "id": "15159e2f",
   "metadata": {},
   "source": [
    "# Part 2\n",
    "\n"
   ]
  },
  {
   "cell_type": "code",
   "execution_count": 15,
   "id": "8eb96f55-e138-4412-a404-6a5ba8d65bb9",
   "metadata": {},
   "outputs": [
    {
     "data": {
      "text/plain": [
       "['MMMSXXMASM',\n",
       " 'MSAMXMSMSA',\n",
       " 'AMXSXMAAMM',\n",
       " 'MSAMASMSMX',\n",
       " 'XMASAMXAMM',\n",
       " 'XXAMMXXAMA',\n",
       " 'SMSMSASXSS',\n",
       " 'SAXAMASAAA',\n",
       " 'MAMMMXMMMM',\n",
       " 'MXMXAXMASX']"
      ]
     },
     "execution_count": 15,
     "metadata": {},
     "output_type": "execute_result"
    }
   ],
   "source": [
    "lines"
   ]
  },
  {
   "cell_type": "code",
   "execution_count": 30,
   "id": "fe2537ee-ece4-4ca0-b81a-e471bdd20d25",
   "metadata": {},
   "outputs": [
    {
     "data": {
      "text/plain": [
       "9"
      ]
     },
     "execution_count": 30,
     "metadata": {},
     "output_type": "execute_result"
    }
   ],
   "source": [
    "def x_mas_search(lines):\n",
    "    possible_matches = []\n",
    "\n",
    "    n_rows = len(lines)\n",
    "    n_cols = len(lines[0])\n",
    "\n",
    "    for r in range(n_rows - 2):\n",
    "        for c in range(n_cols - 2):\n",
    "            x_mas_list = []\n",
    "            x_mas_list.append(lines[r][c])\n",
    "            x_mas_list.append(lines[r + 1][c + 1])\n",
    "            x_mas_list.append(lines[r + 2][c + 2])\n",
    "\n",
    "            x_mas_list.append(lines[r][c + 2])\n",
    "            x_mas_list.append(lines[r + 1][c + 1])\n",
    "            x_mas_list.append(lines[r + 2][c])\n",
    "            possible_matches.append((\"\".join(x_mas_list), r, c))\n",
    "\n",
    "    matches = list(\n",
    "        filter(\n",
    "            lambda x: x[0] in [\"MASMAS\", \"SAMMAS\", \"MASSAM\", \"SAMSAM\"], possible_matches\n",
    "        )\n",
    "    )\n",
    "    return len(matches)\n",
    "\n",
    "\n",
    "x_mas_search(lines)"
   ]
  },
  {
   "cell_type": "code",
   "execution_count": 31,
   "id": "09ba512e-30ed-498b-b7d6-e72fb440e7a2",
   "metadata": {},
   "outputs": [
    {
     "data": {
      "text/plain": [
       "1809"
      ]
     },
     "execution_count": 31,
     "metadata": {},
     "output_type": "execute_result"
    }
   ],
   "source": [
    "x_mas_search(big_puzzle_input.strip().split(\"\\n\"))"
   ]
  },
  {
   "cell_type": "code",
   "execution_count": null,
   "id": "d6db6a8e-24a9-4d55-8223-dd2f6733bf65",
   "metadata": {},
   "outputs": [],
   "source": []
  }
 ],
 "metadata": {
  "kernelspec": {
   "display_name": "Python [conda env:base] *",
   "language": "python",
   "name": "conda-base-py"
  },
  "language_info": {
   "codemirror_mode": {
    "name": "ipython",
    "version": 3
   },
   "file_extension": ".py",
   "mimetype": "text/x-python",
   "name": "python",
   "nbconvert_exporter": "python",
   "pygments_lexer": "ipython3",
   "version": "3.12.7"
  }
 },
 "nbformat": 4,
 "nbformat_minor": 5
}

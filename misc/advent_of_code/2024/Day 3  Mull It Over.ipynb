{
 "cells": [
  {
   "cell_type": "markdown",
   "id": "0b39d45f",
   "metadata": {},
   "source": [
    "# Example"
   ]
  },
  {
   "cell_type": "code",
   "execution_count": 1,
   "id": "6933079e-c882-472d-b83a-987fdb690112",
   "metadata": {},
   "outputs": [],
   "source": [
    "import re"
   ]
  },
  {
   "cell_type": "code",
   "execution_count": 2,
   "id": "9302dcdb",
   "metadata": {},
   "outputs": [],
   "source": [
    "puzzle_input = \"\"\"\n",
    "xmul(2,4)%&mul[3,7]!@^do_not_mul(5,5)+mul(32,64]then(mul(11,8)mul(8,5))\n",
    "\"\"\""
   ]
  },
  {
   "cell_type": "code",
   "execution_count": 3,
   "id": "bad94041",
   "metadata": {},
   "outputs": [],
   "source": [
    "text = puzzle_input.strip()"
   ]
  },
  {
   "cell_type": "code",
   "execution_count": 4,
   "id": "376c8ac7-f31d-4ca3-8928-f7ad42493a09",
   "metadata": {},
   "outputs": [
    {
     "data": {
      "text/plain": [
       "161"
      ]
     },
     "execution_count": 4,
     "metadata": {},
     "output_type": "execute_result"
    }
   ],
   "source": [
    "pattern = r\"mul\\(([\\d]+),([\\d]+)\\)\"\n",
    "\n",
    "matches = re.findall(pattern, text)\n",
    "\n",
    "total = 0\n",
    "for match in matches:\n",
    "    num1 = int(match[0])\n",
    "    num2 = int(match[1])\n",
    "    total += num1 * num2\n",
    "\n",
    "total"
   ]
  },
  {
   "cell_type": "markdown",
   "id": "0a7a9865",
   "metadata": {},
   "source": [
    "# Part 1"
   ]
  },
  {
   "cell_type": "code",
   "execution_count": 5,
   "id": "f8ae32a7",
   "metadata": {},
   "outputs": [],
   "source": [
    "with open(\"inputs/3.txt\") as f:\n",
    "    big_puzzle_input = f.read()"
   ]
  },
  {
   "cell_type": "code",
   "execution_count": 6,
   "id": "b4c102c1",
   "metadata": {},
   "outputs": [
    {
     "data": {
      "text/plain": [
       "187833789"
      ]
     },
     "execution_count": 6,
     "metadata": {},
     "output_type": "execute_result"
    }
   ],
   "source": [
    "matches = re.findall(pattern, big_puzzle_input)\n",
    "\n",
    "total = 0\n",
    "for match in matches:\n",
    "    num1 = int(match[0])\n",
    "    num2 = int(match[1])\n",
    "    total += num1 * num2\n",
    "\n",
    "total"
   ]
  },
  {
   "cell_type": "markdown",
   "id": "15159e2f",
   "metadata": {},
   "source": [
    "# Part 2\n",
    "\n"
   ]
  },
  {
   "cell_type": "code",
   "execution_count": 7,
   "id": "8eb96f55-e138-4412-a404-6a5ba8d65bb9",
   "metadata": {},
   "outputs": [],
   "source": [
    "text = \"xmul(2,4)&mul[3,7]!^don't()_mul(5,5)+mul(32,64](mul(11,8)undo()?mul(8,5))\""
   ]
  },
  {
   "cell_type": "code",
   "execution_count": 8,
   "id": "fe2537ee-ece4-4ca0-b81a-e471bdd20d25",
   "metadata": {},
   "outputs": [
    {
     "data": {
      "text/plain": [
       "48"
      ]
     },
     "execution_count": 8,
     "metadata": {},
     "output_type": "execute_result"
    }
   ],
   "source": [
    "pattern = r\"(do\\(\\)|don't\\(\\))|mul\\((\\d+),(\\d+)\\)\"\n",
    "\n",
    "matches = re.findall(pattern, text)\n",
    "\n",
    "# Initialize state and total\n",
    "enabled = True\n",
    "total = 0\n",
    "\n",
    "# Process instructions\n",
    "for match in matches:\n",
    "    if match[0] == \"do()\":\n",
    "        enabled = True\n",
    "    elif match[0] == \"don't()\":\n",
    "        enabled = False\n",
    "    elif match[1] and match[2] and enabled:\n",
    "        x, y = int(match[1]), int(match[2])\n",
    "        total += x * y\n",
    "\n",
    "\n",
    "total"
   ]
  },
  {
   "cell_type": "code",
   "execution_count": null,
   "id": "09ba512e-30ed-498b-b7d6-e72fb440e7a2",
   "metadata": {},
   "outputs": [],
   "source": []
  }
 ],
 "metadata": {
  "kernelspec": {
   "display_name": "Python [conda env:base] *",
   "language": "python",
   "name": "conda-base-py"
  },
  "language_info": {
   "codemirror_mode": {
    "name": "ipython",
    "version": 3
   },
   "file_extension": ".py",
   "mimetype": "text/x-python",
   "name": "python",
   "nbconvert_exporter": "python",
   "pygments_lexer": "ipython3",
   "version": "3.12.7"
  }
 },
 "nbformat": 4,
 "nbformat_minor": 5
}

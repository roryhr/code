{
 "cells": [
  {
   "cell_type": "markdown",
   "id": "0b39d45f",
   "metadata": {},
   "source": [
    "# Part 1 Example"
   ]
  },
  {
   "cell_type": "code",
   "execution_count": 125,
   "id": "c244efd4-3dbc-4bd1-9299-02ff5f734d08",
   "metadata": {},
   "outputs": [],
   "source": [
    "from pathlib import Path\n",
    "\n",
    "import numpy as np"
   ]
  },
  {
   "cell_type": "code",
   "execution_count": 126,
   "id": "9302dcdb",
   "metadata": {},
   "outputs": [],
   "source": [
    "puzzle_input = \"\"\"\n",
    "....#.....\n",
    ".........#\n",
    "..........\n",
    "..#.......\n",
    ".......#..\n",
    "..........\n",
    ".#..^.....\n",
    "........#.\n",
    "#.........\n",
    "......#...\n",
    "\"\"\""
   ]
  },
  {
   "cell_type": "code",
   "execution_count": 127,
   "id": "49e26e73",
   "metadata": {},
   "outputs": [],
   "source": [
    "obstacles = []\n",
    "lines = puzzle_input.strip().split(\"\\n\")\n",
    "for r, line in enumerate(reversed(lines)):\n",
    "    for c, l in enumerate(line):\n",
    "        if l == \"#\":\n",
    "            obstacles.append((c, r))\n",
    "\n",
    "        if l == \"^\":\n",
    "            start = (c, r)\n",
    "            direction = (0, 1)\n",
    "\n",
    "bounds = len(lines[0]), len(lines)\n",
    "bounds = np.array(bounds)"
   ]
  },
  {
   "cell_type": "markdown",
   "id": "6461df9b",
   "metadata": {},
   "source": []
  },
  {
   "cell_type": "code",
   "execution_count": 128,
   "id": "95969875-408c-4649-bd94-59f6a21701c8",
   "metadata": {},
   "outputs": [
    {
     "data": {
      "text/plain": [
       "41"
      ]
     },
     "execution_count": 128,
     "metadata": {},
     "output_type": "execute_result"
    }
   ],
   "source": [
    "rotation_matrix = np.array([[0, -1], [1, 0]])\n",
    "\n",
    "position = np.array(start)\n",
    "direction = np.array(direction)\n",
    "positions_visited = []\n",
    "bounds = np.array(bounds)\n",
    "\n",
    "\n",
    "def is_inbounds(position):\n",
    "    return all(position < bounds) and all(0 <= position)\n",
    "\n",
    "\n",
    "while is_inbounds(position):\n",
    "    # print(position)\n",
    "    positions_visited.append(tuple(position))\n",
    "\n",
    "    if tuple(position + direction) in obstacles:\n",
    "        # print(\"Obstacle\")\n",
    "\n",
    "        direction = direction @ rotation_matrix\n",
    "\n",
    "    position += direction\n",
    "\n",
    "len(set(positions_visited))"
   ]
  },
  {
   "cell_type": "markdown",
   "id": "0a7a9865",
   "metadata": {},
   "source": [
    "# Part 1"
   ]
  },
  {
   "cell_type": "code",
   "execution_count": 129,
   "id": "f8ae32a7",
   "metadata": {},
   "outputs": [],
   "source": [
    "puzzle_input = Path(\"inputs/6.txt\").read_text()"
   ]
  },
  {
   "cell_type": "markdown",
   "id": "15159e2f",
   "metadata": {},
   "source": [
    "# Part 2\n"
   ]
  },
  {
   "cell_type": "code",
   "execution_count": null,
   "id": "5401aabe-7f78-422c-988f-9c8b1fb48d5f",
   "metadata": {},
   "outputs": [],
   "source": []
  }
 ],
 "metadata": {
  "kernelspec": {
   "display_name": "base",
   "language": "python",
   "name": "python3"
  },
  "language_info": {
   "codemirror_mode": {
    "name": "ipython",
    "version": 3
   },
   "file_extension": ".py",
   "mimetype": "text/x-python",
   "name": "python",
   "nbconvert_exporter": "python",
   "pygments_lexer": "ipython3",
   "version": "3.12.7"
  }
 },
 "nbformat": 4,
 "nbformat_minor": 5
}

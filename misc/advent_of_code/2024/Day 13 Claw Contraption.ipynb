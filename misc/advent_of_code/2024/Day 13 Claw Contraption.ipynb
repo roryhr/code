{
 "cells": [
  {
   "cell_type": "markdown",
   "id": "0b39d45f",
   "metadata": {},
   "source": [
    "# Part 1 Example\n",
    "\n",
    "\n",
    "TIL\n",
    "\n",
    "Python's float.is_integer doesn't really work\n",
    "\n",
    "int() truncates, round() is what I want here\n",
    "\n",
    "Linear algebra FTW!"
   ]
  },
  {
   "cell_type": "code",
   "execution_count": 1,
   "id": "c244efd4-3dbc-4bd1-9299-02ff5f734d08",
   "metadata": {},
   "outputs": [],
   "source": [
    "import numpy as np\n",
    "import re\n",
    "from pathlib import Path"
   ]
  },
  {
   "cell_type": "code",
   "execution_count": 2,
   "id": "9302dcdb",
   "metadata": {},
   "outputs": [],
   "source": [
    "puzzle_input = \"\"\"\n",
    "Button A: X+94, Y+34\n",
    "Button B: X+22, Y+67\n",
    "Prize: X=8400, Y=5400\n",
    "\n",
    "Button A: X+26, Y+66\n",
    "Button B: X+67, Y+21\n",
    "Prize: X=12748, Y=12176\n",
    "\n",
    "Button A: X+17, Y+86\n",
    "Button B: X+84, Y+37\n",
    "Prize: X=7870, Y=6450\n",
    "\n",
    "Button A: X+69, Y+23\n",
    "Button B: X+27, Y+71\n",
    "Prize: X=18641, Y=10279\n",
    "\"\"\""
   ]
  },
  {
   "cell_type": "code",
   "execution_count": 3,
   "id": "49e26e73",
   "metadata": {},
   "outputs": [
    {
     "data": {
      "text/plain": [
       "[94, 34, 22, 67, 8400, 5400]"
      ]
     },
     "execution_count": 3,
     "metadata": {},
     "output_type": "execute_result"
    }
   ],
   "source": [
    "text = puzzle_input.strip().split(\"\\n\\n\")[0]\n",
    "\n",
    "pattern = r\"[XY][+=](\\d+)\"\n",
    "\n",
    "numbers = list(map(int, re.findall(pattern, text)))\n",
    "numbers"
   ]
  },
  {
   "cell_type": "code",
   "execution_count": 4,
   "id": "1806a6da-428c-47c9-9d9f-65230d2ae26a",
   "metadata": {},
   "outputs": [],
   "source": [
    "def solve_machine(numbers):\n",
    "    [a_x, a_y, b_x, b_y, *prize] = numbers\n",
    "\n",
    "    buttons = [[a_x, b_x], [a_y, b_y]]\n",
    "    n_a, n_b = np.linalg.solve(buttons, prize)\n",
    "    if np.isclose(n_a, round(n_a)) and np.isclose(n_b, round(n_b)):\n",
    "        return round(n_a) * 3 + round(n_b) * 1\n",
    "\n",
    "    return None"
   ]
  },
  {
   "cell_type": "code",
   "execution_count": 5,
   "id": "f1ccde50-eb48-4c87-86b1-acf4cddc7ed1",
   "metadata": {},
   "outputs": [
    {
     "data": {
      "text/plain": [
       "280"
      ]
     },
     "execution_count": 5,
     "metadata": {},
     "output_type": "execute_result"
    }
   ],
   "source": [
    "solve_machine(numbers)"
   ]
  },
  {
   "cell_type": "code",
   "execution_count": 6,
   "id": "5923dddc-2f6f-489c-a7f2-67286d9e2ed0",
   "metadata": {},
   "outputs": [],
   "source": [
    "tokens = []\n",
    "\n",
    "for text in puzzle_input.strip().split(\"\\n\\n\"):\n",
    "    numbers = list(map(int, re.findall(pattern, text)))\n",
    "    tokens.append(solve_machine(numbers))"
   ]
  },
  {
   "cell_type": "code",
   "execution_count": 7,
   "id": "fbda9717-8620-46e6-bd8f-28194c45bd69",
   "metadata": {},
   "outputs": [
    {
     "data": {
      "text/plain": [
       "480"
      ]
     },
     "execution_count": 7,
     "metadata": {},
     "output_type": "execute_result"
    }
   ],
   "source": [
    "sum(t for t in tokens if t is not None)"
   ]
  },
  {
   "cell_type": "code",
   "execution_count": 8,
   "id": "2471bb3c-162e-4dd4-96c1-4de4256b8762",
   "metadata": {},
   "outputs": [
    {
     "data": {
      "text/plain": [
       "4"
      ]
     },
     "execution_count": 8,
     "metadata": {},
     "output_type": "execute_result"
    }
   ],
   "source": [
    "len(tokens)"
   ]
  },
  {
   "cell_type": "code",
   "execution_count": 9,
   "id": "2e43c027-012f-4003-838d-d19232c07870",
   "metadata": {},
   "outputs": [],
   "source": [
    "def solve(numbers):\n",
    "    \"\"\"Matrix refactor\"\"\"\n",
    "    [a_x, a_y, b_x, b_y, *prize] = numbers\n",
    "\n",
    "    buttons = [[a_x, b_x], [a_y, b_y]]\n",
    "    presses = np.linalg.solve(buttons, prize)\n",
    "    if all(np.isclose(presses, np.round(presses))):\n",
    "        return presses @ [3, 1]\n",
    "\n",
    "    return None"
   ]
  },
  {
   "cell_type": "code",
   "execution_count": 10,
   "id": "08201951-4d82-42b7-b9cd-a35ba892f692",
   "metadata": {},
   "outputs": [],
   "source": [
    "tokens = []\n",
    "\n",
    "for text in puzzle_input.strip().split(\"\\n\\n\"):\n",
    "    numbers = list(map(int, re.findall(pattern, text)))\n",
    "    tokens.append(solve(numbers))"
   ]
  },
  {
   "cell_type": "code",
   "execution_count": 11,
   "id": "44f4d13e-4a45-4e98-97c4-fd75eba65f28",
   "metadata": {},
   "outputs": [
    {
     "data": {
      "text/plain": [
       "480.0"
      ]
     },
     "execution_count": 11,
     "metadata": {},
     "output_type": "execute_result"
    }
   ],
   "source": [
    "sum(t for t in tokens if t is not None)"
   ]
  },
  {
   "cell_type": "code",
   "execution_count": null,
   "id": "bdfed267-fb7d-4193-95e1-f370c26b2912",
   "metadata": {},
   "outputs": [],
   "source": []
  },
  {
   "cell_type": "code",
   "execution_count": null,
   "id": "426dfb98-3455-46d7-94be-b2ccc92b72ae",
   "metadata": {},
   "outputs": [],
   "source": []
  },
  {
   "cell_type": "markdown",
   "id": "0a7a9865",
   "metadata": {},
   "source": [
    "# Part 1"
   ]
  },
  {
   "cell_type": "code",
   "execution_count": 12,
   "id": "f8ae32a7",
   "metadata": {},
   "outputs": [],
   "source": [
    "puzzle_input = Path(\"inputs/13.txt\").read_text()"
   ]
  },
  {
   "cell_type": "markdown",
   "id": "15159e2f",
   "metadata": {},
   "source": [
    "# Part 2\n"
   ]
  },
  {
   "cell_type": "code",
   "execution_count": 13,
   "id": "38b92b12-ce05-4227-a364-1fc91aab4c9b",
   "metadata": {},
   "outputs": [],
   "source": [
    "def solve_machine(numbers):\n",
    "    [a_x, a_y, b_x, b_y, *prize] = numbers\n",
    "\n",
    "    buttons = [[a_x, b_x], [a_y, b_y]]\n",
    "    prize = np.array(prize) + 10000000000000\n",
    "    # print(prize)\n",
    "    n_a, n_b = np.linalg.solve(buttons, prize)\n",
    "    if np.isclose(n_a - np.round(n_a), 0, atol=0.001) and np.isclose(\n",
    "        n_b - np.round(n_b), 0, atol=0.001\n",
    "    ):\n",
    "        return n_a * 3 + n_b * 1\n",
    "    # else:\n",
    "    #     print(n_a, n_b)\n",
    "\n",
    "    return None"
   ]
  },
  {
   "cell_type": "code",
   "execution_count": 14,
   "id": "c335f078-6d87-453d-bc46-9488a2ee185e",
   "metadata": {},
   "outputs": [],
   "source": [
    "tokens = []\n",
    "\n",
    "for text in puzzle_input.strip().split(\"\\n\\n\"):\n",
    "    numbers = list(map(int, re.findall(pattern, text)))\n",
    "    tokens.append(solve_machine(numbers))"
   ]
  },
  {
   "cell_type": "code",
   "execution_count": 15,
   "id": "42c2fc44-c807-409f-9aa4-83544ecfd074",
   "metadata": {},
   "outputs": [],
   "source": [
    "# tokens"
   ]
  },
  {
   "cell_type": "code",
   "execution_count": 16,
   "id": "93be1e01-1383-408a-849a-4b4993ca74a5",
   "metadata": {},
   "outputs": [
    {
     "data": {
      "text/plain": [
       "92871736253789.0"
      ]
     },
     "execution_count": 16,
     "metadata": {},
     "output_type": "execute_result"
    }
   ],
   "source": [
    "sum(t for t in tokens if t is not None)"
   ]
  },
  {
   "cell_type": "code",
   "execution_count": 17,
   "id": "fc61eefe-b651-4a34-ab91-9d48e8730bc7",
   "metadata": {},
   "outputs": [],
   "source": [
    "def solve(numbers):\n",
    "    \"\"\"Matrix refactor\"\"\"\n",
    "    [a_x, a_y, b_x, b_y, *prize] = numbers\n",
    "\n",
    "    buttons = [[a_x, b_x], [a_y, b_y]]\n",
    "    prize = np.array(prize) + 10000000000000\n",
    "    presses = np.linalg.solve(buttons, prize)\n",
    "    if all(np.isclose(presses - np.round(presses), 0, atol=0.001)):\n",
    "        return presses @ [3, 1]"
   ]
  },
  {
   "cell_type": "code",
   "execution_count": 18,
   "id": "249fb47a-5069-498b-ab31-0bd6bf9e6623",
   "metadata": {},
   "outputs": [],
   "source": [
    "tokens = []\n",
    "\n",
    "for text in puzzle_input.strip().split(\"\\n\\n\"):\n",
    "    numbers = list(map(int, re.findall(pattern, text)))\n",
    "    tokens.append(solve(numbers))"
   ]
  },
  {
   "cell_type": "code",
   "execution_count": 19,
   "id": "38f4fee9-1cc4-43e9-8cb6-64ec52b62bf5",
   "metadata": {},
   "outputs": [],
   "source": [
    "# tokens"
   ]
  },
  {
   "cell_type": "code",
   "execution_count": null,
   "id": "51a3ccaa-fe59-4f60-b6ba-64f1fccfebdc",
   "metadata": {},
   "outputs": [],
   "source": []
  }
 ],
 "metadata": {
  "kernelspec": {
   "display_name": "Python [conda env:base] *",
   "language": "python",
   "name": "conda-base-py"
  },
  "language_info": {
   "codemirror_mode": {
    "name": "ipython",
    "version": 3
   },
   "file_extension": ".py",
   "mimetype": "text/x-python",
   "name": "python",
   "nbconvert_exporter": "python",
   "pygments_lexer": "ipython3",
   "version": "3.12.7"
  }
 },
 "nbformat": 4,
 "nbformat_minor": 5
}

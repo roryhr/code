{
 "cells": [
  {
   "cell_type": "markdown",
   "id": "0b39d45f",
   "metadata": {},
   "source": [
    "# Part 1 Example\n",
    "\n",
    "\n",
    "TIL\n",
    "\n",
    "Python's float.is_integer doesn't really work\n",
    "\n",
    "int() truncates, round() is what I want here\n",
    "\n",
    "Linear algebra FTW!"
   ]
  },
  {
   "cell_type": "code",
   "execution_count": 57,
   "id": "c244efd4-3dbc-4bd1-9299-02ff5f734d08",
   "metadata": {},
   "outputs": [],
   "source": [
    "import numpy as np\n",
    "import re\n",
    "from pathlib import Path"
   ]
  },
  {
   "cell_type": "code",
   "execution_count": 175,
   "id": "9302dcdb",
   "metadata": {},
   "outputs": [],
   "source": [
    "puzzle_input = \"\"\"\n",
    "Button A: X+94, Y+34\n",
    "Button B: X+22, Y+67\n",
    "Prize: X=8400, Y=5400\n",
    "\n",
    "Button A: X+26, Y+66\n",
    "Button B: X+67, Y+21\n",
    "Prize: X=12748, Y=12176\n",
    "\n",
    "Button A: X+17, Y+86\n",
    "Button B: X+84, Y+37\n",
    "Prize: X=7870, Y=6450\n",
    "\n",
    "Button A: X+69, Y+23\n",
    "Button B: X+27, Y+71\n",
    "Prize: X=18641, Y=10279\n",
    "\"\"\""
   ]
  },
  {
   "cell_type": "code",
   "execution_count": 97,
   "id": "49e26e73",
   "metadata": {},
   "outputs": [
    {
     "data": {
      "text/plain": [
       "[70, 28, 28, 68, 256, 2948]"
      ]
     },
     "execution_count": 97,
     "metadata": {},
     "output_type": "execute_result"
    }
   ],
   "source": [
    "pattern = r\"[XY][+=](\\d+)\"\n",
    "\n",
    "numbers = list(map(int, re.findall(pattern, text)))\n",
    "numbers"
   ]
  },
  {
   "cell_type": "code",
   "execution_count": 104,
   "id": "1806a6da-428c-47c9-9d9f-65230d2ae26a",
   "metadata": {},
   "outputs": [],
   "source": [
    "def solve_machine(numbers):\n",
    "    [a_x, a_y, b_x, b_y, *prize] = numbers\n",
    "\n",
    "    buttons = [[a_x, b_x], [a_y, b_y]]\n",
    "    n_a, n_b = np.linalg.solve(buttons, prize)\n",
    "    if np.isclose(n_a, round(n_a)) and np.isclose(n_b, round(n_b)):\n",
    "        return round(n_a) * 3 + round(n_b) * 1\n",
    "\n",
    "    return None"
   ]
  },
  {
   "cell_type": "code",
   "execution_count": 105,
   "id": "f1ccde50-eb48-4c87-86b1-acf4cddc7ed1",
   "metadata": {},
   "outputs": [],
   "source": [
    "solve_machine(numbers)"
   ]
  },
  {
   "cell_type": "code",
   "execution_count": 106,
   "id": "5923dddc-2f6f-489c-a7f2-67286d9e2ed0",
   "metadata": {},
   "outputs": [],
   "source": [
    "tokens = []\n",
    "\n",
    "for text in puzzle_input.strip().split(\"\\n\\n\"):\n",
    "    numbers = list(map(int, re.findall(pattern, text)))\n",
    "    tokens.append(solve_machine(numbers))"
   ]
  },
  {
   "cell_type": "code",
   "execution_count": 107,
   "id": "fbda9717-8620-46e6-bd8f-28194c45bd69",
   "metadata": {},
   "outputs": [
    {
     "data": {
      "text/plain": [
       "32067"
      ]
     },
     "execution_count": 107,
     "metadata": {},
     "output_type": "execute_result"
    }
   ],
   "source": [
    "sum(t for t in tokens if t is not None)"
   ]
  },
  {
   "cell_type": "code",
   "execution_count": 108,
   "id": "2471bb3c-162e-4dd4-96c1-4de4256b8762",
   "metadata": {},
   "outputs": [
    {
     "data": {
      "text/plain": [
       "320"
      ]
     },
     "execution_count": 108,
     "metadata": {},
     "output_type": "execute_result"
    }
   ],
   "source": [
    "len(tokens)"
   ]
  },
  {
   "cell_type": "markdown",
   "id": "0a7a9865",
   "metadata": {},
   "source": [
    "# Part 1"
   ]
  },
  {
   "cell_type": "code",
   "execution_count": 202,
   "id": "f8ae32a7",
   "metadata": {},
   "outputs": [],
   "source": [
    "puzzle_input = Path(\"inputs/13.txt\").read_text()"
   ]
  },
  {
   "cell_type": "markdown",
   "id": "15159e2f",
   "metadata": {},
   "source": [
    "# Part 2\n"
   ]
  },
  {
   "cell_type": "code",
   "execution_count": 98,
   "id": "5401aabe-7f78-422c-988f-9c8b1fb48d5f",
   "metadata": {},
   "outputs": [
    {
     "data": {
      "text/plain": [
       "[8400, 5400]"
      ]
     },
     "execution_count": 98,
     "metadata": {},
     "output_type": "execute_result"
    }
   ],
   "source": [
    "prize"
   ]
  },
  {
   "cell_type": "code",
   "execution_count": 206,
   "id": "38b92b12-ce05-4227-a364-1fc91aab4c9b",
   "metadata": {},
   "outputs": [],
   "source": [
    "def solve_machine(numbers):\n",
    "    [a_x, a_y, b_x, b_y, *prize] = numbers\n",
    "\n",
    "    buttons = [[a_x, b_x], [a_y, b_y]]\n",
    "    prize = np.array(prize) + 10000000000000\n",
    "    # print(prize)\n",
    "    n_a, n_b = np.linalg.solve(buttons, prize)\n",
    "    if np.isclose(n_a - np.round(n_a), 0, atol=0.001) and np.isclose(\n",
    "        n_b - np.round(n_b), 0, atol=0.001\n",
    "    ):\n",
    "        return n_a * 3 + n_b * 1\n",
    "    # else:\n",
    "    #     print(n_a, n_b)\n",
    "\n",
    "    return None"
   ]
  },
  {
   "cell_type": "code",
   "execution_count": 207,
   "id": "c335f078-6d87-453d-bc46-9488a2ee185e",
   "metadata": {},
   "outputs": [],
   "source": [
    "tokens = []\n",
    "\n",
    "for text in puzzle_input.strip().split(\"\\n\\n\"):\n",
    "    numbers = list(map(int, re.findall(pattern, text)))\n",
    "    tokens.append(solve_machine(numbers))"
   ]
  },
  {
   "cell_type": "code",
   "execution_count": 208,
   "id": "42c2fc44-c807-409f-9aa4-83544ecfd074",
   "metadata": {},
   "outputs": [
    {
     "data": {
      "text/plain": [
       "[None,\n",
       " 493827160886.0,\n",
       " None,\n",
       " 556552962878.0,\n",
       " None,\n",
       " None,\n",
       " 567010309677.0,\n",
       " None,\n",
       " None,\n",
       " 446265938839.0,\n",
       " None,\n",
       " None,\n",
       " None,\n",
       " 443037975112.0,\n",
       " None,\n",
       " None,\n",
       " None,\n",
       " 845771144475.0,\n",
       " None,\n",
       " 645669291516.0,\n",
       " None,\n",
       " None,\n",
       " 506329114268.0,\n",
       " None,\n",
       " None,\n",
       " None,\n",
       " None,\n",
       " 638440860448.0,\n",
       " 436869899879.0,\n",
       " 435365037658.0,\n",
       " 438053097428.0,\n",
       " None,\n",
       " 943396227440.0,\n",
       " None,\n",
       " None,\n",
       " 489510490138.0,\n",
       " None,\n",
       " None,\n",
       " None,\n",
       " 517387617592.0,\n",
       " 408163266048.0,\n",
       " None,\n",
       " None,\n",
       " 747711089402.0,\n",
       " 733390855578.0,\n",
       " 446257198079.0,\n",
       " 428782652346.0,\n",
       " None,\n",
       " 414675505041.0,\n",
       " 457227139141.00006,\n",
       " 449101796261.0,\n",
       " 497347481131.0,\n",
       " 471394037326.0,\n",
       " 683090706867.0,\n",
       " None,\n",
       " 418760469828.0,\n",
       " 498084291670.0,\n",
       " 853994491009.0,\n",
       " 493827160964.0,\n",
       " None,\n",
       " None,\n",
       " 547875064805.0,\n",
       " 455616654453.0,\n",
       " 519695465535.0,\n",
       " None,\n",
       " 942492012877.0,\n",
       " None,\n",
       " None,\n",
       " None,\n",
       " None,\n",
       " 572429907026.0,\n",
       " None,\n",
       " 425702811363.0,\n",
       " 580357143387.0,\n",
       " 555277639219.0,\n",
       " 470310037607.0,\n",
       " None,\n",
       " None,\n",
       " 637645616589.0,\n",
       " 545335086113.0,\n",
       " None,\n",
       " 548539858952.0,\n",
       " 410823622536.0,\n",
       " None,\n",
       " None,\n",
       " None,\n",
       " 642002176674.9999,\n",
       " 463917526213.0,\n",
       " None,\n",
       " 448406267246.0,\n",
       " 430107527078.0,\n",
       " 430310663488.0,\n",
       " None,\n",
       " 571748880378.0,\n",
       " None,\n",
       " None,\n",
       " None,\n",
       " None,\n",
       " None,\n",
       " 433291770486.0,\n",
       " None,\n",
       " None,\n",
       " 551128819163.0,\n",
       " None,\n",
       " None,\n",
       " 461642906455.0,\n",
       " 533159948376.0,\n",
       " 1320754718310.0,\n",
       " 453311050986.0,\n",
       " 506329114534.0,\n",
       " 430107527212.0,\n",
       " None,\n",
       " None,\n",
       " 476639925019.0,\n",
       " None,\n",
       " 516821063697.0,\n",
       " None,\n",
       " 470588235746.0,\n",
       " 441176470960.00006,\n",
       " None,\n",
       " 521312481506.0,\n",
       " None,\n",
       " 484018265686.0,\n",
       " 1007092198893.0,\n",
       " None,\n",
       " None,\n",
       " 543259557845.0,\n",
       " None,\n",
       " 440961338104.0,\n",
       " None,\n",
       " 498949579887.0,\n",
       " 497382199547.0,\n",
       " 682730925087.9999,\n",
       " 548302872316.0,\n",
       " None,\n",
       " None,\n",
       " 539932508502.0,\n",
       " 464772055058.0,\n",
       " 477401130808.0,\n",
       " None,\n",
       " None,\n",
       " 511520737688.0,\n",
       " None,\n",
       " None,\n",
       " 527363184947.0,\n",
       " 638297872993.0,\n",
       " 445595855989.0,\n",
       " 620689655646.0,\n",
       " None,\n",
       " None,\n",
       " 899299947942.0,\n",
       " None,\n",
       " 538860103912.0,\n",
       " None,\n",
       " 445505171106.0,\n",
       " None,\n",
       " None,\n",
       " None,\n",
       " 465554360356.0,\n",
       " None,\n",
       " 700389105880.0,\n",
       " 474276528230.0,\n",
       " 470464135649.0,\n",
       " 425162690403.0,\n",
       " None,\n",
       " None,\n",
       " None,\n",
       " None,\n",
       " None,\n",
       " 434782609293.0,\n",
       " 556127703677.0,\n",
       " None,\n",
       " 446009390276.0,\n",
       " None,\n",
       " None,\n",
       " 472440945187.0,\n",
       " None,\n",
       " None,\n",
       " 477223428290.0,\n",
       " 597498842109.0,\n",
       " None,\n",
       " None,\n",
       " 512321661071.0,\n",
       " 497237569456.0,\n",
       " None,\n",
       " 565600371858.0,\n",
       " 935441371390.0,\n",
       " 469127285808.0,\n",
       " None,\n",
       " 501339457048.0,\n",
       " None,\n",
       " None,\n",
       " None,\n",
       " None,\n",
       " None,\n",
       " 808823530971.0,\n",
       " None,\n",
       " None,\n",
       " None,\n",
       " 563106797461.0,\n",
       " 449438202186.00006,\n",
       " None,\n",
       " None,\n",
       " 643216081355.0,\n",
       " 782258065401.0,\n",
       " None,\n",
       " None,\n",
       " 505689001793.0,\n",
       " None,\n",
       " 506970849321.0,\n",
       " 548523207362.0,\n",
       " 473621103952.00006,\n",
       " 493790656804.0,\n",
       " None,\n",
       " 848765431612.0,\n",
       " 486257928567.0,\n",
       " None,\n",
       " None,\n",
       " None,\n",
       " None,\n",
       " 794016112167.0,\n",
       " None,\n",
       " 708079931445.0,\n",
       " 429138117836.0,\n",
       " None,\n",
       " None,\n",
       " 601202405421.0,\n",
       " None,\n",
       " None,\n",
       " None,\n",
       " None,\n",
       " 622837371451.0,\n",
       " 532544379278.0,\n",
       " None,\n",
       " 521077284636.9999,\n",
       " None,\n",
       " None,\n",
       " 448275862595.0,\n",
       " None,\n",
       " None,\n",
       " None,\n",
       " None,\n",
       " 875153000401.0,\n",
       " None,\n",
       " 551917681001.0,\n",
       " None,\n",
       " None,\n",
       " None,\n",
       " None,\n",
       " None,\n",
       " None,\n",
       " 543237251166.0001,\n",
       " 555941626882.0,\n",
       " 680713128106.0,\n",
       " 579937304836.0,\n",
       " 603595891547.0,\n",
       " 597682991444.0,\n",
       " 505050505194.0,\n",
       " 519930675917.0,\n",
       " 571781160733.0,\n",
       " None,\n",
       " None,\n",
       " None,\n",
       " 682989692240.0001,\n",
       " 470588235847.0,\n",
       " 417981073286.0,\n",
       " 556569344016.0,\n",
       " 1161137440963.0,\n",
       " 623964661275.0,\n",
       " 594299576557.9999,\n",
       " 529344074072.0,\n",
       " 656077348680.0,\n",
       " None,\n",
       " None,\n",
       " 554041781042.0,\n",
       " 598831549494.0,\n",
       " 453941541821.0,\n",
       " 508173419374.0,\n",
       " None,\n",
       " 480644323388.0,\n",
       " None,\n",
       " 1097285068316.0,\n",
       " 438073394954.0,\n",
       " 659279779505.0,\n",
       " 919540231028.0,\n",
       " 763016159021.0,\n",
       " 439128883145.0,\n",
       " 535714286219.0,\n",
       " None,\n",
       " 506912442964.0,\n",
       " 488721804847.0,\n",
       " 490322580791.0,\n",
       " None,\n",
       " 629370630525.0,\n",
       " 526574803678.0,\n",
       " None,\n",
       " None,\n",
       " 420743640617.0,\n",
       " None,\n",
       " 553814003107.0,\n",
       " 563909774882.0,\n",
       " None,\n",
       " None,\n",
       " None,\n",
       " None,\n",
       " None,\n",
       " 566037736520.0,\n",
       " None,\n",
       " 421052631810.0,\n",
       " None,\n",
       " None,\n",
       " None,\n",
       " None,\n",
       " 545262044247.0,\n",
       " 628742515304.0,\n",
       " None,\n",
       " None,\n",
       " 564417177858.0,\n",
       " 532128514691.0,\n",
       " 407444668009.0]"
      ]
     },
     "execution_count": 208,
     "metadata": {},
     "output_type": "execute_result"
    }
   ],
   "source": [
    "tokens"
   ]
  },
  {
   "cell_type": "code",
   "execution_count": 209,
   "id": "93be1e01-1383-408a-849a-4b4993ca74a5",
   "metadata": {},
   "outputs": [
    {
     "data": {
      "text/plain": [
       "92871736253789.0"
      ]
     },
     "execution_count": 209,
     "metadata": {},
     "output_type": "execute_result"
    }
   ],
   "source": [
    "sum(t for t in tokens if t is not None)"
   ]
  }
 ],
 "metadata": {
  "kernelspec": {
   "display_name": "Python [conda env:base] *",
   "language": "python",
   "name": "conda-base-py"
  },
  "language_info": {
   "codemirror_mode": {
    "name": "ipython",
    "version": 3
   },
   "file_extension": ".py",
   "mimetype": "text/x-python",
   "name": "python",
   "nbconvert_exporter": "python",
   "pygments_lexer": "ipython3",
   "version": "3.12.7"
  }
 },
 "nbformat": 4,
 "nbformat_minor": 5
}

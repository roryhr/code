{
 "cells": [
  {
   "cell_type": "markdown",
   "id": "0b39d45f",
   "metadata": {},
   "source": [
    "# Example"
   ]
  },
  {
   "cell_type": "code",
   "execution_count": 2,
   "id": "9302dcdb",
   "metadata": {},
   "outputs": [],
   "source": [
    "puzzle_input = \"\"\"\n",
    "3   4\n",
    "4   3\n",
    "2   5\n",
    "1   3\n",
    "3   9\n",
    "3   3\n",
    "\"\"\""
   ]
  },
  {
   "cell_type": "code",
   "execution_count": 3,
   "id": "bad94041",
   "metadata": {},
   "outputs": [
    {
     "data": {
      "text/plain": [
       "['3   4', '4   3', '2   5', '1   3', '3   9', '3   3']"
      ]
     },
     "execution_count": 3,
     "metadata": {},
     "output_type": "execute_result"
    }
   ],
   "source": [
    "split = puzzle_input.strip().split(\"\\n\")\n",
    "split"
   ]
  },
  {
   "cell_type": "code",
   "execution_count": 15,
   "id": "74765438",
   "metadata": {},
   "outputs": [],
   "source": [
    "lefts = []\n",
    "rights = []\n",
    "for s in split:\n",
    "    left, right = s.split(\"  \")\n",
    "    lefts.append(int(left.strip()))\n",
    "    rights.append(int(right.strip()))"
   ]
  },
  {
   "cell_type": "code",
   "execution_count": 19,
   "id": "0b1014cf",
   "metadata": {},
   "outputs": [
    {
     "data": {
      "text/plain": [
       "[2, 1, 0, 1, 2, 5]"
      ]
     },
     "execution_count": 19,
     "metadata": {},
     "output_type": "execute_result"
    }
   ],
   "source": [
    "distances = [abs(l - r) for l, r in zip(sorted(lefts), sorted(rights))]\n",
    "distances"
   ]
  },
  {
   "cell_type": "code",
   "execution_count": 20,
   "id": "46d00cdd-bbf6-4812-a218-6c53b5fc3a7a",
   "metadata": {},
   "outputs": [
    {
     "data": {
      "text/plain": [
       "11"
      ]
     },
     "execution_count": 20,
     "metadata": {},
     "output_type": "execute_result"
    }
   ],
   "source": [
    "sum(distances)"
   ]
  },
  {
   "cell_type": "markdown",
   "id": "0a7a9865",
   "metadata": {},
   "source": [
    "# Part 1"
   ]
  },
  {
   "cell_type": "code",
   "execution_count": 44,
   "id": "f8ae32a7",
   "metadata": {},
   "outputs": [],
   "source": [
    "with open(\"inputs/1.txt\") as f:\n",
    "    puzzle_input = f.read()"
   ]
  },
  {
   "cell_type": "code",
   "execution_count": 22,
   "id": "b4c102c1",
   "metadata": {},
   "outputs": [],
   "source": [
    "split = puzzle_input.strip().split(\"\\n\")"
   ]
  },
  {
   "cell_type": "code",
   "execution_count": 23,
   "id": "22440714",
   "metadata": {},
   "outputs": [],
   "source": [
    "lefts = []\n",
    "rights = []\n",
    "for s in split:\n",
    "    left, right = s.split(\"  \")\n",
    "    lefts.append(int(left.strip()))\n",
    "    rights.append(int(right.strip()))"
   ]
  },
  {
   "cell_type": "code",
   "execution_count": 24,
   "id": "6424e75e-7bb4-4aa0-b0d1-0b9d48371656",
   "metadata": {},
   "outputs": [
    {
     "data": {
      "text/plain": [
       "1000"
      ]
     },
     "execution_count": 24,
     "metadata": {},
     "output_type": "execute_result"
    }
   ],
   "source": [
    "distances = [abs(l - r) for l, r in zip(sorted(lefts), sorted(rights))]\n",
    "len(distances)"
   ]
  },
  {
   "cell_type": "code",
   "execution_count": 25,
   "id": "f0ca46cf-1891-486c-870e-44bd46682625",
   "metadata": {},
   "outputs": [
    {
     "data": {
      "text/plain": [
       "936063"
      ]
     },
     "execution_count": 25,
     "metadata": {},
     "output_type": "execute_result"
    }
   ],
   "source": [
    "sum(distances)"
   ]
  },
  {
   "cell_type": "markdown",
   "id": "15159e2f",
   "metadata": {},
   "source": [
    "# Part 2"
   ]
  },
  {
   "cell_type": "code",
   "execution_count": 37,
   "id": "5ce951ab-0dbb-4105-8886-4e70b802994e",
   "metadata": {},
   "outputs": [],
   "source": [
    "from collections import Counter"
   ]
  },
  {
   "cell_type": "code",
   "execution_count": 31,
   "id": "af93b598",
   "metadata": {},
   "outputs": [],
   "source": [
    "puzzle_input = \"\"\"\n",
    "3   4\n",
    "4   3\n",
    "2   5\n",
    "1   3\n",
    "3   9\n",
    "3   3\n",
    "\"\"\""
   ]
  },
  {
   "cell_type": "code",
   "execution_count": 45,
   "id": "f7ea419c-bf09-447d-b28d-80a8521255b8",
   "metadata": {},
   "outputs": [],
   "source": [
    "split = puzzle_input.strip().split(\"\\n\")\n",
    "\n",
    "lefts = []\n",
    "rights = []\n",
    "for s in split:\n",
    "    left, right = s.split(\"  \")\n",
    "    lefts.append(int(left.strip()))\n",
    "    rights.append(int(right.strip()))"
   ]
  },
  {
   "cell_type": "code",
   "execution_count": 46,
   "id": "fbd4155d",
   "metadata": {},
   "outputs": [],
   "source": [
    "c = Counter(rights)"
   ]
  },
  {
   "cell_type": "code",
   "execution_count": 47,
   "id": "e98957b6-e13f-4181-b68c-bcaf713c8278",
   "metadata": {},
   "outputs": [],
   "source": [
    "# c"
   ]
  },
  {
   "cell_type": "code",
   "execution_count": 48,
   "id": "e9819e13-8ad1-41db-80b6-d62e54ffba37",
   "metadata": {},
   "outputs": [],
   "source": [
    "similarities = [n * c[n] for n in lefts]"
   ]
  },
  {
   "cell_type": "code",
   "execution_count": 51,
   "id": "b6ccce8f-7717-4404-b03c-3512b0d03a3f",
   "metadata": {},
   "outputs": [
    {
     "data": {
      "text/plain": [
       "1000"
      ]
     },
     "execution_count": 51,
     "metadata": {},
     "output_type": "execute_result"
    }
   ],
   "source": [
    "len(similarities)"
   ]
  },
  {
   "cell_type": "code",
   "execution_count": 50,
   "id": "cfd89eef-b59e-422d-80ea-f839375008ab",
   "metadata": {},
   "outputs": [
    {
     "data": {
      "text/plain": [
       "23150395"
      ]
     },
     "execution_count": 50,
     "metadata": {},
     "output_type": "execute_result"
    }
   ],
   "source": [
    "sum(similarities)"
   ]
  },
  {
   "cell_type": "code",
   "execution_count": null,
   "id": "2e8f4253-5214-4dcc-b01e-805ba3a308f6",
   "metadata": {},
   "outputs": [],
   "source": []
  }
 ],
 "metadata": {
  "kernelspec": {
   "display_name": "Python [conda env:base] *",
   "language": "python",
   "name": "conda-base-py"
  },
  "language_info": {
   "codemirror_mode": {
    "name": "ipython",
    "version": 3
   },
   "file_extension": ".py",
   "mimetype": "text/x-python",
   "name": "python",
   "nbconvert_exporter": "python",
   "pygments_lexer": "ipython3",
   "version": "3.12.7"
  }
 },
 "nbformat": 4,
 "nbformat_minor": 5
}

{
 "cells": [
  {
   "cell_type": "markdown",
   "id": "0b39d45f",
   "metadata": {},
   "source": [
    "# Part 1 Example\n"
   ]
  },
  {
   "cell_type": "code",
   "execution_count": 1,
   "id": "c244efd4-3dbc-4bd1-9299-02ff5f734d08",
   "metadata": {},
   "outputs": [],
   "source": [
    "import numpy as np\n",
    "import re\n",
    "from pathlib import Path\n",
    "from collections import Counter\n",
    "import math\n",
    "from collections import deque"
   ]
  },
  {
   "cell_type": "code",
   "execution_count": 113,
   "id": "9302dcdb",
   "metadata": {},
   "outputs": [],
   "source": [
    "puzzle_input = \"\"\"\n",
    "5,4\n",
    "4,2\n",
    "4,5\n",
    "3,0\n",
    "2,1\n",
    "6,3\n",
    "2,4\n",
    "1,5\n",
    "0,6\n",
    "3,3\n",
    "2,6\n",
    "5,1\n",
    "1,2\n",
    "5,5\n",
    "2,5\n",
    "6,5\n",
    "1,4\n",
    "0,4\n",
    "6,4\n",
    "1,1\n",
    "6,1\n",
    "1,0\n",
    "0,5\n",
    "1,6\n",
    "2,0\n",
    "\"\"\""
   ]
  },
  {
   "cell_type": "code",
   "execution_count": 114,
   "id": "ce1530af-ac3b-4c1e-9600-57bce6599fde",
   "metadata": {},
   "outputs": [],
   "source": [
    "# GRID_SIZE = 71\n",
    "start = (0, 0)\n",
    "end = (70, 70)"
   ]
  },
  {
   "cell_type": "code",
   "execution_count": 115,
   "id": "8ac37014-f4b5-443f-9623-5d388dfdd2b2",
   "metadata": {},
   "outputs": [
    {
     "data": {
      "text/plain": [
       "[(5, 4),\n",
       " (4, 2),\n",
       " (4, 5),\n",
       " (3, 0),\n",
       " (2, 1),\n",
       " (6, 3),\n",
       " (2, 4),\n",
       " (1, 5),\n",
       " (0, 6),\n",
       " (3, 3),\n",
       " (2, 6),\n",
       " (5, 1),\n",
       " (1, 2),\n",
       " (5, 5),\n",
       " (2, 5),\n",
       " (6, 5),\n",
       " (1, 4),\n",
       " (0, 4),\n",
       " (6, 4),\n",
       " (1, 1),\n",
       " (6, 1),\n",
       " (1, 0),\n",
       " (0, 5),\n",
       " (1, 6),\n",
       " (2, 0)]"
      ]
     },
     "execution_count": 115,
     "metadata": {},
     "output_type": "execute_result"
    }
   ],
   "source": [
    "falling_bytes = [\n",
    "    tuple(map(int, line.split(\",\"))) for line in puzzle_input.strip().splitlines()\n",
    "]\n",
    "falling_bytes"
   ]
  },
  {
   "cell_type": "code",
   "execution_count": 67,
   "id": "70dfc998-4c28-4245-aac1-3cee39d6844d",
   "metadata": {},
   "outputs": [
    {
     "name": "stdout",
     "output_type": "stream",
     "text": [
      ".###...\n",
      ".##..##\n",
      ".#..#..\n",
      "...#..#\n",
      "###..##\n",
      "###.###\n",
      "###....\n"
     ]
    }
   ],
   "source": [
    "# Initialize the grid with '.' for safe spaces\n",
    "grid = [[\".\" for _ in range(GRID_SIZE)] for _ in range(GRID_SIZE)]\n",
    "\n",
    "# Mark corrupted memory spaces with '#'\n",
    "for x, y in falling_bytes[:1024]:\n",
    "    grid[y][x] = \"#\"\n",
    "\n",
    "# Visualize the grid\n",
    "for row in grid:\n",
    "    print(\"\".join(row))"
   ]
  },
  {
   "cell_type": "code",
   "execution_count": null,
   "id": "16e295bd-7859-4c6e-94e5-445955df5413",
   "metadata": {},
   "outputs": [],
   "source": []
  },
  {
   "cell_type": "code",
   "execution_count": 62,
   "id": "845d2f0f-5f77-441c-8de5-d1c80ca17bc1",
   "metadata": {},
   "outputs": [],
   "source": [
    "def bfs(start, end, grid):\n",
    "    if grid[start[1]][start[0]] == \"#\" or grid[end[1]][end[0]] == \"#\":\n",
    "        return -1  # No path if start or end is blocked\n",
    "\n",
    "    queue = deque([(start, 0)])\n",
    "    visited = set([start])\n",
    "\n",
    "    directions = [(0, 1), (1, 0), (0, -1), (-1, 0)]\n",
    "\n",
    "    while queue:\n",
    "        (x, y), steps = queue.popleft()\n",
    "\n",
    "        if (x, y) == end:\n",
    "            return steps\n",
    "\n",
    "        for dx, dy in directions:\n",
    "            nx, ny = x + dx, y + dy\n",
    "            if (\n",
    "                0 <= nx < GRID_SIZE\n",
    "                and 0 <= ny < GRID_SIZE\n",
    "                and grid[ny][nx] == \".\"\n",
    "                and (nx, ny) not in visited\n",
    "            ):\n",
    "                visited.add((nx, ny))\n",
    "                queue.append(((nx, ny), steps + 1))\n",
    "\n",
    "    return -1"
   ]
  },
  {
   "cell_type": "code",
   "execution_count": 68,
   "id": "b3fd2584-ff6d-473b-af43-bc5314bf2893",
   "metadata": {},
   "outputs": [
    {
     "name": "stdout",
     "output_type": "stream",
     "text": [
      "Shortest Path Length: -1\n"
     ]
    }
   ],
   "source": [
    "shortest_path_length = bfs(start, end, grid)\n",
    "print(\"Shortest Path Length:\", shortest_path_length)"
   ]
  },
  {
   "cell_type": "code",
   "execution_count": null,
   "id": "52ded727-676d-4cd5-b781-963c4a5e0023",
   "metadata": {},
   "outputs": [],
   "source": []
  },
  {
   "cell_type": "code",
   "execution_count": null,
   "id": "685c4517-1e31-4a1f-a33d-8b3ec23c4bf1",
   "metadata": {},
   "outputs": [],
   "source": []
  },
  {
   "cell_type": "markdown",
   "id": "0a7a9865",
   "metadata": {},
   "source": [
    "# Part 1"
   ]
  },
  {
   "cell_type": "code",
   "execution_count": 81,
   "id": "f8ae32a7",
   "metadata": {},
   "outputs": [],
   "source": [
    "puzzle_input = Path(\"inputs/18.txt\").read_text()"
   ]
  },
  {
   "cell_type": "markdown",
   "id": "15159e2f",
   "metadata": {},
   "source": [
    "# Part 2\n"
   ]
  },
  {
   "cell_type": "code",
   "execution_count": 118,
   "id": "51a3ccaa-fe59-4f60-b6ba-64f1fccfebdc",
   "metadata": {},
   "outputs": [],
   "source": [
    "GRID_SIZE = 7\n",
    "start = (0, 0)\n",
    "end = (6, 6)"
   ]
  },
  {
   "cell_type": "code",
   "execution_count": 119,
   "id": "3f1bc787-a718-4428-90e9-e650a43ce402",
   "metadata": {},
   "outputs": [
    {
     "data": {
      "text/plain": [
       "[(5, 4),\n",
       " (4, 2),\n",
       " (4, 5),\n",
       " (3, 0),\n",
       " (2, 1),\n",
       " (6, 3),\n",
       " (2, 4),\n",
       " (1, 5),\n",
       " (0, 6),\n",
       " (3, 3),\n",
       " (2, 6),\n",
       " (5, 1),\n",
       " (1, 2),\n",
       " (5, 5),\n",
       " (2, 5),\n",
       " (6, 5),\n",
       " (1, 4),\n",
       " (0, 4),\n",
       " (6, 4),\n",
       " (1, 1),\n",
       " (6, 1),\n",
       " (1, 0),\n",
       " (0, 5),\n",
       " (1, 6),\n",
       " (2, 0)]"
      ]
     },
     "execution_count": 119,
     "metadata": {},
     "output_type": "execute_result"
    }
   ],
   "source": [
    "falling_bytes = [\n",
    "    tuple(map(int, line.split(\",\"))) for line in puzzle_input.strip().splitlines()\n",
    "]\n",
    "falling_bytes"
   ]
  },
  {
   "cell_type": "code",
   "execution_count": 120,
   "id": "842b4598-3dda-4a3c-b382-b0a2e35927a1",
   "metadata": {},
   "outputs": [
    {
     "name": "stdout",
     "output_type": "stream",
     "text": [
      "...#...\n",
      "..#....\n",
      "....#..\n",
      "...#..#\n",
      "..#..#.\n",
      ".#..#..\n",
      "#......\n"
     ]
    }
   ],
   "source": [
    "# Initialize the grid with '.' for safe spaces\n",
    "grid = [[\".\" for _ in range(GRID_SIZE)] for _ in range(GRID_SIZE)]\n",
    "\n",
    "# Mark corrupted memory spaces with '#'\n",
    "for x, y in falling_bytes[:10]:\n",
    "    grid[y][x] = \"#\"\n",
    "\n",
    "# Visualize the grid\n",
    "for row in grid:\n",
    "    print(\"\".join(row))"
   ]
  },
  {
   "cell_type": "code",
   "execution_count": 121,
   "id": "f65e6a82-753f-4ba2-ac98-6d13784fe6fd",
   "metadata": {},
   "outputs": [],
   "source": [
    "def make_grid(n):\n",
    "    grid = [[\".\" for _ in range(GRID_SIZE)] for _ in range(GRID_SIZE)]\n",
    "\n",
    "    for x, y in falling_bytes[:n]:\n",
    "        grid[y][x] = \"#\"\n",
    "\n",
    "    return grid, x, y"
   ]
  },
  {
   "cell_type": "code",
   "execution_count": 122,
   "id": "867a4ce9-2c3d-4284-8c28-cdb3b48d2f09",
   "metadata": {},
   "outputs": [
    {
     "name": "stdout",
     "output_type": "stream",
     "text": [
      "...#...\n",
      "..#..#.\n",
      "....#..\n",
      "...#..#\n",
      "..#..#.\n",
      ".#..#..\n",
      "#.#....\n"
     ]
    }
   ],
   "source": [
    "grid, x, y = make_grid(12)\n",
    "\n",
    "for row in grid:\n",
    "    print(\"\".join(row))"
   ]
  },
  {
   "cell_type": "code",
   "execution_count": 123,
   "id": "4040d230-ed06-4d28-a6eb-1e75ab535602",
   "metadata": {},
   "outputs": [
    {
     "data": {
      "text/plain": [
       "22"
      ]
     },
     "execution_count": 123,
     "metadata": {},
     "output_type": "execute_result"
    }
   ],
   "source": [
    "bfs(start, end, grid)"
   ]
  },
  {
   "cell_type": "code",
   "execution_count": 124,
   "id": "8c0b7c48-c3c2-43da-a851-3fb85bf0d16b",
   "metadata": {},
   "outputs": [],
   "source": [
    "for n in range(2000, 4000):\n",
    "    grid, x, y = make_grid(n)\n",
    "    shortest_path_length = bfs(start, end, grid)\n",
    "    if shortest_path_length < 0:\n",
    "        break\n",
    "    # print(shortest_path_length)"
   ]
  },
  {
   "cell_type": "code",
   "execution_count": 125,
   "id": "dc8f2e6a-b3d2-4f96-82a7-958490837b87",
   "metadata": {},
   "outputs": [
    {
     "data": {
      "text/plain": [
       "(2, 0)"
      ]
     },
     "execution_count": 125,
     "metadata": {},
     "output_type": "execute_result"
    }
   ],
   "source": [
    "x, y"
   ]
  },
  {
   "cell_type": "code",
   "execution_count": 126,
   "id": "507588aa-be87-4036-a8bb-f33d1cdeef40",
   "metadata": {},
   "outputs": [
    {
     "data": {
      "text/plain": [
       "-1"
      ]
     },
     "execution_count": 126,
     "metadata": {},
     "output_type": "execute_result"
    }
   ],
   "source": [
    "shortest_path_length"
   ]
  },
  {
   "cell_type": "code",
   "execution_count": 127,
   "id": "d19ed1c3-02b0-4932-8f38-64e6daf3e069",
   "metadata": {},
   "outputs": [
    {
     "name": "stdout",
     "output_type": "stream",
     "text": [
      ".###...\n",
      ".##..##\n",
      ".#..#..\n",
      "...#..#\n",
      "###..##\n",
      "###.###\n",
      "###....\n"
     ]
    }
   ],
   "source": [
    "for row in grid:\n",
    "    print(\"\".join(row))"
   ]
  },
  {
   "cell_type": "code",
   "execution_count": null,
   "id": "09c40079-b0d9-4f76-8f77-6bd97e534b9d",
   "metadata": {},
   "outputs": [],
   "source": []
  }
 ],
 "metadata": {
  "kernelspec": {
   "display_name": "Python [conda env:base] *",
   "language": "python",
   "name": "conda-base-py"
  },
  "language_info": {
   "codemirror_mode": {
    "name": "ipython",
    "version": 3
   },
   "file_extension": ".py",
   "mimetype": "text/x-python",
   "name": "python",
   "nbconvert_exporter": "python",
   "pygments_lexer": "ipython3",
   "version": "3.12.7"
  }
 },
 "nbformat": 4,
 "nbformat_minor": 5
}

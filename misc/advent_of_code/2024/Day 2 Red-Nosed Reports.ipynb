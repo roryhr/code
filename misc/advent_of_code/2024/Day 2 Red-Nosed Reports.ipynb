{
 "cells": [
  {
   "cell_type": "markdown",
   "id": "0b39d45f",
   "metadata": {},
   "source": [
    "# Example"
   ]
  },
  {
   "cell_type": "code",
   "execution_count": 1,
   "id": "f4a98b90-5b35-4d82-9fb7-7f4e8e5190a2",
   "metadata": {},
   "outputs": [],
   "source": [
    "import pandas as pd"
   ]
  },
  {
   "cell_type": "code",
   "execution_count": 2,
   "id": "9302dcdb",
   "metadata": {},
   "outputs": [],
   "source": [
    "puzzle_input = \"\"\"\n",
    "7 6 4 2 1\n",
    "1 2 7 8 9\n",
    "9 7 6 2 1\n",
    "1 3 2 4 5\n",
    "8 6 4 4 1\n",
    "1 3 6 7 9\n",
    "\"\"\""
   ]
  },
  {
   "cell_type": "code",
   "execution_count": 3,
   "id": "bad94041",
   "metadata": {},
   "outputs": [],
   "source": [
    "split = puzzle_input.strip().split(\"\\n\")\n",
    "# split"
   ]
  },
  {
   "cell_type": "code",
   "execution_count": 7,
   "id": "376c8ac7-f31d-4ca3-8928-f7ad42493a09",
   "metadata": {},
   "outputs": [],
   "source": [
    "nums = []\n",
    "for s in split:\n",
    "    nums.append([int(n) for n in s.split(\" \")])"
   ]
  },
  {
   "cell_type": "code",
   "execution_count": 8,
   "id": "91935a77-96d5-43b9-a38d-fe42b0f88a5a",
   "metadata": {},
   "outputs": [
    {
     "data": {
      "text/html": [
       "<div>\n",
       "<style scoped>\n",
       "    .dataframe tbody tr th:only-of-type {\n",
       "        vertical-align: middle;\n",
       "    }\n",
       "\n",
       "    .dataframe tbody tr th {\n",
       "        vertical-align: top;\n",
       "    }\n",
       "\n",
       "    .dataframe thead th {\n",
       "        text-align: right;\n",
       "    }\n",
       "</style>\n",
       "<table border=\"1\" class=\"dataframe\">\n",
       "  <thead>\n",
       "    <tr style=\"text-align: right;\">\n",
       "      <th></th>\n",
       "      <th>0</th>\n",
       "      <th>1</th>\n",
       "      <th>2</th>\n",
       "      <th>3</th>\n",
       "      <th>4</th>\n",
       "    </tr>\n",
       "  </thead>\n",
       "  <tbody>\n",
       "    <tr>\n",
       "      <th>0</th>\n",
       "      <td>7</td>\n",
       "      <td>6</td>\n",
       "      <td>4</td>\n",
       "      <td>2</td>\n",
       "      <td>1</td>\n",
       "    </tr>\n",
       "    <tr>\n",
       "      <th>1</th>\n",
       "      <td>1</td>\n",
       "      <td>2</td>\n",
       "      <td>7</td>\n",
       "      <td>8</td>\n",
       "      <td>9</td>\n",
       "    </tr>\n",
       "    <tr>\n",
       "      <th>2</th>\n",
       "      <td>9</td>\n",
       "      <td>7</td>\n",
       "      <td>6</td>\n",
       "      <td>2</td>\n",
       "      <td>1</td>\n",
       "    </tr>\n",
       "    <tr>\n",
       "      <th>3</th>\n",
       "      <td>1</td>\n",
       "      <td>3</td>\n",
       "      <td>2</td>\n",
       "      <td>4</td>\n",
       "      <td>5</td>\n",
       "    </tr>\n",
       "    <tr>\n",
       "      <th>4</th>\n",
       "      <td>8</td>\n",
       "      <td>6</td>\n",
       "      <td>4</td>\n",
       "      <td>4</td>\n",
       "      <td>1</td>\n",
       "    </tr>\n",
       "    <tr>\n",
       "      <th>5</th>\n",
       "      <td>1</td>\n",
       "      <td>3</td>\n",
       "      <td>6</td>\n",
       "      <td>7</td>\n",
       "      <td>9</td>\n",
       "    </tr>\n",
       "  </tbody>\n",
       "</table>\n",
       "</div>"
      ],
      "text/plain": [
       "   0  1  2  3  4\n",
       "0  7  6  4  2  1\n",
       "1  1  2  7  8  9\n",
       "2  9  7  6  2  1\n",
       "3  1  3  2  4  5\n",
       "4  8  6  4  4  1\n",
       "5  1  3  6  7  9"
      ]
     },
     "execution_count": 8,
     "metadata": {},
     "output_type": "execute_result"
    }
   ],
   "source": [
    "df = pd.DataFrame(nums)\n",
    "df"
   ]
  },
  {
   "cell_type": "code",
   "execution_count": 9,
   "id": "5db76997-daef-4594-b983-b6463cf99542",
   "metadata": {},
   "outputs": [
    {
     "data": {
      "text/plain": [
       "2"
      ]
     },
     "execution_count": 9,
     "metadata": {},
     "output_type": "execute_result"
    }
   ],
   "source": [
    "safe_rows = []\n",
    "\n",
    "for i, r in df.diff(axis=1).iterrows():\n",
    "    if {1, 2, 3.0}.issuperset(set(r.dropna())):\n",
    "        safe_rows.append(i)\n",
    "    elif {-1, -2, -3}.issuperset(set(r.dropna())):\n",
    "        safe_rows.append(i)\n",
    "\n",
    "len(safe_rows)"
   ]
  },
  {
   "cell_type": "code",
   "execution_count": null,
   "id": "68047b83-2803-4179-9a8b-c2eb9381ed1e",
   "metadata": {},
   "outputs": [],
   "source": []
  },
  {
   "cell_type": "markdown",
   "id": "0a7a9865",
   "metadata": {},
   "source": [
    "# Part 1"
   ]
  },
  {
   "cell_type": "code",
   "execution_count": 10,
   "id": "f8ae32a7",
   "metadata": {},
   "outputs": [],
   "source": [
    "with open(\"inputs/2.txt\") as f:\n",
    "    big_puzzle_input = f.read()"
   ]
  },
  {
   "cell_type": "code",
   "execution_count": 11,
   "id": "b4c102c1",
   "metadata": {},
   "outputs": [],
   "source": [
    "nums = []\n",
    "for s in big_puzzle_input.strip().split(\"\\n\"):\n",
    "    nums.append([int(n) for n in s.split(\" \")])"
   ]
  },
  {
   "cell_type": "code",
   "execution_count": 12,
   "id": "22440714",
   "metadata": {},
   "outputs": [
    {
     "data": {
      "text/html": [
       "<div>\n",
       "<style scoped>\n",
       "    .dataframe tbody tr th:only-of-type {\n",
       "        vertical-align: middle;\n",
       "    }\n",
       "\n",
       "    .dataframe tbody tr th {\n",
       "        vertical-align: top;\n",
       "    }\n",
       "\n",
       "    .dataframe thead th {\n",
       "        text-align: right;\n",
       "    }\n",
       "</style>\n",
       "<table border=\"1\" class=\"dataframe\">\n",
       "  <thead>\n",
       "    <tr style=\"text-align: right;\">\n",
       "      <th></th>\n",
       "      <th>0</th>\n",
       "      <th>1</th>\n",
       "      <th>2</th>\n",
       "      <th>3</th>\n",
       "      <th>4</th>\n",
       "      <th>5</th>\n",
       "      <th>6</th>\n",
       "      <th>7</th>\n",
       "    </tr>\n",
       "  </thead>\n",
       "  <tbody>\n",
       "    <tr>\n",
       "      <th>0</th>\n",
       "      <td>1</td>\n",
       "      <td>4</td>\n",
       "      <td>5</td>\n",
       "      <td>8</td>\n",
       "      <td>11</td>\n",
       "      <td>12.0</td>\n",
       "      <td>9.0</td>\n",
       "      <td>NaN</td>\n",
       "    </tr>\n",
       "    <tr>\n",
       "      <th>1</th>\n",
       "      <td>7</td>\n",
       "      <td>8</td>\n",
       "      <td>9</td>\n",
       "      <td>10</td>\n",
       "      <td>12</td>\n",
       "      <td>15.0</td>\n",
       "      <td>17.0</td>\n",
       "      <td>17.0</td>\n",
       "    </tr>\n",
       "    <tr>\n",
       "      <th>2</th>\n",
       "      <td>17</td>\n",
       "      <td>20</td>\n",
       "      <td>23</td>\n",
       "      <td>25</td>\n",
       "      <td>27</td>\n",
       "      <td>31.0</td>\n",
       "      <td>NaN</td>\n",
       "      <td>NaN</td>\n",
       "    </tr>\n",
       "    <tr>\n",
       "      <th>3</th>\n",
       "      <td>55</td>\n",
       "      <td>57</td>\n",
       "      <td>58</td>\n",
       "      <td>61</td>\n",
       "      <td>63</td>\n",
       "      <td>64.0</td>\n",
       "      <td>70.0</td>\n",
       "      <td>NaN</td>\n",
       "    </tr>\n",
       "    <tr>\n",
       "      <th>4</th>\n",
       "      <td>39</td>\n",
       "      <td>42</td>\n",
       "      <td>45</td>\n",
       "      <td>43</td>\n",
       "      <td>44</td>\n",
       "      <td>NaN</td>\n",
       "      <td>NaN</td>\n",
       "      <td>NaN</td>\n",
       "    </tr>\n",
       "    <tr>\n",
       "      <th>...</th>\n",
       "      <td>...</td>\n",
       "      <td>...</td>\n",
       "      <td>...</td>\n",
       "      <td>...</td>\n",
       "      <td>...</td>\n",
       "      <td>...</td>\n",
       "      <td>...</td>\n",
       "      <td>...</td>\n",
       "    </tr>\n",
       "    <tr>\n",
       "      <th>995</th>\n",
       "      <td>91</td>\n",
       "      <td>89</td>\n",
       "      <td>87</td>\n",
       "      <td>85</td>\n",
       "      <td>82</td>\n",
       "      <td>81.0</td>\n",
       "      <td>78.0</td>\n",
       "      <td>NaN</td>\n",
       "    </tr>\n",
       "    <tr>\n",
       "      <th>996</th>\n",
       "      <td>77</td>\n",
       "      <td>79</td>\n",
       "      <td>81</td>\n",
       "      <td>82</td>\n",
       "      <td>85</td>\n",
       "      <td>86.0</td>\n",
       "      <td>NaN</td>\n",
       "      <td>NaN</td>\n",
       "    </tr>\n",
       "    <tr>\n",
       "      <th>997</th>\n",
       "      <td>59</td>\n",
       "      <td>61</td>\n",
       "      <td>62</td>\n",
       "      <td>65</td>\n",
       "      <td>67</td>\n",
       "      <td>68.0</td>\n",
       "      <td>NaN</td>\n",
       "      <td>NaN</td>\n",
       "    </tr>\n",
       "    <tr>\n",
       "      <th>998</th>\n",
       "      <td>94</td>\n",
       "      <td>93</td>\n",
       "      <td>92</td>\n",
       "      <td>91</td>\n",
       "      <td>90</td>\n",
       "      <td>87.0</td>\n",
       "      <td>85.0</td>\n",
       "      <td>83.0</td>\n",
       "    </tr>\n",
       "    <tr>\n",
       "      <th>999</th>\n",
       "      <td>50</td>\n",
       "      <td>52</td>\n",
       "      <td>53</td>\n",
       "      <td>54</td>\n",
       "      <td>56</td>\n",
       "      <td>57.0</td>\n",
       "      <td>58.0</td>\n",
       "      <td>61.0</td>\n",
       "    </tr>\n",
       "  </tbody>\n",
       "</table>\n",
       "<p>1000 rows × 8 columns</p>\n",
       "</div>"
      ],
      "text/plain": [
       "      0   1   2   3   4     5     6     7\n",
       "0     1   4   5   8  11  12.0   9.0   NaN\n",
       "1     7   8   9  10  12  15.0  17.0  17.0\n",
       "2    17  20  23  25  27  31.0   NaN   NaN\n",
       "3    55  57  58  61  63  64.0  70.0   NaN\n",
       "4    39  42  45  43  44   NaN   NaN   NaN\n",
       "..   ..  ..  ..  ..  ..   ...   ...   ...\n",
       "995  91  89  87  85  82  81.0  78.0   NaN\n",
       "996  77  79  81  82  85  86.0   NaN   NaN\n",
       "997  59  61  62  65  67  68.0   NaN   NaN\n",
       "998  94  93  92  91  90  87.0  85.0  83.0\n",
       "999  50  52  53  54  56  57.0  58.0  61.0\n",
       "\n",
       "[1000 rows x 8 columns]"
      ]
     },
     "execution_count": 12,
     "metadata": {},
     "output_type": "execute_result"
    }
   ],
   "source": [
    "df = pd.DataFrame(nums)\n",
    "df"
   ]
  },
  {
   "cell_type": "code",
   "execution_count": 13,
   "id": "177e824f-2d6f-421f-b744-70efb59bf8e2",
   "metadata": {},
   "outputs": [
    {
     "data": {
      "text/plain": [
       "{-3.0, -1.0, -2.0}              187\n",
       "{1.0, 2.0, 3.0}                 178\n",
       "{2.0, 3.0}                       37\n",
       "{-1.0, -2.0}                     34\n",
       "{1.0, 3.0}                       30\n",
       "                               ... \n",
       "{2.0, -6.0, -3.0}                 1\n",
       "{0.0, -2.0, -1.0}                 1\n",
       "{0.0, -7.0, -3.0, -2.0}           1\n",
       "{0.0, 3.0, -7.0, -3.0, -1.0}      1\n",
       "{1.0}                             1\n",
       "Name: count, Length: 315, dtype: int64"
      ]
     },
     "execution_count": 13,
     "metadata": {},
     "output_type": "execute_result"
    }
   ],
   "source": [
    "df.diff(axis=1).apply(lambda x: set(x.dropna()), axis=1).value_counts()"
   ]
  },
  {
   "cell_type": "code",
   "execution_count": 14,
   "id": "e4a68bfc-262d-477f-8724-d79355503dac",
   "metadata": {},
   "outputs": [
    {
     "data": {
      "text/plain": [
       "549"
      ]
     },
     "execution_count": 14,
     "metadata": {},
     "output_type": "execute_result"
    }
   ],
   "source": [
    "safe_rows = []\n",
    "\n",
    "for i, r in df.diff(axis=1).iterrows():\n",
    "    if {1, 2, 3.0}.issuperset(set(r.dropna())):\n",
    "        safe_rows.append(i)\n",
    "    elif {-1, -2, -3}.issuperset(set(r.dropna())):\n",
    "        safe_rows.append(i)\n",
    "\n",
    "len(safe_rows)"
   ]
  },
  {
   "cell_type": "markdown",
   "id": "15159e2f",
   "metadata": {},
   "source": [
    "# Part 2\n",
    "\n"
   ]
  },
  {
   "cell_type": "code",
   "execution_count": 54,
   "id": "d77ceca6",
   "metadata": {},
   "outputs": [],
   "source": [
    "def is_safe(r):\n",
    "    r = r.dropna()\n",
    "    if r.iloc[0] < 0:\n",
    "        r = -r\n",
    "\n",
    "    skip = False\n",
    "    for n in r:\n",
    "        if 1 <= n <= 3:\n",
    "            continue\n",
    "        elif skip:\n",
    "            skip = True\n",
    "            continue\n",
    "        else:\n",
    "            return False\n",
    "\n",
    "    return True"
   ]
  },
  {
   "cell_type": "code",
   "execution_count": 55,
   "id": "205bacfe-8f6e-4e8e-9c3b-3f0b12ebd042",
   "metadata": {},
   "outputs": [
    {
     "data": {
      "text/plain": [
       "True"
      ]
     },
     "execution_count": 55,
     "metadata": {},
     "output_type": "execute_result"
    }
   ],
   "source": [
    "is_safe(r)"
   ]
  },
  {
   "cell_type": "code",
   "execution_count": 57,
   "id": "58ef6c5d-6011-4596-9bf1-533ceaf76eb1",
   "metadata": {},
   "outputs": [
    {
     "data": {
      "text/plain": [
       "549"
      ]
     },
     "execution_count": 57,
     "metadata": {},
     "output_type": "execute_result"
    }
   ],
   "source": [
    "safe_rows = []\n",
    "\n",
    "for i, r in df.diff(axis=1).iterrows():\n",
    "    if is_safe(r):\n",
    "        safe_rows.append(i)\n",
    "\n",
    "\n",
    "len(safe_rows)"
   ]
  },
  {
   "cell_type": "code",
   "execution_count": 58,
   "id": "18b463ec-2769-4845-9d2f-098c987536f0",
   "metadata": {},
   "outputs": [
    {
     "data": {
      "text/plain": [
       "0    NaN\n",
       "1    2.0\n",
       "2    1.0\n",
       "3    1.0\n",
       "4    2.0\n",
       "5    1.0\n",
       "6    1.0\n",
       "7    3.0\n",
       "Name: 999, dtype: float64"
      ]
     },
     "execution_count": 58,
     "metadata": {},
     "output_type": "execute_result"
    }
   ],
   "source": [
    "r"
   ]
  },
  {
   "cell_type": "code",
   "execution_count": 59,
   "id": "b7fc74d6-6c48-44d0-8515-4296a3ea3c0b",
   "metadata": {},
   "outputs": [
    {
     "data": {
      "text/plain": [
       "True"
      ]
     },
     "execution_count": 59,
     "metadata": {},
     "output_type": "execute_result"
    }
   ],
   "source": [
    "is_safe(r)"
   ]
  },
  {
   "cell_type": "code",
   "execution_count": null,
   "id": "6efdb13a-086b-4462-ae82-d9e2a605c00b",
   "metadata": {},
   "outputs": [],
   "source": []
  }
 ],
 "metadata": {
  "kernelspec": {
   "display_name": "Python [conda env:base] *",
   "language": "python",
   "name": "conda-base-py"
  },
  "language_info": {
   "codemirror_mode": {
    "name": "ipython",
    "version": 3
   },
   "file_extension": ".py",
   "mimetype": "text/x-python",
   "name": "python",
   "nbconvert_exporter": "python",
   "pygments_lexer": "ipython3",
   "version": "3.12.7"
  }
 },
 "nbformat": 4,
 "nbformat_minor": 5
}

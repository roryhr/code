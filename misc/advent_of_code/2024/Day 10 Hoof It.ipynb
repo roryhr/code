{
 "cells": [
  {
   "cell_type": "markdown",
   "id": "0b39d45f",
   "metadata": {},
   "source": [
    "# Part 1 Example"
   ]
  },
  {
   "cell_type": "code",
   "execution_count": 21,
   "id": "c244efd4-3dbc-4bd1-9299-02ff5f734d08",
   "metadata": {},
   "outputs": [],
   "source": [
    "from pathlib import Path\n",
    "from collections import deque"
   ]
  },
  {
   "cell_type": "code",
   "execution_count": 19,
   "id": "9302dcdb",
   "metadata": {},
   "outputs": [],
   "source": [
    "puzzle_input = \"\"\"\n",
    "0123\n",
    "1234\n",
    "8765\n",
    "9876\n",
    "\"\"\""
   ]
  },
  {
   "cell_type": "code",
   "execution_count": 20,
   "id": "49e26e73",
   "metadata": {},
   "outputs": [
    {
     "name": "stdout",
     "output_type": "stream",
     "text": [
      "[[0, 1, 2, 3], [1, 2, 3, 4], [8, 7, 6, 5], [9, 8, 7, 6]]\n"
     ]
    }
   ],
   "source": [
    "nums = [list(map(int, r)) for r in puzzle_input.strip().split(\"\\n\")]\n",
    "nums"
   ]
  },
  {
   "cell_type": "code",
   "execution_count": 39,
   "id": "0fda1eb4-6617-4c1a-a455-f8db6297bbae",
   "metadata": {},
   "outputs": [],
   "source": [
    "possible_trailheads = []\n",
    "\n",
    "for i, row in enumerate(nums):\n",
    "    for j, n in enumerate(row):\n",
    "        if n == 0:\n",
    "            possible_trailheads.append((i, j))"
   ]
  },
  {
   "cell_type": "code",
   "execution_count": 40,
   "id": "3f032ed6-7d88-4fb1-be20-cb5c09540ed8",
   "metadata": {},
   "outputs": [
    {
     "data": {
      "text/plain": [
       "[(0, 0)]"
      ]
     },
     "execution_count": 40,
     "metadata": {},
     "output_type": "execute_result"
    }
   ],
   "source": [
    "possible_trailheads"
   ]
  },
  {
   "cell_type": "code",
   "execution_count": 41,
   "id": "b449a192-ba56-4e20-b5e6-c703948c9f33",
   "metadata": {},
   "outputs": [],
   "source": [
    "rows, cols = len(nums), len(nums[0])\n",
    "\n",
    "# Directions for movement (up, down, left, right)\n",
    "directions = [(0, 1), (1, 0), (0, -1), (-1, 0)]\n",
    "\n",
    "\n",
    "def bfs(start: tuple) -> int:\n",
    "    queue = deque([start])\n",
    "    visited = set([start])\n",
    "    reachable_nines = set()\n",
    "\n",
    "    while queue:\n",
    "        x, y = queue.popleft()\n",
    "        if test_map[x][y] == 9:\n",
    "            reachable_nines.add((x, y))\n",
    "        for dx, dy in directions:\n",
    "            nx, ny = x + dx, y + dy\n",
    "            if 0 <= nx < rows and 0 <= ny < cols and (nx, ny) not in visited:\n",
    "                if nums[nx][ny] == nums[x][y] + 1:\n",
    "                    visited.add((nx, ny))\n",
    "                    queue.append((nx, ny))\n",
    "\n",
    "    return len(reachable_nines)"
   ]
  },
  {
   "cell_type": "code",
   "execution_count": 42,
   "id": "af2152df-7990-4dac-a1fe-992344268010",
   "metadata": {},
   "outputs": [
    {
     "data": {
      "text/plain": [
       "1"
      ]
     },
     "execution_count": 42,
     "metadata": {},
     "output_type": "execute_result"
    }
   ],
   "source": [
    "# Sum scores\n",
    "sum(bfs(start) for start in possible_trailheads)"
   ]
  },
  {
   "cell_type": "code",
   "execution_count": 43,
   "id": "c867433a-6349-45d7-9385-fde94f9b472f",
   "metadata": {},
   "outputs": [
    {
     "name": "stdout",
     "output_type": "stream",
     "text": [
      "deque([(0, 0)])\n",
      "deque([(0, 1), (1, 0)])\n",
      "deque([(1, 0), (0, 2), (1, 1)])\n",
      "deque([(0, 2), (1, 1)])\n",
      "deque([(1, 1), (0, 3), (1, 2)])\n",
      "deque([(0, 3), (1, 2)])\n",
      "deque([(1, 2), (1, 3)])\n",
      "deque([(1, 3)])\n",
      "deque([(2, 3)])\n",
      "deque([(3, 3), (2, 2)])\n",
      "deque([(2, 2), (3, 2)])\n",
      "deque([(3, 2), (2, 1)])\n",
      "deque([(2, 1), (3, 1)])\n",
      "deque([(3, 1), (2, 0)])\n",
      "deque([(2, 0), (3, 0)])\n",
      "deque([(3, 0)])\n"
     ]
    }
   ],
   "source": [
    "start = (0, 0)\n",
    "\n",
    "queue = deque([start])\n",
    "visited = set([start])\n",
    "reachable_nines = set()\n",
    "\n",
    "while queue:\n",
    "    print(queue)\n",
    "    x, y = queue.popleft()\n",
    "    if test_map[x][y] == 9:\n",
    "        reachable_nines.add((x, y))\n",
    "    for dx, dy in directions:\n",
    "        nx, ny = x + dx, y + dy\n",
    "        if 0 <= nx < rows and 0 <= ny < cols and (nx, ny) not in visited:\n",
    "            if test_map[nx][ny] == test_map[x][y] + 1:\n",
    "                visited.add((nx, ny))\n",
    "                queue.append((nx, ny))"
   ]
  },
  {
   "cell_type": "code",
   "execution_count": 27,
   "id": "1aa29f2e-71a0-45c1-a4e8-f277b1f7efbc",
   "metadata": {},
   "outputs": [
    {
     "data": {
      "text/plain": [
       "{(0, 0),\n",
       " (0, 1),\n",
       " (0, 2),\n",
       " (0, 3),\n",
       " (1, 0),\n",
       " (1, 1),\n",
       " (1, 2),\n",
       " (1, 3),\n",
       " (2, 0),\n",
       " (2, 1),\n",
       " (2, 2),\n",
       " (2, 3),\n",
       " (3, 0),\n",
       " (3, 1),\n",
       " (3, 2),\n",
       " (3, 3)}"
      ]
     },
     "execution_count": 27,
     "metadata": {},
     "output_type": "execute_result"
    }
   ],
   "source": [
    "visited"
   ]
  },
  {
   "cell_type": "code",
   "execution_count": 28,
   "id": "a82331eb-a5bc-4da7-b0ed-13f6a8fe0c88",
   "metadata": {},
   "outputs": [
    {
     "data": {
      "text/plain": [
       "{(3, 0)}"
      ]
     },
     "execution_count": 28,
     "metadata": {},
     "output_type": "execute_result"
    }
   ],
   "source": [
    "reachable_nines"
   ]
  },
  {
   "cell_type": "code",
   "execution_count": null,
   "id": "b28214be-cc15-40d9-8bdc-018602770d9b",
   "metadata": {},
   "outputs": [],
   "source": []
  },
  {
   "cell_type": "code",
   "execution_count": null,
   "id": "fbda9717-8620-46e6-bd8f-28194c45bd69",
   "metadata": {},
   "outputs": [],
   "source": []
  },
  {
   "cell_type": "code",
   "execution_count": null,
   "id": "f7035929-453d-4b7a-a4f5-e3d99666d38d",
   "metadata": {},
   "outputs": [],
   "source": []
  },
  {
   "cell_type": "markdown",
   "id": "0a7a9865",
   "metadata": {},
   "source": [
    "# Part 1"
   ]
  },
  {
   "cell_type": "code",
   "execution_count": 129,
   "id": "f8ae32a7",
   "metadata": {},
   "outputs": [],
   "source": [
    "puzzle_input = Path(\"inputs/6.txt\").read_text()"
   ]
  },
  {
   "cell_type": "markdown",
   "id": "15159e2f",
   "metadata": {},
   "source": [
    "# Part 2\n"
   ]
  },
  {
   "cell_type": "code",
   "execution_count": null,
   "id": "5401aabe-7f78-422c-988f-9c8b1fb48d5f",
   "metadata": {},
   "outputs": [],
   "source": []
  }
 ],
 "metadata": {
  "kernelspec": {
   "display_name": "Python [conda env:base] *",
   "language": "python",
   "name": "conda-base-py"
  },
  "language_info": {
   "codemirror_mode": {
    "name": "ipython",
    "version": 3
   },
   "file_extension": ".py",
   "mimetype": "text/x-python",
   "name": "python",
   "nbconvert_exporter": "python",
   "pygments_lexer": "ipython3",
   "version": "3.12.7"
  }
 },
 "nbformat": 4,
 "nbformat_minor": 5
}

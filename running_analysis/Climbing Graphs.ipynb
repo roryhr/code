{
 "cells": [
  {
   "cell_type": "markdown",
   "id": "94bee1f9",
   "metadata": {},
   "source": [
    "# Climb Graphs\n",
    "\n",
    "Load strava profile and plot the climb. \n",
    "\n",
    "https://www.routeyou.com/nl-be/route/view/12143652/racefietsroute/we-ride-flanders-2023-242-km?c=By4rO9AtU40hzNMS\n",
    "\n",
    "\n",
    "https://www.strava.com/segments/25835330\n",
    "\n",
    "https://www.strava.com/stream/segments/25835330?streams%5B%5D=latlng&streams%5B%5D=distance&streams%5B%5D=altitude&_=1679795135855\n"
   ]
  },
  {
   "cell_type": "code",
   "execution_count": 60,
   "id": "67eece77",
   "metadata": {},
   "outputs": [
    {
     "name": "stdout",
     "output_type": "stream",
     "text": [
      "The nb_black extension is already loaded. To reload it, use:\n",
      "  %reload_ext nb_black\n"
     ]
    },
    {
     "data": {
      "application/javascript": [
       "\n",
       "            setTimeout(function() {\n",
       "                var nbb_cell_id = 60;\n",
       "                var nbb_unformatted_code = \"import matplotlib.pyplot as plt\\nimport numpy as np\\nimport pandas as pd\\nimport json\\nimport seaborn as sns\\nimport math\\n%load_ext nb_black\";\n",
       "                var nbb_formatted_code = \"import matplotlib.pyplot as plt\\nimport numpy as np\\nimport pandas as pd\\nimport json\\nimport seaborn as sns\\nimport math\\n\\n%load_ext nb_black\";\n",
       "                var nbb_cells = Jupyter.notebook.get_cells();\n",
       "                for (var i = 0; i < nbb_cells.length; ++i) {\n",
       "                    if (nbb_cells[i].input_prompt_number == nbb_cell_id) {\n",
       "                        if (nbb_cells[i].get_text() == nbb_unformatted_code) {\n",
       "                             nbb_cells[i].set_text(nbb_formatted_code);\n",
       "                        }\n",
       "                        break;\n",
       "                    }\n",
       "                }\n",
       "            }, 500);\n",
       "            "
      ],
      "text/plain": [
       "<IPython.core.display.Javascript object>"
      ]
     },
     "metadata": {},
     "output_type": "display_data"
    }
   ],
   "source": [
    "import matplotlib.pyplot as plt\n",
    "import numpy as np\n",
    "import pandas as pd\n",
    "import json\n",
    "import seaborn as sns\n",
    "import math\n",
    "\n",
    "%load_ext nb_black"
   ]
  },
  {
   "cell_type": "code",
   "execution_count": 12,
   "id": "1c6c87a0",
   "metadata": {},
   "outputs": [
    {
     "data": {
      "text/html": [
       "<div>\n",
       "<style scoped>\n",
       "    .dataframe tbody tr th:only-of-type {\n",
       "        vertical-align: middle;\n",
       "    }\n",
       "\n",
       "    .dataframe tbody tr th {\n",
       "        vertical-align: top;\n",
       "    }\n",
       "\n",
       "    .dataframe thead th {\n",
       "        text-align: right;\n",
       "    }\n",
       "</style>\n",
       "<table border=\"1\" class=\"dataframe\">\n",
       "  <thead>\n",
       "    <tr style=\"text-align: right;\">\n",
       "      <th></th>\n",
       "      <th>latlng</th>\n",
       "      <th>distance</th>\n",
       "      <th>altitude</th>\n",
       "    </tr>\n",
       "  </thead>\n",
       "  <tbody>\n",
       "    <tr>\n",
       "      <th>0</th>\n",
       "      <td>[39.99931, -105.290627]</td>\n",
       "      <td>0.0</td>\n",
       "      <td>1744.6</td>\n",
       "    </tr>\n",
       "    <tr>\n",
       "      <th>1</th>\n",
       "      <td>[39.999435, -105.290726]</td>\n",
       "      <td>16.6</td>\n",
       "      <td>1746.1</td>\n",
       "    </tr>\n",
       "    <tr>\n",
       "      <th>2</th>\n",
       "      <td>[39.999485, -105.290741]</td>\n",
       "      <td>22.2</td>\n",
       "      <td>1746.4</td>\n",
       "    </tr>\n",
       "    <tr>\n",
       "      <th>3</th>\n",
       "      <td>[39.999588, -105.290733]</td>\n",
       "      <td>34.0</td>\n",
       "      <td>1746.6</td>\n",
       "    </tr>\n",
       "    <tr>\n",
       "      <th>4</th>\n",
       "      <td>[40.000076, -105.290573]</td>\n",
       "      <td>89.8</td>\n",
       "      <td>1747.8</td>\n",
       "    </tr>\n",
       "    <tr>\n",
       "      <th>...</th>\n",
       "      <td>...</td>\n",
       "      <td>...</td>\n",
       "      <td>...</td>\n",
       "    </tr>\n",
       "    <tr>\n",
       "      <th>165</th>\n",
       "      <td>[39.997696, -105.308296]</td>\n",
       "      <td>4554.8</td>\n",
       "      <td>2053.0</td>\n",
       "    </tr>\n",
       "    <tr>\n",
       "      <th>166</th>\n",
       "      <td>[39.99754, -105.308517]</td>\n",
       "      <td>4580.7</td>\n",
       "      <td>2053.4</td>\n",
       "    </tr>\n",
       "    <tr>\n",
       "      <th>167</th>\n",
       "      <td>[39.997337, -105.308754]</td>\n",
       "      <td>4610.9</td>\n",
       "      <td>2053.4</td>\n",
       "    </tr>\n",
       "    <tr>\n",
       "      <th>168</th>\n",
       "      <td>[39.997311, -105.308792]</td>\n",
       "      <td>4615.0</td>\n",
       "      <td>2052.3</td>\n",
       "    </tr>\n",
       "    <tr>\n",
       "      <th>169</th>\n",
       "      <td>[39.997272, -105.308868]</td>\n",
       "      <td>4622.8</td>\n",
       "      <td>2053.1</td>\n",
       "    </tr>\n",
       "  </tbody>\n",
       "</table>\n",
       "<p>170 rows × 3 columns</p>\n",
       "</div>"
      ],
      "text/plain": [
       "                       latlng  distance  altitude\n",
       "0     [39.99931, -105.290627]       0.0    1744.6\n",
       "1    [39.999435, -105.290726]      16.6    1746.1\n",
       "2    [39.999485, -105.290741]      22.2    1746.4\n",
       "3    [39.999588, -105.290733]      34.0    1746.6\n",
       "4    [40.000076, -105.290573]      89.8    1747.8\n",
       "..                        ...       ...       ...\n",
       "165  [39.997696, -105.308296]    4554.8    2053.0\n",
       "166   [39.99754, -105.308517]    4580.7    2053.4\n",
       "167  [39.997337, -105.308754]    4610.9    2053.4\n",
       "168  [39.997311, -105.308792]    4615.0    2052.3\n",
       "169  [39.997272, -105.308868]    4622.8    2053.1\n",
       "\n",
       "[170 rows x 3 columns]"
      ]
     },
     "execution_count": 12,
     "metadata": {},
     "output_type": "execute_result"
    },
    {
     "data": {
      "application/javascript": [
       "\n",
       "            setTimeout(function() {\n",
       "                var nbb_cell_id = 12;\n",
       "                var nbb_unformatted_code = \"flagstaff = pd.read_json(\\\"strava/flagstaff.json\\\")\\nflagstaff\";\n",
       "                var nbb_formatted_code = \"flagstaff = pd.read_json(\\\"strava/flagstaff.json\\\")\\nflagstaff\";\n",
       "                var nbb_cells = Jupyter.notebook.get_cells();\n",
       "                for (var i = 0; i < nbb_cells.length; ++i) {\n",
       "                    if (nbb_cells[i].input_prompt_number == nbb_cell_id) {\n",
       "                        if (nbb_cells[i].get_text() == nbb_unformatted_code) {\n",
       "                             nbb_cells[i].set_text(nbb_formatted_code);\n",
       "                        }\n",
       "                        break;\n",
       "                    }\n",
       "                }\n",
       "            }, 500);\n",
       "            "
      ],
      "text/plain": [
       "<IPython.core.display.Javascript object>"
      ]
     },
     "metadata": {},
     "output_type": "display_data"
    }
   ],
   "source": [
    "flagstaff = pd.read_json(\"strava/flagstaff.json\")\n",
    "kwaremont = pd.read_json(\"strava/oude_kwaremont.json\")\n",
    "flagstaff"
   ]
  },
  {
   "cell_type": "code",
   "execution_count": 84,
   "id": "82f49fae",
   "metadata": {},
   "outputs": [
    {
     "data": {
      "text/html": [
       "<div>\n",
       "<style scoped>\n",
       "    .dataframe tbody tr th:only-of-type {\n",
       "        vertical-align: middle;\n",
       "    }\n",
       "\n",
       "    .dataframe tbody tr th {\n",
       "        vertical-align: top;\n",
       "    }\n",
       "\n",
       "    .dataframe thead th {\n",
       "        text-align: right;\n",
       "    }\n",
       "</style>\n",
       "<table border=\"1\" class=\"dataframe\">\n",
       "  <thead>\n",
       "    <tr style=\"text-align: right;\">\n",
       "      <th></th>\n",
       "      <th>distance</th>\n",
       "      <th>altitude</th>\n",
       "      <th>ascent</th>\n",
       "      <th>gradient</th>\n",
       "      <th>segment</th>\n",
       "      <th>segment_average_gradient</th>\n",
       "    </tr>\n",
       "  </thead>\n",
       "  <tbody>\n",
       "    <tr>\n",
       "      <th>0</th>\n",
       "      <td>0.000000</td>\n",
       "      <td>16.00</td>\n",
       "      <td>0.00</td>\n",
       "      <td>0.000000</td>\n",
       "      <td>0.0</td>\n",
       "      <td>0.000000</td>\n",
       "    </tr>\n",
       "    <tr>\n",
       "      <th>1</th>\n",
       "      <td>23.450000</td>\n",
       "      <td>16.00</td>\n",
       "      <td>0.00</td>\n",
       "      <td>0.000000</td>\n",
       "      <td>0.0</td>\n",
       "      <td>0.000000</td>\n",
       "    </tr>\n",
       "    <tr>\n",
       "      <th>2</th>\n",
       "      <td>47.066667</td>\n",
       "      <td>16.00</td>\n",
       "      <td>0.00</td>\n",
       "      <td>0.000000</td>\n",
       "      <td>0.0</td>\n",
       "      <td>0.000000</td>\n",
       "    </tr>\n",
       "    <tr>\n",
       "      <th>3</th>\n",
       "      <td>70.650000</td>\n",
       "      <td>16.00</td>\n",
       "      <td>0.00</td>\n",
       "      <td>0.000000</td>\n",
       "      <td>0.0</td>\n",
       "      <td>0.000000</td>\n",
       "    </tr>\n",
       "    <tr>\n",
       "      <th>4</th>\n",
       "      <td>117.475000</td>\n",
       "      <td>16.00</td>\n",
       "      <td>0.00</td>\n",
       "      <td>0.000000</td>\n",
       "      <td>0.0</td>\n",
       "      <td>0.000000</td>\n",
       "    </tr>\n",
       "    <tr>\n",
       "      <th>...</th>\n",
       "      <td>...</td>\n",
       "      <td>...</td>\n",
       "      <td>...</td>\n",
       "      <td>...</td>\n",
       "      <td>...</td>\n",
       "      <td>...</td>\n",
       "    </tr>\n",
       "    <tr>\n",
       "      <th>226</th>\n",
       "      <td>2357.975000</td>\n",
       "      <td>104.95</td>\n",
       "      <td>88.95</td>\n",
       "      <td>4.878049</td>\n",
       "      <td>9.0</td>\n",
       "      <td>4.997984</td>\n",
       "    </tr>\n",
       "    <tr>\n",
       "      <th>227</th>\n",
       "      <td>2367.650000</td>\n",
       "      <td>105.35</td>\n",
       "      <td>89.35</td>\n",
       "      <td>4.134367</td>\n",
       "      <td>9.0</td>\n",
       "      <td>4.997984</td>\n",
       "    </tr>\n",
       "    <tr>\n",
       "      <th>228</th>\n",
       "      <td>2386.325000</td>\n",
       "      <td>105.75</td>\n",
       "      <td>89.75</td>\n",
       "      <td>2.141901</td>\n",
       "      <td>9.0</td>\n",
       "      <td>4.997984</td>\n",
       "    </tr>\n",
       "    <tr>\n",
       "      <th>229</th>\n",
       "      <td>2413.525000</td>\n",
       "      <td>106.10</td>\n",
       "      <td>90.10</td>\n",
       "      <td>1.286765</td>\n",
       "      <td>9.0</td>\n",
       "      <td>4.997984</td>\n",
       "    </tr>\n",
       "    <tr>\n",
       "      <th>230</th>\n",
       "      <td>2448.700000</td>\n",
       "      <td>106.40</td>\n",
       "      <td>90.40</td>\n",
       "      <td>0.852878</td>\n",
       "      <td>9.0</td>\n",
       "      <td>4.997984</td>\n",
       "    </tr>\n",
       "  </tbody>\n",
       "</table>\n",
       "<p>231 rows × 6 columns</p>\n",
       "</div>"
      ],
      "text/plain": [
       "        distance  altitude  ascent  gradient  segment  \\\n",
       "0       0.000000     16.00    0.00  0.000000      0.0   \n",
       "1      23.450000     16.00    0.00  0.000000      0.0   \n",
       "2      47.066667     16.00    0.00  0.000000      0.0   \n",
       "3      70.650000     16.00    0.00  0.000000      0.0   \n",
       "4     117.475000     16.00    0.00  0.000000      0.0   \n",
       "..           ...       ...     ...       ...      ...   \n",
       "226  2357.975000    104.95   88.95  4.878049      9.0   \n",
       "227  2367.650000    105.35   89.35  4.134367      9.0   \n",
       "228  2386.325000    105.75   89.75  2.141901      9.0   \n",
       "229  2413.525000    106.10   90.10  1.286765      9.0   \n",
       "230  2448.700000    106.40   90.40  0.852878      9.0   \n",
       "\n",
       "     segment_average_gradient  \n",
       "0                    0.000000  \n",
       "1                    0.000000  \n",
       "2                    0.000000  \n",
       "3                    0.000000  \n",
       "4                    0.000000  \n",
       "..                        ...  \n",
       "226                  4.997984  \n",
       "227                  4.997984  \n",
       "228                  4.997984  \n",
       "229                  4.997984  \n",
       "230                  4.997984  \n",
       "\n",
       "[231 rows x 6 columns]"
      ]
     },
     "execution_count": 84,
     "metadata": {},
     "output_type": "execute_result"
    },
    {
     "data": {
      "application/javascript": [
       "\n",
       "            setTimeout(function() {\n",
       "                var nbb_cell_id = 84;\n",
       "                var nbb_unformatted_code = \"def clean_profile(df, segment_distance=250):\\n    \\\"\\\"\\\"\\n    Parameters\\n    ----------\\n    df : pandas.core.frame.DataFrame\\n        Raw DataFrame from Strava data\\n    segment_distance : float\\n        Distance (m) to create segments\\n\\n    Returns\\n    -------\\n    pandas.core.frame.DataFrame\\n        Cleaned up DataFrame\\n    \\\"\\\"\\\"\\n    df = df.rolling(window=4, min_periods=1).mean()\\n    df[\\\"ascent\\\"] = df.altitude - df.altitude[0]\\n    df[\\\"gradient\\\"] = (df.altitude.diff() / df.distance.diff()) * 100\\n\\n    #     The first row gets dropped\\n    df.gradient = df.gradient.bfill()\\n    df[\\\"segment\\\"] = df.distance // 250\\n    \\n    df = df.merge(\\n    right=df[[\\\"segment\\\", \\\"gradient\\\"]]\\n    .groupby(\\\"segment\\\")\\n    .mean()\\n    .reset_index()\\n    .rename(columns={\\\"gradient\\\": \\\"segment_average_gradient\\\"}),\\n    on=\\\"segment\\\",\\n)\\n    return df\\n\\n\\ndf = clean_profile(kwaremont)\\ndf\";\n",
       "                var nbb_formatted_code = \"def clean_profile(df, segment_distance=250):\\n    \\\"\\\"\\\"\\n    Parameters\\n    ----------\\n    df : pandas.core.frame.DataFrame\\n        Raw DataFrame from Strava data\\n    segment_distance : float\\n        Distance (m) to create segments\\n\\n    Returns\\n    -------\\n    pandas.core.frame.DataFrame\\n        Cleaned up DataFrame\\n    \\\"\\\"\\\"\\n    df = df.rolling(window=4, min_periods=1).mean()\\n    df[\\\"ascent\\\"] = df.altitude - df.altitude[0]\\n    df[\\\"gradient\\\"] = (df.altitude.diff() / df.distance.diff()) * 100\\n\\n    #     The first row gets dropped\\n    df.gradient = df.gradient.bfill()\\n    df[\\\"segment\\\"] = df.distance // 250\\n\\n    df = df.merge(\\n        right=df[[\\\"segment\\\", \\\"gradient\\\"]]\\n        .groupby(\\\"segment\\\")\\n        .mean()\\n        .reset_index()\\n        .rename(columns={\\\"gradient\\\": \\\"segment_average_gradient\\\"}),\\n        on=\\\"segment\\\",\\n    )\\n    return df\\n\\n\\ndf = clean_profile(kwaremont)\\ndf\";\n",
       "                var nbb_cells = Jupyter.notebook.get_cells();\n",
       "                for (var i = 0; i < nbb_cells.length; ++i) {\n",
       "                    if (nbb_cells[i].input_prompt_number == nbb_cell_id) {\n",
       "                        if (nbb_cells[i].get_text() == nbb_unformatted_code) {\n",
       "                             nbb_cells[i].set_text(nbb_formatted_code);\n",
       "                        }\n",
       "                        break;\n",
       "                    }\n",
       "                }\n",
       "            }, 500);\n",
       "            "
      ],
      "text/plain": [
       "<IPython.core.display.Javascript object>"
      ]
     },
     "metadata": {},
     "output_type": "display_data"
    }
   ],
   "source": [
    "def clean_profile(df, segment_distance=250):\n",
    "    \"\"\"\n",
    "    Parameters\n",
    "    ----------\n",
    "    df : pandas.core.frame.DataFrame\n",
    "        Raw DataFrame from Strava data\n",
    "    segment_distance : float\n",
    "        Distance (m) to create segments\n",
    "\n",
    "    Returns\n",
    "    -------\n",
    "    pandas.core.frame.DataFrame\n",
    "        Cleaned up DataFrame\n",
    "    \"\"\"\n",
    "    df = df.rolling(window=4, min_periods=1).mean()\n",
    "    df[\"ascent\"] = df.altitude - df.altitude[0]\n",
    "    df[\"gradient\"] = (df.altitude.diff() / df.distance.diff()) * 100\n",
    "\n",
    "    #     The first row gets dropped\n",
    "    df.gradient = df.gradient.bfill()\n",
    "    df[\"segment\"] = df.distance // 250\n",
    "\n",
    "    df = df.merge(\n",
    "        right=df[[\"segment\", \"gradient\"]]\n",
    "        .groupby(\"segment\")\n",
    "        .mean()\n",
    "        .reset_index()\n",
    "        .rename(columns={\"gradient\": \"segment_average_gradient\"}),\n",
    "        on=\"segment\",\n",
    "    )\n",
    "    return df\n",
    "\n",
    "\n",
    "df = clean_profile(kwaremont)\n",
    "df"
   ]
  },
  {
   "cell_type": "code",
   "execution_count": 97,
   "id": "4c8cedd0",
   "metadata": {},
   "outputs": [
    {
     "data": {
      "text/plain": [
       "<AxesSubplot:xlabel='segment', ylabel='ascent'>"
      ]
     },
     "execution_count": 97,
     "metadata": {},
     "output_type": "execute_result"
    },
    {
     "data": {
      "image/png": "[encoded data removed]",
      "text/plain": [
       "<Figure size 864x576 with 1 Axes>"
      ]
     },
     "metadata": {
      "needs_background": "light"
     },
     "output_type": "display_data"
    },
    {
     "data": {
      "application/javascript": [
       "\n",
       "            setTimeout(function() {\n",
       "                var nbb_cell_id = 97;\n",
       "                var nbb_unformatted_code = \"plt.figure(figsize=(12, 8))\\n\\nsns.lineplot(data=df, x=\\\"segment\\\", y=\\\"ascent\\\")\";\n",
       "                var nbb_formatted_code = \"plt.figure(figsize=(12, 8))\\n\\nsns.lineplot(data=df, x=\\\"segment\\\", y=\\\"ascent\\\")\";\n",
       "                var nbb_cells = Jupyter.notebook.get_cells();\n",
       "                for (var i = 0; i < nbb_cells.length; ++i) {\n",
       "                    if (nbb_cells[i].input_prompt_number == nbb_cell_id) {\n",
       "                        if (nbb_cells[i].get_text() == nbb_unformatted_code) {\n",
       "                             nbb_cells[i].set_text(nbb_formatted_code);\n",
       "                        }\n",
       "                        break;\n",
       "                    }\n",
       "                }\n",
       "            }, 500);\n",
       "            "
      ],
      "text/plain": [
       "<IPython.core.display.Javascript object>"
      ]
     },
     "metadata": {},
     "output_type": "display_data"
    }
   ],
   "source": [
    "plt.figure(figsize=(12, 8))\n",
    "\n",
    "sns.lineplot(data=df, x=\"segment\", y=\"ascent\")"
   ]
  },
  {
   "cell_type": "code",
   "execution_count": 88,
   "id": "14608cdf",
   "metadata": {},
   "outputs": [
    {
     "data": {
      "text/plain": [
       "9.249704    43\n",
       "8.790139    43\n",
       "5.271294    28\n",
       "4.480823    25\n",
       "3.401806    24\n",
       "4.997984    19\n",
       "2.645955    16\n",
       "1.602263    13\n",
       "0.626219    12\n",
       "0.000000     8\n",
       "Name: segment_average_gradient, dtype: int64"
      ]
     },
     "execution_count": 88,
     "metadata": {},
     "output_type": "execute_result"
    },
    {
     "data": {
      "application/javascript": [
       "\n",
       "            setTimeout(function() {\n",
       "                var nbb_cell_id = 88;\n",
       "                var nbb_unformatted_code = \"df.segment_average_gradient.value_counts()\";\n",
       "                var nbb_formatted_code = \"df.segment_average_gradient.value_counts()\";\n",
       "                var nbb_cells = Jupyter.notebook.get_cells();\n",
       "                for (var i = 0; i < nbb_cells.length; ++i) {\n",
       "                    if (nbb_cells[i].input_prompt_number == nbb_cell_id) {\n",
       "                        if (nbb_cells[i].get_text() == nbb_unformatted_code) {\n",
       "                             nbb_cells[i].set_text(nbb_formatted_code);\n",
       "                        }\n",
       "                        break;\n",
       "                    }\n",
       "                }\n",
       "            }, 500);\n",
       "            "
      ],
      "text/plain": [
       "<IPython.core.display.Javascript object>"
      ]
     },
     "metadata": {},
     "output_type": "display_data"
    }
   ],
   "source": [
    "df.segment_average_gradient.value_counts()"
   ]
  },
  {
   "cell_type": "code",
   "execution_count": 94,
   "id": "10646cc2",
   "metadata": {},
   "outputs": [
    {
     "data": {
      "application/javascript": [
       "\n",
       "            setTimeout(function() {\n",
       "                var nbb_cell_id = 94;\n",
       "                var nbb_unformatted_code = \"df['segment_gradient_max'] =pd.cut(df.segment_average_gradient, bins=[-0.1, 3, 6, 9, 12], labels=[3, 6, 9, 12])\";\n",
       "                var nbb_formatted_code = \"df[\\\"segment_gradient_max\\\"] = pd.cut(\\n    df.segment_average_gradient, bins=[-0.1, 3, 6, 9, 12], labels=[3, 6, 9, 12]\\n)\";\n",
       "                var nbb_cells = Jupyter.notebook.get_cells();\n",
       "                for (var i = 0; i < nbb_cells.length; ++i) {\n",
       "                    if (nbb_cells[i].input_prompt_number == nbb_cell_id) {\n",
       "                        if (nbb_cells[i].get_text() == nbb_unformatted_code) {\n",
       "                             nbb_cells[i].set_text(nbb_formatted_code);\n",
       "                        }\n",
       "                        break;\n",
       "                    }\n",
       "                }\n",
       "            }, 500);\n",
       "            "
      ],
      "text/plain": [
       "<IPython.core.display.Javascript object>"
      ]
     },
     "metadata": {},
     "output_type": "display_data"
    }
   ],
   "source": [
    "df[\"segment_gradient_max\"] = pd.cut(\n",
    "    df.segment_average_gradient, bins=[-0.1, 3, 6, 9, 12], labels=[3, 6, 9, 12]\n",
    ")"
   ]
  },
  {
   "cell_type": "code",
   "execution_count": 95,
   "id": "d92c235c",
   "metadata": {},
   "outputs": [
    {
     "data": {
      "text/html": [
       "<div>\n",
       "<style scoped>\n",
       "    .dataframe tbody tr th:only-of-type {\n",
       "        vertical-align: middle;\n",
       "    }\n",
       "\n",
       "    .dataframe tbody tr th {\n",
       "        vertical-align: top;\n",
       "    }\n",
       "\n",
       "    .dataframe thead th {\n",
       "        text-align: right;\n",
       "    }\n",
       "</style>\n",
       "<table border=\"1\" class=\"dataframe\">\n",
       "  <thead>\n",
       "    <tr style=\"text-align: right;\">\n",
       "      <th></th>\n",
       "      <th>distance</th>\n",
       "      <th>altitude</th>\n",
       "      <th>ascent</th>\n",
       "      <th>gradient</th>\n",
       "      <th>segment</th>\n",
       "      <th>segment_average_gradient</th>\n",
       "      <th>segment_gradient_max</th>\n",
       "    </tr>\n",
       "  </thead>\n",
       "  <tbody>\n",
       "    <tr>\n",
       "      <th>0</th>\n",
       "      <td>0.000000</td>\n",
       "      <td>16.00</td>\n",
       "      <td>0.00</td>\n",
       "      <td>0.000000</td>\n",
       "      <td>0.0</td>\n",
       "      <td>0.000000</td>\n",
       "      <td>3</td>\n",
       "    </tr>\n",
       "    <tr>\n",
       "      <th>1</th>\n",
       "      <td>23.450000</td>\n",
       "      <td>16.00</td>\n",
       "      <td>0.00</td>\n",
       "      <td>0.000000</td>\n",
       "      <td>0.0</td>\n",
       "      <td>0.000000</td>\n",
       "      <td>3</td>\n",
       "    </tr>\n",
       "    <tr>\n",
       "      <th>2</th>\n",
       "      <td>47.066667</td>\n",
       "      <td>16.00</td>\n",
       "      <td>0.00</td>\n",
       "      <td>0.000000</td>\n",
       "      <td>0.0</td>\n",
       "      <td>0.000000</td>\n",
       "      <td>3</td>\n",
       "    </tr>\n",
       "    <tr>\n",
       "      <th>3</th>\n",
       "      <td>70.650000</td>\n",
       "      <td>16.00</td>\n",
       "      <td>0.00</td>\n",
       "      <td>0.000000</td>\n",
       "      <td>0.0</td>\n",
       "      <td>0.000000</td>\n",
       "      <td>3</td>\n",
       "    </tr>\n",
       "    <tr>\n",
       "      <th>4</th>\n",
       "      <td>117.475000</td>\n",
       "      <td>16.00</td>\n",
       "      <td>0.00</td>\n",
       "      <td>0.000000</td>\n",
       "      <td>0.0</td>\n",
       "      <td>0.000000</td>\n",
       "      <td>3</td>\n",
       "    </tr>\n",
       "    <tr>\n",
       "      <th>...</th>\n",
       "      <td>...</td>\n",
       "      <td>...</td>\n",
       "      <td>...</td>\n",
       "      <td>...</td>\n",
       "      <td>...</td>\n",
       "      <td>...</td>\n",
       "      <td>...</td>\n",
       "    </tr>\n",
       "    <tr>\n",
       "      <th>226</th>\n",
       "      <td>2357.975000</td>\n",
       "      <td>104.95</td>\n",
       "      <td>88.95</td>\n",
       "      <td>4.878049</td>\n",
       "      <td>9.0</td>\n",
       "      <td>4.997984</td>\n",
       "      <td>6</td>\n",
       "    </tr>\n",
       "    <tr>\n",
       "      <th>227</th>\n",
       "      <td>2367.650000</td>\n",
       "      <td>105.35</td>\n",
       "      <td>89.35</td>\n",
       "      <td>4.134367</td>\n",
       "      <td>9.0</td>\n",
       "      <td>4.997984</td>\n",
       "      <td>6</td>\n",
       "    </tr>\n",
       "    <tr>\n",
       "      <th>228</th>\n",
       "      <td>2386.325000</td>\n",
       "      <td>105.75</td>\n",
       "      <td>89.75</td>\n",
       "      <td>2.141901</td>\n",
       "      <td>9.0</td>\n",
       "      <td>4.997984</td>\n",
       "      <td>6</td>\n",
       "    </tr>\n",
       "    <tr>\n",
       "      <th>229</th>\n",
       "      <td>2413.525000</td>\n",
       "      <td>106.10</td>\n",
       "      <td>90.10</td>\n",
       "      <td>1.286765</td>\n",
       "      <td>9.0</td>\n",
       "      <td>4.997984</td>\n",
       "      <td>6</td>\n",
       "    </tr>\n",
       "    <tr>\n",
       "      <th>230</th>\n",
       "      <td>2448.700000</td>\n",
       "      <td>106.40</td>\n",
       "      <td>90.40</td>\n",
       "      <td>0.852878</td>\n",
       "      <td>9.0</td>\n",
       "      <td>4.997984</td>\n",
       "      <td>6</td>\n",
       "    </tr>\n",
       "  </tbody>\n",
       "</table>\n",
       "<p>231 rows × 7 columns</p>\n",
       "</div>"
      ],
      "text/plain": [
       "        distance  altitude  ascent  gradient  segment  \\\n",
       "0       0.000000     16.00    0.00  0.000000      0.0   \n",
       "1      23.450000     16.00    0.00  0.000000      0.0   \n",
       "2      47.066667     16.00    0.00  0.000000      0.0   \n",
       "3      70.650000     16.00    0.00  0.000000      0.0   \n",
       "4     117.475000     16.00    0.00  0.000000      0.0   \n",
       "..           ...       ...     ...       ...      ...   \n",
       "226  2357.975000    104.95   88.95  4.878049      9.0   \n",
       "227  2367.650000    105.35   89.35  4.134367      9.0   \n",
       "228  2386.325000    105.75   89.75  2.141901      9.0   \n",
       "229  2413.525000    106.10   90.10  1.286765      9.0   \n",
       "230  2448.700000    106.40   90.40  0.852878      9.0   \n",
       "\n",
       "     segment_average_gradient segment_gradient_max  \n",
       "0                    0.000000                    3  \n",
       "1                    0.000000                    3  \n",
       "2                    0.000000                    3  \n",
       "3                    0.000000                    3  \n",
       "4                    0.000000                    3  \n",
       "..                        ...                  ...  \n",
       "226                  4.997984                    6  \n",
       "227                  4.997984                    6  \n",
       "228                  4.997984                    6  \n",
       "229                  4.997984                    6  \n",
       "230                  4.997984                    6  \n",
       "\n",
       "[231 rows x 7 columns]"
      ]
     },
     "execution_count": 95,
     "metadata": {},
     "output_type": "execute_result"
    },
    {
     "data": {
      "application/javascript": [
       "\n",
       "            setTimeout(function() {\n",
       "                var nbb_cell_id = 95;\n",
       "                var nbb_unformatted_code = \"df\";\n",
       "                var nbb_formatted_code = \"df\";\n",
       "                var nbb_cells = Jupyter.notebook.get_cells();\n",
       "                for (var i = 0; i < nbb_cells.length; ++i) {\n",
       "                    if (nbb_cells[i].input_prompt_number == nbb_cell_id) {\n",
       "                        if (nbb_cells[i].get_text() == nbb_unformatted_code) {\n",
       "                             nbb_cells[i].set_text(nbb_formatted_code);\n",
       "                        }\n",
       "                        break;\n",
       "                    }\n",
       "                }\n",
       "            }, 500);\n",
       "            "
      ],
      "text/plain": [
       "<IPython.core.display.Javascript object>"
      ]
     },
     "metadata": {},
     "output_type": "display_data"
    }
   ],
   "source": [
    "df"
   ]
  },
  {
   "cell_type": "code",
   "execution_count": null,
   "id": "d7e79a4a",
   "metadata": {},
   "outputs": [],
   "source": []
  },
  {
   "cell_type": "code",
   "execution_count": 81,
   "id": "ca6f36e4",
   "metadata": {},
   "outputs": [
    {
     "data": {
      "application/javascript": [
       "\n",
       "            setTimeout(function() {\n",
       "                var nbb_cell_id = 81;\n",
       "                var nbb_unformatted_code = \"df = df.merge(\\n    right=df[[\\\"segment\\\", \\\"gradient\\\"]]\\n    .groupby(\\\"segment\\\")\\n    .mean()\\n    .reset_index()\\n    .rename(columns={\\\"gradient\\\": \\\"segment_average_gradient\\\"}),\\n    on=\\\"segment\\\",\\n)\";\n",
       "                var nbb_formatted_code = \"df = df.merge(\\n    right=df[[\\\"segment\\\", \\\"gradient\\\"]]\\n    .groupby(\\\"segment\\\")\\n    .mean()\\n    .reset_index()\\n    .rename(columns={\\\"gradient\\\": \\\"segment_average_gradient\\\"}),\\n    on=\\\"segment\\\",\\n)\";\n",
       "                var nbb_cells = Jupyter.notebook.get_cells();\n",
       "                for (var i = 0; i < nbb_cells.length; ++i) {\n",
       "                    if (nbb_cells[i].input_prompt_number == nbb_cell_id) {\n",
       "                        if (nbb_cells[i].get_text() == nbb_unformatted_code) {\n",
       "                             nbb_cells[i].set_text(nbb_formatted_code);\n",
       "                        }\n",
       "                        break;\n",
       "                    }\n",
       "                }\n",
       "            }, 500);\n",
       "            "
      ],
      "text/plain": [
       "<IPython.core.display.Javascript object>"
      ]
     },
     "metadata": {},
     "output_type": "display_data"
    }
   ],
   "source": [
    "df = df.merge(\n",
    "    right=df[[\"segment\", \"gradient\"]]\n",
    "    .groupby(\"segment\")\n",
    "    .mean()\n",
    "    .reset_index()\n",
    "    .rename(columns={\"gradient\": \"segment_average_gradient\"}),\n",
    "    on=\"segment\",\n",
    ")"
   ]
  },
  {
   "cell_type": "code",
   "execution_count": 66,
   "id": "48331eb3",
   "metadata": {},
   "outputs": [
    {
     "data": {
      "text/plain": [
       "0      0.0\n",
       "1      0.0\n",
       "2      0.0\n",
       "3      0.0\n",
       "4      0.0\n",
       "      ... \n",
       "226    9.0\n",
       "227    9.0\n",
       "228    9.0\n",
       "229    9.0\n",
       "230    9.0\n",
       "Name: distance, Length: 231, dtype: float64"
      ]
     },
     "execution_count": 66,
     "metadata": {},
     "output_type": "execute_result"
    },
    {
     "data": {
      "application/javascript": [
       "\n",
       "            setTimeout(function() {\n",
       "                var nbb_cell_id = 66;\n",
       "                var nbb_unformatted_code = \"df.distance // 250\";\n",
       "                var nbb_formatted_code = \"df.distance // 250\";\n",
       "                var nbb_cells = Jupyter.notebook.get_cells();\n",
       "                for (var i = 0; i < nbb_cells.length; ++i) {\n",
       "                    if (nbb_cells[i].input_prompt_number == nbb_cell_id) {\n",
       "                        if (nbb_cells[i].get_text() == nbb_unformatted_code) {\n",
       "                             nbb_cells[i].set_text(nbb_formatted_code);\n",
       "                        }\n",
       "                        break;\n",
       "                    }\n",
       "                }\n",
       "            }, 500);\n",
       "            "
      ],
      "text/plain": [
       "<IPython.core.display.Javascript object>"
      ]
     },
     "metadata": {},
     "output_type": "display_data"
    }
   ],
   "source": [
    "df.distance // 250"
   ]
  },
  {
   "cell_type": "code",
   "execution_count": 70,
   "id": "50e7dae2",
   "metadata": {},
   "outputs": [
    {
     "ename": "ValueError",
     "evalue": "Could not interpret value `gradient_bin` for parameter `hue`",
     "output_type": "error",
     "traceback": [
      "\u001b[0;31m---------------------------------------------------------------------------\u001b[0m",
      "\u001b[0;31mValueError\u001b[0m                                Traceback (most recent call last)",
      "\u001b[0;32m/var/folders/0p/62m163zd22d3w3186wq2wq6r0000gq/T/ipykernel_83134/2039167041.py\u001b[0m in \u001b[0;36m<module>\u001b[0;34m\u001b[0m\n\u001b[0;32m----> 1\u001b[0;31m \u001b[0msns\u001b[0m\u001b[0;34m.\u001b[0m\u001b[0mlineplot\u001b[0m\u001b[0;34m(\u001b[0m\u001b[0mdata\u001b[0m\u001b[0;34m=\u001b[0m\u001b[0mx\u001b[0m\u001b[0;34m,\u001b[0m \u001b[0mx\u001b[0m\u001b[0;34m=\u001b[0m\u001b[0;34m\"distance\"\u001b[0m\u001b[0;34m,\u001b[0m \u001b[0my\u001b[0m\u001b[0;34m=\u001b[0m\u001b[0;34m\"altitude\"\u001b[0m\u001b[0;34m,\u001b[0m \u001b[0mhue\u001b[0m\u001b[0;34m=\u001b[0m\u001b[0;34m'gradient_bin'\u001b[0m\u001b[0;34m)\u001b[0m\u001b[0;34m\u001b[0m\u001b[0;34m\u001b[0m\u001b[0m\n\u001b[0m",
      "\u001b[0;32m~/anaconda3/lib/python3.7/site-packages/seaborn/_decorators.py\u001b[0m in \u001b[0;36minner_f\u001b[0;34m(*args, **kwargs)\u001b[0m\n\u001b[1;32m     44\u001b[0m             )\n\u001b[1;32m     45\u001b[0m         \u001b[0mkwargs\u001b[0m\u001b[0;34m.\u001b[0m\u001b[0mupdate\u001b[0m\u001b[0;34m(\u001b[0m\u001b[0;34m{\u001b[0m\u001b[0mk\u001b[0m\u001b[0;34m:\u001b[0m \u001b[0marg\u001b[0m \u001b[0;32mfor\u001b[0m \u001b[0mk\u001b[0m\u001b[0;34m,\u001b[0m \u001b[0marg\u001b[0m \u001b[0;32min\u001b[0m \u001b[0mzip\u001b[0m\u001b[0;34m(\u001b[0m\u001b[0msig\u001b[0m\u001b[0;34m.\u001b[0m\u001b[0mparameters\u001b[0m\u001b[0;34m,\u001b[0m \u001b[0margs\u001b[0m\u001b[0;34m)\u001b[0m\u001b[0;34m}\u001b[0m\u001b[0;34m)\u001b[0m\u001b[0;34m\u001b[0m\u001b[0;34m\u001b[0m\u001b[0m\n\u001b[0;32m---> 46\u001b[0;31m         \u001b[0;32mreturn\u001b[0m \u001b[0mf\u001b[0m\u001b[0;34m(\u001b[0m\u001b[0;34m**\u001b[0m\u001b[0mkwargs\u001b[0m\u001b[0;34m)\u001b[0m\u001b[0;34m\u001b[0m\u001b[0;34m\u001b[0m\u001b[0m\n\u001b[0m\u001b[1;32m     47\u001b[0m     \u001b[0;32mreturn\u001b[0m \u001b[0minner_f\u001b[0m\u001b[0;34m\u001b[0m\u001b[0;34m\u001b[0m\u001b[0m\n\u001b[1;32m     48\u001b[0m \u001b[0;34m\u001b[0m\u001b[0m\n",
      "\u001b[0;32m~/anaconda3/lib/python3.7/site-packages/seaborn/relational.py\u001b[0m in \u001b[0;36mlineplot\u001b[0;34m(x, y, hue, size, style, data, palette, hue_order, hue_norm, sizes, size_order, size_norm, dashes, markers, style_order, units, estimator, ci, n_boot, seed, sort, err_style, err_kws, legend, ax, **kwargs)\u001b[0m\n\u001b[1;32m    693\u001b[0m         \u001b[0mdata\u001b[0m\u001b[0;34m=\u001b[0m\u001b[0mdata\u001b[0m\u001b[0;34m,\u001b[0m \u001b[0mvariables\u001b[0m\u001b[0;34m=\u001b[0m\u001b[0mvariables\u001b[0m\u001b[0;34m,\u001b[0m\u001b[0;34m\u001b[0m\u001b[0;34m\u001b[0m\u001b[0m\n\u001b[1;32m    694\u001b[0m         \u001b[0mestimator\u001b[0m\u001b[0;34m=\u001b[0m\u001b[0mestimator\u001b[0m\u001b[0;34m,\u001b[0m \u001b[0mci\u001b[0m\u001b[0;34m=\u001b[0m\u001b[0mci\u001b[0m\u001b[0;34m,\u001b[0m \u001b[0mn_boot\u001b[0m\u001b[0;34m=\u001b[0m\u001b[0mn_boot\u001b[0m\u001b[0;34m,\u001b[0m \u001b[0mseed\u001b[0m\u001b[0;34m=\u001b[0m\u001b[0mseed\u001b[0m\u001b[0;34m,\u001b[0m\u001b[0;34m\u001b[0m\u001b[0;34m\u001b[0m\u001b[0m\n\u001b[0;32m--> 695\u001b[0;31m         \u001b[0msort\u001b[0m\u001b[0;34m=\u001b[0m\u001b[0msort\u001b[0m\u001b[0;34m,\u001b[0m \u001b[0merr_style\u001b[0m\u001b[0;34m=\u001b[0m\u001b[0merr_style\u001b[0m\u001b[0;34m,\u001b[0m \u001b[0merr_kws\u001b[0m\u001b[0;34m=\u001b[0m\u001b[0merr_kws\u001b[0m\u001b[0;34m,\u001b[0m \u001b[0mlegend\u001b[0m\u001b[0;34m=\u001b[0m\u001b[0mlegend\u001b[0m\u001b[0;34m,\u001b[0m\u001b[0;34m\u001b[0m\u001b[0;34m\u001b[0m\u001b[0m\n\u001b[0m\u001b[1;32m    696\u001b[0m     )\n\u001b[1;32m    697\u001b[0m \u001b[0;34m\u001b[0m\u001b[0m\n",
      "\u001b[0;32m~/anaconda3/lib/python3.7/site-packages/seaborn/relational.py\u001b[0m in \u001b[0;36m__init__\u001b[0;34m(self, data, variables, estimator, ci, n_boot, seed, sort, err_style, err_kws, legend)\u001b[0m\n\u001b[1;32m    365\u001b[0m         )\n\u001b[1;32m    366\u001b[0m \u001b[0;34m\u001b[0m\u001b[0m\n\u001b[0;32m--> 367\u001b[0;31m         \u001b[0msuper\u001b[0m\u001b[0;34m(\u001b[0m\u001b[0;34m)\u001b[0m\u001b[0;34m.\u001b[0m\u001b[0m__init__\u001b[0m\u001b[0;34m(\u001b[0m\u001b[0mdata\u001b[0m\u001b[0;34m=\u001b[0m\u001b[0mdata\u001b[0m\u001b[0;34m,\u001b[0m \u001b[0mvariables\u001b[0m\u001b[0;34m=\u001b[0m\u001b[0mvariables\u001b[0m\u001b[0;34m)\u001b[0m\u001b[0;34m\u001b[0m\u001b[0;34m\u001b[0m\u001b[0m\n\u001b[0m\u001b[1;32m    368\u001b[0m \u001b[0;34m\u001b[0m\u001b[0m\n\u001b[1;32m    369\u001b[0m         \u001b[0mself\u001b[0m\u001b[0;34m.\u001b[0m\u001b[0mestimator\u001b[0m \u001b[0;34m=\u001b[0m \u001b[0mestimator\u001b[0m\u001b[0;34m\u001b[0m\u001b[0;34m\u001b[0m\u001b[0m\n",
      "\u001b[0;32m~/anaconda3/lib/python3.7/site-packages/seaborn/_core.py\u001b[0m in \u001b[0;36m__init__\u001b[0;34m(self, data, variables)\u001b[0m\n\u001b[1;32m    603\u001b[0m     \u001b[0;32mdef\u001b[0m \u001b[0m__init__\u001b[0m\u001b[0;34m(\u001b[0m\u001b[0mself\u001b[0m\u001b[0;34m,\u001b[0m \u001b[0mdata\u001b[0m\u001b[0;34m=\u001b[0m\u001b[0;32mNone\u001b[0m\u001b[0;34m,\u001b[0m \u001b[0mvariables\u001b[0m\u001b[0;34m=\u001b[0m\u001b[0;34m{\u001b[0m\u001b[0;34m}\u001b[0m\u001b[0;34m)\u001b[0m\u001b[0;34m:\u001b[0m\u001b[0;34m\u001b[0m\u001b[0;34m\u001b[0m\u001b[0m\n\u001b[1;32m    604\u001b[0m \u001b[0;34m\u001b[0m\u001b[0m\n\u001b[0;32m--> 605\u001b[0;31m         \u001b[0mself\u001b[0m\u001b[0;34m.\u001b[0m\u001b[0massign_variables\u001b[0m\u001b[0;34m(\u001b[0m\u001b[0mdata\u001b[0m\u001b[0;34m,\u001b[0m \u001b[0mvariables\u001b[0m\u001b[0;34m)\u001b[0m\u001b[0;34m\u001b[0m\u001b[0;34m\u001b[0m\u001b[0m\n\u001b[0m\u001b[1;32m    606\u001b[0m \u001b[0;34m\u001b[0m\u001b[0m\n\u001b[1;32m    607\u001b[0m         \u001b[0;32mfor\u001b[0m \u001b[0mvar\u001b[0m\u001b[0;34m,\u001b[0m \u001b[0mcls\u001b[0m \u001b[0;32min\u001b[0m \u001b[0mself\u001b[0m\u001b[0;34m.\u001b[0m\u001b[0m_semantic_mappings\u001b[0m\u001b[0;34m.\u001b[0m\u001b[0mitems\u001b[0m\u001b[0;34m(\u001b[0m\u001b[0;34m)\u001b[0m\u001b[0;34m:\u001b[0m\u001b[0;34m\u001b[0m\u001b[0;34m\u001b[0m\u001b[0m\n",
      "\u001b[0;32m~/anaconda3/lib/python3.7/site-packages/seaborn/_core.py\u001b[0m in \u001b[0;36massign_variables\u001b[0;34m(self, data, variables)\u001b[0m\n\u001b[1;32m    667\u001b[0m             \u001b[0mself\u001b[0m\u001b[0;34m.\u001b[0m\u001b[0minput_format\u001b[0m \u001b[0;34m=\u001b[0m \u001b[0;34m\"long\"\u001b[0m\u001b[0;34m\u001b[0m\u001b[0;34m\u001b[0m\u001b[0m\n\u001b[1;32m    668\u001b[0m             plot_data, variables = self._assign_variables_longform(\n\u001b[0;32m--> 669\u001b[0;31m                 \u001b[0mdata\u001b[0m\u001b[0;34m,\u001b[0m \u001b[0;34m**\u001b[0m\u001b[0mvariables\u001b[0m\u001b[0;34m,\u001b[0m\u001b[0;34m\u001b[0m\u001b[0;34m\u001b[0m\u001b[0m\n\u001b[0m\u001b[1;32m    670\u001b[0m             )\n\u001b[1;32m    671\u001b[0m \u001b[0;34m\u001b[0m\u001b[0m\n",
      "\u001b[0;32m~/anaconda3/lib/python3.7/site-packages/seaborn/_core.py\u001b[0m in \u001b[0;36m_assign_variables_longform\u001b[0;34m(self, data, **kwargs)\u001b[0m\n\u001b[1;32m    901\u001b[0m \u001b[0;34m\u001b[0m\u001b[0m\n\u001b[1;32m    902\u001b[0m                 \u001b[0merr\u001b[0m \u001b[0;34m=\u001b[0m \u001b[0;34mf\"Could not interpret value `{val}` for parameter `{key}`\"\u001b[0m\u001b[0;34m\u001b[0m\u001b[0;34m\u001b[0m\u001b[0m\n\u001b[0;32m--> 903\u001b[0;31m                 \u001b[0;32mraise\u001b[0m \u001b[0mValueError\u001b[0m\u001b[0;34m(\u001b[0m\u001b[0merr\u001b[0m\u001b[0;34m)\u001b[0m\u001b[0;34m\u001b[0m\u001b[0;34m\u001b[0m\u001b[0m\n\u001b[0m\u001b[1;32m    904\u001b[0m \u001b[0;34m\u001b[0m\u001b[0m\n\u001b[1;32m    905\u001b[0m             \u001b[0;32melse\u001b[0m\u001b[0;34m:\u001b[0m\u001b[0;34m\u001b[0m\u001b[0;34m\u001b[0m\u001b[0m\n",
      "\u001b[0;31mValueError\u001b[0m: Could not interpret value `gradient_bin` for parameter `hue`"
     ]
    },
    {
     "data": {
      "application/javascript": [
       "\n",
       "            setTimeout(function() {\n",
       "                var nbb_cell_id = 70;\n",
       "                var nbb_unformatted_code = \"sns.lineplot(data=x, x=\\\"distance\\\", y=\\\"altitude\\\", hue='gradient_bin')\";\n",
       "                var nbb_formatted_code = \"sns.lineplot(data=x, x=\\\"distance\\\", y=\\\"altitude\\\", hue=\\\"gradient_bin\\\")\";\n",
       "                var nbb_cells = Jupyter.notebook.get_cells();\n",
       "                for (var i = 0; i < nbb_cells.length; ++i) {\n",
       "                    if (nbb_cells[i].input_prompt_number == nbb_cell_id) {\n",
       "                        if (nbb_cells[i].get_text() == nbb_unformatted_code) {\n",
       "                             nbb_cells[i].set_text(nbb_formatted_code);\n",
       "                        }\n",
       "                        break;\n",
       "                    }\n",
       "                }\n",
       "            }, 500);\n",
       "            "
      ],
      "text/plain": [
       "<IPython.core.display.Javascript object>"
      ]
     },
     "metadata": {},
     "output_type": "display_data"
    }
   ],
   "source": [
    "sns.lineplot(data=x, x=\"distance\", y=\"altitude\", hue=\"gradient_bin\")"
   ]
  },
  {
   "cell_type": "code",
   "execution_count": 10,
   "id": "b6086bd2",
   "metadata": {},
   "outputs": [
    {
     "data": {
      "text/plain": [
       "<AxesSubplot:xlabel='distance', ylabel='altitude'>"
      ]
     },
     "execution_count": 10,
     "metadata": {},
     "output_type": "execute_result"
    },
    {
     "data": {
      "image/png": "[encoded data removed]",
      "text/plain": [
       "<Figure size 432x288 with 1 Axes>"
      ]
     },
     "metadata": {
      "needs_background": "light"
     },
     "output_type": "display_data"
    },
    {
     "data": {
      "application/javascript": [
       "\n",
       "            setTimeout(function() {\n",
       "                var nbb_cell_id = 10;\n",
       "                var nbb_unformatted_code = \"selection = flagstaff.rolling(window=3, min_periods=1, center=True).mean()\\n\\n\\nsns.lineplot(data=selection, x=\\\"distance\\\", y=\\\"altitude\\\")\";\n",
       "                var nbb_formatted_code = \"selection = flagstaff.rolling(window=3, min_periods=1, center=True).mean()\\n\\n\\nsns.lineplot(data=selection, x=\\\"distance\\\", y=\\\"altitude\\\")\";\n",
       "                var nbb_cells = Jupyter.notebook.get_cells();\n",
       "                for (var i = 0; i < nbb_cells.length; ++i) {\n",
       "                    if (nbb_cells[i].input_prompt_number == nbb_cell_id) {\n",
       "                        if (nbb_cells[i].get_text() == nbb_unformatted_code) {\n",
       "                             nbb_cells[i].set_text(nbb_formatted_code);\n",
       "                        }\n",
       "                        break;\n",
       "                    }\n",
       "                }\n",
       "            }, 500);\n",
       "            "
      ],
      "text/plain": [
       "<IPython.core.display.Javascript object>"
      ]
     },
     "metadata": {},
     "output_type": "display_data"
    }
   ],
   "source": [
    "selection = flagstaff.rolling(window=3, min_periods=1, center=True).mean()\n",
    "\n",
    "\n",
    "sns.lineplot(data=selection, x=\"distance\", y=\"altitude\")"
   ]
  },
  {
   "cell_type": "code",
   "execution_count": 92,
   "id": "094c3fae",
   "metadata": {},
   "outputs": [
    {
     "data": {
      "text/plain": [
       "<AxesSubplot:xlabel='energy_spent', ylabel='total_time'>"
      ]
     },
     "execution_count": 92,
     "metadata": {},
     "output_type": "execute_result"
    },
    {
     "data": {
      "image/png": "[encoded data removed]",
      "text/plain": [
       "<Figure size 432x288 with 1 Axes>"
      ]
     },
     "metadata": {
      "needs_background": "light"
     },
     "output_type": "display_data"
    },
    {
     "data": {
      "application/javascript": [
       "\n",
       "            setTimeout(function() {\n",
       "                var nbb_cell_id = 92;\n",
       "                var nbb_unformatted_code = \"df.plot.scatter(x=\\\"energy_spent\\\", y=\\\"total_time\\\")\";\n",
       "                var nbb_formatted_code = \"df.plot.scatter(x=\\\"energy_spent\\\", y=\\\"total_time\\\")\";\n",
       "                var nbb_cells = Jupyter.notebook.get_cells();\n",
       "                for (var i = 0; i < nbb_cells.length; ++i) {\n",
       "                    if (nbb_cells[i].input_prompt_number == nbb_cell_id) {\n",
       "                        if (nbb_cells[i].get_text() == nbb_unformatted_code) {\n",
       "                             nbb_cells[i].set_text(nbb_formatted_code);\n",
       "                        }\n",
       "                        break;\n",
       "                    }\n",
       "                }\n",
       "            }, 500);\n",
       "            "
      ],
      "text/plain": [
       "<IPython.core.display.Javascript object>"
      ]
     },
     "metadata": {},
     "output_type": "display_data"
    }
   ],
   "source": [
    "df.plot.scatter(x=\"energy_spent\", y=\"total_time\")"
   ]
  },
  {
   "cell_type": "code",
   "execution_count": 93,
   "id": "009c60b1",
   "metadata": {},
   "outputs": [
    {
     "data": {
      "text/plain": [
       "<AxesSubplot:>"
      ]
     },
     "execution_count": 93,
     "metadata": {},
     "output_type": "execute_result"
    },
    {
     "data": {
      "image/png": "[encoded data removed]",
      "text/plain": [
       "<Figure size 432x288 with 1 Axes>"
      ]
     },
     "metadata": {
      "needs_background": "light"
     },
     "output_type": "display_data"
    },
    {
     "data": {
      "application/javascript": [
       "\n",
       "            setTimeout(function() {\n",
       "                var nbb_cell_id = 93;\n",
       "                var nbb_unformatted_code = \"df.total_time.hist()\";\n",
       "                var nbb_formatted_code = \"df.total_time.hist()\";\n",
       "                var nbb_cells = Jupyter.notebook.get_cells();\n",
       "                for (var i = 0; i < nbb_cells.length; ++i) {\n",
       "                    if (nbb_cells[i].input_prompt_number == nbb_cell_id) {\n",
       "                        if (nbb_cells[i].get_text() == nbb_unformatted_code) {\n",
       "                             nbb_cells[i].set_text(nbb_formatted_code);\n",
       "                        }\n",
       "                        break;\n",
       "                    }\n",
       "                }\n",
       "            }, 500);\n",
       "            "
      ],
      "text/plain": [
       "<IPython.core.display.Javascript object>"
      ]
     },
     "metadata": {},
     "output_type": "display_data"
    }
   ],
   "source": [
    "df.total_time.hist()"
   ]
  },
  {
   "cell_type": "code",
   "execution_count": 97,
   "id": "61ad07ee",
   "metadata": {},
   "outputs": [
    {
     "data": {
      "text/plain": [
       "count    169.000000\n",
       "mean       0.066405\n",
       "std        0.126516\n",
       "min       -0.468085\n",
       "25%        0.000000\n",
       "50%        0.055785\n",
       "75%        0.128889\n",
       "max        0.436364\n",
       "dtype: float64"
      ]
     },
     "execution_count": 97,
     "metadata": {},
     "output_type": "execute_result"
    },
    {
     "data": {
      "application/javascript": [
       "\n",
       "            setTimeout(function() {\n",
       "                var nbb_cell_id = 97;\n",
       "                var nbb_unformatted_code = \"(flagstaff.altitude.diff() / flagstaff.distance.diff()).describe()\";\n",
       "                var nbb_formatted_code = \"(flagstaff.altitude.diff() / flagstaff.distance.diff()).describe()\";\n",
       "                var nbb_cells = Jupyter.notebook.get_cells();\n",
       "                for (var i = 0; i < nbb_cells.length; ++i) {\n",
       "                    if (nbb_cells[i].input_prompt_number == nbb_cell_id) {\n",
       "                        if (nbb_cells[i].get_text() == nbb_unformatted_code) {\n",
       "                             nbb_cells[i].set_text(nbb_formatted_code);\n",
       "                        }\n",
       "                        break;\n",
       "                    }\n",
       "                }\n",
       "            }, 500);\n",
       "            "
      ],
      "text/plain": [
       "<IPython.core.display.Javascript object>"
      ]
     },
     "metadata": {},
     "output_type": "display_data"
    }
   ],
   "source": [
    "(flagstaff.altitude.diff() / flagstaff.distance.diff()).describe()"
   ]
  },
  {
   "cell_type": "code",
   "execution_count": 99,
   "id": "c6d00f73",
   "metadata": {},
   "outputs": [
    {
     "data": {
      "text/html": [
       "<div>\n",
       "<style scoped>\n",
       "    .dataframe tbody tr th:only-of-type {\n",
       "        vertical-align: middle;\n",
       "    }\n",
       "\n",
       "    .dataframe tbody tr th {\n",
       "        vertical-align: top;\n",
       "    }\n",
       "\n",
       "    .dataframe thead th {\n",
       "        text-align: right;\n",
       "    }\n",
       "</style>\n",
       "<table border=\"1\" class=\"dataframe\">\n",
       "  <thead>\n",
       "    <tr style=\"text-align: right;\">\n",
       "      <th></th>\n",
       "      <th>latlng</th>\n",
       "      <th>distance</th>\n",
       "      <th>altitude</th>\n",
       "      <th>gradient</th>\n",
       "    </tr>\n",
       "  </thead>\n",
       "  <tbody>\n",
       "    <tr>\n",
       "      <th>0</th>\n",
       "      <td>[39.99931, -105.290627]</td>\n",
       "      <td>0.0</td>\n",
       "      <td>1744.6</td>\n",
       "      <td>7.6</td>\n",
       "    </tr>\n",
       "    <tr>\n",
       "      <th>1</th>\n",
       "      <td>[39.999435, -105.290726]</td>\n",
       "      <td>16.6</td>\n",
       "      <td>1746.1</td>\n",
       "      <td>7.6</td>\n",
       "    </tr>\n",
       "    <tr>\n",
       "      <th>2</th>\n",
       "      <td>[39.999485, -105.290741]</td>\n",
       "      <td>22.2</td>\n",
       "      <td>1746.4</td>\n",
       "      <td>5.9</td>\n",
       "    </tr>\n",
       "    <tr>\n",
       "      <th>3</th>\n",
       "      <td>[39.999588, -105.290733]</td>\n",
       "      <td>34.0</td>\n",
       "      <td>1746.6</td>\n",
       "      <td>2.3</td>\n",
       "    </tr>\n",
       "    <tr>\n",
       "      <th>4</th>\n",
       "      <td>[40.000076, -105.290573]</td>\n",
       "      <td>89.8</td>\n",
       "      <td>1747.8</td>\n",
       "      <td>2.1</td>\n",
       "    </tr>\n",
       "    <tr>\n",
       "      <th>...</th>\n",
       "      <td>...</td>\n",
       "      <td>...</td>\n",
       "      <td>...</td>\n",
       "      <td>...</td>\n",
       "    </tr>\n",
       "    <tr>\n",
       "      <th>165</th>\n",
       "      <td>[39.997696, -105.308296]</td>\n",
       "      <td>4554.8</td>\n",
       "      <td>2053.0</td>\n",
       "      <td>4.2</td>\n",
       "    </tr>\n",
       "    <tr>\n",
       "      <th>166</th>\n",
       "      <td>[39.99754, -105.308517]</td>\n",
       "      <td>4580.7</td>\n",
       "      <td>2053.4</td>\n",
       "      <td>4.7</td>\n",
       "    </tr>\n",
       "    <tr>\n",
       "      <th>167</th>\n",
       "      <td>[39.997337, -105.308754]</td>\n",
       "      <td>4610.9</td>\n",
       "      <td>2053.4</td>\n",
       "      <td>-1.2</td>\n",
       "    </tr>\n",
       "    <tr>\n",
       "      <th>168</th>\n",
       "      <td>[39.997311, -105.308792]</td>\n",
       "      <td>4615.0</td>\n",
       "      <td>2052.3</td>\n",
       "      <td>-0.7</td>\n",
       "    </tr>\n",
       "    <tr>\n",
       "      <th>169</th>\n",
       "      <td>[39.997272, -105.308868]</td>\n",
       "      <td>4622.8</td>\n",
       "      <td>2053.1</td>\n",
       "      <td>-8.8</td>\n",
       "    </tr>\n",
       "  </tbody>\n",
       "</table>\n",
       "<p>170 rows × 4 columns</p>\n",
       "</div>"
      ],
      "text/plain": [
       "                       latlng  distance  altitude  gradient\n",
       "0     [39.99931, -105.290627]       0.0    1744.6       7.6\n",
       "1    [39.999435, -105.290726]      16.6    1746.1       7.6\n",
       "2    [39.999485, -105.290741]      22.2    1746.4       5.9\n",
       "3    [39.999588, -105.290733]      34.0    1746.6       2.3\n",
       "4    [40.000076, -105.290573]      89.8    1747.8       2.1\n",
       "..                        ...       ...       ...       ...\n",
       "165  [39.997696, -105.308296]    4554.8    2053.0       4.2\n",
       "166   [39.99754, -105.308517]    4580.7    2053.4       4.7\n",
       "167  [39.997337, -105.308754]    4610.9    2053.4      -1.2\n",
       "168  [39.997311, -105.308792]    4615.0    2052.3      -0.7\n",
       "169  [39.997272, -105.308868]    4622.8    2053.1      -8.8\n",
       "\n",
       "[170 rows x 4 columns]"
      ]
     },
     "execution_count": 99,
     "metadata": {},
     "output_type": "execute_result"
    },
    {
     "data": {
      "application/javascript": [
       "\n",
       "            setTimeout(function() {\n",
       "                var nbb_cell_id = 99;\n",
       "                var nbb_unformatted_code = \"flagstaff\";\n",
       "                var nbb_formatted_code = \"flagstaff\";\n",
       "                var nbb_cells = Jupyter.notebook.get_cells();\n",
       "                for (var i = 0; i < nbb_cells.length; ++i) {\n",
       "                    if (nbb_cells[i].input_prompt_number == nbb_cell_id) {\n",
       "                        if (nbb_cells[i].get_text() == nbb_unformatted_code) {\n",
       "                             nbb_cells[i].set_text(nbb_formatted_code);\n",
       "                        }\n",
       "                        break;\n",
       "                    }\n",
       "                }\n",
       "            }, 500);\n",
       "            "
      ],
      "text/plain": [
       "<IPython.core.display.Javascript object>"
      ]
     },
     "metadata": {},
     "output_type": "display_data"
    }
   ],
   "source": [
    "flagstaff"
   ]
  },
  {
   "cell_type": "code",
   "execution_count": 100,
   "id": "1451a65e",
   "metadata": {},
   "outputs": [
    {
     "data": {
      "text/plain": [
       "{500: 2.1, 1000: 5.7, 1500: 3.9, 2000: 7.2, 99999: 0}"
      ]
     },
     "execution_count": 100,
     "metadata": {},
     "output_type": "execute_result"
    },
    {
     "data": {
      "application/javascript": [
       "\n",
       "            setTimeout(function() {\n",
       "                var nbb_cell_id = 100;\n",
       "                var nbb_unformatted_code = \"gradients\";\n",
       "                var nbb_formatted_code = \"gradients\";\n",
       "                var nbb_cells = Jupyter.notebook.get_cells();\n",
       "                for (var i = 0; i < nbb_cells.length; ++i) {\n",
       "                    if (nbb_cells[i].input_prompt_number == nbb_cell_id) {\n",
       "                        if (nbb_cells[i].get_text() == nbb_unformatted_code) {\n",
       "                             nbb_cells[i].set_text(nbb_formatted_code);\n",
       "                        }\n",
       "                        break;\n",
       "                    }\n",
       "                }\n",
       "            }, 500);\n",
       "            "
      ],
      "text/plain": [
       "<IPython.core.display.Javascript object>"
      ]
     },
     "metadata": {},
     "output_type": "display_data"
    }
   ],
   "source": []
  },
  {
   "cell_type": "code",
   "execution_count": 102,
   "id": "c975d70c",
   "metadata": {},
   "outputs": [
    {
     "data": {
      "text/plain": [
       "{0.0: 7.6,\n",
       " 16.600000000000364: 7.6,\n",
       " 22.200000000000728: 5.9,\n",
       " 34.0: 2.3,\n",
       " 89.80000000000109: 2.1,\n",
       " 129.20000000000073: 3.6,\n",
       " 163.10000000000036: 4.9,\n",
       " 185.60000000000036: 10.7,\n",
       " 219.8000000000011: 10.5,\n",
       " 251.0: 10.7,\n",
       " 278.39999999999964: 6.0,\n",
       " 309.8000000000011: 10.8,\n",
       " 336.8000000000011: 11.9,\n",
       " 372.3000000000011: 19.0,\n",
       " 405.60000000000036: 14.0,\n",
       " 447.5: 9.2,\n",
       " 473.39999999999964: 4.9,\n",
       " 500.89999999999964: -0.9,\n",
       " 540.6000000000004: 5.1,\n",
       " 574.8000000000011: 2.6,\n",
       " 607.8999999999996: 10.9,\n",
       " 632.7000000000007: 4.6,\n",
       " 657.8000000000011: 12.5,\n",
       " 688.1000000000004: 14.5,\n",
       " 714.5: 24.2,\n",
       " 727.1000000000004: 15.5,\n",
       " 747.6000000000004: 9.1,\n",
       " 771.6000000000004: 8.6,\n",
       " 812.0: 13.0,\n",
       " 844.3999999999996: 12.5,\n",
       " 876.2000000000007: 11.0,\n",
       " 903.6000000000004: 10.3,\n",
       " 940.1000000000004: 5.3,\n",
       " 975.0: 5.6,\n",
       " 996.2000000000007: 2.9,\n",
       " 1020.8000000000011: 9.4,\n",
       " 1044.3999999999996: 11.0,\n",
       " 1068.800000000001: 11.0,\n",
       " 1098.7000000000007: 12.5,\n",
       " 1102.800000000001: 15.0,\n",
       " 1135.6000000000004: 10.9,\n",
       " 1185.300000000001: 5.9,\n",
       " 1226.0: 0.9,\n",
       " 1247.8999999999996: 1.5,\n",
       " 1270.1000000000004: 11.7,\n",
       " 1318.300000000001: 12.0,\n",
       " 1354.6000000000004: 9.5,\n",
       " 1368.1000000000004: -4.1,\n",
       " 1400.300000000001: -4.4,\n",
       " 1431.8999999999996: -0.3,\n",
       " 1466.3999999999996: 10.1,\n",
       " 1524.6000000000004: 11.4,\n",
       " 1529.800000000001: 11.5,\n",
       " 1555.7000000000007: 3.9,\n",
       " 1575.3999999999996: 3.5,\n",
       " 1630.800000000001: 7.2,\n",
       " 1675.800000000001: 7.3,\n",
       " 1712.1000000000004: 11.3,\n",
       " 1758.0: 7.2,\n",
       " 1791.5: 7.0,\n",
       " 1811.0: 9.0,\n",
       " 1825.800000000001: 8.7,\n",
       " 1837.6000000000004: 2.0,\n",
       " 1867.0: -4.1,\n",
       " 1898.1000000000004: -2.9,\n",
       " 1917.3999999999996: 1.2,\n",
       " 1935.6000000000004: 3.5,\n",
       " 1949.3999999999996: 8.4,\n",
       " 1972.0: 11.0,\n",
       " 1994.5: 10.8,\n",
       " 2025.1000000000004: 14.7,\n",
       " 2049.300000000001: 14.5,\n",
       " 2066.3999999999996: 13.0,\n",
       " 2081.300000000001: 2.4,\n",
       " 2087.1000000000004: -0.6,\n",
       " 2118.300000000001: -4.8,\n",
       " 2131.800000000001: -1.9,\n",
       " 2145.0: -3.1,\n",
       " 2169.8999999999996: -2.9,\n",
       " 2187.0: -1.0,\n",
       " 2204.6000000000004: -2.2,\n",
       " 2210.800000000001: 7.5,\n",
       " 2253.800000000001: 8.8,\n",
       " 2279.5: 10.0,\n",
       " 2310.5: 11.0,\n",
       " 2342.7000000000007: 9.0,\n",
       " 2362.800000000001: 5.3,\n",
       " 2373.0: 1.5,\n",
       " 2409.1000000000004: -1.7,\n",
       " 2439.2000000000007: 2.7,\n",
       " 2461.5: 7.0,\n",
       " 2474.5: 17.5,\n",
       " 2491.2000000000007: 17.0,\n",
       " 2500.300000000001: 5.4,\n",
       " 2542.800000000001: -0.4,\n",
       " 2559.300000000001: 1.5,\n",
       " 2588.300000000001: 4.5,\n",
       " 2604.800000000001: 12.4,\n",
       " 2610.2000000000007: 9.2,\n",
       " 2646.7000000000007: 11.1,\n",
       " 2665.8999999999996: 6.5,\n",
       " 2684.300000000001: 3.7,\n",
       " 2698.1000000000004: -0.2,\n",
       " 2721.8999999999996: 0.5,\n",
       " 2726.6000000000004: 11.8,\n",
       " 2773.800000000001: 8.4,\n",
       " 2809.8999999999996: 5.0,\n",
       " 2847.6000000000004: 0.2,\n",
       " 2876.800000000001: 2.0,\n",
       " 2925.2000000000007: 5.8,\n",
       " 2966.7000000000007: 9.2,\n",
       " 2979.7000000000007: 12.9,\n",
       " 2999.8999999999996: 21.9,\n",
       " 3011.0: 11.7,\n",
       " 3024.0: -3.0,\n",
       " 3067.3999999999996: 1.7,\n",
       " 3111.1000000000004: 6.6,\n",
       " 3143.800000000001: 9.6,\n",
       " 3182.7000000000007: 6.5,\n",
       " 3208.7000000000007: 5.5,\n",
       " 3248.8999999999996: 13.4,\n",
       " 3268.0: 12.0,\n",
       " 3293.0: 11.5,\n",
       " 3312.6000000000004: 8.7,\n",
       " 3330.8999999999996: 6.9,\n",
       " 3371.0: 0.2,\n",
       " 3397.8999999999996: 0.3,\n",
       " 3418.7000000000007: 8.3,\n",
       " 3433.5: 26.2,\n",
       " 3446.800000000001: 24.3,\n",
       " 3457.3999999999996: 5.7,\n",
       " 3509.300000000001: -0.9,\n",
       " 3559.800000000001: -1.0,\n",
       " 3590.800000000001: -2.3,\n",
       " 3596.7000000000007: -0.5,\n",
       " 3645.8999999999996: 1.1,\n",
       " 3655.800000000001: 11.5,\n",
       " 3697.1000000000004: 16.4,\n",
       " 3725.6000000000004: 14.3,\n",
       " 3758.8999999999996: 4.3,\n",
       " 3791.8999999999996: 6.0,\n",
       " 3827.5: 10.9,\n",
       " 3857.1000000000004: 14.9,\n",
       " 3885.7000000000007: 8.5,\n",
       " 3913.6000000000004: -1.6,\n",
       " 3924.800000000001: -7.1,\n",
       " 3949.3999999999996: 0.7,\n",
       " 3988.300000000001: 0.6,\n",
       " 4044.0: 2.3,\n",
       " 4085.1000000000004: 2.9,\n",
       " 4090.6000000000004: 16.7,\n",
       " 4125.0: 12.9,\n",
       " 4152.0: 8.8,\n",
       " 4175.5: 0.7,\n",
       " 4215.800000000001: 0.5,\n",
       " 4268.5: 2.2,\n",
       " 4317.6: 1.6,\n",
       " 4356.800000000001: 3.7,\n",
       " 4402.6: 4.0,\n",
       " 4409.700000000001: 11.4,\n",
       " 4441.6: 16.7,\n",
       " 4446.300000000001: 15.3,\n",
       " 4469.300000000001: 9.3,\n",
       " 4506.300000000001: 9.1,\n",
       " 4526.4: 7.6,\n",
       " 4554.800000000001: 4.2,\n",
       " 4580.700000000001: 4.7,\n",
       " 4610.9: -1.2,\n",
       " 4615.0: -0.7,\n",
       " 4622.800000000001: -8.8}"
      ]
     },
     "execution_count": 102,
     "metadata": {},
     "output_type": "execute_result"
    },
    {
     "data": {
      "application/javascript": [
       "\n",
       "            setTimeout(function() {\n",
       "                var nbb_cell_id = 102;\n",
       "                var nbb_unformatted_code = \"flagstaff_gradients = {r.distance: r.gradient for r in flagstaff.itertuples()}\\nflagstaff_gradients\";\n",
       "                var nbb_formatted_code = \"flagstaff_gradients = {r.distance: r.gradient for r in flagstaff.itertuples()}\\nflagstaff_gradients\";\n",
       "                var nbb_cells = Jupyter.notebook.get_cells();\n",
       "                for (var i = 0; i < nbb_cells.length; ++i) {\n",
       "                    if (nbb_cells[i].input_prompt_number == nbb_cell_id) {\n",
       "                        if (nbb_cells[i].get_text() == nbb_unformatted_code) {\n",
       "                             nbb_cells[i].set_text(nbb_formatted_code);\n",
       "                        }\n",
       "                        break;\n",
       "                    }\n",
       "                }\n",
       "            }, 500);\n",
       "            "
      ],
      "text/plain": [
       "<IPython.core.display.Javascript object>"
      ]
     },
     "metadata": {},
     "output_type": "display_data"
    }
   ],
   "source": [
    "flagstaff_gradients = {r.distance: r.gradient for r in flagstaff.itertuples()}\n",
    "flagstaff_gradients"
   ]
  },
  {
   "cell_type": "code",
   "execution_count": null,
   "id": "f8637ac7",
   "metadata": {},
   "outputs": [],
   "source": []
  },
  {
   "cell_type": "code",
   "execution_count": null,
   "id": "6e91c808",
   "metadata": {},
   "outputs": [],
   "source": []
  },
  {
   "cell_type": "markdown",
   "id": "8a54d9ef",
   "metadata": {},
   "source": [
    "# Run on real data "
   ]
  },
  {
   "cell_type": "code",
   "execution_count": 46,
   "id": "44a76f6a",
   "metadata": {},
   "outputs": [
    {
     "data": {
      "application/javascript": [
       "\n",
       "            setTimeout(function() {\n",
       "                var nbb_cell_id = 46;\n",
       "                var nbb_unformatted_code = \"# run(gradients=flagstaff_gradients)\";\n",
       "                var nbb_formatted_code = \"# run(gradients=flagstaff_gradients)\";\n",
       "                var nbb_cells = Jupyter.notebook.get_cells();\n",
       "                for (var i = 0; i < nbb_cells.length; ++i) {\n",
       "                    if (nbb_cells[i].input_prompt_number == nbb_cell_id) {\n",
       "                        if (nbb_cells[i].get_text() == nbb_unformatted_code) {\n",
       "                             nbb_cells[i].set_text(nbb_formatted_code);\n",
       "                        }\n",
       "                        break;\n",
       "                    }\n",
       "                }\n",
       "            }, 500);\n",
       "            "
      ],
      "text/plain": [
       "<IPython.core.display.Javascript object>"
      ]
     },
     "metadata": {},
     "output_type": "display_data"
    }
   ],
   "source": [
    "# run(gradients=flagstaff_gradients)"
   ]
  },
  {
   "cell_type": "code",
   "execution_count": 105,
   "id": "1e9c77a3",
   "metadata": {},
   "outputs": [
    {
     "data": {
      "text/html": [
       "<div>\n",
       "<style scoped>\n",
       "    .dataframe tbody tr th:only-of-type {\n",
       "        vertical-align: middle;\n",
       "    }\n",
       "\n",
       "    .dataframe tbody tr th {\n",
       "        vertical-align: top;\n",
       "    }\n",
       "\n",
       "    .dataframe thead th {\n",
       "        text-align: right;\n",
       "    }\n",
       "</style>\n",
       "<table border=\"1\" class=\"dataframe\">\n",
       "  <thead>\n",
       "    <tr style=\"text-align: right;\">\n",
       "      <th></th>\n",
       "      <th>dist_traveled</th>\n",
       "      <th>total_time</th>\n",
       "      <th>energy_spent</th>\n",
       "    </tr>\n",
       "  </thead>\n",
       "  <tbody>\n",
       "    <tr>\n",
       "      <th>count</th>\n",
       "      <td>100.000000</td>\n",
       "      <td>100.000000</td>\n",
       "      <td>100.000000</td>\n",
       "    </tr>\n",
       "    <tr>\n",
       "      <th>mean</th>\n",
       "      <td>4699.657540</td>\n",
       "      <td>1268.000000</td>\n",
       "      <td>253725.511417</td>\n",
       "    </tr>\n",
       "    <tr>\n",
       "      <th>std</th>\n",
       "      <td>45.631813</td>\n",
       "      <td>25.105837</td>\n",
       "      <td>4782.315162</td>\n",
       "    </tr>\n",
       "    <tr>\n",
       "      <th>min</th>\n",
       "      <td>4622.140874</td>\n",
       "      <td>1200.000000</td>\n",
       "      <td>241498.910175</td>\n",
       "    </tr>\n",
       "    <tr>\n",
       "      <th>25%</th>\n",
       "      <td>4693.557662</td>\n",
       "      <td>1250.000000</td>\n",
       "      <td>250572.417793</td>\n",
       "    </tr>\n",
       "    <tr>\n",
       "      <th>50%</th>\n",
       "      <td>4697.910347</td>\n",
       "      <td>1270.000000</td>\n",
       "      <td>253460.672747</td>\n",
       "    </tr>\n",
       "    <tr>\n",
       "      <th>75%</th>\n",
       "      <td>4706.765609</td>\n",
       "      <td>1290.000000</td>\n",
       "      <td>257474.314503</td>\n",
       "    </tr>\n",
       "    <tr>\n",
       "      <th>max</th>\n",
       "      <td>4804.161273</td>\n",
       "      <td>1330.000000</td>\n",
       "      <td>265541.543444</td>\n",
       "    </tr>\n",
       "  </tbody>\n",
       "</table>\n",
       "</div>"
      ],
      "text/plain": [
       "       dist_traveled   total_time   energy_spent\n",
       "count     100.000000   100.000000     100.000000\n",
       "mean     4699.657540  1268.000000  253725.511417\n",
       "std        45.631813    25.105837    4782.315162\n",
       "min      4622.140874  1200.000000  241498.910175\n",
       "25%      4693.557662  1250.000000  250572.417793\n",
       "50%      4697.910347  1270.000000  253460.672747\n",
       "75%      4706.765609  1290.000000  257474.314503\n",
       "max      4804.161273  1330.000000  265541.543444"
      ]
     },
     "execution_count": 105,
     "metadata": {},
     "output_type": "execute_result"
    },
    {
     "data": {
      "application/javascript": [
       "\n",
       "            setTimeout(function() {\n",
       "                var nbb_cell_id = 105;\n",
       "                var nbb_unformatted_code = \"data = [run(gradients=flagstaff_gradients) for i in range(100)]\\n\\ndf = pd.DataFrame(data)\\ndf.describe()\";\n",
       "                var nbb_formatted_code = \"data = [run(gradients=flagstaff_gradients) for i in range(100)]\\n\\ndf = pd.DataFrame(data)\\ndf.describe()\";\n",
       "                var nbb_cells = Jupyter.notebook.get_cells();\n",
       "                for (var i = 0; i < nbb_cells.length; ++i) {\n",
       "                    if (nbb_cells[i].input_prompt_number == nbb_cell_id) {\n",
       "                        if (nbb_cells[i].get_text() == nbb_unformatted_code) {\n",
       "                             nbb_cells[i].set_text(nbb_formatted_code);\n",
       "                        }\n",
       "                        break;\n",
       "                    }\n",
       "                }\n",
       "            }, 500);\n",
       "            "
      ],
      "text/plain": [
       "<IPython.core.display.Javascript object>"
      ]
     },
     "metadata": {},
     "output_type": "display_data"
    }
   ],
   "source": [
    "data = [run(gradients=flagstaff_gradients) for i in range(100)]\n",
    "\n",
    "df = pd.DataFrame(data)\n",
    "df.describe()"
   ]
  },
  {
   "cell_type": "code",
   "execution_count": 106,
   "id": "74321372",
   "metadata": {},
   "outputs": [
    {
     "data": {
      "text/plain": [
       "<matplotlib.collections.PathCollection at 0x7f8a492f5990>"
      ]
     },
     "execution_count": 106,
     "metadata": {},
     "output_type": "execute_result"
    },
    {
     "data": {
      "image/png": "[encoded data removed]",
      "text/plain": [
       "<Figure size 432x288 with 1 Axes>"
      ]
     },
     "metadata": {
      "needs_background": "light"
     },
     "output_type": "display_data"
    },
    {
     "data": {
      "application/javascript": [
       "\n",
       "            setTimeout(function() {\n",
       "                var nbb_cell_id = 106;\n",
       "                var nbb_unformatted_code = \"sel = df[df.energy_spent < df.energy_spent.mean()]\\n\\np = sel[sel.total_time == sel.total_time.min()].head(1).power_profile.values[0]\\n\\nplt.scatter(p.keys(), p.values())\";\n",
       "                var nbb_formatted_code = \"sel = df[df.energy_spent < df.energy_spent.mean()]\\n\\np = sel[sel.total_time == sel.total_time.min()].head(1).power_profile.values[0]\\n\\nplt.scatter(p.keys(), p.values())\";\n",
       "                var nbb_cells = Jupyter.notebook.get_cells();\n",
       "                for (var i = 0; i < nbb_cells.length; ++i) {\n",
       "                    if (nbb_cells[i].input_prompt_number == nbb_cell_id) {\n",
       "                        if (nbb_cells[i].get_text() == nbb_unformatted_code) {\n",
       "                             nbb_cells[i].set_text(nbb_formatted_code);\n",
       "                        }\n",
       "                        break;\n",
       "                    }\n",
       "                }\n",
       "            }, 500);\n",
       "            "
      ],
      "text/plain": [
       "<IPython.core.display.Javascript object>"
      ]
     },
     "metadata": {},
     "output_type": "display_data"
    }
   ],
   "source": [
    "sel = df[df.energy_spent < df.energy_spent.mean()]\n",
    "\n",
    "p = sel[sel.total_time == sel.total_time.min()].head(1).power_profile.values[0]\n",
    "\n",
    "plt.scatter(p.keys(), p.values())"
   ]
  },
  {
   "cell_type": "markdown",
   "id": "576befea",
   "metadata": {},
   "source": [
    "# Set up an optimization problem \n",
    "\n",
    "Alow input vector of length 170. Sum up the time taken."
   ]
  },
  {
   "cell_type": "code",
   "execution_count": 144,
   "id": "6ee18af5",
   "metadata": {},
   "outputs": [
    {
     "data": {
      "application/javascript": [
       "\n",
       "            setTimeout(function() {\n",
       "                var nbb_cell_id = 144;\n",
       "                var nbb_unformatted_code = \"from scipy.optimize import LinearConstraint\\n\\n\\n# Sum of power is capped\\n\\nlinear_constraint = LinearConstraint([[1] * 170], lb=[1], ub=[200 * 170])\";\n",
       "                var nbb_formatted_code = \"from scipy.optimize import LinearConstraint\\n\\n\\n# Sum of power is capped\\n\\nlinear_constraint = LinearConstraint([[1] * 170], lb=[1], ub=[200 * 170])\";\n",
       "                var nbb_cells = Jupyter.notebook.get_cells();\n",
       "                for (var i = 0; i < nbb_cells.length; ++i) {\n",
       "                    if (nbb_cells[i].input_prompt_number == nbb_cell_id) {\n",
       "                        if (nbb_cells[i].get_text() == nbb_unformatted_code) {\n",
       "                             nbb_cells[i].set_text(nbb_formatted_code);\n",
       "                        }\n",
       "                        break;\n",
       "                    }\n",
       "                }\n",
       "            }, 500);\n",
       "            "
      ],
      "text/plain": [
       "<IPython.core.display.Javascript object>"
      ]
     },
     "metadata": {},
     "output_type": "display_data"
    }
   ],
   "source": [
    "from scipy.optimize import LinearConstraint\n",
    "\n",
    "\n",
    "# Sum of power is capped\n",
    "\n",
    "linear_constraint = LinearConstraint([[1] * 170], lb=[1], ub=[200 * 170])"
   ]
  },
  {
   "cell_type": "code",
   "execution_count": null,
   "id": "b6f7a7c8",
   "metadata": {},
   "outputs": [],
   "source": []
  },
  {
   "cell_type": "code",
   "execution_count": 163,
   "id": "408328d0",
   "metadata": {},
   "outputs": [
    {
     "data": {
      "application/javascript": [
       "\n",
       "            setTimeout(function() {\n",
       "                var nbb_cell_id = 163;\n",
       "                var nbb_unformatted_code = \"def run(gradients, power_profile):\\n\\n    D = 4622  # meters\\n    dt = 10  # secs\\n    dist_traveled = 0\\n    energy_spent = 0\\n    total_time = 0\\n    power_profile_list = []\\n    for i in range(9999):\\n        #         P = 200 + np.random.rand() * 10 - 5\\n        for dist, g in gradients.items():\\n            if dist_traveled < dist:\\n                gradient = g\\n                break\\n        P = power_profile[gradient]\\n        power_profile_list.append(P)\\n        v = power_to_speed(P, g)\\n        dist_traveled += v * dt\\n        energy_spent += P * dt\\n        total_time += dt\\n        #         print(f\\\"P={P}, g={g}, D={D}, v={v}\\\")\\n        if dist_traveled > D:\\n            break\\n    return {\\n        \\\"dist_traveled\\\": dist_traveled,\\n        \\\"total_time\\\": total_time,\\n        \\\"energy_spent\\\": energy_spent,\\n        \\\"power_profile\\\": power_profile,\\n    }\";\n",
       "                var nbb_formatted_code = \"def run(gradients, power_profile):\\n\\n    D = 4622  # meters\\n    dt = 10  # secs\\n    dist_traveled = 0\\n    energy_spent = 0\\n    total_time = 0\\n    power_profile_list = []\\n    for i in range(9999):\\n        #         P = 200 + np.random.rand() * 10 - 5\\n        for dist, g in gradients.items():\\n            if dist_traveled < dist:\\n                gradient = g\\n                break\\n        P = power_profile[gradient]\\n        power_profile_list.append(P)\\n        v = power_to_speed(P, g)\\n        dist_traveled += v * dt\\n        energy_spent += P * dt\\n        total_time += dt\\n        #         print(f\\\"P={P}, g={g}, D={D}, v={v}\\\")\\n        if dist_traveled > D:\\n            break\\n    return {\\n        \\\"dist_traveled\\\": dist_traveled,\\n        \\\"total_time\\\": total_time,\\n        \\\"energy_spent\\\": energy_spent,\\n        \\\"power_profile\\\": power_profile,\\n    }\";\n",
       "                var nbb_cells = Jupyter.notebook.get_cells();\n",
       "                for (var i = 0; i < nbb_cells.length; ++i) {\n",
       "                    if (nbb_cells[i].input_prompt_number == nbb_cell_id) {\n",
       "                        if (nbb_cells[i].get_text() == nbb_unformatted_code) {\n",
       "                             nbb_cells[i].set_text(nbb_formatted_code);\n",
       "                        }\n",
       "                        break;\n",
       "                    }\n",
       "                }\n",
       "            }, 500);\n",
       "            "
      ],
      "text/plain": [
       "<IPython.core.display.Javascript object>"
      ]
     },
     "metadata": {},
     "output_type": "display_data"
    }
   ],
   "source": [
    "def run(gradients, power_profile):\n",
    "\n",
    "    D = 4622  # meters\n",
    "    dt = 10  # secs\n",
    "    dist_traveled = 0\n",
    "    energy_spent = 0\n",
    "    total_time = 0\n",
    "    power_profile_list = []\n",
    "    for i in range(9999):\n",
    "        #         P = 200 + np.random.rand() * 10 - 5\n",
    "        for dist, g in gradients.items():\n",
    "            if dist_traveled < dist:\n",
    "                gradient = g\n",
    "                break\n",
    "        P = power_profile[gradient]\n",
    "        power_profile_list.append(P)\n",
    "        v = power_to_speed(P, g)\n",
    "        dist_traveled += v * dt\n",
    "        energy_spent += P * dt\n",
    "        total_time += dt\n",
    "        #         print(f\"P={P}, g={g}, D={D}, v={v}\")\n",
    "        if dist_traveled > D:\n",
    "            break\n",
    "    return {\n",
    "        \"dist_traveled\": dist_traveled,\n",
    "        \"total_time\": total_time,\n",
    "        \"energy_spent\": energy_spent,\n",
    "        \"power_profile\": power_profile,\n",
    "    }"
   ]
  },
  {
   "cell_type": "code",
   "execution_count": null,
   "id": "cd05a73c",
   "metadata": {},
   "outputs": [],
   "source": []
  },
  {
   "cell_type": "code",
   "execution_count": 164,
   "id": "2c3903c6",
   "metadata": {},
   "outputs": [
    {
     "data": {
      "application/javascript": [
       "\n",
       "            setTimeout(function() {\n",
       "                var nbb_cell_id = 164;\n",
       "                var nbb_unformatted_code = \"def minimize_me(powers):\\n    \\\"\\\"\\\"Calculate power loss given ground speed velocity and angle\\n\\n    Parameters\\n    ----------\\n    powers : list\\n        list of powers\\n\\n    Returns\\n    -------\\n    float\\n        Total time (s)\\n\\n    \\\"\\\"\\\"\\n    power_profile = dict(zip(flagstaff_gradients.values(), powers))\\n    result = run(gradients=flagstaff_gradients, power_profile=power_profile)\\n\\n    return result[\\\"total_time\\\"]\";\n",
       "                var nbb_formatted_code = \"def minimize_me(powers):\\n    \\\"\\\"\\\"Calculate power loss given ground speed velocity and angle\\n\\n    Parameters\\n    ----------\\n    powers : list\\n        list of powers\\n\\n    Returns\\n    -------\\n    float\\n        Total time (s)\\n\\n    \\\"\\\"\\\"\\n    power_profile = dict(zip(flagstaff_gradients.values(), powers))\\n    result = run(gradients=flagstaff_gradients, power_profile=power_profile)\\n\\n    return result[\\\"total_time\\\"]\";\n",
       "                var nbb_cells = Jupyter.notebook.get_cells();\n",
       "                for (var i = 0; i < nbb_cells.length; ++i) {\n",
       "                    if (nbb_cells[i].input_prompt_number == nbb_cell_id) {\n",
       "                        if (nbb_cells[i].get_text() == nbb_unformatted_code) {\n",
       "                             nbb_cells[i].set_text(nbb_formatted_code);\n",
       "                        }\n",
       "                        break;\n",
       "                    }\n",
       "                }\n",
       "            }, 500);\n",
       "            "
      ],
      "text/plain": [
       "<IPython.core.display.Javascript object>"
      ]
     },
     "metadata": {},
     "output_type": "display_data"
    }
   ],
   "source": [
    "def minimize_me(powers):\n",
    "    \"\"\"Calculate power loss given ground speed velocity and angle\n",
    "\n",
    "    Parameters\n",
    "    ----------\n",
    "    powers : list\n",
    "        list of powers\n",
    "\n",
    "    Returns\n",
    "    -------\n",
    "    float\n",
    "        Total time (s)\n",
    "\n",
    "    \"\"\"\n",
    "    power_profile = dict(zip(flagstaff_gradients.values(), powers))\n",
    "    result = run(gradients=flagstaff_gradients, power_profile=power_profile)\n",
    "\n",
    "    return result[\"total_time\"]"
   ]
  },
  {
   "cell_type": "code",
   "execution_count": null,
   "id": "286f065a",
   "metadata": {},
   "outputs": [],
   "source": []
  },
  {
   "cell_type": "code",
   "execution_count": 169,
   "id": "3961e8c0",
   "metadata": {},
   "outputs": [
    {
     "data": {
      "text/plain": [
       "1320"
      ]
     },
     "execution_count": 169,
     "metadata": {},
     "output_type": "execute_result"
    },
    {
     "data": {
      "application/javascript": [
       "\n",
       "            setTimeout(function() {\n",
       "                var nbb_cell_id = 169;\n",
       "                var nbb_unformatted_code = \"minimize_me([200] * 170)\";\n",
       "                var nbb_formatted_code = \"minimize_me([200] * 170)\";\n",
       "                var nbb_cells = Jupyter.notebook.get_cells();\n",
       "                for (var i = 0; i < nbb_cells.length; ++i) {\n",
       "                    if (nbb_cells[i].input_prompt_number == nbb_cell_id) {\n",
       "                        if (nbb_cells[i].get_text() == nbb_unformatted_code) {\n",
       "                             nbb_cells[i].set_text(nbb_formatted_code);\n",
       "                        }\n",
       "                        break;\n",
       "                    }\n",
       "                }\n",
       "            }, 500);\n",
       "            "
      ],
      "text/plain": [
       "<IPython.core.display.Javascript object>"
      ]
     },
     "metadata": {},
     "output_type": "display_data"
    }
   ],
   "source": [
    "minimize_me([200] * 170)"
   ]
  },
  {
   "cell_type": "code",
   "execution_count": 174,
   "id": "b4d102b8",
   "metadata": {},
   "outputs": [
    {
     "data": {
      "text/plain": [
       "890"
      ]
     },
     "execution_count": 174,
     "metadata": {},
     "output_type": "execute_result"
    },
    {
     "data": {
      "application/javascript": [
       "\n",
       "            setTimeout(function() {\n",
       "                var nbb_cell_id = 174;\n",
       "                var nbb_unformatted_code = \"minimize_me([299] * 170)\";\n",
       "                var nbb_formatted_code = \"minimize_me([299] * 170)\";\n",
       "                var nbb_cells = Jupyter.notebook.get_cells();\n",
       "                for (var i = 0; i < nbb_cells.length; ++i) {\n",
       "                    if (nbb_cells[i].input_prompt_number == nbb_cell_id) {\n",
       "                        if (nbb_cells[i].get_text() == nbb_unformatted_code) {\n",
       "                             nbb_cells[i].set_text(nbb_formatted_code);\n",
       "                        }\n",
       "                        break;\n",
       "                    }\n",
       "                }\n",
       "            }, 500);\n",
       "            "
      ],
      "text/plain": [
       "<IPython.core.display.Javascript object>"
      ]
     },
     "metadata": {},
     "output_type": "display_data"
    }
   ],
   "source": [
    "minimize_me([299] * 170)"
   ]
  },
  {
   "cell_type": "code",
   "execution_count": null,
   "id": "bb2be981",
   "metadata": {},
   "outputs": [],
   "source": []
  },
  {
   "cell_type": "code",
   "execution_count": null,
   "id": "02efb6b1",
   "metadata": {},
   "outputs": [],
   "source": []
  },
  {
   "cell_type": "code",
   "execution_count": null,
   "id": "a9efbc4a",
   "metadata": {},
   "outputs": [],
   "source": []
  },
  {
   "cell_type": "code",
   "execution_count": 177,
   "id": "f8450163",
   "metadata": {},
   "outputs": [
    {
     "data": {
      "text/plain": [
       "     fun: 1240.0\n",
       "     jac: array([0., 0., 0., 0., 0., 0., 0., 0., 0., 0., 0., 0., 0., 0., 0., 0., 0.,\n",
       "       0., 0., 0., 0., 0., 0., 0., 0., 0., 0., 0., 0., 0., 0., 0., 0., 0.,\n",
       "       0., 0., 0., 0., 0., 0., 0., 0., 0., 0., 0., 0., 0., 0., 0., 0., 0.,\n",
       "       0., 0., 0., 0., 0., 0., 0., 0., 0., 0., 0., 0., 0., 0., 0., 0., 0.,\n",
       "       0., 0., 0., 0., 0., 0., 0., 0., 0., 0., 0., 0., 0., 0., 0., 0., 0.,\n",
       "       0., 0., 0., 0., 0., 0., 0., 0., 0., 0., 0., 0., 0., 0., 0., 0., 0.,\n",
       "       0., 0., 0., 0., 0., 0., 0., 0., 0., 0., 0., 0., 0., 0., 0., 0., 0.,\n",
       "       0., 0., 0., 0., 0., 0., 0., 0., 0., 0., 0., 0., 0., 0., 0., 0., 0.,\n",
       "       0., 0., 0., 0., 0., 0., 0., 0., 0., 0., 0., 0., 0., 0., 0., 0., 0.,\n",
       "       0., 0., 0., 0., 0., 0., 0., 0., 0., 0., 0., 0., 0., 0., 0., 0., 0.])\n",
       " message: 'Optimization terminated successfully'\n",
       "    nfev: 171\n",
       "     nit: 1\n",
       "    njev: 1\n",
       "  status: 0\n",
       " success: True\n",
       "       x: array([177., 199., 199., 199., 199., 199., 199., 199., 199., 199., 199.,\n",
       "       199., 199., 199., 199., 199., 199., 199., 199., 199., 199., 199.,\n",
       "       199., 199., 199., 199., 199., 199., 199., 199., 199., 199., 199.,\n",
       "       199., 199., 199., 199., 199., 199., 199., 199., 199., 199., 199.,\n",
       "       199., 199., 199., 199., 199., 199., 199., 199., 199., 199., 199.,\n",
       "       199., 199., 199., 199., 199., 199., 199., 199., 199., 199., 199.,\n",
       "       199., 199., 199., 199., 199., 199., 199., 199., 199., 199., 199.,\n",
       "       199., 199., 199., 199., 199., 199., 199., 199., 199., 199., 199.,\n",
       "       199., 199., 199., 199., 199., 199., 199., 199., 199., 199., 199.,\n",
       "       199., 199., 199., 199., 199., 199., 199., 199., 199., 199., 199.,\n",
       "       199., 199., 199., 199., 199., 199., 199., 199., 199., 199., 199.,\n",
       "       199., 199., 199., 199., 199., 199., 199., 199., 199., 199., 199.,\n",
       "       199., 199., 199., 199., 199., 199., 199., 199., 199., 199., 199.,\n",
       "       199., 199., 199., 199., 199., 199., 199., 199., 199., 199., 199.,\n",
       "       199., 199., 199., 199., 199., 199., 199., 199., 199., 199., 199.,\n",
       "       199., 199., 199., 199., 199.])"
      ]
     },
     "execution_count": 177,
     "metadata": {},
     "output_type": "execute_result"
    },
    {
     "data": {
      "application/javascript": [
       "\n",
       "            setTimeout(function() {\n",
       "                var nbb_cell_id = 177;\n",
       "                var nbb_unformatted_code = \"optimize.minimize(\\n    fun=minimize_me, x0=np.array([177] + [199] * 169), constraints=linear_constraint\\n)\";\n",
       "                var nbb_formatted_code = \"optimize.minimize(\\n    fun=minimize_me, x0=np.array([177] + [199] * 169), constraints=linear_constraint\\n)\";\n",
       "                var nbb_cells = Jupyter.notebook.get_cells();\n",
       "                for (var i = 0; i < nbb_cells.length; ++i) {\n",
       "                    if (nbb_cells[i].input_prompt_number == nbb_cell_id) {\n",
       "                        if (nbb_cells[i].get_text() == nbb_unformatted_code) {\n",
       "                             nbb_cells[i].set_text(nbb_formatted_code);\n",
       "                        }\n",
       "                        break;\n",
       "                    }\n",
       "                }\n",
       "            }, 500);\n",
       "            "
      ],
      "text/plain": [
       "<IPython.core.display.Javascript object>"
      ]
     },
     "metadata": {},
     "output_type": "display_data"
    }
   ],
   "source": [
    "optimize.minimize(\n",
    "    fun=minimize_me, x0=np.array([177] + [199] * 169), constraints=linear_constraint\n",
    ")"
   ]
  },
  {
   "cell_type": "code",
   "execution_count": null,
   "id": "ffab9af7",
   "metadata": {},
   "outputs": [],
   "source": []
  }
 ],
 "metadata": {
  "kernelspec": {
   "display_name": "Python [conda env:root] *",
   "language": "python",
   "name": "conda-root-py"
  },
  "language_info": {
   "codemirror_mode": {
    "name": "ipython",
    "version": 3
   },
   "file_extension": ".py",
   "mimetype": "text/x-python",
   "name": "python",
   "nbconvert_exporter": "python",
   "pygments_lexer": "ipython3",
   "version": "3.7.4"
  }
 },
 "nbformat": 4,
 "nbformat_minor": 5
}

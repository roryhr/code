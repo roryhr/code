{
 "cells": [
  {
   "cell_type": "code",
   "execution_count": 1,
   "metadata": {
    "collapsed": false
   },
   "outputs": [],
   "source": [
    "import logging\n",
    "import xml.etree.ElementTree as ET\n",
    "\n",
    "import pandas as pd\n",
    "import matplotlib.pyplot as plt\n",
    "%matplotlib inline"
   ]
  },
  {
   "cell_type": "code",
   "execution_count": 27,
   "metadata": {
    "collapsed": false
   },
   "outputs": [],
   "source": [
    "filepath = '/Users/rory/data/strava/export_23193264/activities/1072662764.gpx'\n",
    "\n",
    "def gpx_to_pandas(gps_file):\n",
    "    root = ET.parse(gps_file).getroot()\n",
    "    \n",
    "    try:\n",
    "        trkpts = list(root[1][2])\n",
    "    except IndexError:\n",
    "        pass\n",
    "       \n",
    "    try:\n",
    "        trkpts = list(root[2][0])\n",
    "    except IndexError:\n",
    "        pass\n",
    "\n",
    "    points = [\n",
    "        {\n",
    "            'lat': pt.get('lat'),\n",
    "            'lon': pt.get('lon'),\n",
    "            'timestamp': pt[1].text\n",
    "        }\n",
    "        for pt \n",
    "        in trkpts\n",
    "    ]\n",
    "    \n",
    "    df = pd.DataFrame(points)\n",
    "    return df"
   ]
  },
  {
   "cell_type": "code",
   "execution_count": 3,
   "metadata": {
    "collapsed": false
   },
   "outputs": [],
   "source": [
    "from pathlib import Path"
   ]
  },
  {
   "cell_type": "code",
   "execution_count": 4,
   "metadata": {
    "collapsed": true
   },
   "outputs": [],
   "source": [
    "p = Path('/Users/rory/data/strava/export_23193264/activities/')"
   ]
  },
  {
   "cell_type": "code",
   "execution_count": 5,
   "metadata": {
    "collapsed": false
   },
   "outputs": [
    {
     "data": {
      "text/plain": [
       "0"
      ]
     },
     "execution_count": 5,
     "metadata": {},
     "output_type": "execute_result"
    }
   ],
   "source": [
    "len(list(p.glob('*.fit.gz')))"
   ]
  },
  {
   "cell_type": "code",
   "execution_count": 6,
   "metadata": {
    "collapsed": false
   },
   "outputs": [
    {
     "data": {
      "text/plain": [
       "273"
      ]
     },
     "execution_count": 6,
     "metadata": {},
     "output_type": "execute_result"
    }
   ],
   "source": [
    "len(list(p.glob('*.gpx')))"
   ]
  },
  {
   "cell_type": "code",
   "execution_count": 29,
   "metadata": {
    "collapsed": false
   },
   "outputs": [
    {
     "data": {
      "text/html": [
       "<div>\n",
       "<table border=\"1\" class=\"dataframe\">\n",
       "  <thead>\n",
       "    <tr style=\"text-align: right;\">\n",
       "      <th></th>\n",
       "      <th>lat</th>\n",
       "      <th>lon</th>\n",
       "      <th>timestamp</th>\n",
       "    </tr>\n",
       "  </thead>\n",
       "  <tbody>\n",
       "    <tr>\n",
       "      <th>0</th>\n",
       "      <td>37.457013958</td>\n",
       "      <td>-122.179939757</td>\n",
       "      <td>0.000000</td>\n",
       "    </tr>\n",
       "    <tr>\n",
       "      <th>1</th>\n",
       "      <td>37.457035499</td>\n",
       "      <td>-122.179930286</td>\n",
       "      <td>2.083000</td>\n",
       "    </tr>\n",
       "    <tr>\n",
       "      <th>2</th>\n",
       "      <td>37.457220069</td>\n",
       "      <td>-122.179927603</td>\n",
       "      <td>2.586000</td>\n",
       "    </tr>\n",
       "    <tr>\n",
       "      <th>3</th>\n",
       "      <td>37.457291399</td>\n",
       "      <td>-122.180140420</td>\n",
       "      <td>2.665000</td>\n",
       "    </tr>\n",
       "    <tr>\n",
       "      <th>4</th>\n",
       "      <td>37.457303720</td>\n",
       "      <td>-122.180165985</td>\n",
       "      <td>2.663000</td>\n",
       "    </tr>\n",
       "  </tbody>\n",
       "</table>\n",
       "</div>"
      ],
      "text/plain": [
       "            lat             lon timestamp\n",
       "0  37.457013958  -122.179939757  0.000000\n",
       "1  37.457035499  -122.179930286  2.083000\n",
       "2  37.457220069  -122.179927603  2.586000\n",
       "3  37.457291399  -122.180140420  2.665000\n",
       "4  37.457303720  -122.180165985  2.663000"
      ]
     },
     "execution_count": 29,
     "metadata": {},
     "output_type": "execute_result"
    }
   ],
   "source": [
    "gpx_to_pandas(str(list(p.glob('*.gpx'))[0])).head()"
   ]
  },
  {
   "cell_type": "code",
   "execution_count": 14,
   "metadata": {
    "collapsed": false
   },
   "outputs": [],
   "source": [
    "root = ET.parse(str(list(p.glob('*.gpx'))[0])).getroot()"
   ]
  },
  {
   "cell_type": "code",
   "execution_count": 26,
   "metadata": {
    "collapsed": false
   },
   "outputs": [
    {
     "data": {
      "text/plain": [
       "[<Element '{http://www.topografix.com/GPX/1/0}trkpt' at 0x11cc50458>,\n",
       " <Element '{http://www.topografix.com/GPX/1/0}trkpt' at 0x11cc50548>,\n",
       " <Element '{http://www.topografix.com/GPX/1/0}trkpt' at 0x11cc50638>,\n",
       " <Element '{http://www.topografix.com/GPX/1/0}trkpt' at 0x11cc50728>,\n",
       " <Element '{http://www.topografix.com/GPX/1/0}trkpt' at 0x11cc50818>,\n",
       " <Element '{http://www.topografix.com/GPX/1/0}trkpt' at 0x11cc50908>,\n",
       " <Element '{http://www.topografix.com/GPX/1/0}trkpt' at 0x11cc509f8>,\n",
       " <Element '{http://www.topografix.com/GPX/1/0}trkpt' at 0x11cc50ae8>,\n",
       " <Element '{http://www.topografix.com/GPX/1/0}trkpt' at 0x11cc50bd8>,\n",
       " <Element '{http://www.topografix.com/GPX/1/0}trkpt' at 0x11cc50cc8>,\n",
       " <Element '{http://www.topografix.com/GPX/1/0}trkpt' at 0x11cc50db8>,\n",
       " <Element '{http://www.topografix.com/GPX/1/0}trkpt' at 0x11cc50ea8>,\n",
       " <Element '{http://www.topografix.com/GPX/1/0}trkpt' at 0x11cc50f98>,\n",
       " <Element '{http://www.topografix.com/GPX/1/0}trkpt' at 0x11cc570e8>,\n",
       " <Element '{http://www.topografix.com/GPX/1/0}trkpt' at 0x11cc571d8>,\n",
       " <Element '{http://www.topografix.com/GPX/1/0}trkpt' at 0x11cc572c8>,\n",
       " <Element '{http://www.topografix.com/GPX/1/0}trkpt' at 0x11cc573b8>,\n",
       " <Element '{http://www.topografix.com/GPX/1/0}trkpt' at 0x11cc574a8>,\n",
       " <Element '{http://www.topografix.com/GPX/1/0}trkpt' at 0x11cc57598>,\n",
       " <Element '{http://www.topografix.com/GPX/1/0}trkpt' at 0x11cc57688>,\n",
       " <Element '{http://www.topografix.com/GPX/1/0}trkpt' at 0x11cc57778>,\n",
       " <Element '{http://www.topografix.com/GPX/1/0}trkpt' at 0x11cc57868>,\n",
       " <Element '{http://www.topografix.com/GPX/1/0}trkpt' at 0x11cc57958>,\n",
       " <Element '{http://www.topografix.com/GPX/1/0}trkpt' at 0x11cc57a48>,\n",
       " <Element '{http://www.topografix.com/GPX/1/0}trkpt' at 0x11cc57b38>,\n",
       " <Element '{http://www.topografix.com/GPX/1/0}trkpt' at 0x11cc57c28>,\n",
       " <Element '{http://www.topografix.com/GPX/1/0}trkpt' at 0x11cc57d18>,\n",
       " <Element '{http://www.topografix.com/GPX/1/0}trkpt' at 0x11cc57e08>,\n",
       " <Element '{http://www.topografix.com/GPX/1/0}trkpt' at 0x11cc57ef8>,\n",
       " <Element '{http://www.topografix.com/GPX/1/0}trkpt' at 0x11cc52048>,\n",
       " <Element '{http://www.topografix.com/GPX/1/0}trkpt' at 0x11cc52138>,\n",
       " <Element '{http://www.topografix.com/GPX/1/0}trkpt' at 0x11cc52228>,\n",
       " <Element '{http://www.topografix.com/GPX/1/0}trkpt' at 0x11cc52318>,\n",
       " <Element '{http://www.topografix.com/GPX/1/0}trkpt' at 0x11cc52408>,\n",
       " <Element '{http://www.topografix.com/GPX/1/0}trkpt' at 0x11cc524f8>,\n",
       " <Element '{http://www.topografix.com/GPX/1/0}trkpt' at 0x11cc525e8>,\n",
       " <Element '{http://www.topografix.com/GPX/1/0}trkpt' at 0x11cc526d8>,\n",
       " <Element '{http://www.topografix.com/GPX/1/0}trkpt' at 0x11cc527c8>,\n",
       " <Element '{http://www.topografix.com/GPX/1/0}trkpt' at 0x11cc528b8>,\n",
       " <Element '{http://www.topografix.com/GPX/1/0}trkpt' at 0x11cc529a8>,\n",
       " <Element '{http://www.topografix.com/GPX/1/0}trkpt' at 0x11cc52a98>,\n",
       " <Element '{http://www.topografix.com/GPX/1/0}trkpt' at 0x11cc52b88>,\n",
       " <Element '{http://www.topografix.com/GPX/1/0}trkpt' at 0x11cc52c78>,\n",
       " <Element '{http://www.topografix.com/GPX/1/0}trkpt' at 0x11cc52d68>,\n",
       " <Element '{http://www.topografix.com/GPX/1/0}trkpt' at 0x11cc52e58>,\n",
       " <Element '{http://www.topografix.com/GPX/1/0}trkpt' at 0x11cc52f48>,\n",
       " <Element '{http://www.topografix.com/GPX/1/0}trkpt' at 0x11cc54098>,\n",
       " <Element '{http://www.topografix.com/GPX/1/0}trkpt' at 0x11cc54188>,\n",
       " <Element '{http://www.topografix.com/GPX/1/0}trkpt' at 0x11cc54278>,\n",
       " <Element '{http://www.topografix.com/GPX/1/0}trkpt' at 0x11cc54368>,\n",
       " <Element '{http://www.topografix.com/GPX/1/0}trkpt' at 0x11cc54458>,\n",
       " <Element '{http://www.topografix.com/GPX/1/0}trkpt' at 0x11cc54548>,\n",
       " <Element '{http://www.topografix.com/GPX/1/0}trkpt' at 0x11cc54638>,\n",
       " <Element '{http://www.topografix.com/GPX/1/0}trkpt' at 0x11cc54728>,\n",
       " <Element '{http://www.topografix.com/GPX/1/0}trkpt' at 0x11cc54818>,\n",
       " <Element '{http://www.topografix.com/GPX/1/0}trkpt' at 0x11cc54908>,\n",
       " <Element '{http://www.topografix.com/GPX/1/0}trkpt' at 0x11cc549f8>,\n",
       " <Element '{http://www.topografix.com/GPX/1/0}trkpt' at 0x11cc54ae8>,\n",
       " <Element '{http://www.topografix.com/GPX/1/0}trkpt' at 0x11cc54bd8>,\n",
       " <Element '{http://www.topografix.com/GPX/1/0}trkpt' at 0x11cc54cc8>,\n",
       " <Element '{http://www.topografix.com/GPX/1/0}trkpt' at 0x11cc54db8>,\n",
       " <Element '{http://www.topografix.com/GPX/1/0}trkpt' at 0x11cc54ea8>,\n",
       " <Element '{http://www.topografix.com/GPX/1/0}trkpt' at 0x11cc54f98>,\n",
       " <Element '{http://www.topografix.com/GPX/1/0}trkpt' at 0x11cc630e8>,\n",
       " <Element '{http://www.topografix.com/GPX/1/0}trkpt' at 0x11cc631d8>,\n",
       " <Element '{http://www.topografix.com/GPX/1/0}trkpt' at 0x11cc632c8>,\n",
       " <Element '{http://www.topografix.com/GPX/1/0}trkpt' at 0x11cc633b8>,\n",
       " <Element '{http://www.topografix.com/GPX/1/0}trkpt' at 0x11cc634a8>,\n",
       " <Element '{http://www.topografix.com/GPX/1/0}trkpt' at 0x11cc63598>,\n",
       " <Element '{http://www.topografix.com/GPX/1/0}trkpt' at 0x11cc63688>,\n",
       " <Element '{http://www.topografix.com/GPX/1/0}trkpt' at 0x11cc63778>,\n",
       " <Element '{http://www.topografix.com/GPX/1/0}trkpt' at 0x11cc63868>,\n",
       " <Element '{http://www.topografix.com/GPX/1/0}trkpt' at 0x11cc63958>,\n",
       " <Element '{http://www.topografix.com/GPX/1/0}trkpt' at 0x11cc63a48>,\n",
       " <Element '{http://www.topografix.com/GPX/1/0}trkpt' at 0x11cc63b38>,\n",
       " <Element '{http://www.topografix.com/GPX/1/0}trkpt' at 0x11cc63c28>,\n",
       " <Element '{http://www.topografix.com/GPX/1/0}trkpt' at 0x11cc63d18>,\n",
       " <Element '{http://www.topografix.com/GPX/1/0}trkpt' at 0x11cc63e08>,\n",
       " <Element '{http://www.topografix.com/GPX/1/0}trkpt' at 0x11cc63ef8>,\n",
       " <Element '{http://www.topografix.com/GPX/1/0}trkpt' at 0x11cc67048>,\n",
       " <Element '{http://www.topografix.com/GPX/1/0}trkpt' at 0x11cc67138>,\n",
       " <Element '{http://www.topografix.com/GPX/1/0}trkpt' at 0x11cc67228>,\n",
       " <Element '{http://www.topografix.com/GPX/1/0}trkpt' at 0x11cc67318>,\n",
       " <Element '{http://www.topografix.com/GPX/1/0}trkpt' at 0x11cc67408>,\n",
       " <Element '{http://www.topografix.com/GPX/1/0}trkpt' at 0x11cc674f8>,\n",
       " <Element '{http://www.topografix.com/GPX/1/0}trkpt' at 0x11cc675e8>,\n",
       " <Element '{http://www.topografix.com/GPX/1/0}trkpt' at 0x11cc676d8>,\n",
       " <Element '{http://www.topografix.com/GPX/1/0}trkpt' at 0x11cc677c8>,\n",
       " <Element '{http://www.topografix.com/GPX/1/0}trkpt' at 0x11cc678b8>,\n",
       " <Element '{http://www.topografix.com/GPX/1/0}trkpt' at 0x11cc679a8>,\n",
       " <Element '{http://www.topografix.com/GPX/1/0}trkpt' at 0x11cc67a98>,\n",
       " <Element '{http://www.topografix.com/GPX/1/0}trkpt' at 0x11cc67b88>,\n",
       " <Element '{http://www.topografix.com/GPX/1/0}trkpt' at 0x11cc67c78>,\n",
       " <Element '{http://www.topografix.com/GPX/1/0}trkpt' at 0x11cc67d68>,\n",
       " <Element '{http://www.topografix.com/GPX/1/0}trkpt' at 0x11cc67e58>,\n",
       " <Element '{http://www.topografix.com/GPX/1/0}trkpt' at 0x11cc67f48>,\n",
       " <Element '{http://www.topografix.com/GPX/1/0}trkpt' at 0x11cc6c098>,\n",
       " <Element '{http://www.topografix.com/GPX/1/0}trkpt' at 0x11cc6c188>,\n",
       " <Element '{http://www.topografix.com/GPX/1/0}trkpt' at 0x11cc6c278>,\n",
       " <Element '{http://www.topografix.com/GPX/1/0}trkpt' at 0x11cc6c368>,\n",
       " <Element '{http://www.topografix.com/GPX/1/0}trkpt' at 0x11cc6c458>,\n",
       " <Element '{http://www.topografix.com/GPX/1/0}trkpt' at 0x11cc6c548>,\n",
       " <Element '{http://www.topografix.com/GPX/1/0}trkpt' at 0x11cc6c638>,\n",
       " <Element '{http://www.topografix.com/GPX/1/0}trkpt' at 0x11cc6c728>,\n",
       " <Element '{http://www.topografix.com/GPX/1/0}trkpt' at 0x11cc6c818>,\n",
       " <Element '{http://www.topografix.com/GPX/1/0}trkpt' at 0x11cc6c908>,\n",
       " <Element '{http://www.topografix.com/GPX/1/0}trkpt' at 0x11cc6c9f8>,\n",
       " <Element '{http://www.topografix.com/GPX/1/0}trkpt' at 0x11cc6cae8>,\n",
       " <Element '{http://www.topografix.com/GPX/1/0}trkpt' at 0x11cc6cbd8>,\n",
       " <Element '{http://www.topografix.com/GPX/1/0}trkpt' at 0x11cc6ccc8>,\n",
       " <Element '{http://www.topografix.com/GPX/1/0}trkpt' at 0x11cc6cdb8>,\n",
       " <Element '{http://www.topografix.com/GPX/1/0}trkpt' at 0x11cc6cea8>,\n",
       " <Element '{http://www.topografix.com/GPX/1/0}trkpt' at 0x11cc6cf98>,\n",
       " <Element '{http://www.topografix.com/GPX/1/0}trkpt' at 0x11cc700e8>,\n",
       " <Element '{http://www.topografix.com/GPX/1/0}trkpt' at 0x11cc701d8>,\n",
       " <Element '{http://www.topografix.com/GPX/1/0}trkpt' at 0x11cc702c8>,\n",
       " <Element '{http://www.topografix.com/GPX/1/0}trkpt' at 0x11cc703b8>,\n",
       " <Element '{http://www.topografix.com/GPX/1/0}trkpt' at 0x11cc704a8>,\n",
       " <Element '{http://www.topografix.com/GPX/1/0}trkpt' at 0x11cc70598>,\n",
       " <Element '{http://www.topografix.com/GPX/1/0}trkpt' at 0x11cc70688>,\n",
       " <Element '{http://www.topografix.com/GPX/1/0}trkpt' at 0x11cc70778>,\n",
       " <Element '{http://www.topografix.com/GPX/1/0}trkpt' at 0x11cc70868>,\n",
       " <Element '{http://www.topografix.com/GPX/1/0}trkpt' at 0x11cc70958>,\n",
       " <Element '{http://www.topografix.com/GPX/1/0}trkpt' at 0x11cc70a48>,\n",
       " <Element '{http://www.topografix.com/GPX/1/0}trkpt' at 0x11cc70b38>,\n",
       " <Element '{http://www.topografix.com/GPX/1/0}trkpt' at 0x11cc70c28>,\n",
       " <Element '{http://www.topografix.com/GPX/1/0}trkpt' at 0x11cc70d18>,\n",
       " <Element '{http://www.topografix.com/GPX/1/0}trkpt' at 0x11cc70e08>,\n",
       " <Element '{http://www.topografix.com/GPX/1/0}trkpt' at 0x11cc70ef8>,\n",
       " <Element '{http://www.topografix.com/GPX/1/0}trkpt' at 0x11cc75048>,\n",
       " <Element '{http://www.topografix.com/GPX/1/0}trkpt' at 0x11cc75138>,\n",
       " <Element '{http://www.topografix.com/GPX/1/0}trkpt' at 0x11cc75228>,\n",
       " <Element '{http://www.topografix.com/GPX/1/0}trkpt' at 0x11cc75318>,\n",
       " <Element '{http://www.topografix.com/GPX/1/0}trkpt' at 0x11cc75408>,\n",
       " <Element '{http://www.topografix.com/GPX/1/0}trkpt' at 0x11cc754f8>,\n",
       " <Element '{http://www.topografix.com/GPX/1/0}trkpt' at 0x11cc755e8>,\n",
       " <Element '{http://www.topografix.com/GPX/1/0}trkpt' at 0x11cc756d8>,\n",
       " <Element '{http://www.topografix.com/GPX/1/0}trkpt' at 0x11cc757c8>,\n",
       " <Element '{http://www.topografix.com/GPX/1/0}trkpt' at 0x11cc758b8>,\n",
       " <Element '{http://www.topografix.com/GPX/1/0}trkpt' at 0x11cc759a8>,\n",
       " <Element '{http://www.topografix.com/GPX/1/0}trkpt' at 0x11cc75a98>,\n",
       " <Element '{http://www.topografix.com/GPX/1/0}trkpt' at 0x11cc75b88>,\n",
       " <Element '{http://www.topografix.com/GPX/1/0}trkpt' at 0x11cc75c78>,\n",
       " <Element '{http://www.topografix.com/GPX/1/0}trkpt' at 0x11cc75d68>,\n",
       " <Element '{http://www.topografix.com/GPX/1/0}trkpt' at 0x11cc75e58>,\n",
       " <Element '{http://www.topografix.com/GPX/1/0}trkpt' at 0x11cc75f48>,\n",
       " <Element '{http://www.topografix.com/GPX/1/0}trkpt' at 0x11cc79098>,\n",
       " <Element '{http://www.topografix.com/GPX/1/0}trkpt' at 0x11cc79188>,\n",
       " <Element '{http://www.topografix.com/GPX/1/0}trkpt' at 0x11cc79278>,\n",
       " <Element '{http://www.topografix.com/GPX/1/0}trkpt' at 0x11cc79368>,\n",
       " <Element '{http://www.topografix.com/GPX/1/0}trkpt' at 0x11cc79458>,\n",
       " <Element '{http://www.topografix.com/GPX/1/0}trkpt' at 0x11cc79548>,\n",
       " <Element '{http://www.topografix.com/GPX/1/0}trkpt' at 0x11cc79638>,\n",
       " <Element '{http://www.topografix.com/GPX/1/0}trkpt' at 0x11cc79728>,\n",
       " <Element '{http://www.topografix.com/GPX/1/0}trkpt' at 0x11cc79818>,\n",
       " <Element '{http://www.topografix.com/GPX/1/0}trkpt' at 0x11cc79908>,\n",
       " <Element '{http://www.topografix.com/GPX/1/0}trkpt' at 0x11cc799f8>,\n",
       " <Element '{http://www.topografix.com/GPX/1/0}trkpt' at 0x11cc79ae8>,\n",
       " <Element '{http://www.topografix.com/GPX/1/0}trkpt' at 0x11cc79bd8>,\n",
       " <Element '{http://www.topografix.com/GPX/1/0}trkpt' at 0x11cc79cc8>,\n",
       " <Element '{http://www.topografix.com/GPX/1/0}trkpt' at 0x11cc79db8>,\n",
       " <Element '{http://www.topografix.com/GPX/1/0}trkpt' at 0x11cc79ea8>,\n",
       " <Element '{http://www.topografix.com/GPX/1/0}trkpt' at 0x11cc79f98>,\n",
       " <Element '{http://www.topografix.com/GPX/1/0}trkpt' at 0x11cc7f0e8>,\n",
       " <Element '{http://www.topografix.com/GPX/1/0}trkpt' at 0x11cc7f1d8>,\n",
       " <Element '{http://www.topografix.com/GPX/1/0}trkpt' at 0x11cc7f2c8>,\n",
       " <Element '{http://www.topografix.com/GPX/1/0}trkpt' at 0x11cc7f3b8>,\n",
       " <Element '{http://www.topografix.com/GPX/1/0}trkpt' at 0x11cc7f4a8>,\n",
       " <Element '{http://www.topografix.com/GPX/1/0}trkpt' at 0x11cc7f598>,\n",
       " <Element '{http://www.topografix.com/GPX/1/0}trkpt' at 0x11cc7f688>,\n",
       " <Element '{http://www.topografix.com/GPX/1/0}trkpt' at 0x11cc7f778>,\n",
       " <Element '{http://www.topografix.com/GPX/1/0}trkpt' at 0x11cc7f868>,\n",
       " <Element '{http://www.topografix.com/GPX/1/0}trkpt' at 0x11cc7f958>,\n",
       " <Element '{http://www.topografix.com/GPX/1/0}trkpt' at 0x11cc7fa48>,\n",
       " <Element '{http://www.topografix.com/GPX/1/0}trkpt' at 0x11cc7fb38>,\n",
       " <Element '{http://www.topografix.com/GPX/1/0}trkpt' at 0x11cc7fc28>,\n",
       " <Element '{http://www.topografix.com/GPX/1/0}trkpt' at 0x11cc7fd18>,\n",
       " <Element '{http://www.topografix.com/GPX/1/0}trkpt' at 0x11cc7fe08>,\n",
       " <Element '{http://www.topografix.com/GPX/1/0}trkpt' at 0x11cc7fef8>,\n",
       " <Element '{http://www.topografix.com/GPX/1/0}trkpt' at 0x11cc83048>,\n",
       " <Element '{http://www.topografix.com/GPX/1/0}trkpt' at 0x11cc83138>,\n",
       " <Element '{http://www.topografix.com/GPX/1/0}trkpt' at 0x11cc83228>,\n",
       " <Element '{http://www.topografix.com/GPX/1/0}trkpt' at 0x11cc83318>,\n",
       " <Element '{http://www.topografix.com/GPX/1/0}trkpt' at 0x11cc83408>,\n",
       " <Element '{http://www.topografix.com/GPX/1/0}trkpt' at 0x11cc834f8>,\n",
       " <Element '{http://www.topografix.com/GPX/1/0}trkpt' at 0x11cc835e8>,\n",
       " <Element '{http://www.topografix.com/GPX/1/0}trkpt' at 0x11cc836d8>,\n",
       " <Element '{http://www.topografix.com/GPX/1/0}trkpt' at 0x11cc837c8>,\n",
       " <Element '{http://www.topografix.com/GPX/1/0}trkpt' at 0x11cc838b8>,\n",
       " <Element '{http://www.topografix.com/GPX/1/0}trkpt' at 0x11cc839a8>,\n",
       " <Element '{http://www.topografix.com/GPX/1/0}trkpt' at 0x11cc83a98>,\n",
       " <Element '{http://www.topografix.com/GPX/1/0}trkpt' at 0x11cc83b88>,\n",
       " <Element '{http://www.topografix.com/GPX/1/0}trkpt' at 0x11cc83c78>,\n",
       " <Element '{http://www.topografix.com/GPX/1/0}trkpt' at 0x11cc83d68>,\n",
       " <Element '{http://www.topografix.com/GPX/1/0}trkpt' at 0x11cc83e58>,\n",
       " <Element '{http://www.topografix.com/GPX/1/0}trkpt' at 0x11cc83f48>,\n",
       " <Element '{http://www.topografix.com/GPX/1/0}trkpt' at 0x11cc87098>,\n",
       " <Element '{http://www.topografix.com/GPX/1/0}trkpt' at 0x11cc87188>,\n",
       " <Element '{http://www.topografix.com/GPX/1/0}trkpt' at 0x11cc87278>,\n",
       " <Element '{http://www.topografix.com/GPX/1/0}trkpt' at 0x11cc87368>,\n",
       " <Element '{http://www.topografix.com/GPX/1/0}trkpt' at 0x11cc87458>,\n",
       " <Element '{http://www.topografix.com/GPX/1/0}trkpt' at 0x11cc87548>,\n",
       " <Element '{http://www.topografix.com/GPX/1/0}trkpt' at 0x11cc87638>,\n",
       " <Element '{http://www.topografix.com/GPX/1/0}trkpt' at 0x11cc87728>,\n",
       " <Element '{http://www.topografix.com/GPX/1/0}trkpt' at 0x11cc87818>,\n",
       " <Element '{http://www.topografix.com/GPX/1/0}trkpt' at 0x11cc87908>,\n",
       " <Element '{http://www.topografix.com/GPX/1/0}trkpt' at 0x11cc879f8>,\n",
       " <Element '{http://www.topografix.com/GPX/1/0}trkpt' at 0x11cc87ae8>,\n",
       " <Element '{http://www.topografix.com/GPX/1/0}trkpt' at 0x11cc87bd8>,\n",
       " <Element '{http://www.topografix.com/GPX/1/0}trkpt' at 0x11cc87cc8>,\n",
       " <Element '{http://www.topografix.com/GPX/1/0}trkpt' at 0x11cc87db8>,\n",
       " <Element '{http://www.topografix.com/GPX/1/0}trkpt' at 0x11cc87ea8>,\n",
       " <Element '{http://www.topografix.com/GPX/1/0}trkpt' at 0x11cc87f98>,\n",
       " <Element '{http://www.topografix.com/GPX/1/0}trkpt' at 0x11cc8d0e8>,\n",
       " <Element '{http://www.topografix.com/GPX/1/0}trkpt' at 0x11cc8d1d8>,\n",
       " <Element '{http://www.topografix.com/GPX/1/0}trkpt' at 0x11cc8d2c8>,\n",
       " <Element '{http://www.topografix.com/GPX/1/0}trkpt' at 0x11cc8d3b8>,\n",
       " <Element '{http://www.topografix.com/GPX/1/0}trkpt' at 0x11cc8d4a8>,\n",
       " <Element '{http://www.topografix.com/GPX/1/0}trkpt' at 0x11cc8d598>,\n",
       " <Element '{http://www.topografix.com/GPX/1/0}trkpt' at 0x11cc8d688>,\n",
       " <Element '{http://www.topografix.com/GPX/1/0}trkpt' at 0x11cc8d778>,\n",
       " <Element '{http://www.topografix.com/GPX/1/0}trkpt' at 0x11cc8d868>,\n",
       " <Element '{http://www.topografix.com/GPX/1/0}trkpt' at 0x11cc8d958>,\n",
       " <Element '{http://www.topografix.com/GPX/1/0}trkpt' at 0x11cc8da48>,\n",
       " <Element '{http://www.topografix.com/GPX/1/0}trkpt' at 0x11cc8db38>,\n",
       " <Element '{http://www.topografix.com/GPX/1/0}trkpt' at 0x11cc8dc28>,\n",
       " <Element '{http://www.topografix.com/GPX/1/0}trkpt' at 0x11cc8dd18>,\n",
       " <Element '{http://www.topografix.com/GPX/1/0}trkpt' at 0x11cc8de08>,\n",
       " <Element '{http://www.topografix.com/GPX/1/0}trkpt' at 0x11cc8def8>,\n",
       " <Element '{http://www.topografix.com/GPX/1/0}trkpt' at 0x11cc91048>,\n",
       " <Element '{http://www.topografix.com/GPX/1/0}trkpt' at 0x11cc91138>,\n",
       " <Element '{http://www.topografix.com/GPX/1/0}trkpt' at 0x11cc91228>,\n",
       " <Element '{http://www.topografix.com/GPX/1/0}trkpt' at 0x11cc91318>,\n",
       " <Element '{http://www.topografix.com/GPX/1/0}trkpt' at 0x11cc91408>,\n",
       " <Element '{http://www.topografix.com/GPX/1/0}trkpt' at 0x11cc914f8>,\n",
       " <Element '{http://www.topografix.com/GPX/1/0}trkpt' at 0x11cc915e8>,\n",
       " <Element '{http://www.topografix.com/GPX/1/0}trkpt' at 0x11cc916d8>,\n",
       " <Element '{http://www.topografix.com/GPX/1/0}trkpt' at 0x11cc917c8>,\n",
       " <Element '{http://www.topografix.com/GPX/1/0}trkpt' at 0x11cc918b8>,\n",
       " <Element '{http://www.topografix.com/GPX/1/0}trkpt' at 0x11cc919a8>,\n",
       " <Element '{http://www.topografix.com/GPX/1/0}trkpt' at 0x11cc91a98>,\n",
       " <Element '{http://www.topografix.com/GPX/1/0}trkpt' at 0x11cc91b88>,\n",
       " <Element '{http://www.topografix.com/GPX/1/0}trkpt' at 0x11cc91c78>,\n",
       " <Element '{http://www.topografix.com/GPX/1/0}trkpt' at 0x11cc91d68>,\n",
       " <Element '{http://www.topografix.com/GPX/1/0}trkpt' at 0x11cc91e58>,\n",
       " <Element '{http://www.topografix.com/GPX/1/0}trkpt' at 0x11cc91f48>,\n",
       " <Element '{http://www.topografix.com/GPX/1/0}trkpt' at 0x11cc96098>,\n",
       " <Element '{http://www.topografix.com/GPX/1/0}trkpt' at 0x11cc96188>,\n",
       " <Element '{http://www.topografix.com/GPX/1/0}trkpt' at 0x11cc96278>,\n",
       " <Element '{http://www.topografix.com/GPX/1/0}trkpt' at 0x11cc96368>,\n",
       " <Element '{http://www.topografix.com/GPX/1/0}trkpt' at 0x11cc96458>,\n",
       " <Element '{http://www.topografix.com/GPX/1/0}trkpt' at 0x11cc96548>,\n",
       " <Element '{http://www.topografix.com/GPX/1/0}trkpt' at 0x11cc96638>,\n",
       " <Element '{http://www.topografix.com/GPX/1/0}trkpt' at 0x11cc96728>,\n",
       " <Element '{http://www.topografix.com/GPX/1/0}trkpt' at 0x11cc96818>,\n",
       " <Element '{http://www.topografix.com/GPX/1/0}trkpt' at 0x11cc96908>,\n",
       " <Element '{http://www.topografix.com/GPX/1/0}trkpt' at 0x11cc969f8>,\n",
       " <Element '{http://www.topografix.com/GPX/1/0}trkpt' at 0x11cc96ae8>,\n",
       " <Element '{http://www.topografix.com/GPX/1/0}trkpt' at 0x11cc96bd8>,\n",
       " <Element '{http://www.topografix.com/GPX/1/0}trkpt' at 0x11cc96cc8>,\n",
       " <Element '{http://www.topografix.com/GPX/1/0}trkpt' at 0x11cc96db8>,\n",
       " <Element '{http://www.topografix.com/GPX/1/0}trkpt' at 0x11cc96ea8>,\n",
       " <Element '{http://www.topografix.com/GPX/1/0}trkpt' at 0x11cc96f98>,\n",
       " <Element '{http://www.topografix.com/GPX/1/0}trkpt' at 0x11cc9b0e8>,\n",
       " <Element '{http://www.topografix.com/GPX/1/0}trkpt' at 0x11cc9b1d8>,\n",
       " <Element '{http://www.topografix.com/GPX/1/0}trkpt' at 0x11cc9b2c8>,\n",
       " <Element '{http://www.topografix.com/GPX/1/0}trkpt' at 0x11cc9b3b8>,\n",
       " <Element '{http://www.topografix.com/GPX/1/0}trkpt' at 0x11cc9b4a8>,\n",
       " <Element '{http://www.topografix.com/GPX/1/0}trkpt' at 0x11cc9b598>,\n",
       " <Element '{http://www.topografix.com/GPX/1/0}trkpt' at 0x11cc9b688>,\n",
       " <Element '{http://www.topografix.com/GPX/1/0}trkpt' at 0x11cc9b778>,\n",
       " <Element '{http://www.topografix.com/GPX/1/0}trkpt' at 0x11cc9b868>,\n",
       " <Element '{http://www.topografix.com/GPX/1/0}trkpt' at 0x11cc9b958>,\n",
       " <Element '{http://www.topografix.com/GPX/1/0}trkpt' at 0x11cc9ba48>,\n",
       " <Element '{http://www.topografix.com/GPX/1/0}trkpt' at 0x11cc9bb38>,\n",
       " <Element '{http://www.topografix.com/GPX/1/0}trkpt' at 0x11cc9bc28>,\n",
       " <Element '{http://www.topografix.com/GPX/1/0}trkpt' at 0x11cc9bd18>,\n",
       " <Element '{http://www.topografix.com/GPX/1/0}trkpt' at 0x11cc9be08>,\n",
       " <Element '{http://www.topografix.com/GPX/1/0}trkpt' at 0x11cc9bef8>,\n",
       " <Element '{http://www.topografix.com/GPX/1/0}trkpt' at 0x11cc9f048>,\n",
       " <Element '{http://www.topografix.com/GPX/1/0}trkpt' at 0x11cc9f138>,\n",
       " <Element '{http://www.topografix.com/GPX/1/0}trkpt' at 0x11cc9f228>,\n",
       " <Element '{http://www.topografix.com/GPX/1/0}trkpt' at 0x11cc9f318>,\n",
       " <Element '{http://www.topografix.com/GPX/1/0}trkpt' at 0x11cc9f408>,\n",
       " <Element '{http://www.topografix.com/GPX/1/0}trkpt' at 0x11cc9f4f8>,\n",
       " <Element '{http://www.topografix.com/GPX/1/0}trkpt' at 0x11cc9f5e8>,\n",
       " <Element '{http://www.topografix.com/GPX/1/0}trkpt' at 0x11cc9f6d8>,\n",
       " <Element '{http://www.topografix.com/GPX/1/0}trkpt' at 0x11cc9f7c8>,\n",
       " <Element '{http://www.topografix.com/GPX/1/0}trkpt' at 0x11cc9f8b8>,\n",
       " <Element '{http://www.topografix.com/GPX/1/0}trkpt' at 0x11cc9f9a8>,\n",
       " <Element '{http://www.topografix.com/GPX/1/0}trkpt' at 0x11cc9fa98>,\n",
       " <Element '{http://www.topografix.com/GPX/1/0}trkpt' at 0x11cc9fb88>,\n",
       " <Element '{http://www.topografix.com/GPX/1/0}trkpt' at 0x11cc9fc78>,\n",
       " <Element '{http://www.topografix.com/GPX/1/0}trkpt' at 0x11cc9fd68>,\n",
       " <Element '{http://www.topografix.com/GPX/1/0}trkpt' at 0x11cc9fe58>,\n",
       " <Element '{http://www.topografix.com/GPX/1/0}trkpt' at 0x11cc9ff48>,\n",
       " <Element '{http://www.topografix.com/GPX/1/0}trkpt' at 0x11cca3098>,\n",
       " <Element '{http://www.topografix.com/GPX/1/0}trkpt' at 0x11cca3188>,\n",
       " <Element '{http://www.topografix.com/GPX/1/0}trkpt' at 0x11cca3278>,\n",
       " <Element '{http://www.topografix.com/GPX/1/0}trkpt' at 0x11cca3368>,\n",
       " <Element '{http://www.topografix.com/GPX/1/0}trkpt' at 0x11cca3458>,\n",
       " <Element '{http://www.topografix.com/GPX/1/0}trkpt' at 0x11cca3548>,\n",
       " <Element '{http://www.topografix.com/GPX/1/0}trkpt' at 0x11cca3638>,\n",
       " <Element '{http://www.topografix.com/GPX/1/0}trkpt' at 0x11cca3728>,\n",
       " <Element '{http://www.topografix.com/GPX/1/0}trkpt' at 0x11cca3818>,\n",
       " <Element '{http://www.topografix.com/GPX/1/0}trkpt' at 0x11cca3908>,\n",
       " <Element '{http://www.topografix.com/GPX/1/0}trkpt' at 0x11cca39f8>,\n",
       " <Element '{http://www.topografix.com/GPX/1/0}trkpt' at 0x11cca3ae8>,\n",
       " <Element '{http://www.topografix.com/GPX/1/0}trkpt' at 0x11cca3bd8>,\n",
       " <Element '{http://www.topografix.com/GPX/1/0}trkpt' at 0x11cca3cc8>,\n",
       " <Element '{http://www.topografix.com/GPX/1/0}trkpt' at 0x11cca3db8>,\n",
       " <Element '{http://www.topografix.com/GPX/1/0}trkpt' at 0x11cca3ea8>,\n",
       " <Element '{http://www.topografix.com/GPX/1/0}trkpt' at 0x11cca3f98>,\n",
       " <Element '{http://www.topografix.com/GPX/1/0}trkpt' at 0x11cca80e8>,\n",
       " <Element '{http://www.topografix.com/GPX/1/0}trkpt' at 0x11cca81d8>,\n",
       " <Element '{http://www.topografix.com/GPX/1/0}trkpt' at 0x11cca82c8>,\n",
       " <Element '{http://www.topografix.com/GPX/1/0}trkpt' at 0x11cca83b8>,\n",
       " <Element '{http://www.topografix.com/GPX/1/0}trkpt' at 0x11cca84a8>,\n",
       " <Element '{http://www.topografix.com/GPX/1/0}trkpt' at 0x11cca8598>,\n",
       " <Element '{http://www.topografix.com/GPX/1/0}trkpt' at 0x11cca8688>,\n",
       " <Element '{http://www.topografix.com/GPX/1/0}trkpt' at 0x11cca8778>,\n",
       " <Element '{http://www.topografix.com/GPX/1/0}trkpt' at 0x11cca8868>,\n",
       " <Element '{http://www.topografix.com/GPX/1/0}trkpt' at 0x11cca8958>,\n",
       " <Element '{http://www.topografix.com/GPX/1/0}trkpt' at 0x11cca8a48>,\n",
       " <Element '{http://www.topografix.com/GPX/1/0}trkpt' at 0x11cca8b38>,\n",
       " <Element '{http://www.topografix.com/GPX/1/0}trkpt' at 0x11cca8c28>,\n",
       " <Element '{http://www.topografix.com/GPX/1/0}trkpt' at 0x11cca8d18>,\n",
       " <Element '{http://www.topografix.com/GPX/1/0}trkpt' at 0x11cca8e08>,\n",
       " <Element '{http://www.topografix.com/GPX/1/0}trkpt' at 0x11cca8ef8>,\n",
       " <Element '{http://www.topografix.com/GPX/1/0}trkpt' at 0x11ccad048>,\n",
       " <Element '{http://www.topografix.com/GPX/1/0}trkpt' at 0x11ccad138>,\n",
       " <Element '{http://www.topografix.com/GPX/1/0}trkpt' at 0x11ccad228>,\n",
       " <Element '{http://www.topografix.com/GPX/1/0}trkpt' at 0x11ccad318>,\n",
       " <Element '{http://www.topografix.com/GPX/1/0}trkpt' at 0x11ccad408>,\n",
       " <Element '{http://www.topografix.com/GPX/1/0}trkpt' at 0x11ccad4f8>,\n",
       " <Element '{http://www.topografix.com/GPX/1/0}trkpt' at 0x11ccad5e8>,\n",
       " <Element '{http://www.topografix.com/GPX/1/0}trkpt' at 0x11ccad6d8>,\n",
       " <Element '{http://www.topografix.com/GPX/1/0}trkpt' at 0x11ccad7c8>,\n",
       " <Element '{http://www.topografix.com/GPX/1/0}trkpt' at 0x11ccad8b8>,\n",
       " <Element '{http://www.topografix.com/GPX/1/0}trkpt' at 0x11ccad9a8>,\n",
       " <Element '{http://www.topografix.com/GPX/1/0}trkpt' at 0x11ccada98>,\n",
       " <Element '{http://www.topografix.com/GPX/1/0}trkpt' at 0x11ccadb88>,\n",
       " <Element '{http://www.topografix.com/GPX/1/0}trkpt' at 0x11ccadc78>,\n",
       " <Element '{http://www.topografix.com/GPX/1/0}trkpt' at 0x11ccadd68>,\n",
       " <Element '{http://www.topografix.com/GPX/1/0}trkpt' at 0x11ccade58>,\n",
       " <Element '{http://www.topografix.com/GPX/1/0}trkpt' at 0x11ccadf48>,\n",
       " <Element '{http://www.topografix.com/GPX/1/0}trkpt' at 0x11ccb2098>,\n",
       " <Element '{http://www.topografix.com/GPX/1/0}trkpt' at 0x11ccb2188>,\n",
       " <Element '{http://www.topografix.com/GPX/1/0}trkpt' at 0x11ccb2278>,\n",
       " <Element '{http://www.topografix.com/GPX/1/0}trkpt' at 0x11ccb2368>,\n",
       " <Element '{http://www.topografix.com/GPX/1/0}trkpt' at 0x11ccb2458>,\n",
       " <Element '{http://www.topografix.com/GPX/1/0}trkpt' at 0x11ccb2548>,\n",
       " <Element '{http://www.topografix.com/GPX/1/0}trkpt' at 0x11ccb2638>,\n",
       " <Element '{http://www.topografix.com/GPX/1/0}trkpt' at 0x11ccb2728>,\n",
       " <Element '{http://www.topografix.com/GPX/1/0}trkpt' at 0x11ccb2818>,\n",
       " <Element '{http://www.topografix.com/GPX/1/0}trkpt' at 0x11ccb2908>,\n",
       " <Element '{http://www.topografix.com/GPX/1/0}trkpt' at 0x11ccb29f8>,\n",
       " <Element '{http://www.topografix.com/GPX/1/0}trkpt' at 0x11ccb2ae8>,\n",
       " <Element '{http://www.topografix.com/GPX/1/0}trkpt' at 0x11ccb2bd8>,\n",
       " <Element '{http://www.topografix.com/GPX/1/0}trkpt' at 0x11ccb2cc8>,\n",
       " <Element '{http://www.topografix.com/GPX/1/0}trkpt' at 0x11ccb2db8>,\n",
       " <Element '{http://www.topografix.com/GPX/1/0}trkpt' at 0x11ccb2ea8>,\n",
       " <Element '{http://www.topografix.com/GPX/1/0}trkpt' at 0x11ccb2f98>,\n",
       " <Element '{http://www.topografix.com/GPX/1/0}trkpt' at 0x11ccb60e8>,\n",
       " <Element '{http://www.topografix.com/GPX/1/0}trkpt' at 0x11ccb61d8>,\n",
       " <Element '{http://www.topografix.com/GPX/1/0}trkpt' at 0x11ccb62c8>,\n",
       " <Element '{http://www.topografix.com/GPX/1/0}trkpt' at 0x11ccb63b8>,\n",
       " <Element '{http://www.topografix.com/GPX/1/0}trkpt' at 0x11ccb64a8>,\n",
       " <Element '{http://www.topografix.com/GPX/1/0}trkpt' at 0x11ccb6598>,\n",
       " <Element '{http://www.topografix.com/GPX/1/0}trkpt' at 0x11ccb6688>,\n",
       " <Element '{http://www.topografix.com/GPX/1/0}trkpt' at 0x11ccb6778>,\n",
       " <Element '{http://www.topografix.com/GPX/1/0}trkpt' at 0x11ccb6868>,\n",
       " <Element '{http://www.topografix.com/GPX/1/0}trkpt' at 0x11ccb6958>,\n",
       " <Element '{http://www.topografix.com/GPX/1/0}trkpt' at 0x11ccb6a48>,\n",
       " <Element '{http://www.topografix.com/GPX/1/0}trkpt' at 0x11ccb6b38>,\n",
       " <Element '{http://www.topografix.com/GPX/1/0}trkpt' at 0x11ccb6c28>,\n",
       " <Element '{http://www.topografix.com/GPX/1/0}trkpt' at 0x11ccb6d18>,\n",
       " <Element '{http://www.topografix.com/GPX/1/0}trkpt' at 0x11ccb6e08>,\n",
       " <Element '{http://www.topografix.com/GPX/1/0}trkpt' at 0x11ccb6ef8>,\n",
       " <Element '{http://www.topografix.com/GPX/1/0}trkpt' at 0x11ccbc048>,\n",
       " <Element '{http://www.topografix.com/GPX/1/0}trkpt' at 0x11ccbc138>,\n",
       " <Element '{http://www.topografix.com/GPX/1/0}trkpt' at 0x11ccbc228>,\n",
       " <Element '{http://www.topografix.com/GPX/1/0}trkpt' at 0x11ccbc318>,\n",
       " <Element '{http://www.topografix.com/GPX/1/0}trkpt' at 0x11ccbc408>,\n",
       " <Element '{http://www.topografix.com/GPX/1/0}trkpt' at 0x11ccbc4f8>,\n",
       " <Element '{http://www.topografix.com/GPX/1/0}trkpt' at 0x11ccbc5e8>,\n",
       " <Element '{http://www.topografix.com/GPX/1/0}trkpt' at 0x11ccbc6d8>,\n",
       " <Element '{http://www.topografix.com/GPX/1/0}trkpt' at 0x11ccbc7c8>,\n",
       " <Element '{http://www.topografix.com/GPX/1/0}trkpt' at 0x11ccbc8b8>,\n",
       " <Element '{http://www.topografix.com/GPX/1/0}trkpt' at 0x11ccbc9a8>,\n",
       " <Element '{http://www.topografix.com/GPX/1/0}trkpt' at 0x11ccbca98>,\n",
       " <Element '{http://www.topografix.com/GPX/1/0}trkpt' at 0x11ccbcb88>,\n",
       " <Element '{http://www.topografix.com/GPX/1/0}trkpt' at 0x11ccbcc78>,\n",
       " <Element '{http://www.topografix.com/GPX/1/0}trkpt' at 0x11ccbcd68>,\n",
       " <Element '{http://www.topografix.com/GPX/1/0}trkpt' at 0x11ccbce58>,\n",
       " <Element '{http://www.topografix.com/GPX/1/0}trkpt' at 0x11ccbcf48>,\n",
       " <Element '{http://www.topografix.com/GPX/1/0}trkpt' at 0x11ccc0098>,\n",
       " <Element '{http://www.topografix.com/GPX/1/0}trkpt' at 0x11ccc0188>,\n",
       " <Element '{http://www.topografix.com/GPX/1/0}trkpt' at 0x11ccc0278>,\n",
       " <Element '{http://www.topografix.com/GPX/1/0}trkpt' at 0x11ccc0368>,\n",
       " <Element '{http://www.topografix.com/GPX/1/0}trkpt' at 0x11ccc0458>,\n",
       " <Element '{http://www.topografix.com/GPX/1/0}trkpt' at 0x11ccc0548>,\n",
       " <Element '{http://www.topografix.com/GPX/1/0}trkpt' at 0x11ccc0638>,\n",
       " <Element '{http://www.topografix.com/GPX/1/0}trkpt' at 0x11ccc0728>,\n",
       " <Element '{http://www.topografix.com/GPX/1/0}trkpt' at 0x11ccc0818>,\n",
       " <Element '{http://www.topografix.com/GPX/1/0}trkpt' at 0x11ccc0908>,\n",
       " <Element '{http://www.topografix.com/GPX/1/0}trkpt' at 0x11ccc09f8>,\n",
       " <Element '{http://www.topografix.com/GPX/1/0}trkpt' at 0x11ccc0ae8>,\n",
       " <Element '{http://www.topografix.com/GPX/1/0}trkpt' at 0x11ccc0bd8>,\n",
       " <Element '{http://www.topografix.com/GPX/1/0}trkpt' at 0x11ccc0cc8>,\n",
       " <Element '{http://www.topografix.com/GPX/1/0}trkpt' at 0x11ccc0db8>,\n",
       " <Element '{http://www.topografix.com/GPX/1/0}trkpt' at 0x11ccc0ea8>,\n",
       " <Element '{http://www.topografix.com/GPX/1/0}trkpt' at 0x11ccc0f98>,\n",
       " <Element '{http://www.topografix.com/GPX/1/0}trkpt' at 0x11ccc40e8>,\n",
       " <Element '{http://www.topografix.com/GPX/1/0}trkpt' at 0x11ccc41d8>,\n",
       " <Element '{http://www.topografix.com/GPX/1/0}trkpt' at 0x11ccc42c8>,\n",
       " <Element '{http://www.topografix.com/GPX/1/0}trkpt' at 0x11ccc43b8>,\n",
       " <Element '{http://www.topografix.com/GPX/1/0}trkpt' at 0x11ccc44a8>,\n",
       " <Element '{http://www.topografix.com/GPX/1/0}trkpt' at 0x11ccc4598>,\n",
       " <Element '{http://www.topografix.com/GPX/1/0}trkpt' at 0x11ccc4688>,\n",
       " <Element '{http://www.topografix.com/GPX/1/0}trkpt' at 0x11ccc4778>,\n",
       " <Element '{http://www.topografix.com/GPX/1/0}trkpt' at 0x11ccc4868>,\n",
       " <Element '{http://www.topografix.com/GPX/1/0}trkpt' at 0x11ccc4958>,\n",
       " <Element '{http://www.topografix.com/GPX/1/0}trkpt' at 0x11ccc4a48>,\n",
       " <Element '{http://www.topografix.com/GPX/1/0}trkpt' at 0x11ccc4b38>,\n",
       " <Element '{http://www.topografix.com/GPX/1/0}trkpt' at 0x11ccc4c28>,\n",
       " <Element '{http://www.topografix.com/GPX/1/0}trkpt' at 0x11ccc4d18>,\n",
       " <Element '{http://www.topografix.com/GPX/1/0}trkpt' at 0x11ccc4e08>,\n",
       " <Element '{http://www.topografix.com/GPX/1/0}trkpt' at 0x11ccc4ef8>,\n",
       " <Element '{http://www.topografix.com/GPX/1/0}trkpt' at 0x11ccca048>,\n",
       " <Element '{http://www.topografix.com/GPX/1/0}trkpt' at 0x11ccca138>,\n",
       " <Element '{http://www.topografix.com/GPX/1/0}trkpt' at 0x11ccca228>,\n",
       " <Element '{http://www.topografix.com/GPX/1/0}trkpt' at 0x11ccca318>,\n",
       " <Element '{http://www.topografix.com/GPX/1/0}trkpt' at 0x11ccca408>,\n",
       " <Element '{http://www.topografix.com/GPX/1/0}trkpt' at 0x11ccca4f8>,\n",
       " <Element '{http://www.topografix.com/GPX/1/0}trkpt' at 0x11ccca5e8>,\n",
       " <Element '{http://www.topografix.com/GPX/1/0}trkpt' at 0x11ccca6d8>,\n",
       " <Element '{http://www.topografix.com/GPX/1/0}trkpt' at 0x11ccca7c8>,\n",
       " <Element '{http://www.topografix.com/GPX/1/0}trkpt' at 0x11ccca8b8>,\n",
       " <Element '{http://www.topografix.com/GPX/1/0}trkpt' at 0x11ccca9a8>,\n",
       " <Element '{http://www.topografix.com/GPX/1/0}trkpt' at 0x11cccaa98>,\n",
       " <Element '{http://www.topografix.com/GPX/1/0}trkpt' at 0x11cccab88>,\n",
       " <Element '{http://www.topografix.com/GPX/1/0}trkpt' at 0x11cccac78>,\n",
       " <Element '{http://www.topografix.com/GPX/1/0}trkpt' at 0x11cccad68>,\n",
       " <Element '{http://www.topografix.com/GPX/1/0}trkpt' at 0x11cccae58>,\n",
       " <Element '{http://www.topografix.com/GPX/1/0}trkpt' at 0x11cccaf48>,\n",
       " <Element '{http://www.topografix.com/GPX/1/0}trkpt' at 0x11ccce098>,\n",
       " <Element '{http://www.topografix.com/GPX/1/0}trkpt' at 0x11ccce188>,\n",
       " <Element '{http://www.topografix.com/GPX/1/0}trkpt' at 0x11ccce278>,\n",
       " <Element '{http://www.topografix.com/GPX/1/0}trkpt' at 0x11ccce368>,\n",
       " <Element '{http://www.topografix.com/GPX/1/0}trkpt' at 0x11ccce458>,\n",
       " <Element '{http://www.topografix.com/GPX/1/0}trkpt' at 0x11ccce548>,\n",
       " <Element '{http://www.topografix.com/GPX/1/0}trkpt' at 0x11ccce638>,\n",
       " <Element '{http://www.topografix.com/GPX/1/0}trkpt' at 0x11ccce728>,\n",
       " <Element '{http://www.topografix.com/GPX/1/0}trkpt' at 0x11ccce818>,\n",
       " <Element '{http://www.topografix.com/GPX/1/0}trkpt' at 0x11ccce908>,\n",
       " <Element '{http://www.topografix.com/GPX/1/0}trkpt' at 0x11ccce9f8>,\n",
       " <Element '{http://www.topografix.com/GPX/1/0}trkpt' at 0x11ccceae8>,\n",
       " <Element '{http://www.topografix.com/GPX/1/0}trkpt' at 0x11cccebd8>,\n",
       " <Element '{http://www.topografix.com/GPX/1/0}trkpt' at 0x11cccecc8>,\n",
       " <Element '{http://www.topografix.com/GPX/1/0}trkpt' at 0x11cccedb8>,\n",
       " <Element '{http://www.topografix.com/GPX/1/0}trkpt' at 0x11ccceea8>,\n",
       " <Element '{http://www.topografix.com/GPX/1/0}trkpt' at 0x11cccef98>,\n",
       " <Element '{http://www.topografix.com/GPX/1/0}trkpt' at 0x11ccd20e8>,\n",
       " <Element '{http://www.topografix.com/GPX/1/0}trkpt' at 0x11ccd21d8>,\n",
       " <Element '{http://www.topografix.com/GPX/1/0}trkpt' at 0x11ccd22c8>,\n",
       " <Element '{http://www.topografix.com/GPX/1/0}trkpt' at 0x11ccd23b8>,\n",
       " <Element '{http://www.topografix.com/GPX/1/0}trkpt' at 0x11ccd24a8>,\n",
       " <Element '{http://www.topografix.com/GPX/1/0}trkpt' at 0x11ccd2598>,\n",
       " <Element '{http://www.topografix.com/GPX/1/0}trkpt' at 0x11ccd2688>,\n",
       " <Element '{http://www.topografix.com/GPX/1/0}trkpt' at 0x11ccd2778>,\n",
       " <Element '{http://www.topografix.com/GPX/1/0}trkpt' at 0x11ccd2868>,\n",
       " <Element '{http://www.topografix.com/GPX/1/0}trkpt' at 0x11ccd2958>,\n",
       " <Element '{http://www.topografix.com/GPX/1/0}trkpt' at 0x11ccd2a48>,\n",
       " <Element '{http://www.topografix.com/GPX/1/0}trkpt' at 0x11ccd2b38>,\n",
       " <Element '{http://www.topografix.com/GPX/1/0}trkpt' at 0x11ccd2c28>,\n",
       " <Element '{http://www.topografix.com/GPX/1/0}trkpt' at 0x11ccd2d18>,\n",
       " <Element '{http://www.topografix.com/GPX/1/0}trkpt' at 0x11ccd2e08>,\n",
       " <Element '{http://www.topografix.com/GPX/1/0}trkpt' at 0x11ccd2ef8>,\n",
       " <Element '{http://www.topografix.com/GPX/1/0}trkpt' at 0x11ccd6048>,\n",
       " <Element '{http://www.topografix.com/GPX/1/0}trkpt' at 0x11ccd6138>,\n",
       " <Element '{http://www.topografix.com/GPX/1/0}trkpt' at 0x11ccd6228>,\n",
       " <Element '{http://www.topografix.com/GPX/1/0}trkpt' at 0x11ccd6318>,\n",
       " <Element '{http://www.topografix.com/GPX/1/0}trkpt' at 0x11ccd6408>,\n",
       " <Element '{http://www.topografix.com/GPX/1/0}trkpt' at 0x11ccd64f8>,\n",
       " <Element '{http://www.topografix.com/GPX/1/0}trkpt' at 0x11ccd65e8>,\n",
       " <Element '{http://www.topografix.com/GPX/1/0}trkpt' at 0x11ccd66d8>,\n",
       " <Element '{http://www.topografix.com/GPX/1/0}trkpt' at 0x11ccd67c8>]"
      ]
     },
     "execution_count": 26,
     "metadata": {},
     "output_type": "execute_result"
    }
   ],
   "source": [
    "list(root[2][0])"
   ]
  },
  {
   "cell_type": "code",
   "execution_count": null,
   "metadata": {
    "collapsed": true
   },
   "outputs": [],
   "source": []
  },
  {
   "cell_type": "code",
   "execution_count": null,
   "metadata": {
    "collapsed": true
   },
   "outputs": [],
   "source": []
  },
  {
   "cell_type": "code",
   "execution_count": null,
   "metadata": {
    "collapsed": true
   },
   "outputs": [],
   "source": [
    "len()"
   ]
  },
  {
   "cell_type": "code",
   "execution_count": 12,
   "metadata": {
    "collapsed": false
   },
   "outputs": [
    {
     "data": {
      "text/plain": [
       "'/Users/rory/data/strava/export_23193264/activities/1612870306.gpx'"
      ]
     },
     "execution_count": 12,
     "metadata": {},
     "output_type": "execute_result"
    }
   ],
   "source": [
    "str(list(p.glob('*.gpx'))[0])"
   ]
  },
  {
   "cell_type": "code",
   "execution_count": null,
   "metadata": {
    "collapsed": true
   },
   "outputs": [],
   "source": []
  },
  {
   "cell_type": "code",
   "execution_count": 30,
   "metadata": {
    "collapsed": false
   },
   "outputs": [],
   "source": [
    "df_list = [\n",
    "    gpx_to_pandas(str(filepath))\n",
    "    for filepath\n",
    "    in p.glob('*.gpx')\n",
    "]"
   ]
  },
  {
   "cell_type": "code",
   "execution_count": 31,
   "metadata": {
    "collapsed": false
   },
   "outputs": [],
   "source": [
    "df = pd.concat(df_list)\n",
    "df.lat = df.lat.astype(float)\n",
    "df.lon = df.lon.astype(float)"
   ]
  },
  {
   "cell_type": "code",
   "execution_count": 32,
   "metadata": {
    "collapsed": false
   },
   "outputs": [
    {
     "data": {
      "text/plain": [
       "<matplotlib.axes._subplots.AxesSubplot at 0x11d3221d0>"
      ]
     },
     "execution_count": 32,
     "metadata": {},
     "output_type": "execute_result"
    },
    {
     "data": {
      "image/png": "[encoded data removed]",
      "text/plain": [
       "<matplotlib.figure.Figure at 0x11d9f4828>"
      ]
     },
     "metadata": {},
     "output_type": "display_data"
    }
   ],
   "source": [
    "df.plot.scatter(x='lon', y='lat')"
   ]
  },
  {
   "cell_type": "code",
   "execution_count": 33,
   "metadata": {
    "collapsed": false
   },
   "outputs": [],
   "source": [
    "df.to_csv('/Users/rory/data/strava/all_activities.csv')"
   ]
  },
  {
   "cell_type": "code",
   "execution_count": null,
   "metadata": {
    "collapsed": true
   },
   "outputs": [],
   "source": []
  }
 ],
 "metadata": {
  "anaconda-cloud": {},
  "kernelspec": {
   "display_name": "Python [default]",
   "language": "python",
   "name": "python3"
  },
  "language_info": {
   "codemirror_mode": {
    "name": "ipython",
    "version": 3
   },
   "file_extension": ".py",
   "mimetype": "text/x-python",
   "name": "python",
   "nbconvert_exporter": "python",
   "pygments_lexer": "ipython3",
   "version": "3.5.2"
  }
 },
 "nbformat": 4,
 "nbformat_minor": 1
}

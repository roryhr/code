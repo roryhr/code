{
 "cells": [
  {
   "cell_type": "markdown",
   "id": "94bee1f9",
   "metadata": {},
   "source": [
    "Minimize \n",
    "\n",
    "Sum of dt\n",
    "\n",
    "Subject to P = f(v) \n",
    "\n",
    "and the sum of v dt = Distance \n",
    "\n",
    "and Sum of P dt = E\n"
   ]
  },
  {
   "cell_type": "code",
   "execution_count": 100,
   "id": "67eece77",
   "metadata": {},
   "outputs": [
    {
     "name": "stdout",
     "output_type": "stream",
     "text": [
      "The nb_black extension is already loaded. To reload it, use:\n",
      "  %reload_ext nb_black\n"
     ]
    },
    {
     "data": {
      "application/javascript": [
       "\n",
       "            setTimeout(function() {\n",
       "                var nbb_cell_id = 100;\n",
       "                var nbb_unformatted_code = \"import matplotlib.pyplot as plt\\nimport numpy as np\\nfrom scipy import optimize\\nimport pandas as pd\\n\\n%load_ext nb_black\";\n",
       "                var nbb_formatted_code = \"import matplotlib.pyplot as plt\\nimport numpy as np\\nfrom scipy import optimize\\nimport pandas as pd\\n\\n%load_ext nb_black\";\n",
       "                var nbb_cells = Jupyter.notebook.get_cells();\n",
       "                for (var i = 0; i < nbb_cells.length; ++i) {\n",
       "                    if (nbb_cells[i].input_prompt_number == nbb_cell_id) {\n",
       "                        if (nbb_cells[i].get_text() == nbb_unformatted_code) {\n",
       "                             nbb_cells[i].set_text(nbb_formatted_code);\n",
       "                        }\n",
       "                        break;\n",
       "                    }\n",
       "                }\n",
       "            }, 500);\n",
       "            "
      ],
      "text/plain": [
       "<IPython.core.display.Javascript object>"
      ]
     },
     "metadata": {},
     "output_type": "display_data"
    }
   ],
   "source": [
    "import matplotlib.pyplot as plt\n",
    "import numpy as np\n",
    "from scipy import optimize\n",
    "import pandas as pd\n",
    "\n",
    "%load_ext nb_black"
   ]
  },
  {
   "cell_type": "code",
   "execution_count": 66,
   "id": "522d7199",
   "metadata": {},
   "outputs": [
    {
     "data": {
      "application/javascript": [
       "\n",
       "            setTimeout(function() {\n",
       "                var nbb_cell_id = 66;\n",
       "                var nbb_unformatted_code = \"def power(v, \\u03b8):\\n    \\\"\\\"\\\"Calculate power loss given ground speed velocity and angle\\n    \\n    Parameters\\n    ----------\\n    v : float\\n        Velocity (m/s)\\n\\n    \\u03b8 : float\\n        Angle (rad)\\n\\n    Returns\\n    -------\\n    float\\n        Power loss (W)\\n\\n    \\\"\\\"\\\"\\n    c = 0.254\\n    M = 85\\n    g = 9.8\\n\\n    return c * v**3 + M * g * v * np.sin(\\u03b8)\";\n",
       "                var nbb_formatted_code = \"def power(v, \\u03b8):\\n    \\\"\\\"\\\"Calculate power loss given ground speed velocity and angle\\n\\n    Parameters\\n    ----------\\n    v : float\\n        Velocity (m/s)\\n\\n    \\u03b8 : float\\n        Angle (rad)\\n\\n    Returns\\n    -------\\n    float\\n        Power loss (W)\\n\\n    \\\"\\\"\\\"\\n    c = 0.254\\n    M = 85\\n    g = 9.8\\n\\n    return c * v**3 + M * g * v * np.sin(\\u03b8)\";\n",
       "                var nbb_cells = Jupyter.notebook.get_cells();\n",
       "                for (var i = 0; i < nbb_cells.length; ++i) {\n",
       "                    if (nbb_cells[i].input_prompt_number == nbb_cell_id) {\n",
       "                        if (nbb_cells[i].get_text() == nbb_unformatted_code) {\n",
       "                             nbb_cells[i].set_text(nbb_formatted_code);\n",
       "                        }\n",
       "                        break;\n",
       "                    }\n",
       "                }\n",
       "            }, 500);\n",
       "            "
      ],
      "text/plain": [
       "<IPython.core.display.Javascript object>"
      ]
     },
     "metadata": {},
     "output_type": "display_data"
    }
   ],
   "source": [
    "def power(v, θ):\n",
    "    \"\"\"Calculate power loss given ground speed velocity and angle\n",
    "\n",
    "    Parameters\n",
    "    ----------\n",
    "    v : float\n",
    "        Velocity (m/s)\n",
    "\n",
    "    θ : float\n",
    "        Angle (rad)\n",
    "\n",
    "    Returns\n",
    "    -------\n",
    "    float\n",
    "        Power loss (W)\n",
    "\n",
    "    \"\"\"\n",
    "    c = 0.254\n",
    "    M = 85\n",
    "    g = 9.8\n",
    "\n",
    "    return c * v**3 + M * g * v * np.sin(θ)"
   ]
  },
  {
   "cell_type": "code",
   "execution_count": 67,
   "id": "275b3362",
   "metadata": {},
   "outputs": [
    {
     "data": {
      "application/javascript": [
       "\n",
       "            setTimeout(function() {\n",
       "                var nbb_cell_id = 67;\n",
       "                var nbb_unformatted_code = \"def power_to_speed(P, gradient):\\n    \\\"\\\"\\\"Given a power P return the speed you'll get\\n\\n    Parameters\\n    ----------\\n    P : float\\n        Power (W) to the pedals\\n\\n    gradient : float\\n        Hill gradient (%)\\n\\n    Returns\\n    -------\\n    float\\n        Part cost with breakdown of cost factors.\\n\\n    \\\"\\\"\\\"\\n\\n    fun = lambda x: P - power(x, np.arctan(gradient / 100))\\n    sol = optimize.root(fun, 1)\\n    return sol.x[0]\";\n",
       "                var nbb_formatted_code = \"def power_to_speed(P, gradient):\\n    \\\"\\\"\\\"Given a power P return the speed you'll get\\n\\n    Parameters\\n    ----------\\n    P : float\\n        Power (W) to the pedals\\n\\n    gradient : float\\n        Hill gradient (%)\\n\\n    Returns\\n    -------\\n    float\\n        Part cost with breakdown of cost factors.\\n\\n    \\\"\\\"\\\"\\n\\n    fun = lambda x: P - power(x, np.arctan(gradient / 100))\\n    sol = optimize.root(fun, 1)\\n    return sol.x[0]\";\n",
       "                var nbb_cells = Jupyter.notebook.get_cells();\n",
       "                for (var i = 0; i < nbb_cells.length; ++i) {\n",
       "                    if (nbb_cells[i].input_prompt_number == nbb_cell_id) {\n",
       "                        if (nbb_cells[i].get_text() == nbb_unformatted_code) {\n",
       "                             nbb_cells[i].set_text(nbb_formatted_code);\n",
       "                        }\n",
       "                        break;\n",
       "                    }\n",
       "                }\n",
       "            }, 500);\n",
       "            "
      ],
      "text/plain": [
       "<IPython.core.display.Javascript object>"
      ]
     },
     "metadata": {},
     "output_type": "display_data"
    }
   ],
   "source": [
    "def power_to_speed(P, gradient):\n",
    "    \"\"\"Given a power P return the speed you'll get\n",
    "\n",
    "    Parameters\n",
    "    ----------\n",
    "    P : float\n",
    "        Power (W) to the pedals\n",
    "\n",
    "    gradient : float\n",
    "        Hill gradient (%)\n",
    "\n",
    "    Returns\n",
    "    -------\n",
    "    float\n",
    "        Part cost with breakdown of cost factors.\n",
    "\n",
    "    \"\"\"\n",
    "\n",
    "    fun = lambda x: P - power(x, np.arctan(gradient / 100))\n",
    "    sol = optimize.root(fun, 1)\n",
    "    return sol.x[0]"
   ]
  },
  {
   "cell_type": "code",
   "execution_count": 73,
   "id": "d8c5e561",
   "metadata": {},
   "outputs": [
    {
     "data": {
      "text/plain": [
       "15.540299173130276"
      ]
     },
     "execution_count": 73,
     "metadata": {},
     "output_type": "execute_result"
    },
    {
     "data": {
      "application/javascript": [
       "\n",
       "            setTimeout(function() {\n",
       "                var nbb_cell_id = 73;\n",
       "                var nbb_unformatted_code = \"KPH_PER_MPS = 3.6\\n\\npower_to_speed(200, 5) * KPH_PER_MPS\";\n",
       "                var nbb_formatted_code = \"KPH_PER_MPS = 3.6\\n\\npower_to_speed(200, 5) * KPH_PER_MPS\";\n",
       "                var nbb_cells = Jupyter.notebook.get_cells();\n",
       "                for (var i = 0; i < nbb_cells.length; ++i) {\n",
       "                    if (nbb_cells[i].input_prompt_number == nbb_cell_id) {\n",
       "                        if (nbb_cells[i].get_text() == nbb_unformatted_code) {\n",
       "                             nbb_cells[i].set_text(nbb_formatted_code);\n",
       "                        }\n",
       "                        break;\n",
       "                    }\n",
       "                }\n",
       "            }, 500);\n",
       "            "
      ],
      "text/plain": [
       "<IPython.core.display.Javascript object>"
      ]
     },
     "metadata": {},
     "output_type": "display_data"
    }
   ],
   "source": [
    "KPH_PER_MPS = 3.6\n",
    "\n",
    "power_to_speed(200, 5) * KPH_PER_MPS"
   ]
  },
  {
   "cell_type": "markdown",
   "id": "a2a14d4b",
   "metadata": {},
   "source": [
    "Go over increments of 10 sec, integrate the velocity given a power. Integrate velocity and Power. "
   ]
  },
  {
   "cell_type": "code",
   "execution_count": 91,
   "id": "8998ce14",
   "metadata": {},
   "outputs": [
    {
     "name": "stdout",
     "output_type": "stream",
     "text": [
      "Done after 154\n"
     ]
    },
    {
     "data": {
      "application/javascript": [
       "\n",
       "            setTimeout(function() {\n",
       "                var nbb_cell_id = 91;\n",
       "                var nbb_unformatted_code = \"gradients = {500: 2.1, 1000: 5.7, 1500: 3.9, 2000: 7.2, 99999: 10}\\nD = 4592  # meters\\ndt = 10  # secs\\ndist_traveled = 0\\nenergy_spent = 0\\ntotal_time = 0\\n\\n\\nfor i in range(999):\\n    P = 200\\n    for dist, g in gradients.items():\\n        if dist_traveled < dist:\\n            gradient = g\\n            break\\n\\n    v = power_to_speed(P, g)\\n    dist_traveled += v * dt\\n    energy_spent += P * dt\\n    total_time += dt\\n\\n    if dist_traveled > D:\\n        print(\\\"Done after\\\", i)\\n        break\";\n",
       "                var nbb_formatted_code = \"gradients = {500: 2.1, 1000: 5.7, 1500: 3.9, 2000: 7.2, 99999: 10}\\nD = 4592  # meters\\ndt = 10  # secs\\ndist_traveled = 0\\nenergy_spent = 0\\ntotal_time = 0\\n\\n\\nfor i in range(999):\\n    P = 200\\n    for dist, g in gradients.items():\\n        if dist_traveled < dist:\\n            gradient = g\\n            break\\n\\n    v = power_to_speed(P, g)\\n    dist_traveled += v * dt\\n    energy_spent += P * dt\\n    total_time += dt\\n\\n    if dist_traveled > D:\\n        print(\\\"Done after\\\", i)\\n        break\";\n",
       "                var nbb_cells = Jupyter.notebook.get_cells();\n",
       "                for (var i = 0; i < nbb_cells.length; ++i) {\n",
       "                    if (nbb_cells[i].input_prompt_number == nbb_cell_id) {\n",
       "                        if (nbb_cells[i].get_text() == nbb_unformatted_code) {\n",
       "                             nbb_cells[i].set_text(nbb_formatted_code);\n",
       "                        }\n",
       "                        break;\n",
       "                    }\n",
       "                }\n",
       "            }, 500);\n",
       "            "
      ],
      "text/plain": [
       "<IPython.core.display.Javascript object>"
      ]
     },
     "metadata": {},
     "output_type": "display_data"
    }
   ],
   "source": [
    "gradients = {500: 2.1, 1000: 5.7, 1500: 3.9, 2000: 7.2, 99999: 10}\n",
    "D = 4592  # meters\n",
    "dt = 10  # secs\n",
    "dist_traveled = 0\n",
    "energy_spent = 0\n",
    "total_time = 0\n",
    "\n",
    "\n",
    "for i in range(999):\n",
    "    P = 200\n",
    "    for dist, g in gradients.items():\n",
    "        if dist_traveled < dist:\n",
    "            gradient = g\n",
    "            break\n",
    "\n",
    "    v = power_to_speed(P, g)\n",
    "    dist_traveled += v * dt\n",
    "    energy_spent += P * dt\n",
    "    total_time += dt\n",
    "\n",
    "    if dist_traveled > D:\n",
    "        print(\"Done after\", i)\n",
    "        break"
   ]
  },
  {
   "cell_type": "code",
   "execution_count": 92,
   "id": "27b4b311",
   "metadata": {},
   "outputs": [
    {
     "data": {
      "text/plain": [
       "25.833333333333332"
      ]
     },
     "execution_count": 92,
     "metadata": {},
     "output_type": "execute_result"
    },
    {
     "data": {
      "application/javascript": [
       "\n",
       "            setTimeout(function() {\n",
       "                var nbb_cell_id = 92;\n",
       "                var nbb_unformatted_code = \"total_time / 60\";\n",
       "                var nbb_formatted_code = \"total_time / 60\";\n",
       "                var nbb_cells = Jupyter.notebook.get_cells();\n",
       "                for (var i = 0; i < nbb_cells.length; ++i) {\n",
       "                    if (nbb_cells[i].input_prompt_number == nbb_cell_id) {\n",
       "                        if (nbb_cells[i].get_text() == nbb_unformatted_code) {\n",
       "                             nbb_cells[i].set_text(nbb_formatted_code);\n",
       "                        }\n",
       "                        break;\n",
       "                    }\n",
       "                }\n",
       "            }, 500);\n",
       "            "
      ],
      "text/plain": [
       "<IPython.core.display.Javascript object>"
      ]
     },
     "metadata": {},
     "output_type": "display_data"
    }
   ],
   "source": [
    "total_time / 60"
   ]
  },
  {
   "cell_type": "code",
   "execution_count": 93,
   "id": "a2b4511f",
   "metadata": {},
   "outputs": [
    {
     "data": {
      "text/plain": [
       "4615.168675894468"
      ]
     },
     "execution_count": 93,
     "metadata": {},
     "output_type": "execute_result"
    },
    {
     "data": {
      "application/javascript": [
       "\n",
       "            setTimeout(function() {\n",
       "                var nbb_cell_id = 93;\n",
       "                var nbb_unformatted_code = \"dist_traveled\";\n",
       "                var nbb_formatted_code = \"dist_traveled\";\n",
       "                var nbb_cells = Jupyter.notebook.get_cells();\n",
       "                for (var i = 0; i < nbb_cells.length; ++i) {\n",
       "                    if (nbb_cells[i].input_prompt_number == nbb_cell_id) {\n",
       "                        if (nbb_cells[i].get_text() == nbb_unformatted_code) {\n",
       "                             nbb_cells[i].set_text(nbb_formatted_code);\n",
       "                        }\n",
       "                        break;\n",
       "                    }\n",
       "                }\n",
       "            }, 500);\n",
       "            "
      ],
      "text/plain": [
       "<IPython.core.display.Javascript object>"
      ]
     },
     "metadata": {},
     "output_type": "display_data"
    }
   ],
   "source": [
    "dist_traveled"
   ]
  },
  {
   "cell_type": "markdown",
   "id": "f406b668",
   "metadata": {},
   "source": [
    "Add some 0 mean noise and see plot energy spent vs total time "
   ]
  },
  {
   "cell_type": "code",
   "execution_count": 218,
   "id": "f8beedb0",
   "metadata": {},
   "outputs": [
    {
     "data": {
      "application/javascript": [
       "\n",
       "            setTimeout(function() {\n",
       "                var nbb_cell_id = 218;\n",
       "                var nbb_unformatted_code = \"def random_power():\\n    return 200 + np.random.rand() * 20 - 10\";\n",
       "                var nbb_formatted_code = \"def random_power():\\n    return 200 + np.random.rand() * 20 - 10\";\n",
       "                var nbb_cells = Jupyter.notebook.get_cells();\n",
       "                for (var i = 0; i < nbb_cells.length; ++i) {\n",
       "                    if (nbb_cells[i].input_prompt_number == nbb_cell_id) {\n",
       "                        if (nbb_cells[i].get_text() == nbb_unformatted_code) {\n",
       "                             nbb_cells[i].set_text(nbb_formatted_code);\n",
       "                        }\n",
       "                        break;\n",
       "                    }\n",
       "                }\n",
       "            }, 500);\n",
       "            "
      ],
      "text/plain": [
       "<IPython.core.display.Javascript object>"
      ]
     },
     "metadata": {},
     "output_type": "display_data"
    }
   ],
   "source": [
    "def random_power():\n",
    "    return 200 + np.random.rand() * 20 - 10"
   ]
  },
  {
   "cell_type": "code",
   "execution_count": null,
   "id": "84dcfb3e",
   "metadata": {},
   "outputs": [],
   "source": []
  },
  {
   "cell_type": "code",
   "execution_count": 219,
   "id": "a243a1ae",
   "metadata": {},
   "outputs": [
    {
     "data": {
      "application/javascript": [
       "\n",
       "            setTimeout(function() {\n",
       "                var nbb_cell_id = 219;\n",
       "                var nbb_unformatted_code = \"def run():\\n    gradients = {500: 2.1, 1000: 5.7, 1500: 3.9, 2000: 7.2, 99999: 0}\\n    power_profile = {g: random_power() for d, g in gradients.items()}\\n\\n    D = 4592  # meters\\n    dt = 10  # secs\\n    dist_traveled = 0\\n    energy_spent = 0\\n    total_time = 0\\n    power_profile_list = []\\n    for i in range(9999):\\n        #         P = 200 + np.random.rand() * 10 - 5\\n        for dist, g in gradients.items():\\n            if dist_traveled < dist:\\n                gradient = g\\n                break\\n        P = power_profile[gradient]\\n        power_profile_list.append(P)\\n        v = power_to_speed(P, g)\\n        dist_traveled += v * dt\\n        energy_spent += P * dt\\n        total_time += dt\\n\\n        if dist_traveled > D:\\n            break\\n    return {\\n        \\\"dist_traveled\\\": dist_traveled,\\n        \\\"total_time\\\": total_time,\\n        \\\"energy_spent\\\": energy_spent,\\n        \\\"power_profile\\\": power_profile,\\n    }\";\n",
       "                var nbb_formatted_code = \"def run():\\n    gradients = {500: 2.1, 1000: 5.7, 1500: 3.9, 2000: 7.2, 99999: 0}\\n    power_profile = {g: random_power() for d, g in gradients.items()}\\n\\n    D = 4592  # meters\\n    dt = 10  # secs\\n    dist_traveled = 0\\n    energy_spent = 0\\n    total_time = 0\\n    power_profile_list = []\\n    for i in range(9999):\\n        #         P = 200 + np.random.rand() * 10 - 5\\n        for dist, g in gradients.items():\\n            if dist_traveled < dist:\\n                gradient = g\\n                break\\n        P = power_profile[gradient]\\n        power_profile_list.append(P)\\n        v = power_to_speed(P, g)\\n        dist_traveled += v * dt\\n        energy_spent += P * dt\\n        total_time += dt\\n\\n        if dist_traveled > D:\\n            break\\n    return {\\n        \\\"dist_traveled\\\": dist_traveled,\\n        \\\"total_time\\\": total_time,\\n        \\\"energy_spent\\\": energy_spent,\\n        \\\"power_profile\\\": power_profile,\\n    }\";\n",
       "                var nbb_cells = Jupyter.notebook.get_cells();\n",
       "                for (var i = 0; i < nbb_cells.length; ++i) {\n",
       "                    if (nbb_cells[i].input_prompt_number == nbb_cell_id) {\n",
       "                        if (nbb_cells[i].get_text() == nbb_unformatted_code) {\n",
       "                             nbb_cells[i].set_text(nbb_formatted_code);\n",
       "                        }\n",
       "                        break;\n",
       "                    }\n",
       "                }\n",
       "            }, 500);\n",
       "            "
      ],
      "text/plain": [
       "<IPython.core.display.Javascript object>"
      ]
     },
     "metadata": {},
     "output_type": "display_data"
    }
   ],
   "source": [
    "def run():\n",
    "    gradients = {500: 2.1, 1000: 5.7, 1500: 3.9, 2000: 7.2, 99999: 0}\n",
    "    power_profile = {g: random_power() for d, g in gradients.items()}\n",
    "\n",
    "    D = 4592  # meters\n",
    "    dt = 10  # secs\n",
    "    dist_traveled = 0\n",
    "    energy_spent = 0\n",
    "    total_time = 0\n",
    "    power_profile_list = []\n",
    "    for i in range(9999):\n",
    "        #         P = 200 + np.random.rand() * 10 - 5\n",
    "        for dist, g in gradients.items():\n",
    "            if dist_traveled < dist:\n",
    "                gradient = g\n",
    "                break\n",
    "        P = power_profile[gradient]\n",
    "        power_profile_list.append(P)\n",
    "        v = power_to_speed(P, g)\n",
    "        dist_traveled += v * dt\n",
    "        energy_spent += P * dt\n",
    "        total_time += dt\n",
    "\n",
    "        if dist_traveled > D:\n",
    "            break\n",
    "    return {\n",
    "        \"dist_traveled\": dist_traveled,\n",
    "        \"total_time\": total_time,\n",
    "        \"energy_spent\": energy_spent,\n",
    "        \"power_profile\": power_profile,\n",
    "    }"
   ]
  },
  {
   "cell_type": "code",
   "execution_count": 220,
   "id": "c9934def",
   "metadata": {},
   "outputs": [
    {
     "data": {
      "application/javascript": [
       "\n",
       "            setTimeout(function() {\n",
       "                var nbb_cell_id = 220;\n",
       "                var nbb_unformatted_code = \"data = [run() for i in range(1000)]\";\n",
       "                var nbb_formatted_code = \"data = [run() for i in range(1000)]\";\n",
       "                var nbb_cells = Jupyter.notebook.get_cells();\n",
       "                for (var i = 0; i < nbb_cells.length; ++i) {\n",
       "                    if (nbb_cells[i].input_prompt_number == nbb_cell_id) {\n",
       "                        if (nbb_cells[i].get_text() == nbb_unformatted_code) {\n",
       "                             nbb_cells[i].set_text(nbb_formatted_code);\n",
       "                        }\n",
       "                        break;\n",
       "                    }\n",
       "                }\n",
       "            }, 500);\n",
       "            "
      ],
      "text/plain": [
       "<IPython.core.display.Javascript object>"
      ]
     },
     "metadata": {},
     "output_type": "display_data"
    }
   ],
   "source": [
    "data = [run() for i in range(1000)]"
   ]
  },
  {
   "cell_type": "code",
   "execution_count": 221,
   "id": "1b95e32f",
   "metadata": {},
   "outputs": [
    {
     "data": {
      "text/html": [
       "<div>\n",
       "<style scoped>\n",
       "    .dataframe tbody tr th:only-of-type {\n",
       "        vertical-align: middle;\n",
       "    }\n",
       "\n",
       "    .dataframe tbody tr th {\n",
       "        vertical-align: top;\n",
       "    }\n",
       "\n",
       "    .dataframe thead th {\n",
       "        text-align: right;\n",
       "    }\n",
       "</style>\n",
       "<table border=\"1\" class=\"dataframe\">\n",
       "  <thead>\n",
       "    <tr style=\"text-align: right;\">\n",
       "      <th></th>\n",
       "      <th>dist_traveled</th>\n",
       "      <th>total_time</th>\n",
       "      <th>energy_spent</th>\n",
       "      <th>power_profile</th>\n",
       "    </tr>\n",
       "  </thead>\n",
       "  <tbody>\n",
       "    <tr>\n",
       "      <th>0</th>\n",
       "      <td>4615.139457</td>\n",
       "      <td>730</td>\n",
       "      <td>147789.315264</td>\n",
       "      <td>{2.1: 197.43504320753078, 5.7: 202.54032980721...</td>\n",
       "    </tr>\n",
       "    <tr>\n",
       "      <th>1</th>\n",
       "      <td>4663.223653</td>\n",
       "      <td>750</td>\n",
       "      <td>146713.391619</td>\n",
       "      <td>{2.1: 200.38547466508933, 5.7: 197.31474356378...</td>\n",
       "    </tr>\n",
       "    <tr>\n",
       "      <th>2</th>\n",
       "      <td>4681.973144</td>\n",
       "      <td>740</td>\n",
       "      <td>147681.408412</td>\n",
       "      <td>{2.1: 202.49866744071494, 5.7: 200.85533601735...</td>\n",
       "    </tr>\n",
       "    <tr>\n",
       "      <th>3</th>\n",
       "      <td>4638.611304</td>\n",
       "      <td>740</td>\n",
       "      <td>145980.003535</td>\n",
       "      <td>{2.1: 207.14040755782597, 5.7: 202.67662611502...</td>\n",
       "    </tr>\n",
       "    <tr>\n",
       "      <th>4</th>\n",
       "      <td>4620.471301</td>\n",
       "      <td>730</td>\n",
       "      <td>148057.071675</td>\n",
       "      <td>{2.1: 193.91163644112336, 5.7: 202.68572142282...</td>\n",
       "    </tr>\n",
       "    <tr>\n",
       "      <th>...</th>\n",
       "      <td>...</td>\n",
       "      <td>...</td>\n",
       "      <td>...</td>\n",
       "      <td>...</td>\n",
       "    </tr>\n",
       "    <tr>\n",
       "      <th>995</th>\n",
       "      <td>4631.986083</td>\n",
       "      <td>740</td>\n",
       "      <td>148544.406908</td>\n",
       "      <td>{2.1: 190.268918806257, 5.7: 203.1847054299293...</td>\n",
       "    </tr>\n",
       "    <tr>\n",
       "      <th>996</th>\n",
       "      <td>4629.799360</td>\n",
       "      <td>730</td>\n",
       "      <td>148660.932212</td>\n",
       "      <td>{2.1: 202.1608887694975, 5.7: 195.849193441337...</td>\n",
       "    </tr>\n",
       "    <tr>\n",
       "      <th>997</th>\n",
       "      <td>4609.029945</td>\n",
       "      <td>730</td>\n",
       "      <td>147001.531579</td>\n",
       "      <td>{2.1: 204.12253131703633, 5.7: 201.63021272209...</td>\n",
       "    </tr>\n",
       "    <tr>\n",
       "      <th>998</th>\n",
       "      <td>4645.637984</td>\n",
       "      <td>730</td>\n",
       "      <td>149324.847056</td>\n",
       "      <td>{2.1: 205.5086021576774, 5.7: 201.891065413718...</td>\n",
       "    </tr>\n",
       "    <tr>\n",
       "      <th>999</th>\n",
       "      <td>4681.183214</td>\n",
       "      <td>730</td>\n",
       "      <td>147695.464384</td>\n",
       "      <td>{2.1: 207.9791073526569, 5.7: 196.918507281486...</td>\n",
       "    </tr>\n",
       "  </tbody>\n",
       "</table>\n",
       "<p>1000 rows × 4 columns</p>\n",
       "</div>"
      ],
      "text/plain": [
       "     dist_traveled  total_time   energy_spent  \\\n",
       "0      4615.139457         730  147789.315264   \n",
       "1      4663.223653         750  146713.391619   \n",
       "2      4681.973144         740  147681.408412   \n",
       "3      4638.611304         740  145980.003535   \n",
       "4      4620.471301         730  148057.071675   \n",
       "..             ...         ...            ...   \n",
       "995    4631.986083         740  148544.406908   \n",
       "996    4629.799360         730  148660.932212   \n",
       "997    4609.029945         730  147001.531579   \n",
       "998    4645.637984         730  149324.847056   \n",
       "999    4681.183214         730  147695.464384   \n",
       "\n",
       "                                         power_profile  \n",
       "0    {2.1: 197.43504320753078, 5.7: 202.54032980721...  \n",
       "1    {2.1: 200.38547466508933, 5.7: 197.31474356378...  \n",
       "2    {2.1: 202.49866744071494, 5.7: 200.85533601735...  \n",
       "3    {2.1: 207.14040755782597, 5.7: 202.67662611502...  \n",
       "4    {2.1: 193.91163644112336, 5.7: 202.68572142282...  \n",
       "..                                                 ...  \n",
       "995  {2.1: 190.268918806257, 5.7: 203.1847054299293...  \n",
       "996  {2.1: 202.1608887694975, 5.7: 195.849193441337...  \n",
       "997  {2.1: 204.12253131703633, 5.7: 201.63021272209...  \n",
       "998  {2.1: 205.5086021576774, 5.7: 201.891065413718...  \n",
       "999  {2.1: 207.9791073526569, 5.7: 196.918507281486...  \n",
       "\n",
       "[1000 rows x 4 columns]"
      ]
     },
     "execution_count": 221,
     "metadata": {},
     "output_type": "execute_result"
    },
    {
     "data": {
      "application/javascript": [
       "\n",
       "            setTimeout(function() {\n",
       "                var nbb_cell_id = 221;\n",
       "                var nbb_unformatted_code = \"df = pd.DataFrame(data)\\ndf\";\n",
       "                var nbb_formatted_code = \"df = pd.DataFrame(data)\\ndf\";\n",
       "                var nbb_cells = Jupyter.notebook.get_cells();\n",
       "                for (var i = 0; i < nbb_cells.length; ++i) {\n",
       "                    if (nbb_cells[i].input_prompt_number == nbb_cell_id) {\n",
       "                        if (nbb_cells[i].get_text() == nbb_unformatted_code) {\n",
       "                             nbb_cells[i].set_text(nbb_formatted_code);\n",
       "                        }\n",
       "                        break;\n",
       "                    }\n",
       "                }\n",
       "            }, 500);\n",
       "            "
      ],
      "text/plain": [
       "<IPython.core.display.Javascript object>"
      ]
     },
     "metadata": {},
     "output_type": "display_data"
    }
   ],
   "source": [
    "df = pd.DataFrame(data)\n",
    "df"
   ]
  },
  {
   "cell_type": "code",
   "execution_count": 222,
   "id": "795ea4df",
   "metadata": {},
   "outputs": [
    {
     "data": {
      "text/html": [
       "<div>\n",
       "<style scoped>\n",
       "    .dataframe tbody tr th:only-of-type {\n",
       "        vertical-align: middle;\n",
       "    }\n",
       "\n",
       "    .dataframe tbody tr th {\n",
       "        vertical-align: top;\n",
       "    }\n",
       "\n",
       "    .dataframe thead th {\n",
       "        text-align: right;\n",
       "    }\n",
       "</style>\n",
       "<table border=\"1\" class=\"dataframe\">\n",
       "  <thead>\n",
       "    <tr style=\"text-align: right;\">\n",
       "      <th></th>\n",
       "      <th>dist_traveled</th>\n",
       "      <th>total_time</th>\n",
       "      <th>energy_spent</th>\n",
       "    </tr>\n",
       "  </thead>\n",
       "  <tbody>\n",
       "    <tr>\n",
       "      <th>count</th>\n",
       "      <td>1000.000000</td>\n",
       "      <td>1000.00000</td>\n",
       "      <td>1000.000000</td>\n",
       "    </tr>\n",
       "    <tr>\n",
       "      <th>mean</th>\n",
       "      <td>4636.971818</td>\n",
       "      <td>737.70000</td>\n",
       "      <td>147447.285432</td>\n",
       "    </tr>\n",
       "    <tr>\n",
       "      <th>std</th>\n",
       "      <td>27.131535</td>\n",
       "      <td>7.69215</td>\n",
       "      <td>1122.993634</td>\n",
       "    </tr>\n",
       "    <tr>\n",
       "      <th>min</th>\n",
       "      <td>4592.207799</td>\n",
       "      <td>720.00000</td>\n",
       "      <td>144242.219082</td>\n",
       "    </tr>\n",
       "    <tr>\n",
       "      <th>25%</th>\n",
       "      <td>4613.534967</td>\n",
       "      <td>730.00000</td>\n",
       "      <td>146586.277187</td>\n",
       "    </tr>\n",
       "    <tr>\n",
       "      <th>50%</th>\n",
       "      <td>4635.524696</td>\n",
       "      <td>740.00000</td>\n",
       "      <td>147385.822362</td>\n",
       "    </tr>\n",
       "    <tr>\n",
       "      <th>75%</th>\n",
       "      <td>4660.404444</td>\n",
       "      <td>740.00000</td>\n",
       "      <td>148173.634653</td>\n",
       "    </tr>\n",
       "    <tr>\n",
       "      <th>max</th>\n",
       "      <td>4684.375984</td>\n",
       "      <td>760.00000</td>\n",
       "      <td>150910.974072</td>\n",
       "    </tr>\n",
       "  </tbody>\n",
       "</table>\n",
       "</div>"
      ],
      "text/plain": [
       "       dist_traveled  total_time   energy_spent\n",
       "count    1000.000000  1000.00000    1000.000000\n",
       "mean     4636.971818   737.70000  147447.285432\n",
       "std        27.131535     7.69215    1122.993634\n",
       "min      4592.207799   720.00000  144242.219082\n",
       "25%      4613.534967   730.00000  146586.277187\n",
       "50%      4635.524696   740.00000  147385.822362\n",
       "75%      4660.404444   740.00000  148173.634653\n",
       "max      4684.375984   760.00000  150910.974072"
      ]
     },
     "execution_count": 222,
     "metadata": {},
     "output_type": "execute_result"
    },
    {
     "data": {
      "application/javascript": [
       "\n",
       "            setTimeout(function() {\n",
       "                var nbb_cell_id = 222;\n",
       "                var nbb_unformatted_code = \"df.describe()\";\n",
       "                var nbb_formatted_code = \"df.describe()\";\n",
       "                var nbb_cells = Jupyter.notebook.get_cells();\n",
       "                for (var i = 0; i < nbb_cells.length; ++i) {\n",
       "                    if (nbb_cells[i].input_prompt_number == nbb_cell_id) {\n",
       "                        if (nbb_cells[i].get_text() == nbb_unformatted_code) {\n",
       "                             nbb_cells[i].set_text(nbb_formatted_code);\n",
       "                        }\n",
       "                        break;\n",
       "                    }\n",
       "                }\n",
       "            }, 500);\n",
       "            "
      ],
      "text/plain": [
       "<IPython.core.display.Javascript object>"
      ]
     },
     "metadata": {},
     "output_type": "display_data"
    }
   ],
   "source": [
    "df.describe()"
   ]
  },
  {
   "cell_type": "code",
   "execution_count": 223,
   "id": "094c3fae",
   "metadata": {},
   "outputs": [
    {
     "data": {
      "text/plain": [
       "<AxesSubplot:xlabel='energy_spent', ylabel='total_time'>"
      ]
     },
     "execution_count": 223,
     "metadata": {},
     "output_type": "execute_result"
    },
    {
     "data": {
      "image/png": "[encoded data removed]",
      "text/plain": [
       "<Figure size 432x288 with 1 Axes>"
      ]
     },
     "metadata": {
      "needs_background": "light"
     },
     "output_type": "display_data"
    },
    {
     "data": {
      "application/javascript": [
       "\n",
       "            setTimeout(function() {\n",
       "                var nbb_cell_id = 223;\n",
       "                var nbb_unformatted_code = \"df.plot.scatter(x=\\\"energy_spent\\\", y=\\\"total_time\\\")\";\n",
       "                var nbb_formatted_code = \"df.plot.scatter(x=\\\"energy_spent\\\", y=\\\"total_time\\\")\";\n",
       "                var nbb_cells = Jupyter.notebook.get_cells();\n",
       "                for (var i = 0; i < nbb_cells.length; ++i) {\n",
       "                    if (nbb_cells[i].input_prompt_number == nbb_cell_id) {\n",
       "                        if (nbb_cells[i].get_text() == nbb_unformatted_code) {\n",
       "                             nbb_cells[i].set_text(nbb_formatted_code);\n",
       "                        }\n",
       "                        break;\n",
       "                    }\n",
       "                }\n",
       "            }, 500);\n",
       "            "
      ],
      "text/plain": [
       "<IPython.core.display.Javascript object>"
      ]
     },
     "metadata": {},
     "output_type": "display_data"
    }
   ],
   "source": [
    "df.plot.scatter(x=\"energy_spent\", y=\"total_time\")"
   ]
  },
  {
   "cell_type": "code",
   "execution_count": 224,
   "id": "009c60b1",
   "metadata": {},
   "outputs": [
    {
     "data": {
      "text/plain": [
       "<AxesSubplot:>"
      ]
     },
     "execution_count": 224,
     "metadata": {},
     "output_type": "execute_result"
    },
    {
     "data": {
      "image/png": "[encoded data removed]",
      "text/plain": [
       "<Figure size 432x288 with 1 Axes>"
      ]
     },
     "metadata": {
      "needs_background": "light"
     },
     "output_type": "display_data"
    },
    {
     "data": {
      "application/javascript": [
       "\n",
       "            setTimeout(function() {\n",
       "                var nbb_cell_id = 224;\n",
       "                var nbb_unformatted_code = \"df.total_time.hist()\";\n",
       "                var nbb_formatted_code = \"df.total_time.hist()\";\n",
       "                var nbb_cells = Jupyter.notebook.get_cells();\n",
       "                for (var i = 0; i < nbb_cells.length; ++i) {\n",
       "                    if (nbb_cells[i].input_prompt_number == nbb_cell_id) {\n",
       "                        if (nbb_cells[i].get_text() == nbb_unformatted_code) {\n",
       "                             nbb_cells[i].set_text(nbb_formatted_code);\n",
       "                        }\n",
       "                        break;\n",
       "                    }\n",
       "                }\n",
       "            }, 500);\n",
       "            "
      ],
      "text/plain": [
       "<IPython.core.display.Javascript object>"
      ]
     },
     "metadata": {},
     "output_type": "display_data"
    }
   ],
   "source": [
    "df.total_time.hist()"
   ]
  },
  {
   "cell_type": "code",
   "execution_count": 225,
   "id": "267bccf0",
   "metadata": {},
   "outputs": [
    {
     "data": {
      "text/plain": [
       "<matplotlib.collections.PathCollection at 0x7fc56eaa6c50>"
      ]
     },
     "execution_count": 225,
     "metadata": {},
     "output_type": "execute_result"
    },
    {
     "data": {
      "image/png": "[encoded data removed]",
      "text/plain": [
       "<Figure size 432x288 with 1 Axes>"
      ]
     },
     "metadata": {
      "needs_background": "light"
     },
     "output_type": "display_data"
    },
    {
     "data": {
      "application/javascript": [
       "\n",
       "            setTimeout(function() {\n",
       "                var nbb_cell_id = 225;\n",
       "                var nbb_unformatted_code = \"sel = df[df.energy_spent < df.energy_spent.mean()]\\n\\np = sel[sel.total_time == sel.total_time.min()].head(1).power_profile.values[0]\\n\\nplt.scatter(p.keys(), p.values())\";\n",
       "                var nbb_formatted_code = \"sel = df[df.energy_spent < df.energy_spent.mean()]\\n\\np = sel[sel.total_time == sel.total_time.min()].head(1).power_profile.values[0]\\n\\nplt.scatter(p.keys(), p.values())\";\n",
       "                var nbb_cells = Jupyter.notebook.get_cells();\n",
       "                for (var i = 0; i < nbb_cells.length; ++i) {\n",
       "                    if (nbb_cells[i].input_prompt_number == nbb_cell_id) {\n",
       "                        if (nbb_cells[i].get_text() == nbb_unformatted_code) {\n",
       "                             nbb_cells[i].set_text(nbb_formatted_code);\n",
       "                        }\n",
       "                        break;\n",
       "                    }\n",
       "                }\n",
       "            }, 500);\n",
       "            "
      ],
      "text/plain": [
       "<IPython.core.display.Javascript object>"
      ]
     },
     "metadata": {},
     "output_type": "display_data"
    }
   ],
   "source": [
    "sel = df[df.energy_spent < df.energy_spent.mean()]\n",
    "\n",
    "p = sel[sel.total_time == sel.total_time.min()].head(1).power_profile.values[0]\n",
    "\n",
    "plt.scatter(p.keys(), p.values())"
   ]
  },
  {
   "cell_type": "code",
   "execution_count": 226,
   "id": "c074a74c",
   "metadata": {},
   "outputs": [
    {
     "data": {
      "text/plain": [
       "dict_values([2.1, 5.7, 3.9, 7.2, 0])"
      ]
     },
     "execution_count": 226,
     "metadata": {},
     "output_type": "execute_result"
    },
    {
     "data": {
      "application/javascript": [
       "\n",
       "            setTimeout(function() {\n",
       "                var nbb_cell_id = 226;\n",
       "                var nbb_unformatted_code = \"gradients = {500: 2.1, 1000: 5.7, 1500: 3.9, 2000: 7.2, 99999: 0}\\ngradients.values()\";\n",
       "                var nbb_formatted_code = \"gradients = {500: 2.1, 1000: 5.7, 1500: 3.9, 2000: 7.2, 99999: 0}\\ngradients.values()\";\n",
       "                var nbb_cells = Jupyter.notebook.get_cells();\n",
       "                for (var i = 0; i < nbb_cells.length; ++i) {\n",
       "                    if (nbb_cells[i].input_prompt_number == nbb_cell_id) {\n",
       "                        if (nbb_cells[i].get_text() == nbb_unformatted_code) {\n",
       "                             nbb_cells[i].set_text(nbb_formatted_code);\n",
       "                        }\n",
       "                        break;\n",
       "                    }\n",
       "                }\n",
       "            }, 500);\n",
       "            "
      ],
      "text/plain": [
       "<IPython.core.display.Javascript object>"
      ]
     },
     "metadata": {},
     "output_type": "display_data"
    }
   ],
   "source": [
    "gradients = {500: 2.1, 1000: 5.7, 1500: 3.9, 2000: 7.2, 99999: 0}\n",
    "gradients.values()"
   ]
  },
  {
   "cell_type": "code",
   "execution_count": null,
   "id": "6270cfa7",
   "metadata": {},
   "outputs": [],
   "source": []
  },
  {
   "cell_type": "code",
   "execution_count": null,
   "id": "eeb83833",
   "metadata": {},
   "outputs": [],
   "source": []
  },
  {
   "cell_type": "code",
   "execution_count": null,
   "id": "6a4e94f5",
   "metadata": {},
   "outputs": [],
   "source": []
  }
 ],
 "metadata": {
  "kernelspec": {
   "display_name": "Python [conda env:root] *",
   "language": "python",
   "name": "conda-root-py"
  },
  "language_info": {
   "codemirror_mode": {
    "name": "ipython",
    "version": 3
   },
   "file_extension": ".py",
   "mimetype": "text/x-python",
   "name": "python",
   "nbconvert_exporter": "python",
   "pygments_lexer": "ipython3",
   "version": "3.7.4"
  }
 },
 "nbformat": 4,
 "nbformat_minor": 5
}

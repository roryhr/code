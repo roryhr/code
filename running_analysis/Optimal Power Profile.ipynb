{
 "cells": [
  {
   "cell_type": "markdown",
   "id": "94bee1f9",
   "metadata": {},
   "source": [
    "# Optimal Power Profile \n",
    "\n",
    "Minimize \n",
    "\n",
    "Sum of dt\n",
    "\n",
    "Subject to P = f(v) \n",
    "\n",
    "and the sum of v dt = Distance \n",
    "\n",
    "and Sum of P dt = E\n",
    "\n",
    "\n",
    "https://www.strava.com/segments/25835330\n",
    "\n",
    "https://www.strava.com/stream/segments/25835330?streams%5B%5D=latlng&streams%5B%5D=distance&streams%5B%5D=altitude&_=1679795135855\n"
   ]
  },
  {
   "cell_type": "code",
   "execution_count": 8,
   "id": "67eece77",
   "metadata": {},
   "outputs": [
    {
     "name": "stdout",
     "output_type": "stream",
     "text": [
      "The nb_black extension is already loaded. To reload it, use:\n",
      "  %reload_ext nb_black\n"
     ]
    },
    {
     "data": {
      "application/javascript": [
       "\n",
       "            setTimeout(function() {\n",
       "                var nbb_cell_id = 8;\n",
       "                var nbb_unformatted_code = \"import matplotlib.pyplot as plt\\nimport numpy as np\\nfrom scipy import optimize\\nimport pandas as pd\\nimport json\\n\\n%load_ext nb_black\";\n",
       "                var nbb_formatted_code = \"import matplotlib.pyplot as plt\\nimport numpy as np\\nfrom scipy import optimize\\nimport pandas as pd\\nimport json\\n\\n%load_ext nb_black\";\n",
       "                var nbb_cells = Jupyter.notebook.get_cells();\n",
       "                for (var i = 0; i < nbb_cells.length; ++i) {\n",
       "                    if (nbb_cells[i].input_prompt_number == nbb_cell_id) {\n",
       "                        if (nbb_cells[i].get_text() == nbb_unformatted_code) {\n",
       "                             nbb_cells[i].set_text(nbb_formatted_code);\n",
       "                        }\n",
       "                        break;\n",
       "                    }\n",
       "                }\n",
       "            }, 500);\n",
       "            "
      ],
      "text/plain": [
       "<IPython.core.display.Javascript object>"
      ]
     },
     "metadata": {},
     "output_type": "display_data"
    }
   ],
   "source": [
    "import matplotlib.pyplot as plt\n",
    "import numpy as np\n",
    "from scipy import optimize\n",
    "import pandas as pd\n",
    "import json\n",
    "\n",
    "%load_ext nb_black"
   ]
  },
  {
   "cell_type": "code",
   "execution_count": 9,
   "id": "522d7199",
   "metadata": {},
   "outputs": [
    {
     "data": {
      "application/javascript": [
       "\n",
       "            setTimeout(function() {\n",
       "                var nbb_cell_id = 9;\n",
       "                var nbb_unformatted_code = \"def power(v, \\u03b8):\\n    \\\"\\\"\\\"Calculate power loss given ground speed velocity and angle\\n\\n    Parameters\\n    ----------\\n    v : float\\n        Velocity (m/s)\\n\\n    \\u03b8 : float\\n        Angle (rad)\\n\\n    Returns\\n    -------\\n    float\\n        Power loss (W)\\n\\n    \\\"\\\"\\\"\\n    c = 0.254\\n    M = 85\\n    g = 9.8\\n\\n    return c * v**3 + M * g * v * np.sin(\\u03b8)\";\n",
       "                var nbb_formatted_code = \"def power(v, \\u03b8):\\n    \\\"\\\"\\\"Calculate power loss given ground speed velocity and angle\\n\\n    Parameters\\n    ----------\\n    v : float\\n        Velocity (m/s)\\n\\n    \\u03b8 : float\\n        Angle (rad)\\n\\n    Returns\\n    -------\\n    float\\n        Power loss (W)\\n\\n    \\\"\\\"\\\"\\n    c = 0.254\\n    M = 85\\n    g = 9.8\\n\\n    return c * v**3 + M * g * v * np.sin(\\u03b8)\";\n",
       "                var nbb_cells = Jupyter.notebook.get_cells();\n",
       "                for (var i = 0; i < nbb_cells.length; ++i) {\n",
       "                    if (nbb_cells[i].input_prompt_number == nbb_cell_id) {\n",
       "                        if (nbb_cells[i].get_text() == nbb_unformatted_code) {\n",
       "                             nbb_cells[i].set_text(nbb_formatted_code);\n",
       "                        }\n",
       "                        break;\n",
       "                    }\n",
       "                }\n",
       "            }, 500);\n",
       "            "
      ],
      "text/plain": [
       "<IPython.core.display.Javascript object>"
      ]
     },
     "metadata": {},
     "output_type": "display_data"
    }
   ],
   "source": [
    "def power(v, θ):\n",
    "    \"\"\"Calculate power loss given ground speed velocity and angle\n",
    "\n",
    "    Parameters\n",
    "    ----------\n",
    "    v : float\n",
    "        Velocity (m/s)\n",
    "\n",
    "    θ : float\n",
    "        Angle (rad)\n",
    "\n",
    "    Returns\n",
    "    -------\n",
    "    float\n",
    "        Power loss (W)\n",
    "\n",
    "    \"\"\"\n",
    "    c = 0.254\n",
    "    M = 85\n",
    "    g = 9.8\n",
    "\n",
    "    return c * v**3 + M * g * v * np.sin(θ)"
   ]
  },
  {
   "cell_type": "code",
   "execution_count": 77,
   "id": "275b3362",
   "metadata": {},
   "outputs": [
    {
     "data": {
      "application/javascript": [
       "\n",
       "            setTimeout(function() {\n",
       "                var nbb_cell_id = 77;\n",
       "                var nbb_unformatted_code = \"def power_to_speed(P, gradient):\\n    \\\"\\\"\\\"Given a power P return the speed you'll get\\n\\n    Parameters\\n    ----------\\n    P : float\\n        Power (W) to the pedals\\n\\n    gradient : float\\n        Hill gradient (%)\\n\\n    Returns\\n    -------\\n    float\\n        Part cost with breakdown of cost factors.\\n\\n    \\\"\\\"\\\"\\n\\n    fun = lambda x: P - power(x, np.arctan(gradient / 100))\\n    sol = optimize.root(fun, 50)\\n    return sol.x[0]\";\n",
       "                var nbb_formatted_code = \"def power_to_speed(P, gradient):\\n    \\\"\\\"\\\"Given a power P return the speed you'll get\\n\\n    Parameters\\n    ----------\\n    P : float\\n        Power (W) to the pedals\\n\\n    gradient : float\\n        Hill gradient (%)\\n\\n    Returns\\n    -------\\n    float\\n        Part cost with breakdown of cost factors.\\n\\n    \\\"\\\"\\\"\\n\\n    fun = lambda x: P - power(x, np.arctan(gradient / 100))\\n    sol = optimize.root(fun, 50)\\n    return sol.x[0]\";\n",
       "                var nbb_cells = Jupyter.notebook.get_cells();\n",
       "                for (var i = 0; i < nbb_cells.length; ++i) {\n",
       "                    if (nbb_cells[i].input_prompt_number == nbb_cell_id) {\n",
       "                        if (nbb_cells[i].get_text() == nbb_unformatted_code) {\n",
       "                             nbb_cells[i].set_text(nbb_formatted_code);\n",
       "                        }\n",
       "                        break;\n",
       "                    }\n",
       "                }\n",
       "            }, 500);\n",
       "            "
      ],
      "text/plain": [
       "<IPython.core.display.Javascript object>"
      ]
     },
     "metadata": {},
     "output_type": "display_data"
    }
   ],
   "source": [
    "def power_to_speed(P, gradient):\n",
    "    \"\"\"Given a power P return the speed you'll get\n",
    "\n",
    "    Parameters\n",
    "    ----------\n",
    "    P : float\n",
    "        Power (W) to the pedals\n",
    "\n",
    "    gradient : float\n",
    "        Hill gradient (%)\n",
    "\n",
    "    Returns\n",
    "    -------\n",
    "    float\n",
    "        Part cost with breakdown of cost factors.\n",
    "\n",
    "    \"\"\"\n",
    "\n",
    "    fun = lambda x: P - power(x, np.arctan(gradient / 100))\n",
    "    sol = optimize.root(fun, 50)\n",
    "    return sol.x[0]"
   ]
  },
  {
   "cell_type": "code",
   "execution_count": 78,
   "id": "d8c5e561",
   "metadata": {},
   "outputs": [
    {
     "data": {
      "text/plain": [
       "15.540299173130276"
      ]
     },
     "execution_count": 78,
     "metadata": {},
     "output_type": "execute_result"
    },
    {
     "data": {
      "application/javascript": [
       "\n",
       "            setTimeout(function() {\n",
       "                var nbb_cell_id = 78;\n",
       "                var nbb_unformatted_code = \"KPH_PER_MPS = 3.6\\n\\npower_to_speed(200, 5) * KPH_PER_MPS\";\n",
       "                var nbb_formatted_code = \"KPH_PER_MPS = 3.6\\n\\npower_to_speed(200, 5) * KPH_PER_MPS\";\n",
       "                var nbb_cells = Jupyter.notebook.get_cells();\n",
       "                for (var i = 0; i < nbb_cells.length; ++i) {\n",
       "                    if (nbb_cells[i].input_prompt_number == nbb_cell_id) {\n",
       "                        if (nbb_cells[i].get_text() == nbb_unformatted_code) {\n",
       "                             nbb_cells[i].set_text(nbb_formatted_code);\n",
       "                        }\n",
       "                        break;\n",
       "                    }\n",
       "                }\n",
       "            }, 500);\n",
       "            "
      ],
      "text/plain": [
       "<IPython.core.display.Javascript object>"
      ]
     },
     "metadata": {},
     "output_type": "display_data"
    }
   ],
   "source": [
    "KPH_PER_MPS = 3.6\n",
    "\n",
    "power_to_speed(200, 5) * KPH_PER_MPS"
   ]
  },
  {
   "cell_type": "markdown",
   "id": "a2a14d4b",
   "metadata": {},
   "source": [
    "Go over increments of 10 sec, integrate the velocity given a power. Integrate velocity and Power. "
   ]
  },
  {
   "cell_type": "code",
   "execution_count": 79,
   "id": "8998ce14",
   "metadata": {},
   "outputs": [
    {
     "name": "stdout",
     "output_type": "stream",
     "text": [
      "Done after 154\n"
     ]
    },
    {
     "data": {
      "application/javascript": [
       "\n",
       "            setTimeout(function() {\n",
       "                var nbb_cell_id = 79;\n",
       "                var nbb_unformatted_code = \"gradients = {500: 2.1, 1000: 5.7, 1500: 3.9, 2000: 7.2, 99999: 10}\\nD = 4592  # meters\\ndt = 10  # secs\\ndist_traveled = 0\\nenergy_spent = 0\\ntotal_time = 0\\n\\n\\nfor i in range(999):\\n    P = 200\\n    for dist, g in gradients.items():\\n        if dist_traveled < dist:\\n            gradient = g\\n            break\\n\\n    v = power_to_speed(P, g)\\n    dist_traveled += v * dt\\n    energy_spent += P * dt\\n    total_time += dt\\n\\n    if dist_traveled > D:\\n        print(\\\"Done after\\\", i)\\n        break\";\n",
       "                var nbb_formatted_code = \"gradients = {500: 2.1, 1000: 5.7, 1500: 3.9, 2000: 7.2, 99999: 10}\\nD = 4592  # meters\\ndt = 10  # secs\\ndist_traveled = 0\\nenergy_spent = 0\\ntotal_time = 0\\n\\n\\nfor i in range(999):\\n    P = 200\\n    for dist, g in gradients.items():\\n        if dist_traveled < dist:\\n            gradient = g\\n            break\\n\\n    v = power_to_speed(P, g)\\n    dist_traveled += v * dt\\n    energy_spent += P * dt\\n    total_time += dt\\n\\n    if dist_traveled > D:\\n        print(\\\"Done after\\\", i)\\n        break\";\n",
       "                var nbb_cells = Jupyter.notebook.get_cells();\n",
       "                for (var i = 0; i < nbb_cells.length; ++i) {\n",
       "                    if (nbb_cells[i].input_prompt_number == nbb_cell_id) {\n",
       "                        if (nbb_cells[i].get_text() == nbb_unformatted_code) {\n",
       "                             nbb_cells[i].set_text(nbb_formatted_code);\n",
       "                        }\n",
       "                        break;\n",
       "                    }\n",
       "                }\n",
       "            }, 500);\n",
       "            "
      ],
      "text/plain": [
       "<IPython.core.display.Javascript object>"
      ]
     },
     "metadata": {},
     "output_type": "display_data"
    }
   ],
   "source": [
    "gradients = {500: 2.1, 1000: 5.7, 1500: 3.9, 2000: 7.2, 99999: 10}\n",
    "D = 4592  # meters\n",
    "dt = 10  # secs\n",
    "dist_traveled = 0\n",
    "energy_spent = 0\n",
    "total_time = 0\n",
    "\n",
    "\n",
    "for i in range(999):\n",
    "    P = 200\n",
    "    for dist, g in gradients.items():\n",
    "        if dist_traveled < dist:\n",
    "            gradient = g\n",
    "            break\n",
    "\n",
    "    v = power_to_speed(P, g)\n",
    "    dist_traveled += v * dt\n",
    "    energy_spent += P * dt\n",
    "    total_time += dt\n",
    "\n",
    "    if dist_traveled > D:\n",
    "        print(\"Done after\", i)\n",
    "        break"
   ]
  },
  {
   "cell_type": "code",
   "execution_count": 80,
   "id": "27b4b311",
   "metadata": {},
   "outputs": [
    {
     "data": {
      "text/plain": [
       "25.833333333333332"
      ]
     },
     "execution_count": 80,
     "metadata": {},
     "output_type": "execute_result"
    },
    {
     "data": {
      "application/javascript": [
       "\n",
       "            setTimeout(function() {\n",
       "                var nbb_cell_id = 80;\n",
       "                var nbb_unformatted_code = \"total_time / 60\";\n",
       "                var nbb_formatted_code = \"total_time / 60\";\n",
       "                var nbb_cells = Jupyter.notebook.get_cells();\n",
       "                for (var i = 0; i < nbb_cells.length; ++i) {\n",
       "                    if (nbb_cells[i].input_prompt_number == nbb_cell_id) {\n",
       "                        if (nbb_cells[i].get_text() == nbb_unformatted_code) {\n",
       "                             nbb_cells[i].set_text(nbb_formatted_code);\n",
       "                        }\n",
       "                        break;\n",
       "                    }\n",
       "                }\n",
       "            }, 500);\n",
       "            "
      ],
      "text/plain": [
       "<IPython.core.display.Javascript object>"
      ]
     },
     "metadata": {},
     "output_type": "display_data"
    }
   ],
   "source": [
    "total_time / 60"
   ]
  },
  {
   "cell_type": "code",
   "execution_count": 81,
   "id": "a2b4511f",
   "metadata": {},
   "outputs": [
    {
     "data": {
      "text/plain": [
       "4615.168675894481"
      ]
     },
     "execution_count": 81,
     "metadata": {},
     "output_type": "execute_result"
    },
    {
     "data": {
      "application/javascript": [
       "\n",
       "            setTimeout(function() {\n",
       "                var nbb_cell_id = 81;\n",
       "                var nbb_unformatted_code = \"dist_traveled\";\n",
       "                var nbb_formatted_code = \"dist_traveled\";\n",
       "                var nbb_cells = Jupyter.notebook.get_cells();\n",
       "                for (var i = 0; i < nbb_cells.length; ++i) {\n",
       "                    if (nbb_cells[i].input_prompt_number == nbb_cell_id) {\n",
       "                        if (nbb_cells[i].get_text() == nbb_unformatted_code) {\n",
       "                             nbb_cells[i].set_text(nbb_formatted_code);\n",
       "                        }\n",
       "                        break;\n",
       "                    }\n",
       "                }\n",
       "            }, 500);\n",
       "            "
      ],
      "text/plain": [
       "<IPython.core.display.Javascript object>"
      ]
     },
     "metadata": {},
     "output_type": "display_data"
    }
   ],
   "source": [
    "dist_traveled"
   ]
  },
  {
   "cell_type": "markdown",
   "id": "f406b668",
   "metadata": {},
   "source": [
    "Add some 0 mean noise and see plot energy spent vs total time "
   ]
  },
  {
   "cell_type": "code",
   "execution_count": 82,
   "id": "f8beedb0",
   "metadata": {},
   "outputs": [
    {
     "data": {
      "application/javascript": [
       "\n",
       "            setTimeout(function() {\n",
       "                var nbb_cell_id = 82;\n",
       "                var nbb_unformatted_code = \"def random_power():\\n    return 200 + np.random.rand() * 20 - 10\\n\\n\\ndef generate_power_profile(gradients):\\n    P = 200  # W\\n    power_profile = [(g, random_power()) for d, g in gradients.items()]\\n    diff = P - np.mean(list(dict(power_profile).values()))\\n\\n    #     Set the first value to normalize the power\\n    power_profile[0] = power_profile[2.1] + diff * len(power_profile)\\n    return power_profile\";\n",
       "                var nbb_formatted_code = \"def random_power():\\n    return 200 + np.random.rand() * 20 - 10\\n\\n\\ndef generate_power_profile(gradients):\\n    P = 200  # W\\n    power_profile = [(g, random_power()) for d, g in gradients.items()]\\n    diff = P - np.mean(list(dict(power_profile).values()))\\n\\n    #     Set the first value to normalize the power\\n    power_profile[0] = power_profile[2.1] + diff * len(power_profile)\\n    return power_profile\";\n",
       "                var nbb_cells = Jupyter.notebook.get_cells();\n",
       "                for (var i = 0; i < nbb_cells.length; ++i) {\n",
       "                    if (nbb_cells[i].input_prompt_number == nbb_cell_id) {\n",
       "                        if (nbb_cells[i].get_text() == nbb_unformatted_code) {\n",
       "                             nbb_cells[i].set_text(nbb_formatted_code);\n",
       "                        }\n",
       "                        break;\n",
       "                    }\n",
       "                }\n",
       "            }, 500);\n",
       "            "
      ],
      "text/plain": [
       "<IPython.core.display.Javascript object>"
      ]
     },
     "metadata": {},
     "output_type": "display_data"
    }
   ],
   "source": [
    "def random_power():\n",
    "    return 200 + np.random.rand() * 20 - 10\n",
    "\n",
    "\n",
    "def generate_power_profile(gradients):\n",
    "    P = 200  # W\n",
    "    power_profile = [(g, random_power()) for d, g in gradients.items()]\n",
    "    diff = P - np.mean(list(dict(power_profile).values()))\n",
    "\n",
    "    #     Set the first value to normalize the power\n",
    "    power_profile[0] = power_profile[2.1] + diff * len(power_profile)\n",
    "    return power_profile"
   ]
  },
  {
   "cell_type": "code",
   "execution_count": 83,
   "id": "84dcfb3e",
   "metadata": {},
   "outputs": [
    {
     "data": {
      "text/plain": [
       "{500: 2.1, 1000: 5.7, 1500: 3.9, 2000: 7.2, 99999: 0}"
      ]
     },
     "execution_count": 83,
     "metadata": {},
     "output_type": "execute_result"
    },
    {
     "data": {
      "application/javascript": [
       "\n",
       "            setTimeout(function() {\n",
       "                var nbb_cell_id = 83;\n",
       "                var nbb_unformatted_code = \"gradients = {500: 2.1, 1000: 5.7, 1500: 3.9, 2000: 7.2, 99999: 0}\\ngradients\";\n",
       "                var nbb_formatted_code = \"gradients = {500: 2.1, 1000: 5.7, 1500: 3.9, 2000: 7.2, 99999: 0}\\ngradients\";\n",
       "                var nbb_cells = Jupyter.notebook.get_cells();\n",
       "                for (var i = 0; i < nbb_cells.length; ++i) {\n",
       "                    if (nbb_cells[i].input_prompt_number == nbb_cell_id) {\n",
       "                        if (nbb_cells[i].get_text() == nbb_unformatted_code) {\n",
       "                             nbb_cells[i].set_text(nbb_formatted_code);\n",
       "                        }\n",
       "                        break;\n",
       "                    }\n",
       "                }\n",
       "            }, 500);\n",
       "            "
      ],
      "text/plain": [
       "<IPython.core.display.Javascript object>"
      ]
     },
     "metadata": {},
     "output_type": "display_data"
    }
   ],
   "source": [
    "gradients = {500: 2.1, 1000: 5.7, 1500: 3.9, 2000: 7.2, 99999: 0}\n",
    "gradients"
   ]
  },
  {
   "cell_type": "code",
   "execution_count": 84,
   "id": "c6799f7d",
   "metadata": {},
   "outputs": [
    {
     "data": {
      "text/plain": [
       "{2.1: 199.07016816025003,\n",
       " 5.7: 195.38938854045205,\n",
       " 3.9: 208.93640221814394,\n",
       " 7.2: 196.8844530608063,\n",
       " 0: 198.0542917483814}"
      ]
     },
     "execution_count": 84,
     "metadata": {},
     "output_type": "execute_result"
    },
    {
     "data": {
      "application/javascript": [
       "\n",
       "            setTimeout(function() {\n",
       "                var nbb_cell_id = 84;\n",
       "                var nbb_unformatted_code = \"power_profile = {g: random_power() for d, g in gradients.items()}\\npower_profile\";\n",
       "                var nbb_formatted_code = \"power_profile = {g: random_power() for d, g in gradients.items()}\\npower_profile\";\n",
       "                var nbb_cells = Jupyter.notebook.get_cells();\n",
       "                for (var i = 0; i < nbb_cells.length; ++i) {\n",
       "                    if (nbb_cells[i].input_prompt_number == nbb_cell_id) {\n",
       "                        if (nbb_cells[i].get_text() == nbb_unformatted_code) {\n",
       "                             nbb_cells[i].set_text(nbb_formatted_code);\n",
       "                        }\n",
       "                        break;\n",
       "                    }\n",
       "                }\n",
       "            }, 500);\n",
       "            "
      ],
      "text/plain": [
       "<IPython.core.display.Javascript object>"
      ]
     },
     "metadata": {},
     "output_type": "display_data"
    }
   ],
   "source": [
    "power_profile = {g: random_power() for d, g in gradients.items()}\n",
    "power_profile"
   ]
  },
  {
   "cell_type": "code",
   "execution_count": 85,
   "id": "d69e98e1",
   "metadata": {},
   "outputs": [
    {
     "data": {
      "text/plain": [
       "0.33305925439327666"
      ]
     },
     "execution_count": 85,
     "metadata": {},
     "output_type": "execute_result"
    },
    {
     "data": {
      "application/javascript": [
       "\n",
       "            setTimeout(function() {\n",
       "                var nbb_cell_id = 85;\n",
       "                var nbb_unformatted_code = \"diff = P - np.mean(list(power_profile.values()))\\ndiff\";\n",
       "                var nbb_formatted_code = \"diff = P - np.mean(list(power_profile.values()))\\ndiff\";\n",
       "                var nbb_cells = Jupyter.notebook.get_cells();\n",
       "                for (var i = 0; i < nbb_cells.length; ++i) {\n",
       "                    if (nbb_cells[i].input_prompt_number == nbb_cell_id) {\n",
       "                        if (nbb_cells[i].get_text() == nbb_unformatted_code) {\n",
       "                             nbb_cells[i].set_text(nbb_formatted_code);\n",
       "                        }\n",
       "                        break;\n",
       "                    }\n",
       "                }\n",
       "            }, 500);\n",
       "            "
      ],
      "text/plain": [
       "<IPython.core.display.Javascript object>"
      ]
     },
     "metadata": {},
     "output_type": "display_data"
    }
   ],
   "source": [
    "diff = P - np.mean(list(power_profile.values()))\n",
    "diff"
   ]
  },
  {
   "cell_type": "code",
   "execution_count": 86,
   "id": "9c1e2e4f",
   "metadata": {},
   "outputs": [
    {
     "data": {
      "text/plain": [
       "199.66694074560672"
      ]
     },
     "execution_count": 86,
     "metadata": {},
     "output_type": "execute_result"
    },
    {
     "data": {
      "application/javascript": [
       "\n",
       "            setTimeout(function() {\n",
       "                var nbb_cell_id = 86;\n",
       "                var nbb_unformatted_code = \"np.mean(list(power_profile.values()))\";\n",
       "                var nbb_formatted_code = \"np.mean(list(power_profile.values()))\";\n",
       "                var nbb_cells = Jupyter.notebook.get_cells();\n",
       "                for (var i = 0; i < nbb_cells.length; ++i) {\n",
       "                    if (nbb_cells[i].input_prompt_number == nbb_cell_id) {\n",
       "                        if (nbb_cells[i].get_text() == nbb_unformatted_code) {\n",
       "                             nbb_cells[i].set_text(nbb_formatted_code);\n",
       "                        }\n",
       "                        break;\n",
       "                    }\n",
       "                }\n",
       "            }, 500);\n",
       "            "
      ],
      "text/plain": [
       "<IPython.core.display.Javascript object>"
      ]
     },
     "metadata": {},
     "output_type": "display_data"
    }
   ],
   "source": [
    "np.mean(list(power_profile.values()))"
   ]
  },
  {
   "cell_type": "code",
   "execution_count": 87,
   "id": "bcf8e8e9",
   "metadata": {},
   "outputs": [
    {
     "ename": "TypeError",
     "evalue": "list indices must be integers or slices, not float",
     "output_type": "error",
     "traceback": [
      "\u001b[0;31m---------------------------------------------------------------------------\u001b[0m",
      "\u001b[0;31mTypeError\u001b[0m                                 Traceback (most recent call last)",
      "\u001b[0;32m/var/folders/0p/62m163zd22d3w3186wq2wq6r0000gq/T/ipykernel_20929/3848117002.py\u001b[0m in \u001b[0;36m<module>\u001b[0;34m\u001b[0m\n\u001b[0;32m----> 1\u001b[0;31m \u001b[0mx\u001b[0m \u001b[0;34m=\u001b[0m \u001b[0mgenerate_power_profile\u001b[0m\u001b[0;34m(\u001b[0m\u001b[0mgradients\u001b[0m\u001b[0;34m)\u001b[0m\u001b[0;34m\u001b[0m\u001b[0;34m\u001b[0m\u001b[0m\n\u001b[0m\u001b[1;32m      2\u001b[0m \u001b[0mnp\u001b[0m\u001b[0;34m.\u001b[0m\u001b[0mmean\u001b[0m\u001b[0;34m(\u001b[0m\u001b[0mlist\u001b[0m\u001b[0;34m(\u001b[0m\u001b[0mx\u001b[0m\u001b[0;34m.\u001b[0m\u001b[0mvalues\u001b[0m\u001b[0;34m(\u001b[0m\u001b[0;34m)\u001b[0m\u001b[0;34m)\u001b[0m\u001b[0;34m)\u001b[0m\u001b[0;34m\u001b[0m\u001b[0;34m\u001b[0m\u001b[0m\n",
      "\u001b[0;32m/var/folders/0p/62m163zd22d3w3186wq2wq6r0000gq/T/ipykernel_20929/2229119491.py\u001b[0m in \u001b[0;36mgenerate_power_profile\u001b[0;34m(gradients)\u001b[0m\n\u001b[1;32m      9\u001b[0m \u001b[0;34m\u001b[0m\u001b[0m\n\u001b[1;32m     10\u001b[0m     \u001b[0;31m#     Set the first value to normalize the power\u001b[0m\u001b[0;34m\u001b[0m\u001b[0;34m\u001b[0m\u001b[0;34m\u001b[0m\u001b[0m\n\u001b[0;32m---> 11\u001b[0;31m     \u001b[0mpower_profile\u001b[0m\u001b[0;34m[\u001b[0m\u001b[0;36m0\u001b[0m\u001b[0;34m]\u001b[0m \u001b[0;34m=\u001b[0m \u001b[0mpower_profile\u001b[0m\u001b[0;34m[\u001b[0m\u001b[0;36m2.1\u001b[0m\u001b[0;34m]\u001b[0m \u001b[0;34m+\u001b[0m \u001b[0mdiff\u001b[0m \u001b[0;34m*\u001b[0m \u001b[0mlen\u001b[0m\u001b[0;34m(\u001b[0m\u001b[0mpower_profile\u001b[0m\u001b[0;34m)\u001b[0m\u001b[0;34m\u001b[0m\u001b[0;34m\u001b[0m\u001b[0m\n\u001b[0m\u001b[1;32m     12\u001b[0m     \u001b[0;32mreturn\u001b[0m \u001b[0mpower_profile\u001b[0m\u001b[0;34m\u001b[0m\u001b[0;34m\u001b[0m\u001b[0m\n",
      "\u001b[0;31mTypeError\u001b[0m: list indices must be integers or slices, not float"
     ]
    },
    {
     "data": {
      "application/javascript": [
       "\n",
       "            setTimeout(function() {\n",
       "                var nbb_cell_id = 87;\n",
       "                var nbb_unformatted_code = \"x = generate_power_profile(gradients)\\nnp.mean(list(x.values()))\";\n",
       "                var nbb_formatted_code = \"x = generate_power_profile(gradients)\\nnp.mean(list(x.values()))\";\n",
       "                var nbb_cells = Jupyter.notebook.get_cells();\n",
       "                for (var i = 0; i < nbb_cells.length; ++i) {\n",
       "                    if (nbb_cells[i].input_prompt_number == nbb_cell_id) {\n",
       "                        if (nbb_cells[i].get_text() == nbb_unformatted_code) {\n",
       "                             nbb_cells[i].set_text(nbb_formatted_code);\n",
       "                        }\n",
       "                        break;\n",
       "                    }\n",
       "                }\n",
       "            }, 500);\n",
       "            "
      ],
      "text/plain": [
       "<IPython.core.display.Javascript object>"
      ]
     },
     "metadata": {},
     "output_type": "display_data"
    }
   ],
   "source": [
    "x = generate_power_profile(gradients)\n",
    "np.mean(list(x.values()))"
   ]
  },
  {
   "cell_type": "code",
   "execution_count": null,
   "id": "44261110",
   "metadata": {},
   "outputs": [],
   "source": []
  },
  {
   "cell_type": "code",
   "execution_count": 88,
   "id": "a243a1ae",
   "metadata": {},
   "outputs": [
    {
     "data": {
      "application/javascript": [
       "\n",
       "            setTimeout(function() {\n",
       "                var nbb_cell_id = 88;\n",
       "                var nbb_unformatted_code = \"def run(gradients):\\n    power_profile = {g: random_power() for d, g in gradients.items()}\\n\\n    D = 4622  # meters\\n    dt = 10  # secs\\n    dist_traveled = 0\\n    energy_spent = 0\\n    total_time = 0\\n    power_profile_list = []\\n    for i in range(999999):\\n        #         P = 200 + np.random.rand() * 10 - 5\\n        for dist, g in gradients.items():\\n            if dist_traveled < dist:\\n                gradient = g\\n                break\\n        P = power_profile[gradient]\\n        power_profile_list.append(P)\\n        v = power_to_speed(P, g)\\n        dist_traveled += v * dt\\n        energy_spent += P * dt\\n        total_time += dt\\n\\n        if dist_traveled > D:\\n            break\\n    return {\\n        \\\"dist_traveled\\\": dist_traveled,\\n        \\\"total_time\\\": total_time,\\n        \\\"energy_spent\\\": energy_spent,\\n        \\\"power_profile\\\": power_profile,\\n    }\";\n",
       "                var nbb_formatted_code = \"def run(gradients):\\n    power_profile = {g: random_power() for d, g in gradients.items()}\\n\\n    D = 4622  # meters\\n    dt = 10  # secs\\n    dist_traveled = 0\\n    energy_spent = 0\\n    total_time = 0\\n    power_profile_list = []\\n    for i in range(999999):\\n        #         P = 200 + np.random.rand() * 10 - 5\\n        for dist, g in gradients.items():\\n            if dist_traveled < dist:\\n                gradient = g\\n                break\\n        P = power_profile[gradient]\\n        power_profile_list.append(P)\\n        v = power_to_speed(P, g)\\n        dist_traveled += v * dt\\n        energy_spent += P * dt\\n        total_time += dt\\n\\n        if dist_traveled > D:\\n            break\\n    return {\\n        \\\"dist_traveled\\\": dist_traveled,\\n        \\\"total_time\\\": total_time,\\n        \\\"energy_spent\\\": energy_spent,\\n        \\\"power_profile\\\": power_profile,\\n    }\";\n",
       "                var nbb_cells = Jupyter.notebook.get_cells();\n",
       "                for (var i = 0; i < nbb_cells.length; ++i) {\n",
       "                    if (nbb_cells[i].input_prompt_number == nbb_cell_id) {\n",
       "                        if (nbb_cells[i].get_text() == nbb_unformatted_code) {\n",
       "                             nbb_cells[i].set_text(nbb_formatted_code);\n",
       "                        }\n",
       "                        break;\n",
       "                    }\n",
       "                }\n",
       "            }, 500);\n",
       "            "
      ],
      "text/plain": [
       "<IPython.core.display.Javascript object>"
      ]
     },
     "metadata": {},
     "output_type": "display_data"
    }
   ],
   "source": [
    "def run(gradients):\n",
    "    power_profile = {g: random_power() for d, g in gradients.items()}\n",
    "\n",
    "    D = 4622  # meters\n",
    "    dt = 10  # secs\n",
    "    dist_traveled = 0\n",
    "    energy_spent = 0\n",
    "    total_time = 0\n",
    "    power_profile_list = []\n",
    "    for i in range(999999):\n",
    "        #         P = 200 + np.random.rand() * 10 - 5\n",
    "        for dist, g in gradients.items():\n",
    "            if dist_traveled < dist:\n",
    "                gradient = g\n",
    "                break\n",
    "        P = power_profile[gradient]\n",
    "        power_profile_list.append(P)\n",
    "        v = power_to_speed(P, g)\n",
    "        dist_traveled += v * dt\n",
    "        energy_spent += P * dt\n",
    "        total_time += dt\n",
    "\n",
    "        if dist_traveled > D:\n",
    "            break\n",
    "    return {\n",
    "        \"dist_traveled\": dist_traveled,\n",
    "        \"total_time\": total_time,\n",
    "        \"energy_spent\": energy_spent,\n",
    "        \"power_profile\": power_profile,\n",
    "    }"
   ]
  },
  {
   "cell_type": "code",
   "execution_count": 89,
   "id": "c9934def",
   "metadata": {},
   "outputs": [
    {
     "data": {
      "application/javascript": [
       "\n",
       "            setTimeout(function() {\n",
       "                var nbb_cell_id = 89;\n",
       "                var nbb_unformatted_code = \"data = [run(gradients=gradients) for i in range(100)]\";\n",
       "                var nbb_formatted_code = \"data = [run(gradients=gradients) for i in range(100)]\";\n",
       "                var nbb_cells = Jupyter.notebook.get_cells();\n",
       "                for (var i = 0; i < nbb_cells.length; ++i) {\n",
       "                    if (nbb_cells[i].input_prompt_number == nbb_cell_id) {\n",
       "                        if (nbb_cells[i].get_text() == nbb_unformatted_code) {\n",
       "                             nbb_cells[i].set_text(nbb_formatted_code);\n",
       "                        }\n",
       "                        break;\n",
       "                    }\n",
       "                }\n",
       "            }, 500);\n",
       "            "
      ],
      "text/plain": [
       "<IPython.core.display.Javascript object>"
      ]
     },
     "metadata": {},
     "output_type": "display_data"
    }
   ],
   "source": [
    "data = [run(gradients=gradients) for i in range(100)]"
   ]
  },
  {
   "cell_type": "code",
   "execution_count": 90,
   "id": "1b95e32f",
   "metadata": {},
   "outputs": [
    {
     "data": {
      "text/html": [
       "<div>\n",
       "<style scoped>\n",
       "    .dataframe tbody tr th:only-of-type {\n",
       "        vertical-align: middle;\n",
       "    }\n",
       "\n",
       "    .dataframe tbody tr th {\n",
       "        vertical-align: top;\n",
       "    }\n",
       "\n",
       "    .dataframe thead th {\n",
       "        text-align: right;\n",
       "    }\n",
       "</style>\n",
       "<table border=\"1\" class=\"dataframe\">\n",
       "  <thead>\n",
       "    <tr style=\"text-align: right;\">\n",
       "      <th></th>\n",
       "      <th>dist_traveled</th>\n",
       "      <th>total_time</th>\n",
       "      <th>energy_spent</th>\n",
       "      <th>power_profile</th>\n",
       "    </tr>\n",
       "  </thead>\n",
       "  <tbody>\n",
       "    <tr>\n",
       "      <th>0</th>\n",
       "      <td>4630.259121</td>\n",
       "      <td>730</td>\n",
       "      <td>148731.650994</td>\n",
       "      <td>{2.1: 199.036189576056, 5.7: 198.9456005359422...</td>\n",
       "    </tr>\n",
       "    <tr>\n",
       "      <th>1</th>\n",
       "      <td>4679.179419</td>\n",
       "      <td>750</td>\n",
       "      <td>147775.176469</td>\n",
       "      <td>{2.1: 198.8270640451294, 5.7: 203.196218778505...</td>\n",
       "    </tr>\n",
       "    <tr>\n",
       "      <th>2</th>\n",
       "      <td>4632.002971</td>\n",
       "      <td>720</td>\n",
       "      <td>148542.993547</td>\n",
       "      <td>{2.1: 198.366096329589, 5.7: 206.6235032745213...</td>\n",
       "    </tr>\n",
       "    <tr>\n",
       "      <th>3</th>\n",
       "      <td>4689.331091</td>\n",
       "      <td>740</td>\n",
       "      <td>148323.734007</td>\n",
       "      <td>{2.1: 209.86917659938572, 5.7: 194.02228436425...</td>\n",
       "    </tr>\n",
       "    <tr>\n",
       "      <th>4</th>\n",
       "      <td>4663.979716</td>\n",
       "      <td>740</td>\n",
       "      <td>146496.744735</td>\n",
       "      <td>{2.1: 205.66053476902866, 5.7: 203.68603376227...</td>\n",
       "    </tr>\n",
       "    <tr>\n",
       "      <th>...</th>\n",
       "      <td>...</td>\n",
       "      <td>...</td>\n",
       "      <td>...</td>\n",
       "      <td>...</td>\n",
       "    </tr>\n",
       "    <tr>\n",
       "      <th>95</th>\n",
       "      <td>4683.585179</td>\n",
       "      <td>740</td>\n",
       "      <td>147945.006001</td>\n",
       "      <td>{2.1: 205.45827250337038, 5.7: 195.23888830622...</td>\n",
       "    </tr>\n",
       "    <tr>\n",
       "      <th>96</th>\n",
       "      <td>4624.518520</td>\n",
       "      <td>730</td>\n",
       "      <td>148236.694082</td>\n",
       "      <td>{2.1: 198.9333163199155, 5.7: 197.415083223921...</td>\n",
       "    </tr>\n",
       "    <tr>\n",
       "      <th>97</th>\n",
       "      <td>4696.968613</td>\n",
       "      <td>740</td>\n",
       "      <td>148643.682090</td>\n",
       "      <td>{2.1: 193.79545124749194, 5.7: 192.00247876801...</td>\n",
       "    </tr>\n",
       "    <tr>\n",
       "      <th>98</th>\n",
       "      <td>4668.897222</td>\n",
       "      <td>740</td>\n",
       "      <td>147062.823235</td>\n",
       "      <td>{2.1: 209.8817876803339, 5.7: 206.654048119348...</td>\n",
       "    </tr>\n",
       "    <tr>\n",
       "      <th>99</th>\n",
       "      <td>4662.278781</td>\n",
       "      <td>740</td>\n",
       "      <td>146563.450018</td>\n",
       "      <td>{2.1: 197.9801021703721, 5.7: 205.524635973136...</td>\n",
       "    </tr>\n",
       "  </tbody>\n",
       "</table>\n",
       "<p>100 rows × 4 columns</p>\n",
       "</div>"
      ],
      "text/plain": [
       "    dist_traveled  total_time   energy_spent  \\\n",
       "0     4630.259121         730  148731.650994   \n",
       "1     4679.179419         750  147775.176469   \n",
       "2     4632.002971         720  148542.993547   \n",
       "3     4689.331091         740  148323.734007   \n",
       "4     4663.979716         740  146496.744735   \n",
       "..            ...         ...            ...   \n",
       "95    4683.585179         740  147945.006001   \n",
       "96    4624.518520         730  148236.694082   \n",
       "97    4696.968613         740  148643.682090   \n",
       "98    4668.897222         740  147062.823235   \n",
       "99    4662.278781         740  146563.450018   \n",
       "\n",
       "                                        power_profile  \n",
       "0   {2.1: 199.036189576056, 5.7: 198.9456005359422...  \n",
       "1   {2.1: 198.8270640451294, 5.7: 203.196218778505...  \n",
       "2   {2.1: 198.366096329589, 5.7: 206.6235032745213...  \n",
       "3   {2.1: 209.86917659938572, 5.7: 194.02228436425...  \n",
       "4   {2.1: 205.66053476902866, 5.7: 203.68603376227...  \n",
       "..                                                ...  \n",
       "95  {2.1: 205.45827250337038, 5.7: 195.23888830622...  \n",
       "96  {2.1: 198.9333163199155, 5.7: 197.415083223921...  \n",
       "97  {2.1: 193.79545124749194, 5.7: 192.00247876801...  \n",
       "98  {2.1: 209.8817876803339, 5.7: 206.654048119348...  \n",
       "99  {2.1: 197.9801021703721, 5.7: 205.524635973136...  \n",
       "\n",
       "[100 rows x 4 columns]"
      ]
     },
     "execution_count": 90,
     "metadata": {},
     "output_type": "execute_result"
    },
    {
     "data": {
      "application/javascript": [
       "\n",
       "            setTimeout(function() {\n",
       "                var nbb_cell_id = 90;\n",
       "                var nbb_unformatted_code = \"df = pd.DataFrame(data)\\ndf\";\n",
       "                var nbb_formatted_code = \"df = pd.DataFrame(data)\\ndf\";\n",
       "                var nbb_cells = Jupyter.notebook.get_cells();\n",
       "                for (var i = 0; i < nbb_cells.length; ++i) {\n",
       "                    if (nbb_cells[i].input_prompt_number == nbb_cell_id) {\n",
       "                        if (nbb_cells[i].get_text() == nbb_unformatted_code) {\n",
       "                             nbb_cells[i].set_text(nbb_formatted_code);\n",
       "                        }\n",
       "                        break;\n",
       "                    }\n",
       "                }\n",
       "            }, 500);\n",
       "            "
      ],
      "text/plain": [
       "<IPython.core.display.Javascript object>"
      ]
     },
     "metadata": {},
     "output_type": "display_data"
    }
   ],
   "source": [
    "df = pd.DataFrame(data)\n",
    "df"
   ]
  },
  {
   "cell_type": "code",
   "execution_count": 91,
   "id": "795ea4df",
   "metadata": {},
   "outputs": [
    {
     "data": {
      "text/html": [
       "<div>\n",
       "<style scoped>\n",
       "    .dataframe tbody tr th:only-of-type {\n",
       "        vertical-align: middle;\n",
       "    }\n",
       "\n",
       "    .dataframe tbody tr th {\n",
       "        vertical-align: top;\n",
       "    }\n",
       "\n",
       "    .dataframe thead th {\n",
       "        text-align: right;\n",
       "    }\n",
       "</style>\n",
       "<table border=\"1\" class=\"dataframe\">\n",
       "  <thead>\n",
       "    <tr style=\"text-align: right;\">\n",
       "      <th></th>\n",
       "      <th>dist_traveled</th>\n",
       "      <th>total_time</th>\n",
       "      <th>energy_spent</th>\n",
       "    </tr>\n",
       "  </thead>\n",
       "  <tbody>\n",
       "    <tr>\n",
       "      <th>count</th>\n",
       "      <td>100.000000</td>\n",
       "      <td>100.000000</td>\n",
       "      <td>100.000000</td>\n",
       "    </tr>\n",
       "    <tr>\n",
       "      <th>mean</th>\n",
       "      <td>4668.968240</td>\n",
       "      <td>740.700000</td>\n",
       "      <td>147942.798124</td>\n",
       "    </tr>\n",
       "    <tr>\n",
       "      <th>std</th>\n",
       "      <td>25.508570</td>\n",
       "      <td>7.946157</td>\n",
       "      <td>1264.361832</td>\n",
       "    </tr>\n",
       "    <tr>\n",
       "      <th>min</th>\n",
       "      <td>4624.403453</td>\n",
       "      <td>720.000000</td>\n",
       "      <td>145427.357131</td>\n",
       "    </tr>\n",
       "    <tr>\n",
       "      <th>25%</th>\n",
       "      <td>4649.725077</td>\n",
       "      <td>740.000000</td>\n",
       "      <td>146953.294667</td>\n",
       "    </tr>\n",
       "    <tr>\n",
       "      <th>50%</th>\n",
       "      <td>4670.237206</td>\n",
       "      <td>740.000000</td>\n",
       "      <td>148112.167874</td>\n",
       "    </tr>\n",
       "    <tr>\n",
       "      <th>75%</th>\n",
       "      <td>4689.258990</td>\n",
       "      <td>750.000000</td>\n",
       "      <td>149035.001142</td>\n",
       "    </tr>\n",
       "    <tr>\n",
       "      <th>max</th>\n",
       "      <td>4714.517532</td>\n",
       "      <td>760.000000</td>\n",
       "      <td>150472.305308</td>\n",
       "    </tr>\n",
       "  </tbody>\n",
       "</table>\n",
       "</div>"
      ],
      "text/plain": [
       "       dist_traveled  total_time   energy_spent\n",
       "count     100.000000  100.000000     100.000000\n",
       "mean     4668.968240  740.700000  147942.798124\n",
       "std        25.508570    7.946157    1264.361832\n",
       "min      4624.403453  720.000000  145427.357131\n",
       "25%      4649.725077  740.000000  146953.294667\n",
       "50%      4670.237206  740.000000  148112.167874\n",
       "75%      4689.258990  750.000000  149035.001142\n",
       "max      4714.517532  760.000000  150472.305308"
      ]
     },
     "execution_count": 91,
     "metadata": {},
     "output_type": "execute_result"
    },
    {
     "data": {
      "application/javascript": [
       "\n",
       "            setTimeout(function() {\n",
       "                var nbb_cell_id = 91;\n",
       "                var nbb_unformatted_code = \"df.describe()\";\n",
       "                var nbb_formatted_code = \"df.describe()\";\n",
       "                var nbb_cells = Jupyter.notebook.get_cells();\n",
       "                for (var i = 0; i < nbb_cells.length; ++i) {\n",
       "                    if (nbb_cells[i].input_prompt_number == nbb_cell_id) {\n",
       "                        if (nbb_cells[i].get_text() == nbb_unformatted_code) {\n",
       "                             nbb_cells[i].set_text(nbb_formatted_code);\n",
       "                        }\n",
       "                        break;\n",
       "                    }\n",
       "                }\n",
       "            }, 500);\n",
       "            "
      ],
      "text/plain": [
       "<IPython.core.display.Javascript object>"
      ]
     },
     "metadata": {},
     "output_type": "display_data"
    }
   ],
   "source": [
    "df.describe()"
   ]
  },
  {
   "cell_type": "code",
   "execution_count": 92,
   "id": "094c3fae",
   "metadata": {},
   "outputs": [
    {
     "data": {
      "text/plain": [
       "<AxesSubplot:xlabel='energy_spent', ylabel='total_time'>"
      ]
     },
     "execution_count": 92,
     "metadata": {},
     "output_type": "execute_result"
    },
    {
     "data": {
      "image/png": "[encoded data removed]",
      "text/plain": [
       "<Figure size 432x288 with 1 Axes>"
      ]
     },
     "metadata": {
      "needs_background": "light"
     },
     "output_type": "display_data"
    },
    {
     "data": {
      "application/javascript": [
       "\n",
       "            setTimeout(function() {\n",
       "                var nbb_cell_id = 92;\n",
       "                var nbb_unformatted_code = \"df.plot.scatter(x=\\\"energy_spent\\\", y=\\\"total_time\\\")\";\n",
       "                var nbb_formatted_code = \"df.plot.scatter(x=\\\"energy_spent\\\", y=\\\"total_time\\\")\";\n",
       "                var nbb_cells = Jupyter.notebook.get_cells();\n",
       "                for (var i = 0; i < nbb_cells.length; ++i) {\n",
       "                    if (nbb_cells[i].input_prompt_number == nbb_cell_id) {\n",
       "                        if (nbb_cells[i].get_text() == nbb_unformatted_code) {\n",
       "                             nbb_cells[i].set_text(nbb_formatted_code);\n",
       "                        }\n",
       "                        break;\n",
       "                    }\n",
       "                }\n",
       "            }, 500);\n",
       "            "
      ],
      "text/plain": [
       "<IPython.core.display.Javascript object>"
      ]
     },
     "metadata": {},
     "output_type": "display_data"
    }
   ],
   "source": [
    "df.plot.scatter(x=\"energy_spent\", y=\"total_time\")"
   ]
  },
  {
   "cell_type": "code",
   "execution_count": 93,
   "id": "009c60b1",
   "metadata": {},
   "outputs": [
    {
     "data": {
      "text/plain": [
       "<AxesSubplot:>"
      ]
     },
     "execution_count": 93,
     "metadata": {},
     "output_type": "execute_result"
    },
    {
     "data": {
      "image/png": "[encoded data removed]",
      "text/plain": [
       "<Figure size 432x288 with 1 Axes>"
      ]
     },
     "metadata": {
      "needs_background": "light"
     },
     "output_type": "display_data"
    },
    {
     "data": {
      "application/javascript": [
       "\n",
       "            setTimeout(function() {\n",
       "                var nbb_cell_id = 93;\n",
       "                var nbb_unformatted_code = \"df.total_time.hist()\";\n",
       "                var nbb_formatted_code = \"df.total_time.hist()\";\n",
       "                var nbb_cells = Jupyter.notebook.get_cells();\n",
       "                for (var i = 0; i < nbb_cells.length; ++i) {\n",
       "                    if (nbb_cells[i].input_prompt_number == nbb_cell_id) {\n",
       "                        if (nbb_cells[i].get_text() == nbb_unformatted_code) {\n",
       "                             nbb_cells[i].set_text(nbb_formatted_code);\n",
       "                        }\n",
       "                        break;\n",
       "                    }\n",
       "                }\n",
       "            }, 500);\n",
       "            "
      ],
      "text/plain": [
       "<IPython.core.display.Javascript object>"
      ]
     },
     "metadata": {},
     "output_type": "display_data"
    }
   ],
   "source": [
    "df.total_time.hist()"
   ]
  },
  {
   "cell_type": "code",
   "execution_count": 94,
   "id": "267bccf0",
   "metadata": {},
   "outputs": [
    {
     "data": {
      "text/plain": [
       "<matplotlib.collections.PathCollection at 0x7f8a490b0790>"
      ]
     },
     "execution_count": 94,
     "metadata": {},
     "output_type": "execute_result"
    },
    {
     "data": {
      "image/png": "[encoded data removed]",
      "text/plain": [
       "<Figure size 432x288 with 1 Axes>"
      ]
     },
     "metadata": {
      "needs_background": "light"
     },
     "output_type": "display_data"
    },
    {
     "data": {
      "application/javascript": [
       "\n",
       "            setTimeout(function() {\n",
       "                var nbb_cell_id = 94;\n",
       "                var nbb_unformatted_code = \"sel = df[df.energy_spent < df.energy_spent.mean()]\\n\\np = sel[sel.total_time == sel.total_time.min()].head(1).power_profile.values[0]\\n\\nplt.scatter(p.keys(), p.values())\";\n",
       "                var nbb_formatted_code = \"sel = df[df.energy_spent < df.energy_spent.mean()]\\n\\np = sel[sel.total_time == sel.total_time.min()].head(1).power_profile.values[0]\\n\\nplt.scatter(p.keys(), p.values())\";\n",
       "                var nbb_cells = Jupyter.notebook.get_cells();\n",
       "                for (var i = 0; i < nbb_cells.length; ++i) {\n",
       "                    if (nbb_cells[i].input_prompt_number == nbb_cell_id) {\n",
       "                        if (nbb_cells[i].get_text() == nbb_unformatted_code) {\n",
       "                             nbb_cells[i].set_text(nbb_formatted_code);\n",
       "                        }\n",
       "                        break;\n",
       "                    }\n",
       "                }\n",
       "            }, 500);\n",
       "            "
      ],
      "text/plain": [
       "<IPython.core.display.Javascript object>"
      ]
     },
     "metadata": {},
     "output_type": "display_data"
    }
   ],
   "source": [
    "sel = df[df.energy_spent < df.energy_spent.mean()]\n",
    "\n",
    "p = sel[sel.total_time == sel.total_time.min()].head(1).power_profile.values[0]\n",
    "\n",
    "plt.scatter(p.keys(), p.values())"
   ]
  },
  {
   "cell_type": "code",
   "execution_count": 95,
   "id": "1c6c87a0",
   "metadata": {},
   "outputs": [
    {
     "data": {
      "text/html": [
       "<div>\n",
       "<style scoped>\n",
       "    .dataframe tbody tr th:only-of-type {\n",
       "        vertical-align: middle;\n",
       "    }\n",
       "\n",
       "    .dataframe tbody tr th {\n",
       "        vertical-align: top;\n",
       "    }\n",
       "\n",
       "    .dataframe thead th {\n",
       "        text-align: right;\n",
       "    }\n",
       "</style>\n",
       "<table border=\"1\" class=\"dataframe\">\n",
       "  <thead>\n",
       "    <tr style=\"text-align: right;\">\n",
       "      <th></th>\n",
       "      <th>latlng</th>\n",
       "      <th>distance</th>\n",
       "      <th>altitude</th>\n",
       "    </tr>\n",
       "  </thead>\n",
       "  <tbody>\n",
       "    <tr>\n",
       "      <th>0</th>\n",
       "      <td>[39.99931, -105.290627]</td>\n",
       "      <td>0.0</td>\n",
       "      <td>1744.6</td>\n",
       "    </tr>\n",
       "    <tr>\n",
       "      <th>1</th>\n",
       "      <td>[39.999435, -105.290726]</td>\n",
       "      <td>16.6</td>\n",
       "      <td>1746.1</td>\n",
       "    </tr>\n",
       "    <tr>\n",
       "      <th>2</th>\n",
       "      <td>[39.999485, -105.290741]</td>\n",
       "      <td>22.2</td>\n",
       "      <td>1746.4</td>\n",
       "    </tr>\n",
       "    <tr>\n",
       "      <th>3</th>\n",
       "      <td>[39.999588, -105.290733]</td>\n",
       "      <td>34.0</td>\n",
       "      <td>1746.6</td>\n",
       "    </tr>\n",
       "    <tr>\n",
       "      <th>4</th>\n",
       "      <td>[40.000076, -105.290573]</td>\n",
       "      <td>89.8</td>\n",
       "      <td>1747.8</td>\n",
       "    </tr>\n",
       "    <tr>\n",
       "      <th>...</th>\n",
       "      <td>...</td>\n",
       "      <td>...</td>\n",
       "      <td>...</td>\n",
       "    </tr>\n",
       "    <tr>\n",
       "      <th>165</th>\n",
       "      <td>[39.997696, -105.308296]</td>\n",
       "      <td>4554.8</td>\n",
       "      <td>2053.0</td>\n",
       "    </tr>\n",
       "    <tr>\n",
       "      <th>166</th>\n",
       "      <td>[39.99754, -105.308517]</td>\n",
       "      <td>4580.7</td>\n",
       "      <td>2053.4</td>\n",
       "    </tr>\n",
       "    <tr>\n",
       "      <th>167</th>\n",
       "      <td>[39.997337, -105.308754]</td>\n",
       "      <td>4610.9</td>\n",
       "      <td>2053.4</td>\n",
       "    </tr>\n",
       "    <tr>\n",
       "      <th>168</th>\n",
       "      <td>[39.997311, -105.308792]</td>\n",
       "      <td>4615.0</td>\n",
       "      <td>2052.3</td>\n",
       "    </tr>\n",
       "    <tr>\n",
       "      <th>169</th>\n",
       "      <td>[39.997272, -105.308868]</td>\n",
       "      <td>4622.8</td>\n",
       "      <td>2053.1</td>\n",
       "    </tr>\n",
       "  </tbody>\n",
       "</table>\n",
       "<p>170 rows × 3 columns</p>\n",
       "</div>"
      ],
      "text/plain": [
       "                       latlng  distance  altitude\n",
       "0     [39.99931, -105.290627]       0.0    1744.6\n",
       "1    [39.999435, -105.290726]      16.6    1746.1\n",
       "2    [39.999485, -105.290741]      22.2    1746.4\n",
       "3    [39.999588, -105.290733]      34.0    1746.6\n",
       "4    [40.000076, -105.290573]      89.8    1747.8\n",
       "..                        ...       ...       ...\n",
       "165  [39.997696, -105.308296]    4554.8    2053.0\n",
       "166   [39.99754, -105.308517]    4580.7    2053.4\n",
       "167  [39.997337, -105.308754]    4610.9    2053.4\n",
       "168  [39.997311, -105.308792]    4615.0    2052.3\n",
       "169  [39.997272, -105.308868]    4622.8    2053.1\n",
       "\n",
       "[170 rows x 3 columns]"
      ]
     },
     "execution_count": 95,
     "metadata": {},
     "output_type": "execute_result"
    },
    {
     "data": {
      "application/javascript": [
       "\n",
       "            setTimeout(function() {\n",
       "                var nbb_cell_id = 95;\n",
       "                var nbb_unformatted_code = \"flagstaff = pd.read_json(\\\"strava/flagstaff.json\\\")\\nflagstaff\";\n",
       "                var nbb_formatted_code = \"flagstaff = pd.read_json(\\\"strava/flagstaff.json\\\")\\nflagstaff\";\n",
       "                var nbb_cells = Jupyter.notebook.get_cells();\n",
       "                for (var i = 0; i < nbb_cells.length; ++i) {\n",
       "                    if (nbb_cells[i].input_prompt_number == nbb_cell_id) {\n",
       "                        if (nbb_cells[i].get_text() == nbb_unformatted_code) {\n",
       "                             nbb_cells[i].set_text(nbb_formatted_code);\n",
       "                        }\n",
       "                        break;\n",
       "                    }\n",
       "                }\n",
       "            }, 500);\n",
       "            "
      ],
      "text/plain": [
       "<IPython.core.display.Javascript object>"
      ]
     },
     "metadata": {},
     "output_type": "display_data"
    }
   ],
   "source": [
    "flagstaff = pd.read_json(\"strava/flagstaff.json\")\n",
    "flagstaff"
   ]
  },
  {
   "cell_type": "code",
   "execution_count": 96,
   "id": "1bcfa816",
   "metadata": {},
   "outputs": [
    {
     "data": {
      "text/plain": [
       "<AxesSubplot:xlabel='distance'>"
      ]
     },
     "execution_count": 96,
     "metadata": {},
     "output_type": "execute_result"
    },
    {
     "data": {
      "image/png": "[encoded data removed]",
      "text/plain": [
       "<Figure size 432x288 with 1 Axes>"
      ]
     },
     "metadata": {
      "needs_background": "light"
     },
     "output_type": "display_data"
    },
    {
     "data": {
      "application/javascript": [
       "\n",
       "            setTimeout(function() {\n",
       "                var nbb_cell_id = 96;\n",
       "                var nbb_unformatted_code = \"flagstaff.plot(x=\\\"distance\\\", y=\\\"altitude\\\")\";\n",
       "                var nbb_formatted_code = \"flagstaff.plot(x=\\\"distance\\\", y=\\\"altitude\\\")\";\n",
       "                var nbb_cells = Jupyter.notebook.get_cells();\n",
       "                for (var i = 0; i < nbb_cells.length; ++i) {\n",
       "                    if (nbb_cells[i].input_prompt_number == nbb_cell_id) {\n",
       "                        if (nbb_cells[i].get_text() == nbb_unformatted_code) {\n",
       "                             nbb_cells[i].set_text(nbb_formatted_code);\n",
       "                        }\n",
       "                        break;\n",
       "                    }\n",
       "                }\n",
       "            }, 500);\n",
       "            "
      ],
      "text/plain": [
       "<IPython.core.display.Javascript object>"
      ]
     },
     "metadata": {},
     "output_type": "display_data"
    }
   ],
   "source": [
    "flagstaff.plot(x=\"distance\", y=\"altitude\")"
   ]
  },
  {
   "cell_type": "code",
   "execution_count": 97,
   "id": "61ad07ee",
   "metadata": {},
   "outputs": [
    {
     "data": {
      "text/plain": [
       "count    169.000000\n",
       "mean       0.066405\n",
       "std        0.126516\n",
       "min       -0.468085\n",
       "25%        0.000000\n",
       "50%        0.055785\n",
       "75%        0.128889\n",
       "max        0.436364\n",
       "dtype: float64"
      ]
     },
     "execution_count": 97,
     "metadata": {},
     "output_type": "execute_result"
    },
    {
     "data": {
      "application/javascript": [
       "\n",
       "            setTimeout(function() {\n",
       "                var nbb_cell_id = 97;\n",
       "                var nbb_unformatted_code = \"(flagstaff.altitude.diff() / flagstaff.distance.diff()).describe()\";\n",
       "                var nbb_formatted_code = \"(flagstaff.altitude.diff() / flagstaff.distance.diff()).describe()\";\n",
       "                var nbb_cells = Jupyter.notebook.get_cells();\n",
       "                for (var i = 0; i < nbb_cells.length; ++i) {\n",
       "                    if (nbb_cells[i].input_prompt_number == nbb_cell_id) {\n",
       "                        if (nbb_cells[i].get_text() == nbb_unformatted_code) {\n",
       "                             nbb_cells[i].set_text(nbb_formatted_code);\n",
       "                        }\n",
       "                        break;\n",
       "                    }\n",
       "                }\n",
       "            }, 500);\n",
       "            "
      ],
      "text/plain": [
       "<IPython.core.display.Javascript object>"
      ]
     },
     "metadata": {},
     "output_type": "display_data"
    }
   ],
   "source": [
    "(flagstaff.altitude.diff() / flagstaff.distance.diff()).describe()"
   ]
  },
  {
   "cell_type": "code",
   "execution_count": 98,
   "id": "4c8cedd0",
   "metadata": {},
   "outputs": [
    {
     "data": {
      "application/javascript": [
       "\n",
       "            setTimeout(function() {\n",
       "                var nbb_cell_id = 98;\n",
       "                var nbb_unformatted_code = \"sel = flagstaff.rolling(window=3, min_periods=1, center=True).mean().diff()\\nflagstaff[\\\"gradient\\\"] = (sel.altitude / sel.distance) * 100\\nflagstaff.gradient = flagstaff.gradient.fillna(method=\\\"bfill\\\")\\nflagstaff.gradient = flagstaff.gradient.round(decimals=1)\";\n",
       "                var nbb_formatted_code = \"sel = flagstaff.rolling(window=3, min_periods=1, center=True).mean().diff()\\nflagstaff[\\\"gradient\\\"] = (sel.altitude / sel.distance) * 100\\nflagstaff.gradient = flagstaff.gradient.fillna(method=\\\"bfill\\\")\\nflagstaff.gradient = flagstaff.gradient.round(decimals=1)\";\n",
       "                var nbb_cells = Jupyter.notebook.get_cells();\n",
       "                for (var i = 0; i < nbb_cells.length; ++i) {\n",
       "                    if (nbb_cells[i].input_prompt_number == nbb_cell_id) {\n",
       "                        if (nbb_cells[i].get_text() == nbb_unformatted_code) {\n",
       "                             nbb_cells[i].set_text(nbb_formatted_code);\n",
       "                        }\n",
       "                        break;\n",
       "                    }\n",
       "                }\n",
       "            }, 500);\n",
       "            "
      ],
      "text/plain": [
       "<IPython.core.display.Javascript object>"
      ]
     },
     "metadata": {},
     "output_type": "display_data"
    }
   ],
   "source": [
    "sel = flagstaff.rolling(window=3, min_periods=1, center=True).mean().diff()\n",
    "flagstaff[\"gradient\"] = (sel.altitude / sel.distance) * 100\n",
    "flagstaff.gradient = flagstaff.gradient.fillna(method=\"bfill\")\n",
    "flagstaff.gradient = flagstaff.gradient.round(decimals=1)"
   ]
  },
  {
   "cell_type": "code",
   "execution_count": 99,
   "id": "c6d00f73",
   "metadata": {},
   "outputs": [
    {
     "data": {
      "text/html": [
       "<div>\n",
       "<style scoped>\n",
       "    .dataframe tbody tr th:only-of-type {\n",
       "        vertical-align: middle;\n",
       "    }\n",
       "\n",
       "    .dataframe tbody tr th {\n",
       "        vertical-align: top;\n",
       "    }\n",
       "\n",
       "    .dataframe thead th {\n",
       "        text-align: right;\n",
       "    }\n",
       "</style>\n",
       "<table border=\"1\" class=\"dataframe\">\n",
       "  <thead>\n",
       "    <tr style=\"text-align: right;\">\n",
       "      <th></th>\n",
       "      <th>latlng</th>\n",
       "      <th>distance</th>\n",
       "      <th>altitude</th>\n",
       "      <th>gradient</th>\n",
       "    </tr>\n",
       "  </thead>\n",
       "  <tbody>\n",
       "    <tr>\n",
       "      <th>0</th>\n",
       "      <td>[39.99931, -105.290627]</td>\n",
       "      <td>0.0</td>\n",
       "      <td>1744.6</td>\n",
       "      <td>7.6</td>\n",
       "    </tr>\n",
       "    <tr>\n",
       "      <th>1</th>\n",
       "      <td>[39.999435, -105.290726]</td>\n",
       "      <td>16.6</td>\n",
       "      <td>1746.1</td>\n",
       "      <td>7.6</td>\n",
       "    </tr>\n",
       "    <tr>\n",
       "      <th>2</th>\n",
       "      <td>[39.999485, -105.290741]</td>\n",
       "      <td>22.2</td>\n",
       "      <td>1746.4</td>\n",
       "      <td>5.9</td>\n",
       "    </tr>\n",
       "    <tr>\n",
       "      <th>3</th>\n",
       "      <td>[39.999588, -105.290733]</td>\n",
       "      <td>34.0</td>\n",
       "      <td>1746.6</td>\n",
       "      <td>2.3</td>\n",
       "    </tr>\n",
       "    <tr>\n",
       "      <th>4</th>\n",
       "      <td>[40.000076, -105.290573]</td>\n",
       "      <td>89.8</td>\n",
       "      <td>1747.8</td>\n",
       "      <td>2.1</td>\n",
       "    </tr>\n",
       "    <tr>\n",
       "      <th>...</th>\n",
       "      <td>...</td>\n",
       "      <td>...</td>\n",
       "      <td>...</td>\n",
       "      <td>...</td>\n",
       "    </tr>\n",
       "    <tr>\n",
       "      <th>165</th>\n",
       "      <td>[39.997696, -105.308296]</td>\n",
       "      <td>4554.8</td>\n",
       "      <td>2053.0</td>\n",
       "      <td>4.2</td>\n",
       "    </tr>\n",
       "    <tr>\n",
       "      <th>166</th>\n",
       "      <td>[39.99754, -105.308517]</td>\n",
       "      <td>4580.7</td>\n",
       "      <td>2053.4</td>\n",
       "      <td>4.7</td>\n",
       "    </tr>\n",
       "    <tr>\n",
       "      <th>167</th>\n",
       "      <td>[39.997337, -105.308754]</td>\n",
       "      <td>4610.9</td>\n",
       "      <td>2053.4</td>\n",
       "      <td>-1.2</td>\n",
       "    </tr>\n",
       "    <tr>\n",
       "      <th>168</th>\n",
       "      <td>[39.997311, -105.308792]</td>\n",
       "      <td>4615.0</td>\n",
       "      <td>2052.3</td>\n",
       "      <td>-0.7</td>\n",
       "    </tr>\n",
       "    <tr>\n",
       "      <th>169</th>\n",
       "      <td>[39.997272, -105.308868]</td>\n",
       "      <td>4622.8</td>\n",
       "      <td>2053.1</td>\n",
       "      <td>-8.8</td>\n",
       "    </tr>\n",
       "  </tbody>\n",
       "</table>\n",
       "<p>170 rows × 4 columns</p>\n",
       "</div>"
      ],
      "text/plain": [
       "                       latlng  distance  altitude  gradient\n",
       "0     [39.99931, -105.290627]       0.0    1744.6       7.6\n",
       "1    [39.999435, -105.290726]      16.6    1746.1       7.6\n",
       "2    [39.999485, -105.290741]      22.2    1746.4       5.9\n",
       "3    [39.999588, -105.290733]      34.0    1746.6       2.3\n",
       "4    [40.000076, -105.290573]      89.8    1747.8       2.1\n",
       "..                        ...       ...       ...       ...\n",
       "165  [39.997696, -105.308296]    4554.8    2053.0       4.2\n",
       "166   [39.99754, -105.308517]    4580.7    2053.4       4.7\n",
       "167  [39.997337, -105.308754]    4610.9    2053.4      -1.2\n",
       "168  [39.997311, -105.308792]    4615.0    2052.3      -0.7\n",
       "169  [39.997272, -105.308868]    4622.8    2053.1      -8.8\n",
       "\n",
       "[170 rows x 4 columns]"
      ]
     },
     "execution_count": 99,
     "metadata": {},
     "output_type": "execute_result"
    },
    {
     "data": {
      "application/javascript": [
       "\n",
       "            setTimeout(function() {\n",
       "                var nbb_cell_id = 99;\n",
       "                var nbb_unformatted_code = \"flagstaff\";\n",
       "                var nbb_formatted_code = \"flagstaff\";\n",
       "                var nbb_cells = Jupyter.notebook.get_cells();\n",
       "                for (var i = 0; i < nbb_cells.length; ++i) {\n",
       "                    if (nbb_cells[i].input_prompt_number == nbb_cell_id) {\n",
       "                        if (nbb_cells[i].get_text() == nbb_unformatted_code) {\n",
       "                             nbb_cells[i].set_text(nbb_formatted_code);\n",
       "                        }\n",
       "                        break;\n",
       "                    }\n",
       "                }\n",
       "            }, 500);\n",
       "            "
      ],
      "text/plain": [
       "<IPython.core.display.Javascript object>"
      ]
     },
     "metadata": {},
     "output_type": "display_data"
    }
   ],
   "source": [
    "flagstaff"
   ]
  },
  {
   "cell_type": "code",
   "execution_count": 100,
   "id": "1451a65e",
   "metadata": {},
   "outputs": [
    {
     "data": {
      "text/plain": [
       "{500: 2.1, 1000: 5.7, 1500: 3.9, 2000: 7.2, 99999: 0}"
      ]
     },
     "execution_count": 100,
     "metadata": {},
     "output_type": "execute_result"
    },
    {
     "data": {
      "application/javascript": [
       "\n",
       "            setTimeout(function() {\n",
       "                var nbb_cell_id = 100;\n",
       "                var nbb_unformatted_code = \"gradients\";\n",
       "                var nbb_formatted_code = \"gradients\";\n",
       "                var nbb_cells = Jupyter.notebook.get_cells();\n",
       "                for (var i = 0; i < nbb_cells.length; ++i) {\n",
       "                    if (nbb_cells[i].input_prompt_number == nbb_cell_id) {\n",
       "                        if (nbb_cells[i].get_text() == nbb_unformatted_code) {\n",
       "                             nbb_cells[i].set_text(nbb_formatted_code);\n",
       "                        }\n",
       "                        break;\n",
       "                    }\n",
       "                }\n",
       "            }, 500);\n",
       "            "
      ],
      "text/plain": [
       "<IPython.core.display.Javascript object>"
      ]
     },
     "metadata": {},
     "output_type": "display_data"
    }
   ],
   "source": []
  },
  {
   "cell_type": "code",
   "execution_count": 102,
   "id": "c975d70c",
   "metadata": {},
   "outputs": [
    {
     "data": {
      "text/plain": [
       "{0.0: 7.6,\n",
       " 16.600000000000364: 7.6,\n",
       " 22.200000000000728: 5.9,\n",
       " 34.0: 2.3,\n",
       " 89.80000000000109: 2.1,\n",
       " 129.20000000000073: 3.6,\n",
       " 163.10000000000036: 4.9,\n",
       " 185.60000000000036: 10.7,\n",
       " 219.8000000000011: 10.5,\n",
       " 251.0: 10.7,\n",
       " 278.39999999999964: 6.0,\n",
       " 309.8000000000011: 10.8,\n",
       " 336.8000000000011: 11.9,\n",
       " 372.3000000000011: 19.0,\n",
       " 405.60000000000036: 14.0,\n",
       " 447.5: 9.2,\n",
       " 473.39999999999964: 4.9,\n",
       " 500.89999999999964: -0.9,\n",
       " 540.6000000000004: 5.1,\n",
       " 574.8000000000011: 2.6,\n",
       " 607.8999999999996: 10.9,\n",
       " 632.7000000000007: 4.6,\n",
       " 657.8000000000011: 12.5,\n",
       " 688.1000000000004: 14.5,\n",
       " 714.5: 24.2,\n",
       " 727.1000000000004: 15.5,\n",
       " 747.6000000000004: 9.1,\n",
       " 771.6000000000004: 8.6,\n",
       " 812.0: 13.0,\n",
       " 844.3999999999996: 12.5,\n",
       " 876.2000000000007: 11.0,\n",
       " 903.6000000000004: 10.3,\n",
       " 940.1000000000004: 5.3,\n",
       " 975.0: 5.6,\n",
       " 996.2000000000007: 2.9,\n",
       " 1020.8000000000011: 9.4,\n",
       " 1044.3999999999996: 11.0,\n",
       " 1068.800000000001: 11.0,\n",
       " 1098.7000000000007: 12.5,\n",
       " 1102.800000000001: 15.0,\n",
       " 1135.6000000000004: 10.9,\n",
       " 1185.300000000001: 5.9,\n",
       " 1226.0: 0.9,\n",
       " 1247.8999999999996: 1.5,\n",
       " 1270.1000000000004: 11.7,\n",
       " 1318.300000000001: 12.0,\n",
       " 1354.6000000000004: 9.5,\n",
       " 1368.1000000000004: -4.1,\n",
       " 1400.300000000001: -4.4,\n",
       " 1431.8999999999996: -0.3,\n",
       " 1466.3999999999996: 10.1,\n",
       " 1524.6000000000004: 11.4,\n",
       " 1529.800000000001: 11.5,\n",
       " 1555.7000000000007: 3.9,\n",
       " 1575.3999999999996: 3.5,\n",
       " 1630.800000000001: 7.2,\n",
       " 1675.800000000001: 7.3,\n",
       " 1712.1000000000004: 11.3,\n",
       " 1758.0: 7.2,\n",
       " 1791.5: 7.0,\n",
       " 1811.0: 9.0,\n",
       " 1825.800000000001: 8.7,\n",
       " 1837.6000000000004: 2.0,\n",
       " 1867.0: -4.1,\n",
       " 1898.1000000000004: -2.9,\n",
       " 1917.3999999999996: 1.2,\n",
       " 1935.6000000000004: 3.5,\n",
       " 1949.3999999999996: 8.4,\n",
       " 1972.0: 11.0,\n",
       " 1994.5: 10.8,\n",
       " 2025.1000000000004: 14.7,\n",
       " 2049.300000000001: 14.5,\n",
       " 2066.3999999999996: 13.0,\n",
       " 2081.300000000001: 2.4,\n",
       " 2087.1000000000004: -0.6,\n",
       " 2118.300000000001: -4.8,\n",
       " 2131.800000000001: -1.9,\n",
       " 2145.0: -3.1,\n",
       " 2169.8999999999996: -2.9,\n",
       " 2187.0: -1.0,\n",
       " 2204.6000000000004: -2.2,\n",
       " 2210.800000000001: 7.5,\n",
       " 2253.800000000001: 8.8,\n",
       " 2279.5: 10.0,\n",
       " 2310.5: 11.0,\n",
       " 2342.7000000000007: 9.0,\n",
       " 2362.800000000001: 5.3,\n",
       " 2373.0: 1.5,\n",
       " 2409.1000000000004: -1.7,\n",
       " 2439.2000000000007: 2.7,\n",
       " 2461.5: 7.0,\n",
       " 2474.5: 17.5,\n",
       " 2491.2000000000007: 17.0,\n",
       " 2500.300000000001: 5.4,\n",
       " 2542.800000000001: -0.4,\n",
       " 2559.300000000001: 1.5,\n",
       " 2588.300000000001: 4.5,\n",
       " 2604.800000000001: 12.4,\n",
       " 2610.2000000000007: 9.2,\n",
       " 2646.7000000000007: 11.1,\n",
       " 2665.8999999999996: 6.5,\n",
       " 2684.300000000001: 3.7,\n",
       " 2698.1000000000004: -0.2,\n",
       " 2721.8999999999996: 0.5,\n",
       " 2726.6000000000004: 11.8,\n",
       " 2773.800000000001: 8.4,\n",
       " 2809.8999999999996: 5.0,\n",
       " 2847.6000000000004: 0.2,\n",
       " 2876.800000000001: 2.0,\n",
       " 2925.2000000000007: 5.8,\n",
       " 2966.7000000000007: 9.2,\n",
       " 2979.7000000000007: 12.9,\n",
       " 2999.8999999999996: 21.9,\n",
       " 3011.0: 11.7,\n",
       " 3024.0: -3.0,\n",
       " 3067.3999999999996: 1.7,\n",
       " 3111.1000000000004: 6.6,\n",
       " 3143.800000000001: 9.6,\n",
       " 3182.7000000000007: 6.5,\n",
       " 3208.7000000000007: 5.5,\n",
       " 3248.8999999999996: 13.4,\n",
       " 3268.0: 12.0,\n",
       " 3293.0: 11.5,\n",
       " 3312.6000000000004: 8.7,\n",
       " 3330.8999999999996: 6.9,\n",
       " 3371.0: 0.2,\n",
       " 3397.8999999999996: 0.3,\n",
       " 3418.7000000000007: 8.3,\n",
       " 3433.5: 26.2,\n",
       " 3446.800000000001: 24.3,\n",
       " 3457.3999999999996: 5.7,\n",
       " 3509.300000000001: -0.9,\n",
       " 3559.800000000001: -1.0,\n",
       " 3590.800000000001: -2.3,\n",
       " 3596.7000000000007: -0.5,\n",
       " 3645.8999999999996: 1.1,\n",
       " 3655.800000000001: 11.5,\n",
       " 3697.1000000000004: 16.4,\n",
       " 3725.6000000000004: 14.3,\n",
       " 3758.8999999999996: 4.3,\n",
       " 3791.8999999999996: 6.0,\n",
       " 3827.5: 10.9,\n",
       " 3857.1000000000004: 14.9,\n",
       " 3885.7000000000007: 8.5,\n",
       " 3913.6000000000004: -1.6,\n",
       " 3924.800000000001: -7.1,\n",
       " 3949.3999999999996: 0.7,\n",
       " 3988.300000000001: 0.6,\n",
       " 4044.0: 2.3,\n",
       " 4085.1000000000004: 2.9,\n",
       " 4090.6000000000004: 16.7,\n",
       " 4125.0: 12.9,\n",
       " 4152.0: 8.8,\n",
       " 4175.5: 0.7,\n",
       " 4215.800000000001: 0.5,\n",
       " 4268.5: 2.2,\n",
       " 4317.6: 1.6,\n",
       " 4356.800000000001: 3.7,\n",
       " 4402.6: 4.0,\n",
       " 4409.700000000001: 11.4,\n",
       " 4441.6: 16.7,\n",
       " 4446.300000000001: 15.3,\n",
       " 4469.300000000001: 9.3,\n",
       " 4506.300000000001: 9.1,\n",
       " 4526.4: 7.6,\n",
       " 4554.800000000001: 4.2,\n",
       " 4580.700000000001: 4.7,\n",
       " 4610.9: -1.2,\n",
       " 4615.0: -0.7,\n",
       " 4622.800000000001: -8.8}"
      ]
     },
     "execution_count": 102,
     "metadata": {},
     "output_type": "execute_result"
    },
    {
     "data": {
      "application/javascript": [
       "\n",
       "            setTimeout(function() {\n",
       "                var nbb_cell_id = 102;\n",
       "                var nbb_unformatted_code = \"flagstaff_gradients = {r.distance: r.gradient for r in flagstaff.itertuples()}\\nflagstaff_gradients\";\n",
       "                var nbb_formatted_code = \"flagstaff_gradients = {r.distance: r.gradient for r in flagstaff.itertuples()}\\nflagstaff_gradients\";\n",
       "                var nbb_cells = Jupyter.notebook.get_cells();\n",
       "                for (var i = 0; i < nbb_cells.length; ++i) {\n",
       "                    if (nbb_cells[i].input_prompt_number == nbb_cell_id) {\n",
       "                        if (nbb_cells[i].get_text() == nbb_unformatted_code) {\n",
       "                             nbb_cells[i].set_text(nbb_formatted_code);\n",
       "                        }\n",
       "                        break;\n",
       "                    }\n",
       "                }\n",
       "            }, 500);\n",
       "            "
      ],
      "text/plain": [
       "<IPython.core.display.Javascript object>"
      ]
     },
     "metadata": {},
     "output_type": "display_data"
    }
   ],
   "source": [
    "flagstaff_gradients = {r.distance: r.gradient for r in flagstaff.itertuples()}\n",
    "flagstaff_gradients"
   ]
  },
  {
   "cell_type": "code",
   "execution_count": null,
   "id": "f8637ac7",
   "metadata": {},
   "outputs": [],
   "source": []
  },
  {
   "cell_type": "code",
   "execution_count": null,
   "id": "6e91c808",
   "metadata": {},
   "outputs": [],
   "source": []
  },
  {
   "cell_type": "markdown",
   "id": "8a54d9ef",
   "metadata": {},
   "source": [
    "# Run on real data "
   ]
  },
  {
   "cell_type": "code",
   "execution_count": 46,
   "id": "44a76f6a",
   "metadata": {},
   "outputs": [
    {
     "data": {
      "application/javascript": [
       "\n",
       "            setTimeout(function() {\n",
       "                var nbb_cell_id = 46;\n",
       "                var nbb_unformatted_code = \"# run(gradients=flagstaff_gradients)\";\n",
       "                var nbb_formatted_code = \"# run(gradients=flagstaff_gradients)\";\n",
       "                var nbb_cells = Jupyter.notebook.get_cells();\n",
       "                for (var i = 0; i < nbb_cells.length; ++i) {\n",
       "                    if (nbb_cells[i].input_prompt_number == nbb_cell_id) {\n",
       "                        if (nbb_cells[i].get_text() == nbb_unformatted_code) {\n",
       "                             nbb_cells[i].set_text(nbb_formatted_code);\n",
       "                        }\n",
       "                        break;\n",
       "                    }\n",
       "                }\n",
       "            }, 500);\n",
       "            "
      ],
      "text/plain": [
       "<IPython.core.display.Javascript object>"
      ]
     },
     "metadata": {},
     "output_type": "display_data"
    }
   ],
   "source": [
    "# run(gradients=flagstaff_gradients)"
   ]
  },
  {
   "cell_type": "code",
   "execution_count": 105,
   "id": "1e9c77a3",
   "metadata": {},
   "outputs": [
    {
     "data": {
      "text/html": [
       "<div>\n",
       "<style scoped>\n",
       "    .dataframe tbody tr th:only-of-type {\n",
       "        vertical-align: middle;\n",
       "    }\n",
       "\n",
       "    .dataframe tbody tr th {\n",
       "        vertical-align: top;\n",
       "    }\n",
       "\n",
       "    .dataframe thead th {\n",
       "        text-align: right;\n",
       "    }\n",
       "</style>\n",
       "<table border=\"1\" class=\"dataframe\">\n",
       "  <thead>\n",
       "    <tr style=\"text-align: right;\">\n",
       "      <th></th>\n",
       "      <th>dist_traveled</th>\n",
       "      <th>total_time</th>\n",
       "      <th>energy_spent</th>\n",
       "    </tr>\n",
       "  </thead>\n",
       "  <tbody>\n",
       "    <tr>\n",
       "      <th>count</th>\n",
       "      <td>100.000000</td>\n",
       "      <td>100.000000</td>\n",
       "      <td>100.000000</td>\n",
       "    </tr>\n",
       "    <tr>\n",
       "      <th>mean</th>\n",
       "      <td>4699.657540</td>\n",
       "      <td>1268.000000</td>\n",
       "      <td>253725.511417</td>\n",
       "    </tr>\n",
       "    <tr>\n",
       "      <th>std</th>\n",
       "      <td>45.631813</td>\n",
       "      <td>25.105837</td>\n",
       "      <td>4782.315162</td>\n",
       "    </tr>\n",
       "    <tr>\n",
       "      <th>min</th>\n",
       "      <td>4622.140874</td>\n",
       "      <td>1200.000000</td>\n",
       "      <td>241498.910175</td>\n",
       "    </tr>\n",
       "    <tr>\n",
       "      <th>25%</th>\n",
       "      <td>4693.557662</td>\n",
       "      <td>1250.000000</td>\n",
       "      <td>250572.417793</td>\n",
       "    </tr>\n",
       "    <tr>\n",
       "      <th>50%</th>\n",
       "      <td>4697.910347</td>\n",
       "      <td>1270.000000</td>\n",
       "      <td>253460.672747</td>\n",
       "    </tr>\n",
       "    <tr>\n",
       "      <th>75%</th>\n",
       "      <td>4706.765609</td>\n",
       "      <td>1290.000000</td>\n",
       "      <td>257474.314503</td>\n",
       "    </tr>\n",
       "    <tr>\n",
       "      <th>max</th>\n",
       "      <td>4804.161273</td>\n",
       "      <td>1330.000000</td>\n",
       "      <td>265541.543444</td>\n",
       "    </tr>\n",
       "  </tbody>\n",
       "</table>\n",
       "</div>"
      ],
      "text/plain": [
       "       dist_traveled   total_time   energy_spent\n",
       "count     100.000000   100.000000     100.000000\n",
       "mean     4699.657540  1268.000000  253725.511417\n",
       "std        45.631813    25.105837    4782.315162\n",
       "min      4622.140874  1200.000000  241498.910175\n",
       "25%      4693.557662  1250.000000  250572.417793\n",
       "50%      4697.910347  1270.000000  253460.672747\n",
       "75%      4706.765609  1290.000000  257474.314503\n",
       "max      4804.161273  1330.000000  265541.543444"
      ]
     },
     "execution_count": 105,
     "metadata": {},
     "output_type": "execute_result"
    },
    {
     "data": {
      "application/javascript": [
       "\n",
       "            setTimeout(function() {\n",
       "                var nbb_cell_id = 105;\n",
       "                var nbb_unformatted_code = \"data = [run(gradients=flagstaff_gradients) for i in range(100)]\\n\\ndf = pd.DataFrame(data)\\ndf.describe()\";\n",
       "                var nbb_formatted_code = \"data = [run(gradients=flagstaff_gradients) for i in range(100)]\\n\\ndf = pd.DataFrame(data)\\ndf.describe()\";\n",
       "                var nbb_cells = Jupyter.notebook.get_cells();\n",
       "                for (var i = 0; i < nbb_cells.length; ++i) {\n",
       "                    if (nbb_cells[i].input_prompt_number == nbb_cell_id) {\n",
       "                        if (nbb_cells[i].get_text() == nbb_unformatted_code) {\n",
       "                             nbb_cells[i].set_text(nbb_formatted_code);\n",
       "                        }\n",
       "                        break;\n",
       "                    }\n",
       "                }\n",
       "            }, 500);\n",
       "            "
      ],
      "text/plain": [
       "<IPython.core.display.Javascript object>"
      ]
     },
     "metadata": {},
     "output_type": "display_data"
    }
   ],
   "source": [
    "data = [run(gradients=flagstaff_gradients) for i in range(100)]\n",
    "\n",
    "df = pd.DataFrame(data)\n",
    "df.describe()"
   ]
  },
  {
   "cell_type": "code",
   "execution_count": 106,
   "id": "74321372",
   "metadata": {},
   "outputs": [
    {
     "data": {
      "text/plain": [
       "<matplotlib.collections.PathCollection at 0x7f8a492f5990>"
      ]
     },
     "execution_count": 106,
     "metadata": {},
     "output_type": "execute_result"
    },
    {
     "data": {
      "image/png": "[encoded data removed]",
      "text/plain": [
       "<Figure size 432x288 with 1 Axes>"
      ]
     },
     "metadata": {
      "needs_background": "light"
     },
     "output_type": "display_data"
    },
    {
     "data": {
      "application/javascript": [
       "\n",
       "            setTimeout(function() {\n",
       "                var nbb_cell_id = 106;\n",
       "                var nbb_unformatted_code = \"sel = df[df.energy_spent < df.energy_spent.mean()]\\n\\np = sel[sel.total_time == sel.total_time.min()].head(1).power_profile.values[0]\\n\\nplt.scatter(p.keys(), p.values())\";\n",
       "                var nbb_formatted_code = \"sel = df[df.energy_spent < df.energy_spent.mean()]\\n\\np = sel[sel.total_time == sel.total_time.min()].head(1).power_profile.values[0]\\n\\nplt.scatter(p.keys(), p.values())\";\n",
       "                var nbb_cells = Jupyter.notebook.get_cells();\n",
       "                for (var i = 0; i < nbb_cells.length; ++i) {\n",
       "                    if (nbb_cells[i].input_prompt_number == nbb_cell_id) {\n",
       "                        if (nbb_cells[i].get_text() == nbb_unformatted_code) {\n",
       "                             nbb_cells[i].set_text(nbb_formatted_code);\n",
       "                        }\n",
       "                        break;\n",
       "                    }\n",
       "                }\n",
       "            }, 500);\n",
       "            "
      ],
      "text/plain": [
       "<IPython.core.display.Javascript object>"
      ]
     },
     "metadata": {},
     "output_type": "display_data"
    }
   ],
   "source": [
    "sel = df[df.energy_spent < df.energy_spent.mean()]\n",
    "\n",
    "p = sel[sel.total_time == sel.total_time.min()].head(1).power_profile.values[0]\n",
    "\n",
    "plt.scatter(p.keys(), p.values())"
   ]
  },
  {
   "cell_type": "markdown",
   "id": "576befea",
   "metadata": {},
   "source": [
    "# Set up an optimization problem \n",
    "\n",
    "Alow input vector of length 170. Sum up the time taken."
   ]
  },
  {
   "cell_type": "code",
   "execution_count": 144,
   "id": "6ee18af5",
   "metadata": {},
   "outputs": [
    {
     "data": {
      "application/javascript": [
       "\n",
       "            setTimeout(function() {\n",
       "                var nbb_cell_id = 144;\n",
       "                var nbb_unformatted_code = \"from scipy.optimize import LinearConstraint\\n\\n\\n# Sum of power is capped\\n\\nlinear_constraint = LinearConstraint([[1] * 170], lb=[1], ub=[200 * 170])\";\n",
       "                var nbb_formatted_code = \"from scipy.optimize import LinearConstraint\\n\\n\\n# Sum of power is capped\\n\\nlinear_constraint = LinearConstraint([[1] * 170], lb=[1], ub=[200 * 170])\";\n",
       "                var nbb_cells = Jupyter.notebook.get_cells();\n",
       "                for (var i = 0; i < nbb_cells.length; ++i) {\n",
       "                    if (nbb_cells[i].input_prompt_number == nbb_cell_id) {\n",
       "                        if (nbb_cells[i].get_text() == nbb_unformatted_code) {\n",
       "                             nbb_cells[i].set_text(nbb_formatted_code);\n",
       "                        }\n",
       "                        break;\n",
       "                    }\n",
       "                }\n",
       "            }, 500);\n",
       "            "
      ],
      "text/plain": [
       "<IPython.core.display.Javascript object>"
      ]
     },
     "metadata": {},
     "output_type": "display_data"
    }
   ],
   "source": [
    "from scipy.optimize import LinearConstraint\n",
    "\n",
    "\n",
    "# Sum of power is capped\n",
    "\n",
    "linear_constraint = LinearConstraint([[1] * 170], lb=[1], ub=[200 * 170])"
   ]
  },
  {
   "cell_type": "code",
   "execution_count": null,
   "id": "b6f7a7c8",
   "metadata": {},
   "outputs": [],
   "source": []
  },
  {
   "cell_type": "code",
   "execution_count": 163,
   "id": "408328d0",
   "metadata": {},
   "outputs": [
    {
     "data": {
      "application/javascript": [
       "\n",
       "            setTimeout(function() {\n",
       "                var nbb_cell_id = 163;\n",
       "                var nbb_unformatted_code = \"def run(gradients, power_profile):\\n\\n    D = 4622  # meters\\n    dt = 10  # secs\\n    dist_traveled = 0\\n    energy_spent = 0\\n    total_time = 0\\n    power_profile_list = []\\n    for i in range(9999):\\n        #         P = 200 + np.random.rand() * 10 - 5\\n        for dist, g in gradients.items():\\n            if dist_traveled < dist:\\n                gradient = g\\n                break\\n        P = power_profile[gradient]\\n        power_profile_list.append(P)\\n        v = power_to_speed(P, g)\\n        dist_traveled += v * dt\\n        energy_spent += P * dt\\n        total_time += dt\\n        #         print(f\\\"P={P}, g={g}, D={D}, v={v}\\\")\\n        if dist_traveled > D:\\n            break\\n    return {\\n        \\\"dist_traveled\\\": dist_traveled,\\n        \\\"total_time\\\": total_time,\\n        \\\"energy_spent\\\": energy_spent,\\n        \\\"power_profile\\\": power_profile,\\n    }\";\n",
       "                var nbb_formatted_code = \"def run(gradients, power_profile):\\n\\n    D = 4622  # meters\\n    dt = 10  # secs\\n    dist_traveled = 0\\n    energy_spent = 0\\n    total_time = 0\\n    power_profile_list = []\\n    for i in range(9999):\\n        #         P = 200 + np.random.rand() * 10 - 5\\n        for dist, g in gradients.items():\\n            if dist_traveled < dist:\\n                gradient = g\\n                break\\n        P = power_profile[gradient]\\n        power_profile_list.append(P)\\n        v = power_to_speed(P, g)\\n        dist_traveled += v * dt\\n        energy_spent += P * dt\\n        total_time += dt\\n        #         print(f\\\"P={P}, g={g}, D={D}, v={v}\\\")\\n        if dist_traveled > D:\\n            break\\n    return {\\n        \\\"dist_traveled\\\": dist_traveled,\\n        \\\"total_time\\\": total_time,\\n        \\\"energy_spent\\\": energy_spent,\\n        \\\"power_profile\\\": power_profile,\\n    }\";\n",
       "                var nbb_cells = Jupyter.notebook.get_cells();\n",
       "                for (var i = 0; i < nbb_cells.length; ++i) {\n",
       "                    if (nbb_cells[i].input_prompt_number == nbb_cell_id) {\n",
       "                        if (nbb_cells[i].get_text() == nbb_unformatted_code) {\n",
       "                             nbb_cells[i].set_text(nbb_formatted_code);\n",
       "                        }\n",
       "                        break;\n",
       "                    }\n",
       "                }\n",
       "            }, 500);\n",
       "            "
      ],
      "text/plain": [
       "<IPython.core.display.Javascript object>"
      ]
     },
     "metadata": {},
     "output_type": "display_data"
    }
   ],
   "source": [
    "def run(gradients, power_profile):\n",
    "\n",
    "    D = 4622  # meters\n",
    "    dt = 10  # secs\n",
    "    dist_traveled = 0\n",
    "    energy_spent = 0\n",
    "    total_time = 0\n",
    "    power_profile_list = []\n",
    "    for i in range(9999):\n",
    "        #         P = 200 + np.random.rand() * 10 - 5\n",
    "        for dist, g in gradients.items():\n",
    "            if dist_traveled < dist:\n",
    "                gradient = g\n",
    "                break\n",
    "        P = power_profile[gradient]\n",
    "        power_profile_list.append(P)\n",
    "        v = power_to_speed(P, g)\n",
    "        dist_traveled += v * dt\n",
    "        energy_spent += P * dt\n",
    "        total_time += dt\n",
    "        #         print(f\"P={P}, g={g}, D={D}, v={v}\")\n",
    "        if dist_traveled > D:\n",
    "            break\n",
    "    return {\n",
    "        \"dist_traveled\": dist_traveled,\n",
    "        \"total_time\": total_time,\n",
    "        \"energy_spent\": energy_spent,\n",
    "        \"power_profile\": power_profile,\n",
    "    }"
   ]
  },
  {
   "cell_type": "code",
   "execution_count": null,
   "id": "cd05a73c",
   "metadata": {},
   "outputs": [],
   "source": []
  },
  {
   "cell_type": "code",
   "execution_count": 164,
   "id": "2c3903c6",
   "metadata": {},
   "outputs": [
    {
     "data": {
      "application/javascript": [
       "\n",
       "            setTimeout(function() {\n",
       "                var nbb_cell_id = 164;\n",
       "                var nbb_unformatted_code = \"def minimize_me(powers):\\n    \\\"\\\"\\\"Calculate power loss given ground speed velocity and angle\\n\\n    Parameters\\n    ----------\\n    powers : list\\n        list of powers\\n\\n    Returns\\n    -------\\n    float\\n        Total time (s)\\n\\n    \\\"\\\"\\\"\\n    power_profile = dict(zip(flagstaff_gradients.values(), powers))\\n    result = run(gradients=flagstaff_gradients, power_profile=power_profile)\\n\\n    return result[\\\"total_time\\\"]\";\n",
       "                var nbb_formatted_code = \"def minimize_me(powers):\\n    \\\"\\\"\\\"Calculate power loss given ground speed velocity and angle\\n\\n    Parameters\\n    ----------\\n    powers : list\\n        list of powers\\n\\n    Returns\\n    -------\\n    float\\n        Total time (s)\\n\\n    \\\"\\\"\\\"\\n    power_profile = dict(zip(flagstaff_gradients.values(), powers))\\n    result = run(gradients=flagstaff_gradients, power_profile=power_profile)\\n\\n    return result[\\\"total_time\\\"]\";\n",
       "                var nbb_cells = Jupyter.notebook.get_cells();\n",
       "                for (var i = 0; i < nbb_cells.length; ++i) {\n",
       "                    if (nbb_cells[i].input_prompt_number == nbb_cell_id) {\n",
       "                        if (nbb_cells[i].get_text() == nbb_unformatted_code) {\n",
       "                             nbb_cells[i].set_text(nbb_formatted_code);\n",
       "                        }\n",
       "                        break;\n",
       "                    }\n",
       "                }\n",
       "            }, 500);\n",
       "            "
      ],
      "text/plain": [
       "<IPython.core.display.Javascript object>"
      ]
     },
     "metadata": {},
     "output_type": "display_data"
    }
   ],
   "source": [
    "def minimize_me(powers):\n",
    "    \"\"\"Calculate power loss given ground speed velocity and angle\n",
    "\n",
    "    Parameters\n",
    "    ----------\n",
    "    powers : list\n",
    "        list of powers\n",
    "\n",
    "    Returns\n",
    "    -------\n",
    "    float\n",
    "        Total time (s)\n",
    "\n",
    "    \"\"\"\n",
    "    power_profile = dict(zip(flagstaff_gradients.values(), powers))\n",
    "    result = run(gradients=flagstaff_gradients, power_profile=power_profile)\n",
    "\n",
    "    return result[\"total_time\"]"
   ]
  },
  {
   "cell_type": "code",
   "execution_count": null,
   "id": "286f065a",
   "metadata": {},
   "outputs": [],
   "source": []
  },
  {
   "cell_type": "code",
   "execution_count": 169,
   "id": "3961e8c0",
   "metadata": {},
   "outputs": [
    {
     "data": {
      "text/plain": [
       "1320"
      ]
     },
     "execution_count": 169,
     "metadata": {},
     "output_type": "execute_result"
    },
    {
     "data": {
      "application/javascript": [
       "\n",
       "            setTimeout(function() {\n",
       "                var nbb_cell_id = 169;\n",
       "                var nbb_unformatted_code = \"minimize_me([200] * 170)\";\n",
       "                var nbb_formatted_code = \"minimize_me([200] * 170)\";\n",
       "                var nbb_cells = Jupyter.notebook.get_cells();\n",
       "                for (var i = 0; i < nbb_cells.length; ++i) {\n",
       "                    if (nbb_cells[i].input_prompt_number == nbb_cell_id) {\n",
       "                        if (nbb_cells[i].get_text() == nbb_unformatted_code) {\n",
       "                             nbb_cells[i].set_text(nbb_formatted_code);\n",
       "                        }\n",
       "                        break;\n",
       "                    }\n",
       "                }\n",
       "            }, 500);\n",
       "            "
      ],
      "text/plain": [
       "<IPython.core.display.Javascript object>"
      ]
     },
     "metadata": {},
     "output_type": "display_data"
    }
   ],
   "source": [
    "minimize_me([200] * 170)"
   ]
  },
  {
   "cell_type": "code",
   "execution_count": 174,
   "id": "b4d102b8",
   "metadata": {},
   "outputs": [
    {
     "data": {
      "text/plain": [
       "890"
      ]
     },
     "execution_count": 174,
     "metadata": {},
     "output_type": "execute_result"
    },
    {
     "data": {
      "application/javascript": [
       "\n",
       "            setTimeout(function() {\n",
       "                var nbb_cell_id = 174;\n",
       "                var nbb_unformatted_code = \"minimize_me([299] * 170)\";\n",
       "                var nbb_formatted_code = \"minimize_me([299] * 170)\";\n",
       "                var nbb_cells = Jupyter.notebook.get_cells();\n",
       "                for (var i = 0; i < nbb_cells.length; ++i) {\n",
       "                    if (nbb_cells[i].input_prompt_number == nbb_cell_id) {\n",
       "                        if (nbb_cells[i].get_text() == nbb_unformatted_code) {\n",
       "                             nbb_cells[i].set_text(nbb_formatted_code);\n",
       "                        }\n",
       "                        break;\n",
       "                    }\n",
       "                }\n",
       "            }, 500);\n",
       "            "
      ],
      "text/plain": [
       "<IPython.core.display.Javascript object>"
      ]
     },
     "metadata": {},
     "output_type": "display_data"
    }
   ],
   "source": [
    "minimize_me([299] * 170)"
   ]
  },
  {
   "cell_type": "code",
   "execution_count": null,
   "id": "bb2be981",
   "metadata": {},
   "outputs": [],
   "source": []
  },
  {
   "cell_type": "code",
   "execution_count": null,
   "id": "02efb6b1",
   "metadata": {},
   "outputs": [],
   "source": []
  },
  {
   "cell_type": "code",
   "execution_count": null,
   "id": "a9efbc4a",
   "metadata": {},
   "outputs": [],
   "source": []
  },
  {
   "cell_type": "code",
   "execution_count": 177,
   "id": "f8450163",
   "metadata": {},
   "outputs": [
    {
     "data": {
      "text/plain": [
       "     fun: 1240.0\n",
       "     jac: array([0., 0., 0., 0., 0., 0., 0., 0., 0., 0., 0., 0., 0., 0., 0., 0., 0.,\n",
       "       0., 0., 0., 0., 0., 0., 0., 0., 0., 0., 0., 0., 0., 0., 0., 0., 0.,\n",
       "       0., 0., 0., 0., 0., 0., 0., 0., 0., 0., 0., 0., 0., 0., 0., 0., 0.,\n",
       "       0., 0., 0., 0., 0., 0., 0., 0., 0., 0., 0., 0., 0., 0., 0., 0., 0.,\n",
       "       0., 0., 0., 0., 0., 0., 0., 0., 0., 0., 0., 0., 0., 0., 0., 0., 0.,\n",
       "       0., 0., 0., 0., 0., 0., 0., 0., 0., 0., 0., 0., 0., 0., 0., 0., 0.,\n",
       "       0., 0., 0., 0., 0., 0., 0., 0., 0., 0., 0., 0., 0., 0., 0., 0., 0.,\n",
       "       0., 0., 0., 0., 0., 0., 0., 0., 0., 0., 0., 0., 0., 0., 0., 0., 0.,\n",
       "       0., 0., 0., 0., 0., 0., 0., 0., 0., 0., 0., 0., 0., 0., 0., 0., 0.,\n",
       "       0., 0., 0., 0., 0., 0., 0., 0., 0., 0., 0., 0., 0., 0., 0., 0., 0.])\n",
       " message: 'Optimization terminated successfully'\n",
       "    nfev: 171\n",
       "     nit: 1\n",
       "    njev: 1\n",
       "  status: 0\n",
       " success: True\n",
       "       x: array([177., 199., 199., 199., 199., 199., 199., 199., 199., 199., 199.,\n",
       "       199., 199., 199., 199., 199., 199., 199., 199., 199., 199., 199.,\n",
       "       199., 199., 199., 199., 199., 199., 199., 199., 199., 199., 199.,\n",
       "       199., 199., 199., 199., 199., 199., 199., 199., 199., 199., 199.,\n",
       "       199., 199., 199., 199., 199., 199., 199., 199., 199., 199., 199.,\n",
       "       199., 199., 199., 199., 199., 199., 199., 199., 199., 199., 199.,\n",
       "       199., 199., 199., 199., 199., 199., 199., 199., 199., 199., 199.,\n",
       "       199., 199., 199., 199., 199., 199., 199., 199., 199., 199., 199.,\n",
       "       199., 199., 199., 199., 199., 199., 199., 199., 199., 199., 199.,\n",
       "       199., 199., 199., 199., 199., 199., 199., 199., 199., 199., 199.,\n",
       "       199., 199., 199., 199., 199., 199., 199., 199., 199., 199., 199.,\n",
       "       199., 199., 199., 199., 199., 199., 199., 199., 199., 199., 199.,\n",
       "       199., 199., 199., 199., 199., 199., 199., 199., 199., 199., 199.,\n",
       "       199., 199., 199., 199., 199., 199., 199., 199., 199., 199., 199.,\n",
       "       199., 199., 199., 199., 199., 199., 199., 199., 199., 199., 199.,\n",
       "       199., 199., 199., 199., 199.])"
      ]
     },
     "execution_count": 177,
     "metadata": {},
     "output_type": "execute_result"
    },
    {
     "data": {
      "application/javascript": [
       "\n",
       "            setTimeout(function() {\n",
       "                var nbb_cell_id = 177;\n",
       "                var nbb_unformatted_code = \"optimize.minimize(\\n    fun=minimize_me, x0=np.array([177] + [199] * 169), constraints=linear_constraint\\n)\";\n",
       "                var nbb_formatted_code = \"optimize.minimize(\\n    fun=minimize_me, x0=np.array([177] + [199] * 169), constraints=linear_constraint\\n)\";\n",
       "                var nbb_cells = Jupyter.notebook.get_cells();\n",
       "                for (var i = 0; i < nbb_cells.length; ++i) {\n",
       "                    if (nbb_cells[i].input_prompt_number == nbb_cell_id) {\n",
       "                        if (nbb_cells[i].get_text() == nbb_unformatted_code) {\n",
       "                             nbb_cells[i].set_text(nbb_formatted_code);\n",
       "                        }\n",
       "                        break;\n",
       "                    }\n",
       "                }\n",
       "            }, 500);\n",
       "            "
      ],
      "text/plain": [
       "<IPython.core.display.Javascript object>"
      ]
     },
     "metadata": {},
     "output_type": "display_data"
    }
   ],
   "source": [
    "optimize.minimize(\n",
    "    fun=minimize_me, x0=np.array([177] + [199] * 169), constraints=linear_constraint\n",
    ")"
   ]
  },
  {
   "cell_type": "code",
   "execution_count": null,
   "id": "ffab9af7",
   "metadata": {},
   "outputs": [],
   "source": []
  }
 ],
 "metadata": {
  "kernelspec": {
   "display_name": "Python [conda env:root] *",
   "language": "python",
   "name": "conda-root-py"
  },
  "language_info": {
   "codemirror_mode": {
    "name": "ipython",
    "version": 3
   },
   "file_extension": ".py",
   "mimetype": "text/x-python",
   "name": "python",
   "nbconvert_exporter": "python",
   "pygments_lexer": "ipython3",
   "version": "3.7.4"
  }
 },
 "nbformat": 4,
 "nbformat_minor": 5
}

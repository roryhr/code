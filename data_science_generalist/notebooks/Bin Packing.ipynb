{
 "cells": [
  {
   "cell_type": "markdown",
   "metadata": {},
   "source": [
    "# Bin Packing\n",
    "\n",
    "Given 3 box options at flat rate: small, medium, large and an assortment of wigets to ship. \n",
    "What's the cheapest way to ship all the widgets?"
   ]
  },
  {
   "cell_type": "code",
   "execution_count": 1,
   "metadata": {
    "collapsed": true
   },
   "outputs": [],
   "source": [
    "import random\n",
    "import pandas as pd"
   ]
  },
  {
   "cell_type": "code",
   "execution_count": 2,
   "metadata": {
    "collapsed": true
   },
   "outputs": [],
   "source": [
    "class Part:\n",
    "    def __init__(self, volume, weight): \n",
    "        self.volume = volume\n",
    "        self.weight = weight\n",
    "     \n",
    "    def __repr__(self):\n",
    "        return 'Part({}, {})'.format(self.volume, self.weight)       \n",
    "\n",
    "class Box:\n",
    "    def __init__(self, volume_capacity, weight_capacity, cost):\n",
    "        self.volume_capacity = volume_capacity\n",
    "        self.weight_capacity = weight_capacity\n",
    "        self.cost = cost\n",
    "        self.current_volume = 0\n",
    "        self.current_weight = 0\n",
    "        self.contents = []\n",
    "    \n",
    "    def __repr__(self):\n",
    "        return 'Box({}, {})'.format(self.volume_capacity, self.weight_capacity)\n",
    "\n",
    "    def add(self, part):\n",
    "        added = self.can_add(part)\n",
    "        if added:\n",
    "            self._add(part)\n",
    "        \n",
    "        return added\n",
    "        \n",
    "    def can_add(self, part):\n",
    "        if self.current_volume + part.volume > self.volume_capacity:\n",
    "            return False\n",
    "        elif self.current_weight + part.weight > self.weight_capacity:\n",
    "            return False\n",
    "        \n",
    "        return True\n",
    "    \n",
    "    def _add(self, part):\n",
    "        self.contents.append(part)\n",
    "        self.current_volume += part.volume\n",
    "        self.current_weight += part.weight"
   ]
  },
  {
   "cell_type": "code",
   "execution_count": 4,
   "metadata": {},
   "outputs": [],
   "source": [
    "p1 = Part(50, 3)\n",
    "b1 = Box(volume_capacity=100, weight_capacity=50, cost=10)"
   ]
  },
  {
   "cell_type": "code",
   "execution_count": 64,
   "metadata": {},
   "outputs": [
    {
     "data": {
      "text/plain": [
       "False"
      ]
     },
     "execution_count": 64,
     "metadata": {},
     "output_type": "execute_result"
    }
   ],
   "source": [
    "Box(100, 20, cost=26.50) == Box(100, 20, cost=26.50)"
   ]
  },
  {
   "cell_type": "code",
   "execution_count": 133,
   "metadata": {
    "collapsed": true
   },
   "outputs": [],
   "source": [
    "\n",
    "\n",
    "\n"
   ]
  },
  {
   "cell_type": "code",
   "execution_count": 134,
   "metadata": {
    "collapsed": true
   },
   "outputs": [],
   "source": []
  },
  {
   "cell_type": "code",
   "execution_count": 135,
   "metadata": {
    "collapsed": true
   },
   "outputs": [],
   "source": []
  },
  {
   "cell_type": "code",
   "execution_count": 5,
   "metadata": {
    "collapsed": true
   },
   "outputs": [],
   "source": [
    "def get_box():\n",
    "    box_options = [\n",
    "        Box(12*12*12, 13, cost=26.50),\n",
    "        Box(16*14*12, 20, cost=48.95), \n",
    "        Box(16*16*16, 20, cost=63.70),   \n",
    "    ]\n",
    "    return random.choice(box_options)\n",
    "\n",
    "def add_part(boxes, part, tries=5):\n",
    "    for _ in range(tries):\n",
    "        box = random.choice(boxes)\n",
    "        if box.add(part):\n",
    "            return True\n",
    "    return False\n",
    "\n",
    "def try_twice(parts):\n",
    "    boxes = [get_box()]\n",
    "    for part in parts:\n",
    "        is_added = add_part(boxes, part)\n",
    "        \n",
    "        if is_added:\n",
    "            continue\n",
    "        \n",
    "        new_box = get_box()\n",
    "        try3 = new_box.add(part)\n",
    "        # We assume any part by itself fits in any size box\n",
    "        assert try3\n",
    "        boxes.append(new_box)\n",
    "    return boxes"
   ]
  },
  {
   "cell_type": "code",
   "execution_count": 31,
   "metadata": {
    "collapsed": true
   },
   "outputs": [],
   "source": [
    "import random"
   ]
  },
  {
   "cell_type": "code",
   "execution_count": 32,
   "metadata": {},
   "outputs": [
    {
     "data": {
      "text/plain": [
       "0.8009721164606363"
      ]
     },
     "execution_count": 32,
     "metadata": {},
     "output_type": "execute_result"
    }
   ],
   "source": [
    "random.random()"
   ]
  },
  {
   "cell_type": "code",
   "execution_count": 33,
   "metadata": {},
   "outputs": [
    {
     "data": {
      "text/plain": [
       "1728"
      ]
     },
     "execution_count": 33,
     "metadata": {},
     "output_type": "execute_result"
    }
   ],
   "source": [
    "12**3"
   ]
  },
  {
   "cell_type": "code",
   "execution_count": 41,
   "metadata": {},
   "outputs": [],
   "source": [
    "parts = [\n",
    "    Part(round(1000*random.random()), i/10)\n",
    "    for i\n",
    "    in range(44)\n",
    "]\n",
    "\n",
    "fitted_boxes = try_twice(parts=parts)"
   ]
  },
  {
   "cell_type": "code",
   "execution_count": 42,
   "metadata": {},
   "outputs": [
    {
     "data": {
      "text/plain": [
       "[Part(635, 0.0),\n",
       " Part(171, 0.1),\n",
       " Part(53, 0.2),\n",
       " Part(683, 0.3),\n",
       " Part(155, 0.4),\n",
       " Part(53, 0.5),\n",
       " Part(125, 0.6),\n",
       " Part(859, 0.7),\n",
       " Part(84, 0.8),\n",
       " Part(655, 0.9),\n",
       " Part(976, 1.0),\n",
       " Part(237, 1.1),\n",
       " Part(705, 1.2),\n",
       " Part(587, 1.3),\n",
       " Part(545, 1.4),\n",
       " Part(957, 1.5),\n",
       " Part(297, 1.6),\n",
       " Part(629, 1.7),\n",
       " Part(105, 1.8),\n",
       " Part(949, 1.9),\n",
       " Part(846, 2.0),\n",
       " Part(157, 2.1),\n",
       " Part(580, 2.2),\n",
       " Part(783, 2.3),\n",
       " Part(996, 2.4),\n",
       " Part(13, 2.5),\n",
       " Part(545, 2.6),\n",
       " Part(473, 2.7),\n",
       " Part(991, 2.8),\n",
       " Part(475, 2.9),\n",
       " Part(795, 3.0),\n",
       " Part(918, 3.1),\n",
       " Part(785, 3.2),\n",
       " Part(897, 3.3),\n",
       " Part(808, 3.4),\n",
       " Part(630, 3.5),\n",
       " Part(300, 3.6),\n",
       " Part(54, 3.7),\n",
       " Part(578, 3.8),\n",
       " Part(114, 3.9),\n",
       " Part(839, 4.0),\n",
       " Part(132, 4.1),\n",
       " Part(137, 4.2),\n",
       " Part(604, 4.3)]"
      ]
     },
     "execution_count": 42,
     "metadata": {},
     "output_type": "execute_result"
    }
   ],
   "source": [
    "parts"
   ]
  },
  {
   "cell_type": "code",
   "execution_count": 13,
   "metadata": {},
   "outputs": [
    {
     "data": {
      "text/plain": [
       "1728"
      ]
     },
     "execution_count": 13,
     "metadata": {},
     "output_type": "execute_result"
    }
   ],
   "source": [
    "fitted_boxes[0].volume_capacity"
   ]
  },
  {
   "cell_type": "code",
   "execution_count": 19,
   "metadata": {},
   "outputs": [
    {
     "data": {
      "text/plain": [
       "202.85000000000002"
      ]
     },
     "execution_count": 19,
     "metadata": {},
     "output_type": "execute_result"
    }
   ],
   "source": [
    "sum(map(lambda x: x.cost, fitted_boxes))"
   ]
  },
  {
   "cell_type": "code",
   "execution_count": 43,
   "metadata": {},
   "outputs": [],
   "source": [
    "box_data = []\n",
    "\n",
    "for i in range(200):\n",
    "    fitted_boxes = try_twice(parts)\n",
    "    box_data.append({\n",
    "        'trial': i,\n",
    "        'cost': sum(map(lambda x: x.cost, fitted_boxes)),\n",
    "        'box_count': len(fitted_boxes),\n",
    "    })"
   ]
  },
  {
   "cell_type": "code",
   "execution_count": 44,
   "metadata": {},
   "outputs": [
    {
     "data": {
      "text/html": [
       "<div>\n",
       "<style>\n",
       "    .dataframe thead tr:only-child th {\n",
       "        text-align: right;\n",
       "    }\n",
       "\n",
       "    .dataframe thead th {\n",
       "        text-align: left;\n",
       "    }\n",
       "\n",
       "    .dataframe tbody tr th {\n",
       "        vertical-align: top;\n",
       "    }\n",
       "</style>\n",
       "<table border=\"1\" class=\"dataframe\">\n",
       "  <thead>\n",
       "    <tr style=\"text-align: right;\">\n",
       "      <th></th>\n",
       "      <th>box_count</th>\n",
       "      <th>cost</th>\n",
       "      <th>trial</th>\n",
       "    </tr>\n",
       "  </thead>\n",
       "  <tbody>\n",
       "    <tr>\n",
       "      <th>0</th>\n",
       "      <td>9</td>\n",
       "      <td>491.85</td>\n",
       "      <td>0</td>\n",
       "    </tr>\n",
       "    <tr>\n",
       "      <th>1</th>\n",
       "      <td>11</td>\n",
       "      <td>492.90</td>\n",
       "      <td>1</td>\n",
       "    </tr>\n",
       "    <tr>\n",
       "      <th>2</th>\n",
       "      <td>10</td>\n",
       "      <td>495.90</td>\n",
       "      <td>2</td>\n",
       "    </tr>\n",
       "    <tr>\n",
       "      <th>3</th>\n",
       "      <td>11</td>\n",
       "      <td>448.00</td>\n",
       "      <td>3</td>\n",
       "    </tr>\n",
       "    <tr>\n",
       "      <th>4</th>\n",
       "      <td>13</td>\n",
       "      <td>545.90</td>\n",
       "      <td>4</td>\n",
       "    </tr>\n",
       "  </tbody>\n",
       "</table>\n",
       "</div>"
      ],
      "text/plain": [
       "   box_count    cost  trial\n",
       "0          9  491.85      0\n",
       "1         11  492.90      1\n",
       "2         10  495.90      2\n",
       "3         11  448.00      3\n",
       "4         13  545.90      4"
      ]
     },
     "execution_count": 44,
     "metadata": {},
     "output_type": "execute_result"
    }
   ],
   "source": [
    "df = pd.DataFrame(box_data)\n",
    "df.head()"
   ]
  },
  {
   "cell_type": "code",
   "execution_count": 45,
   "metadata": {},
   "outputs": [
    {
     "data": {
      "text/plain": [
       "<matplotlib.axes._subplots.AxesSubplot at 0x10e0196a0>"
      ]
     },
     "execution_count": 45,
     "metadata": {},
     "output_type": "execute_result"
    },
    {
     "data": {
      "image/png": "[encoded data removed]",
      "text/plain": [
       "<matplotlib.figure.Figure at 0x10e1d4710>"
      ]
     },
     "metadata": {},
     "output_type": "display_data"
    }
   ],
   "source": [
    "df.cost.hist()"
   ]
  },
  {
   "cell_type": "code",
   "execution_count": 25,
   "metadata": {
    "collapsed": true
   },
   "outputs": [],
   "source": [
    "import matplotlib.pyplot as plt\n",
    "%matplotlib inline"
   ]
  },
  {
   "cell_type": "code",
   "execution_count": null,
   "metadata": {
    "collapsed": true
   },
   "outputs": [],
   "source": []
  }
 ],
 "metadata": {
  "kernelspec": {
   "display_name": "Python [conda root]",
   "language": "python",
   "name": "conda-root-py"
  },
  "language_info": {
   "codemirror_mode": {
    "name": "ipython",
    "version": 3
   },
   "file_extension": ".py",
   "mimetype": "text/x-python",
   "name": "python",
   "nbconvert_exporter": "python",
   "pygments_lexer": "ipython3",
   "version": "3.5.3"
  }
 },
 "nbformat": 4,
 "nbformat_minor": 2
}
